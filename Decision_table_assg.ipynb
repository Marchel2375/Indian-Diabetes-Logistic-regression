{
  "nbformat": 4,
  "nbformat_minor": 0,
  "metadata": {
    "colab": {
      "name": "Decision table assg",
      "provenance": []
    },
    "kernelspec": {
      "name": "python3",
      "display_name": "Python 3"
    }
  },
  "cells": [
    {
      "cell_type": "code",
      "metadata": {
        "id": "oKPrU7G7zNoE"
      },
      "source": [
        "import pandas as pd\n",
        "from sklearn import tree\n",
        "import numpy as np\n",
        "from sklearn import preprocessing\n",
        "import graphviz"
      ],
      "execution_count": null,
      "outputs": []
    },
    {
      "cell_type": "markdown",
      "metadata": {
        "id": "Rq0af60T9ysg"
      },
      "source": [
        "Below shows two data, choose one of the data below "
      ]
    },
    {
      "cell_type": "markdown",
      "metadata": {
        "id": "iKoUGJNX0Vkv"
      },
      "source": [
        "use tennis .csv data"
      ]
    },
    {
      "cell_type": "code",
      "metadata": {
        "id": "1mmwLaAezk_u",
        "colab": {
          "base_uri": "https://localhost:8080/",
          "height": 171
        },
        "outputId": "ca993f37-d9f1-4925-b5ae-be34e9dcfd21"
      },
      "source": [
        "data = pd.read_csv(\"/content/tennis.csv\")\n",
        "data.describe()"
      ],
      "execution_count": null,
      "outputs": [
        {
          "output_type": "execute_result",
          "data": {
            "text/html": [
              "<div>\n",
              "<style scoped>\n",
              "    .dataframe tbody tr th:only-of-type {\n",
              "        vertical-align: middle;\n",
              "    }\n",
              "\n",
              "    .dataframe tbody tr th {\n",
              "        vertical-align: top;\n",
              "    }\n",
              "\n",
              "    .dataframe thead th {\n",
              "        text-align: right;\n",
              "    }\n",
              "</style>\n",
              "<table border=\"1\" class=\"dataframe\">\n",
              "  <thead>\n",
              "    <tr style=\"text-align: right;\">\n",
              "      <th></th>\n",
              "      <th>Outlook</th>\n",
              "      <th>Temperature</th>\n",
              "      <th>Humidity</th>\n",
              "      <th>Windy</th>\n",
              "      <th>PlayTennis</th>\n",
              "    </tr>\n",
              "  </thead>\n",
              "  <tbody>\n",
              "    <tr>\n",
              "      <th>count</th>\n",
              "      <td>14</td>\n",
              "      <td>14</td>\n",
              "      <td>14</td>\n",
              "      <td>14</td>\n",
              "      <td>14</td>\n",
              "    </tr>\n",
              "    <tr>\n",
              "      <th>unique</th>\n",
              "      <td>3</td>\n",
              "      <td>3</td>\n",
              "      <td>2</td>\n",
              "      <td>2</td>\n",
              "      <td>2</td>\n",
              "    </tr>\n",
              "    <tr>\n",
              "      <th>top</th>\n",
              "      <td>Rainy</td>\n",
              "      <td>Mild</td>\n",
              "      <td>High</td>\n",
              "      <td>False</td>\n",
              "      <td>Yes</td>\n",
              "    </tr>\n",
              "    <tr>\n",
              "      <th>freq</th>\n",
              "      <td>5</td>\n",
              "      <td>6</td>\n",
              "      <td>7</td>\n",
              "      <td>8</td>\n",
              "      <td>9</td>\n",
              "    </tr>\n",
              "  </tbody>\n",
              "</table>\n",
              "</div>"
            ],
            "text/plain": [
              "       Outlook Temperature Humidity  Windy PlayTennis\n",
              "count       14          14       14     14         14\n",
              "unique       3           3        2      2          2\n",
              "top      Rainy        Mild     High  False        Yes\n",
              "freq         5           6        7      8          9"
            ]
          },
          "metadata": {
            "tags": []
          },
          "execution_count": 4
        }
      ]
    },
    {
      "cell_type": "markdown",
      "metadata": {
        "id": "rUXGYELL0YNS"
      },
      "source": [
        "use credithistory.csv data"
      ]
    },
    {
      "cell_type": "code",
      "metadata": {
        "id": "mYJ4sPYk0RTs",
        "colab": {
          "base_uri": "https://localhost:8080/",
          "height": 171
        },
        "outputId": "07eeb9ae-9f01-45ae-d71a-376dbbe418a4"
      },
      "source": [
        "data = pd.read_csv(\"/content/credithistory.csv\") \n",
        "data.describe()"
      ],
      "execution_count": null,
      "outputs": [
        {
          "output_type": "execute_result",
          "data": {
            "text/html": [
              "<div>\n",
              "<style scoped>\n",
              "    .dataframe tbody tr th:only-of-type {\n",
              "        vertical-align: middle;\n",
              "    }\n",
              "\n",
              "    .dataframe tbody tr th {\n",
              "        vertical-align: top;\n",
              "    }\n",
              "\n",
              "    .dataframe thead th {\n",
              "        text-align: right;\n",
              "    }\n",
              "</style>\n",
              "<table border=\"1\" class=\"dataframe\">\n",
              "  <thead>\n",
              "    <tr style=\"text-align: right;\">\n",
              "      <th></th>\n",
              "      <th>risk</th>\n",
              "      <th>collateral</th>\n",
              "      <th>income</th>\n",
              "      <th>debt</th>\n",
              "      <th>credithistory</th>\n",
              "    </tr>\n",
              "  </thead>\n",
              "  <tbody>\n",
              "    <tr>\n",
              "      <th>count</th>\n",
              "      <td>14</td>\n",
              "      <td>14</td>\n",
              "      <td>14</td>\n",
              "      <td>14</td>\n",
              "      <td>14</td>\n",
              "    </tr>\n",
              "    <tr>\n",
              "      <th>unique</th>\n",
              "      <td>3</td>\n",
              "      <td>2</td>\n",
              "      <td>3</td>\n",
              "      <td>2</td>\n",
              "      <td>3</td>\n",
              "    </tr>\n",
              "    <tr>\n",
              "      <th>top</th>\n",
              "      <td>high</td>\n",
              "      <td>none</td>\n",
              "      <td>over$35K</td>\n",
              "      <td>low</td>\n",
              "      <td>good</td>\n",
              "    </tr>\n",
              "    <tr>\n",
              "      <th>freq</th>\n",
              "      <td>6</td>\n",
              "      <td>11</td>\n",
              "      <td>6</td>\n",
              "      <td>7</td>\n",
              "      <td>5</td>\n",
              "    </tr>\n",
              "  </tbody>\n",
              "</table>\n",
              "</div>"
            ],
            "text/plain": [
              "        risk collateral    income debt credithistory\n",
              "count     14         14        14   14            14\n",
              "unique     3          2         3    2             3\n",
              "top     high       none  over$35K  low          good\n",
              "freq       6         11         6    7             5"
            ]
          },
          "metadata": {
            "tags": []
          },
          "execution_count": 11
        }
      ]
    },
    {
      "cell_type": "markdown",
      "metadata": {
        "id": "DF2vWX1i51jM"
      },
      "source": [
        "SEPPERATING between independent varaibles(x) and dependent varaible (y)"
      ]
    },
    {
      "cell_type": "code",
      "metadata": {
        "id": "TbxhRyLI5kDE",
        "colab": {
          "base_uri": "https://localhost:8080/",
          "height": 738
        },
        "outputId": "7cb42a76-ccbe-4f55-906f-3dcc9d90b2a9"
      },
      "source": [
        "X=data.iloc[:,0:4]\n",
        "Y=data.iloc[:,-1]\n",
        "\n",
        "display(X)\n",
        "\n",
        "display(Y)"
      ],
      "execution_count": null,
      "outputs": [
        {
          "output_type": "display_data",
          "data": {
            "text/html": [
              "<div>\n",
              "<style scoped>\n",
              "    .dataframe tbody tr th:only-of-type {\n",
              "        vertical-align: middle;\n",
              "    }\n",
              "\n",
              "    .dataframe tbody tr th {\n",
              "        vertical-align: top;\n",
              "    }\n",
              "\n",
              "    .dataframe thead th {\n",
              "        text-align: right;\n",
              "    }\n",
              "</style>\n",
              "<table border=\"1\" class=\"dataframe\">\n",
              "  <thead>\n",
              "    <tr style=\"text-align: right;\">\n",
              "      <th></th>\n",
              "      <th>risk</th>\n",
              "      <th>collateral</th>\n",
              "      <th>income</th>\n",
              "      <th>debt</th>\n",
              "    </tr>\n",
              "  </thead>\n",
              "  <tbody>\n",
              "    <tr>\n",
              "      <th>0</th>\n",
              "      <td>high</td>\n",
              "      <td>none</td>\n",
              "      <td>$0to$15K</td>\n",
              "      <td>high</td>\n",
              "    </tr>\n",
              "    <tr>\n",
              "      <th>1</th>\n",
              "      <td>high</td>\n",
              "      <td>none</td>\n",
              "      <td>$15Kto$35K</td>\n",
              "      <td>high</td>\n",
              "    </tr>\n",
              "    <tr>\n",
              "      <th>2</th>\n",
              "      <td>moderate</td>\n",
              "      <td>none</td>\n",
              "      <td>$15Kto$35K</td>\n",
              "      <td>low</td>\n",
              "    </tr>\n",
              "    <tr>\n",
              "      <th>3</th>\n",
              "      <td>high</td>\n",
              "      <td>none</td>\n",
              "      <td>$0to$15K</td>\n",
              "      <td>low</td>\n",
              "    </tr>\n",
              "    <tr>\n",
              "      <th>4</th>\n",
              "      <td>low</td>\n",
              "      <td>none</td>\n",
              "      <td>over$35K</td>\n",
              "      <td>low</td>\n",
              "    </tr>\n",
              "    <tr>\n",
              "      <th>5</th>\n",
              "      <td>low</td>\n",
              "      <td>adequate</td>\n",
              "      <td>over$35K</td>\n",
              "      <td>low</td>\n",
              "    </tr>\n",
              "    <tr>\n",
              "      <th>6</th>\n",
              "      <td>high</td>\n",
              "      <td>none</td>\n",
              "      <td>$0to$15K</td>\n",
              "      <td>low</td>\n",
              "    </tr>\n",
              "    <tr>\n",
              "      <th>7</th>\n",
              "      <td>moderate</td>\n",
              "      <td>adequate</td>\n",
              "      <td>over$35K</td>\n",
              "      <td>low</td>\n",
              "    </tr>\n",
              "    <tr>\n",
              "      <th>8</th>\n",
              "      <td>low</td>\n",
              "      <td>none</td>\n",
              "      <td>over$35K</td>\n",
              "      <td>low</td>\n",
              "    </tr>\n",
              "    <tr>\n",
              "      <th>9</th>\n",
              "      <td>low</td>\n",
              "      <td>adequate</td>\n",
              "      <td>over$35K</td>\n",
              "      <td>high</td>\n",
              "    </tr>\n",
              "    <tr>\n",
              "      <th>10</th>\n",
              "      <td>high</td>\n",
              "      <td>none</td>\n",
              "      <td>$0to$15K</td>\n",
              "      <td>high</td>\n",
              "    </tr>\n",
              "    <tr>\n",
              "      <th>11</th>\n",
              "      <td>moderate</td>\n",
              "      <td>none</td>\n",
              "      <td>$15Kto$35K</td>\n",
              "      <td>high</td>\n",
              "    </tr>\n",
              "    <tr>\n",
              "      <th>12</th>\n",
              "      <td>low</td>\n",
              "      <td>none</td>\n",
              "      <td>over$35K</td>\n",
              "      <td>high</td>\n",
              "    </tr>\n",
              "    <tr>\n",
              "      <th>13</th>\n",
              "      <td>high</td>\n",
              "      <td>none</td>\n",
              "      <td>$15Kto$35K</td>\n",
              "      <td>high</td>\n",
              "    </tr>\n",
              "  </tbody>\n",
              "</table>\n",
              "</div>"
            ],
            "text/plain": [
              "        risk collateral      income  debt\n",
              "0       high       none    $0to$15K  high\n",
              "1       high       none  $15Kto$35K  high\n",
              "2   moderate       none  $15Kto$35K   low\n",
              "3       high       none    $0to$15K   low\n",
              "4        low       none    over$35K   low\n",
              "5        low   adequate    over$35K   low\n",
              "6       high       none    $0to$15K   low\n",
              "7   moderate   adequate    over$35K   low\n",
              "8        low       none    over$35K   low\n",
              "9        low   adequate    over$35K  high\n",
              "10      high       none    $0to$15K  high\n",
              "11  moderate       none  $15Kto$35K  high\n",
              "12       low       none    over$35K  high\n",
              "13      high       none  $15Kto$35K  high"
            ]
          },
          "metadata": {
            "tags": []
          }
        },
        {
          "output_type": "display_data",
          "data": {
            "text/plain": [
              "0         bad\n",
              "1     unknown\n",
              "2     unknown\n",
              "3     unknown\n",
              "4     unknown\n",
              "5     unknown\n",
              "6         bad\n",
              "7         bad\n",
              "8        good\n",
              "9        good\n",
              "10       good\n",
              "11       good\n",
              "12       good\n",
              "13        bad\n",
              "Name: credithistory, dtype: object"
            ]
          },
          "metadata": {
            "tags": []
          }
        }
      ]
    },
    {
      "cell_type": "markdown",
      "metadata": {
        "id": "EKYLWDGR8Pig"
      },
      "source": [
        "Encode variable X and Y to allow calculation for scikit learning which converts string into integer for Y value with the use of label encoding and binary for X which uses One hot encoding"
      ]
    },
    {
      "cell_type": "code",
      "metadata": {
        "id": "ojVXa-r7_JuC",
        "colab": {
          "base_uri": "https://localhost:8080/",
          "height": 959
        },
        "outputId": "0ab7dbe2-dd45-4b72-ac76-e308e9a6e2b5"
      },
      "source": [
        "encodedX =pd.get_dummies(X, prefix_sep='=')\n",
        "display(encodedX)\n",
        "le = preprocessing.LabelEncoder()\n",
        "encodedY = le.fit_transform(Y)\n",
        "encodedY = pd.DataFrame(encodedY, columns = [data.columns[-1]])\n",
        "display(encodedY)\n",
        "\n"
      ],
      "execution_count": null,
      "outputs": [
        {
          "output_type": "display_data",
          "data": {
            "text/html": [
              "<div>\n",
              "<style scoped>\n",
              "    .dataframe tbody tr th:only-of-type {\n",
              "        vertical-align: middle;\n",
              "    }\n",
              "\n",
              "    .dataframe tbody tr th {\n",
              "        vertical-align: top;\n",
              "    }\n",
              "\n",
              "    .dataframe thead th {\n",
              "        text-align: right;\n",
              "    }\n",
              "</style>\n",
              "<table border=\"1\" class=\"dataframe\">\n",
              "  <thead>\n",
              "    <tr style=\"text-align: right;\">\n",
              "      <th></th>\n",
              "      <th>risk=high</th>\n",
              "      <th>risk=low</th>\n",
              "      <th>risk=moderate</th>\n",
              "      <th>collateral=adequate</th>\n",
              "      <th>collateral=none</th>\n",
              "      <th>income=$0to$15K</th>\n",
              "      <th>income=$15Kto$35K</th>\n",
              "      <th>income=over$35K</th>\n",
              "      <th>debt=high</th>\n",
              "      <th>debt=low</th>\n",
              "    </tr>\n",
              "  </thead>\n",
              "  <tbody>\n",
              "    <tr>\n",
              "      <th>0</th>\n",
              "      <td>1</td>\n",
              "      <td>0</td>\n",
              "      <td>0</td>\n",
              "      <td>0</td>\n",
              "      <td>1</td>\n",
              "      <td>1</td>\n",
              "      <td>0</td>\n",
              "      <td>0</td>\n",
              "      <td>1</td>\n",
              "      <td>0</td>\n",
              "    </tr>\n",
              "    <tr>\n",
              "      <th>1</th>\n",
              "      <td>1</td>\n",
              "      <td>0</td>\n",
              "      <td>0</td>\n",
              "      <td>0</td>\n",
              "      <td>1</td>\n",
              "      <td>0</td>\n",
              "      <td>1</td>\n",
              "      <td>0</td>\n",
              "      <td>1</td>\n",
              "      <td>0</td>\n",
              "    </tr>\n",
              "    <tr>\n",
              "      <th>2</th>\n",
              "      <td>0</td>\n",
              "      <td>0</td>\n",
              "      <td>1</td>\n",
              "      <td>0</td>\n",
              "      <td>1</td>\n",
              "      <td>0</td>\n",
              "      <td>1</td>\n",
              "      <td>0</td>\n",
              "      <td>0</td>\n",
              "      <td>1</td>\n",
              "    </tr>\n",
              "    <tr>\n",
              "      <th>3</th>\n",
              "      <td>1</td>\n",
              "      <td>0</td>\n",
              "      <td>0</td>\n",
              "      <td>0</td>\n",
              "      <td>1</td>\n",
              "      <td>1</td>\n",
              "      <td>0</td>\n",
              "      <td>0</td>\n",
              "      <td>0</td>\n",
              "      <td>1</td>\n",
              "    </tr>\n",
              "    <tr>\n",
              "      <th>4</th>\n",
              "      <td>0</td>\n",
              "      <td>1</td>\n",
              "      <td>0</td>\n",
              "      <td>0</td>\n",
              "      <td>1</td>\n",
              "      <td>0</td>\n",
              "      <td>0</td>\n",
              "      <td>1</td>\n",
              "      <td>0</td>\n",
              "      <td>1</td>\n",
              "    </tr>\n",
              "    <tr>\n",
              "      <th>5</th>\n",
              "      <td>0</td>\n",
              "      <td>1</td>\n",
              "      <td>0</td>\n",
              "      <td>1</td>\n",
              "      <td>0</td>\n",
              "      <td>0</td>\n",
              "      <td>0</td>\n",
              "      <td>1</td>\n",
              "      <td>0</td>\n",
              "      <td>1</td>\n",
              "    </tr>\n",
              "    <tr>\n",
              "      <th>6</th>\n",
              "      <td>1</td>\n",
              "      <td>0</td>\n",
              "      <td>0</td>\n",
              "      <td>0</td>\n",
              "      <td>1</td>\n",
              "      <td>1</td>\n",
              "      <td>0</td>\n",
              "      <td>0</td>\n",
              "      <td>0</td>\n",
              "      <td>1</td>\n",
              "    </tr>\n",
              "    <tr>\n",
              "      <th>7</th>\n",
              "      <td>0</td>\n",
              "      <td>0</td>\n",
              "      <td>1</td>\n",
              "      <td>1</td>\n",
              "      <td>0</td>\n",
              "      <td>0</td>\n",
              "      <td>0</td>\n",
              "      <td>1</td>\n",
              "      <td>0</td>\n",
              "      <td>1</td>\n",
              "    </tr>\n",
              "    <tr>\n",
              "      <th>8</th>\n",
              "      <td>0</td>\n",
              "      <td>1</td>\n",
              "      <td>0</td>\n",
              "      <td>0</td>\n",
              "      <td>1</td>\n",
              "      <td>0</td>\n",
              "      <td>0</td>\n",
              "      <td>1</td>\n",
              "      <td>0</td>\n",
              "      <td>1</td>\n",
              "    </tr>\n",
              "    <tr>\n",
              "      <th>9</th>\n",
              "      <td>0</td>\n",
              "      <td>1</td>\n",
              "      <td>0</td>\n",
              "      <td>1</td>\n",
              "      <td>0</td>\n",
              "      <td>0</td>\n",
              "      <td>0</td>\n",
              "      <td>1</td>\n",
              "      <td>1</td>\n",
              "      <td>0</td>\n",
              "    </tr>\n",
              "    <tr>\n",
              "      <th>10</th>\n",
              "      <td>1</td>\n",
              "      <td>0</td>\n",
              "      <td>0</td>\n",
              "      <td>0</td>\n",
              "      <td>1</td>\n",
              "      <td>1</td>\n",
              "      <td>0</td>\n",
              "      <td>0</td>\n",
              "      <td>1</td>\n",
              "      <td>0</td>\n",
              "    </tr>\n",
              "    <tr>\n",
              "      <th>11</th>\n",
              "      <td>0</td>\n",
              "      <td>0</td>\n",
              "      <td>1</td>\n",
              "      <td>0</td>\n",
              "      <td>1</td>\n",
              "      <td>0</td>\n",
              "      <td>1</td>\n",
              "      <td>0</td>\n",
              "      <td>1</td>\n",
              "      <td>0</td>\n",
              "    </tr>\n",
              "    <tr>\n",
              "      <th>12</th>\n",
              "      <td>0</td>\n",
              "      <td>1</td>\n",
              "      <td>0</td>\n",
              "      <td>0</td>\n",
              "      <td>1</td>\n",
              "      <td>0</td>\n",
              "      <td>0</td>\n",
              "      <td>1</td>\n",
              "      <td>1</td>\n",
              "      <td>0</td>\n",
              "    </tr>\n",
              "    <tr>\n",
              "      <th>13</th>\n",
              "      <td>1</td>\n",
              "      <td>0</td>\n",
              "      <td>0</td>\n",
              "      <td>0</td>\n",
              "      <td>1</td>\n",
              "      <td>0</td>\n",
              "      <td>1</td>\n",
              "      <td>0</td>\n",
              "      <td>1</td>\n",
              "      <td>0</td>\n",
              "    </tr>\n",
              "  </tbody>\n",
              "</table>\n",
              "</div>"
            ],
            "text/plain": [
              "    risk=high  risk=low  risk=moderate  ...  income=over$35K  debt=high  debt=low\n",
              "0           1         0              0  ...                0          1         0\n",
              "1           1         0              0  ...                0          1         0\n",
              "2           0         0              1  ...                0          0         1\n",
              "3           1         0              0  ...                0          0         1\n",
              "4           0         1              0  ...                1          0         1\n",
              "5           0         1              0  ...                1          0         1\n",
              "6           1         0              0  ...                0          0         1\n",
              "7           0         0              1  ...                1          0         1\n",
              "8           0         1              0  ...                1          0         1\n",
              "9           0         1              0  ...                1          1         0\n",
              "10          1         0              0  ...                0          1         0\n",
              "11          0         0              1  ...                0          1         0\n",
              "12          0         1              0  ...                1          1         0\n",
              "13          1         0              0  ...                0          1         0\n",
              "\n",
              "[14 rows x 10 columns]"
            ]
          },
          "metadata": {
            "tags": []
          }
        },
        {
          "output_type": "display_data",
          "data": {
            "text/html": [
              "<div>\n",
              "<style scoped>\n",
              "    .dataframe tbody tr th:only-of-type {\n",
              "        vertical-align: middle;\n",
              "    }\n",
              "\n",
              "    .dataframe tbody tr th {\n",
              "        vertical-align: top;\n",
              "    }\n",
              "\n",
              "    .dataframe thead th {\n",
              "        text-align: right;\n",
              "    }\n",
              "</style>\n",
              "<table border=\"1\" class=\"dataframe\">\n",
              "  <thead>\n",
              "    <tr style=\"text-align: right;\">\n",
              "      <th></th>\n",
              "      <th>credithistory</th>\n",
              "    </tr>\n",
              "  </thead>\n",
              "  <tbody>\n",
              "    <tr>\n",
              "      <th>0</th>\n",
              "      <td>0</td>\n",
              "    </tr>\n",
              "    <tr>\n",
              "      <th>1</th>\n",
              "      <td>2</td>\n",
              "    </tr>\n",
              "    <tr>\n",
              "      <th>2</th>\n",
              "      <td>2</td>\n",
              "    </tr>\n",
              "    <tr>\n",
              "      <th>3</th>\n",
              "      <td>2</td>\n",
              "    </tr>\n",
              "    <tr>\n",
              "      <th>4</th>\n",
              "      <td>2</td>\n",
              "    </tr>\n",
              "    <tr>\n",
              "      <th>5</th>\n",
              "      <td>2</td>\n",
              "    </tr>\n",
              "    <tr>\n",
              "      <th>6</th>\n",
              "      <td>0</td>\n",
              "    </tr>\n",
              "    <tr>\n",
              "      <th>7</th>\n",
              "      <td>0</td>\n",
              "    </tr>\n",
              "    <tr>\n",
              "      <th>8</th>\n",
              "      <td>1</td>\n",
              "    </tr>\n",
              "    <tr>\n",
              "      <th>9</th>\n",
              "      <td>1</td>\n",
              "    </tr>\n",
              "    <tr>\n",
              "      <th>10</th>\n",
              "      <td>1</td>\n",
              "    </tr>\n",
              "    <tr>\n",
              "      <th>11</th>\n",
              "      <td>1</td>\n",
              "    </tr>\n",
              "    <tr>\n",
              "      <th>12</th>\n",
              "      <td>1</td>\n",
              "    </tr>\n",
              "    <tr>\n",
              "      <th>13</th>\n",
              "      <td>0</td>\n",
              "    </tr>\n",
              "  </tbody>\n",
              "</table>\n",
              "</div>"
            ],
            "text/plain": [
              "    credithistory\n",
              "0               0\n",
              "1               2\n",
              "2               2\n",
              "3               2\n",
              "4               2\n",
              "5               2\n",
              "6               0\n",
              "7               0\n",
              "8               1\n",
              "9               1\n",
              "10              1\n",
              "11              1\n",
              "12              1\n",
              "13              0"
            ]
          },
          "metadata": {
            "tags": []
          }
        }
      ]
    },
    {
      "cell_type": "markdown",
      "metadata": {
        "id": "vBDJt7t4995v"
      },
      "source": [
        "Below shows two model, choose one of the model below "
      ]
    },
    {
      "cell_type": "markdown",
      "metadata": {
        "id": "WJuNpFJU5-6D"
      },
      "source": [
        "use model based on gini"
      ]
    },
    {
      "cell_type": "code",
      "metadata": {
        "id": "ADECph1X6Azq"
      },
      "source": [
        "clf = tree.DecisionTreeClassifier('gini')"
      ],
      "execution_count": null,
      "outputs": []
    },
    {
      "cell_type": "markdown",
      "metadata": {
        "id": "T2BnetJM6VBt"
      },
      "source": [
        "use model based on entropy"
      ]
    },
    {
      "cell_type": "code",
      "metadata": {
        "id": "yMqCr5b66ZyH"
      },
      "source": [
        "clf = tree.DecisionTreeClassifier('entropy')"
      ],
      "execution_count": null,
      "outputs": []
    },
    {
      "cell_type": "markdown",
      "metadata": {
        "id": "x_hVKL9W6kfZ"
      },
      "source": [
        "train the data"
      ]
    },
    {
      "cell_type": "code",
      "metadata": {
        "id": "-TeGhFyp6ili",
        "colab": {
          "base_uri": "https://localhost:8080/",
          "height": 508
        },
        "outputId": "edd41b44-658d-465b-93ec-f66071f5e85e"
      },
      "source": [
        "clf.fit(encodedX, encodedY)\n",
        "tree.plot_tree(clf)"
      ],
      "execution_count": null,
      "outputs": [
        {
          "output_type": "execute_result",
          "data": {
            "text/plain": [
              "[Text(181.35000000000002, 195.696, 'X[8] <= 0.5\\ngini = 0.663\\nsamples = 14\\nvalue = [4, 5, 5]'),\n",
              " Text(111.60000000000001, 152.208, 'X[1] <= 0.5\\ngini = 0.571\\nsamples = 7\\nvalue = [2, 1, 4]'),\n",
              " Text(55.800000000000004, 108.72, 'X[4] <= 0.5\\ngini = 0.5\\nsamples = 4\\nvalue = [2, 0, 2]'),\n",
              " Text(27.900000000000002, 65.232, 'gini = 0.0\\nsamples = 1\\nvalue = [1, 0, 0]'),\n",
              " Text(83.7, 65.232, 'X[0] <= 0.5\\ngini = 0.444\\nsamples = 3\\nvalue = [1, 0, 2]'),\n",
              " Text(55.800000000000004, 21.744, 'gini = 0.0\\nsamples = 1\\nvalue = [0, 0, 1]'),\n",
              " Text(111.60000000000001, 21.744, 'gini = 0.5\\nsamples = 2\\nvalue = [1, 0, 1]'),\n",
              " Text(167.4, 108.72, 'X[4] <= 0.5\\ngini = 0.444\\nsamples = 3\\nvalue = [0, 1, 2]'),\n",
              " Text(139.5, 65.232, 'gini = 0.0\\nsamples = 1\\nvalue = [0, 0, 1]'),\n",
              " Text(195.3, 65.232, 'gini = 0.5\\nsamples = 2\\nvalue = [0, 1, 1]'),\n",
              " Text(251.10000000000002, 152.208, 'X[0] <= 0.5\\ngini = 0.571\\nsamples = 7\\nvalue = [2, 4, 1]'),\n",
              " Text(223.20000000000002, 108.72, 'gini = 0.0\\nsamples = 3\\nvalue = [0, 3, 0]'),\n",
              " Text(279.0, 108.72, 'X[6] <= 0.5\\ngini = 0.625\\nsamples = 4\\nvalue = [2, 1, 1]'),\n",
              " Text(251.10000000000002, 65.232, 'gini = 0.5\\nsamples = 2\\nvalue = [1, 1, 0]'),\n",
              " Text(306.90000000000003, 65.232, 'gini = 0.5\\nsamples = 2\\nvalue = [1, 0, 1]')]"
            ]
          },
          "metadata": {
            "tags": []
          },
          "execution_count": 15
        },
        {
          "output_type": "display_data",
          "data": {
            "image/png": "[encoded data removed]",
            "text/plain": [
              "<Figure size 432x288 with 1 Axes>"
            ]
          },
          "metadata": {
            "tags": [],
            "needs_background": "light"
          }
        }
      ]
    },
    {
      "cell_type": "markdown",
      "metadata": {
        "id": "I8cz8A_18p74"
      },
      "source": [
        "Visualize the data using graphviz"
      ]
    },
    {
      "cell_type": "code",
      "metadata": {
        "id": "mf4uQmA0MVZy",
        "colab": {
          "base_uri": "https://localhost:8080/",
          "height": 777
        },
        "outputId": "1164f727-1fa7-4cb3-9689-328767e17a1b"
      },
      "source": [
        "dot_data = tree.export_graphviz(clf, out_file=None, \n",
        "...                      feature_names=encodedX.columns,  \n",
        "...                      class_names=le.classes_,  \n",
        "...                      filled=True, rounded=True,  \n",
        "...                      special_characters=True)\n",
        "dot_data = dot_data.replace(\"class\",data.columns[-1])\n",
        "graph = graphviz.Source(dot_data)\n",
        "graph"
      ],
      "execution_count": null,
      "outputs": [
        {
          "output_type": "execute_result",
          "data": {
            "text/plain": [
              "<graphviz.files.Source at 0x7faf1992c940>"
            ],
            "image/svg+xml": "<?xml version=\"1.0\" encoding=\"UTF-8\" standalone=\"no\"?>\n<!DOCTYPE svg PUBLIC \"-//W3C//DTD SVG 1.1//EN\"\n \"http://www.w3.org/Graphics/SVG/1.1/DTD/svg11.dtd\">\n<!-- Generated by graphviz version 2.40.1 (20161225.0304)\n -->\n<!-- Title: Tree Pages: 1 -->\n<svg width=\"1001pt\" height=\"552pt\"\n viewBox=\"0.00 0.00 1001.00 552.00\" xmlns=\"http://www.w3.org/2000/svg\" xmlns:xlink=\"http://www.w3.org/1999/xlink\">\n<g id=\"graph0\" class=\"graph\" transform=\"scale(1 1) rotate(0) translate(4 548)\">\n<title>Tree</title>\n<polygon fill=\"#ffffff\" stroke=\"transparent\" points=\"-4,4 -4,-548 997,-548 997,4 -4,4\"/>\n<!-- 0 -->\n<g id=\"node1\" class=\"node\">\n<title>0</title>\n<path fill=\"#ffffff\" stroke=\"#000000\" d=\"M573,-544C573,-544 454,-544 454,-544 448,-544 442,-538 442,-532 442,-532 442,-473 442,-473 442,-467 448,-461 454,-461 454,-461 573,-461 573,-461 579,-461 585,-467 585,-473 585,-473 585,-532 585,-532 585,-538 579,-544 573,-544\"/>\n<text text-anchor=\"start\" x=\"463.5\" y=\"-528.8\" font-family=\"Helvetica,sans-Serif\" font-size=\"14.00\" fill=\"#000000\">debt=high ≤ 0.5</text>\n<text text-anchor=\"start\" x=\"475.5\" y=\"-513.8\" font-family=\"Helvetica,sans-Serif\" font-size=\"14.00\" fill=\"#000000\">gini = 0.663</text>\n<text text-anchor=\"start\" x=\"469.5\" y=\"-498.8\" font-family=\"Helvetica,sans-Serif\" font-size=\"14.00\" fill=\"#000000\">samples = 14</text>\n<text text-anchor=\"start\" x=\"464\" y=\"-483.8\" font-family=\"Helvetica,sans-Serif\" font-size=\"14.00\" fill=\"#000000\">value = [4, 5, 5]</text>\n<text text-anchor=\"start\" x=\"450\" y=\"-468.8\" font-family=\"Helvetica,sans-Serif\" font-size=\"14.00\" fill=\"#000000\">credithistory = good</text>\n</g>\n<!-- 1 -->\n<g id=\"node2\" class=\"node\">\n<title>1</title>\n<path fill=\"#cdb0f5\" stroke=\"#000000\" d=\"M499.5,-425C499.5,-425 353.5,-425 353.5,-425 347.5,-425 341.5,-419 341.5,-413 341.5,-413 341.5,-354 341.5,-354 341.5,-348 347.5,-342 353.5,-342 353.5,-342 499.5,-342 499.5,-342 505.5,-342 511.5,-348 511.5,-354 511.5,-354 511.5,-413 511.5,-413 511.5,-419 505.5,-425 499.5,-425\"/>\n<text text-anchor=\"start\" x=\"382.5\" y=\"-409.8\" font-family=\"Helvetica,sans-Serif\" font-size=\"14.00\" fill=\"#000000\">risk=low ≤ 0.5</text>\n<text text-anchor=\"start\" x=\"388.5\" y=\"-394.8\" font-family=\"Helvetica,sans-Serif\" font-size=\"14.00\" fill=\"#000000\">gini = 0.571</text>\n<text text-anchor=\"start\" x=\"387\" y=\"-379.8\" font-family=\"Helvetica,sans-Serif\" font-size=\"14.00\" fill=\"#000000\">samples = 7</text>\n<text text-anchor=\"start\" x=\"377\" y=\"-364.8\" font-family=\"Helvetica,sans-Serif\" font-size=\"14.00\" fill=\"#000000\">value = [2, 1, 4]</text>\n<text text-anchor=\"start\" x=\"349.5\" y=\"-349.8\" font-family=\"Helvetica,sans-Serif\" font-size=\"14.00\" fill=\"#000000\">credithistory = unknown</text>\n</g>\n<!-- 0&#45;&gt;1 -->\n<g id=\"edge1\" class=\"edge\">\n<title>0&#45;&gt;1</title>\n<path fill=\"none\" stroke=\"#000000\" d=\"M483.0716,-460.8796C476.6189,-452.0534 469.743,-442.6485 463.0887,-433.5466\"/>\n<polygon fill=\"#000000\" stroke=\"#000000\" points=\"465.7856,-431.3051 457.0583,-425.2981 460.1347,-435.4364 465.7856,-431.3051\"/>\n<text text-anchor=\"middle\" x=\"453.2208\" y=\"-446.3018\" font-family=\"Helvetica,sans-Serif\" font-size=\"14.00\" fill=\"#000000\">True</text>\n</g>\n<!-- 10 -->\n<g id=\"node11\" class=\"node\">\n<title>10</title>\n<path fill=\"#b0f5cd\" stroke=\"#000000\" d=\"M661,-425C661,-425 542,-425 542,-425 536,-425 530,-419 530,-413 530,-413 530,-354 530,-354 530,-348 536,-342 542,-342 542,-342 661,-342 661,-342 667,-342 673,-348 673,-354 673,-354 673,-413 673,-413 673,-419 667,-425 661,-425\"/>\n<text text-anchor=\"start\" x=\"554.5\" y=\"-409.8\" font-family=\"Helvetica,sans-Serif\" font-size=\"14.00\" fill=\"#000000\">risk=high ≤ 0.5</text>\n<text text-anchor=\"start\" x=\"563.5\" y=\"-394.8\" font-family=\"Helvetica,sans-Serif\" font-size=\"14.00\" fill=\"#000000\">gini = 0.571</text>\n<text text-anchor=\"start\" x=\"562\" y=\"-379.8\" font-family=\"Helvetica,sans-Serif\" font-size=\"14.00\" fill=\"#000000\">samples = 7</text>\n<text text-anchor=\"start\" x=\"552\" y=\"-364.8\" font-family=\"Helvetica,sans-Serif\" font-size=\"14.00\" fill=\"#000000\">value = [2, 4, 1]</text>\n<text text-anchor=\"start\" x=\"538\" y=\"-349.8\" font-family=\"Helvetica,sans-Serif\" font-size=\"14.00\" fill=\"#000000\">credithistory = good</text>\n</g>\n<!-- 0&#45;&gt;10 -->\n<g id=\"edge10\" class=\"edge\">\n<title>0&#45;&gt;10</title>\n<path fill=\"none\" stroke=\"#000000\" d=\"M544.2781,-460.8796C550.8051,-452.0534 557.7599,-442.6485 564.4908,-433.5466\"/>\n<polygon fill=\"#000000\" stroke=\"#000000\" points=\"567.4588,-435.4195 570.5905,-425.2981 561.8305,-431.2574 567.4588,-435.4195\"/>\n<text text-anchor=\"middle\" x=\"574.2932\" y=\"-446.3224\" font-family=\"Helvetica,sans-Serif\" font-size=\"14.00\" fill=\"#000000\">False</text>\n</g>\n<!-- 2 -->\n<g id=\"node3\" class=\"node\">\n<title>2</title>\n<path fill=\"#ffffff\" stroke=\"#000000\" d=\"M302,-306C302,-306 175,-306 175,-306 169,-306 163,-300 163,-294 163,-294 163,-235 163,-235 163,-229 169,-223 175,-223 175,-223 302,-223 302,-223 308,-223 314,-229 314,-235 314,-235 314,-294 314,-294 314,-300 308,-306 302,-306\"/>\n<text text-anchor=\"start\" x=\"171\" y=\"-290.8\" font-family=\"Helvetica,sans-Serif\" font-size=\"14.00\" fill=\"#000000\">collateral=none ≤ 0.5</text>\n<text text-anchor=\"start\" x=\"209\" y=\"-275.8\" font-family=\"Helvetica,sans-Serif\" font-size=\"14.00\" fill=\"#000000\">gini = 0.5</text>\n<text text-anchor=\"start\" x=\"199\" y=\"-260.8\" font-family=\"Helvetica,sans-Serif\" font-size=\"14.00\" fill=\"#000000\">samples = 4</text>\n<text text-anchor=\"start\" x=\"189\" y=\"-245.8\" font-family=\"Helvetica,sans-Serif\" font-size=\"14.00\" fill=\"#000000\">value = [2, 0, 2]</text>\n<text text-anchor=\"start\" x=\"179\" y=\"-230.8\" font-family=\"Helvetica,sans-Serif\" font-size=\"14.00\" fill=\"#000000\">credithistory = bad</text>\n</g>\n<!-- 1&#45;&gt;2 -->\n<g id=\"edge2\" class=\"edge\">\n<title>1&#45;&gt;2</title>\n<path fill=\"none\" stroke=\"#000000\" d=\"M360.7467,-341.8796C345.2906,-332.0962 328.7113,-321.6019 312.9055,-311.5971\"/>\n<polygon fill=\"#000000\" stroke=\"#000000\" points=\"314.5377,-308.488 304.2162,-306.0969 310.7938,-314.4027 314.5377,-308.488\"/>\n</g>\n<!-- 7 -->\n<g id=\"node8\" class=\"node\">\n<title>7</title>\n<path fill=\"#c09cf2\" stroke=\"#000000\" d=\"M499.5,-306C499.5,-306 353.5,-306 353.5,-306 347.5,-306 341.5,-300 341.5,-294 341.5,-294 341.5,-235 341.5,-235 341.5,-229 347.5,-223 353.5,-223 353.5,-223 499.5,-223 499.5,-223 505.5,-223 511.5,-229 511.5,-235 511.5,-235 511.5,-294 511.5,-294 511.5,-300 505.5,-306 499.5,-306\"/>\n<text text-anchor=\"start\" x=\"359\" y=\"-290.8\" font-family=\"Helvetica,sans-Serif\" font-size=\"14.00\" fill=\"#000000\">collateral=none ≤ 0.5</text>\n<text text-anchor=\"start\" x=\"388.5\" y=\"-275.8\" font-family=\"Helvetica,sans-Serif\" font-size=\"14.00\" fill=\"#000000\">gini = 0.444</text>\n<text text-anchor=\"start\" x=\"387\" y=\"-260.8\" font-family=\"Helvetica,sans-Serif\" font-size=\"14.00\" fill=\"#000000\">samples = 3</text>\n<text text-anchor=\"start\" x=\"377\" y=\"-245.8\" font-family=\"Helvetica,sans-Serif\" font-size=\"14.00\" fill=\"#000000\">value = [0, 1, 2]</text>\n<text text-anchor=\"start\" x=\"349.5\" y=\"-230.8\" font-family=\"Helvetica,sans-Serif\" font-size=\"14.00\" fill=\"#000000\">credithistory = unknown</text>\n</g>\n<!-- 1&#45;&gt;7 -->\n<g id=\"edge7\" class=\"edge\">\n<title>1&#45;&gt;7</title>\n<path fill=\"none\" stroke=\"#000000\" d=\"M426.5,-341.8796C426.5,-333.6838 426.5,-324.9891 426.5,-316.5013\"/>\n<polygon fill=\"#000000\" stroke=\"#000000\" points=\"430.0001,-316.298 426.5,-306.2981 423.0001,-316.2981 430.0001,-316.298\"/>\n</g>\n<!-- 3 -->\n<g id=\"node4\" class=\"node\">\n<title>3</title>\n<path fill=\"#e58139\" stroke=\"#000000\" d=\"M123,-179.5C123,-179.5 12,-179.5 12,-179.5 6,-179.5 0,-173.5 0,-167.5 0,-167.5 0,-123.5 0,-123.5 0,-117.5 6,-111.5 12,-111.5 12,-111.5 123,-111.5 123,-111.5 129,-111.5 135,-117.5 135,-123.5 135,-123.5 135,-167.5 135,-167.5 135,-173.5 129,-179.5 123,-179.5\"/>\n<text text-anchor=\"start\" x=\"38\" y=\"-164.3\" font-family=\"Helvetica,sans-Serif\" font-size=\"14.00\" fill=\"#000000\">gini = 0.0</text>\n<text text-anchor=\"start\" x=\"28\" y=\"-149.3\" font-family=\"Helvetica,sans-Serif\" font-size=\"14.00\" fill=\"#000000\">samples = 1</text>\n<text text-anchor=\"start\" x=\"18\" y=\"-134.3\" font-family=\"Helvetica,sans-Serif\" font-size=\"14.00\" fill=\"#000000\">value = [1, 0, 0]</text>\n<text text-anchor=\"start\" x=\"8\" y=\"-119.3\" font-family=\"Helvetica,sans-Serif\" font-size=\"14.00\" fill=\"#000000\">credithistory = bad</text>\n</g>\n<!-- 2&#45;&gt;3 -->\n<g id=\"edge3\" class=\"edge\">\n<title>2&#45;&gt;3</title>\n<path fill=\"none\" stroke=\"#000000\" d=\"M178.6925,-222.8796C161.2285,-210.7263 142.188,-197.4759 124.878,-185.4297\"/>\n<polygon fill=\"#000000\" stroke=\"#000000\" points=\"126.7413,-182.4623 116.5339,-179.623 122.7428,-188.208 126.7413,-182.4623\"/>\n</g>\n<!-- 4 -->\n<g id=\"node5\" class=\"node\">\n<title>4</title>\n<path fill=\"#c09cf2\" stroke=\"#000000\" d=\"M311.5,-187C311.5,-187 165.5,-187 165.5,-187 159.5,-187 153.5,-181 153.5,-175 153.5,-175 153.5,-116 153.5,-116 153.5,-110 159.5,-104 165.5,-104 165.5,-104 311.5,-104 311.5,-104 317.5,-104 323.5,-110 323.5,-116 323.5,-116 323.5,-175 323.5,-175 323.5,-181 317.5,-187 311.5,-187\"/>\n<text text-anchor=\"start\" x=\"191.5\" y=\"-171.8\" font-family=\"Helvetica,sans-Serif\" font-size=\"14.00\" fill=\"#000000\">risk=high ≤ 0.5</text>\n<text text-anchor=\"start\" x=\"200.5\" y=\"-156.8\" font-family=\"Helvetica,sans-Serif\" font-size=\"14.00\" fill=\"#000000\">gini = 0.444</text>\n<text text-anchor=\"start\" x=\"199\" y=\"-141.8\" font-family=\"Helvetica,sans-Serif\" font-size=\"14.00\" fill=\"#000000\">samples = 3</text>\n<text text-anchor=\"start\" x=\"189\" y=\"-126.8\" font-family=\"Helvetica,sans-Serif\" font-size=\"14.00\" fill=\"#000000\">value = [1, 0, 2]</text>\n<text text-anchor=\"start\" x=\"161.5\" y=\"-111.8\" font-family=\"Helvetica,sans-Serif\" font-size=\"14.00\" fill=\"#000000\">credithistory = unknown</text>\n</g>\n<!-- 2&#45;&gt;4 -->\n<g id=\"edge4\" class=\"edge\">\n<title>2&#45;&gt;4</title>\n<path fill=\"none\" stroke=\"#000000\" d=\"M238.5,-222.8796C238.5,-214.6838 238.5,-205.9891 238.5,-197.5013\"/>\n<polygon fill=\"#000000\" stroke=\"#000000\" points=\"242.0001,-197.298 238.5,-187.2981 235.0001,-197.2981 242.0001,-197.298\"/>\n</g>\n<!-- 5 -->\n<g id=\"node6\" class=\"node\">\n<title>5</title>\n<path fill=\"#8139e5\" stroke=\"#000000\" d=\"M226.5,-68C226.5,-68 80.5,-68 80.5,-68 74.5,-68 68.5,-62 68.5,-56 68.5,-56 68.5,-12 68.5,-12 68.5,-6 74.5,0 80.5,0 80.5,0 226.5,0 226.5,0 232.5,0 238.5,-6 238.5,-12 238.5,-12 238.5,-56 238.5,-56 238.5,-62 232.5,-68 226.5,-68\"/>\n<text text-anchor=\"start\" x=\"124\" y=\"-52.8\" font-family=\"Helvetica,sans-Serif\" font-size=\"14.00\" fill=\"#000000\">gini = 0.0</text>\n<text text-anchor=\"start\" x=\"114\" y=\"-37.8\" font-family=\"Helvetica,sans-Serif\" font-size=\"14.00\" fill=\"#000000\">samples = 1</text>\n<text text-anchor=\"start\" x=\"104\" y=\"-22.8\" font-family=\"Helvetica,sans-Serif\" font-size=\"14.00\" fill=\"#000000\">value = [0, 0, 1]</text>\n<text text-anchor=\"start\" x=\"76.5\" y=\"-7.8\" font-family=\"Helvetica,sans-Serif\" font-size=\"14.00\" fill=\"#000000\">credithistory = unknown</text>\n</g>\n<!-- 4&#45;&gt;5 -->\n<g id=\"edge5\" class=\"edge\">\n<title>4&#45;&gt;5</title>\n<path fill=\"none\" stroke=\"#000000\" d=\"M206.8491,-103.9815C199.9829,-94.9747 192.7118,-85.4367 185.8202,-76.3965\"/>\n<polygon fill=\"#000000\" stroke=\"#000000\" points=\"188.4664,-74.0945 179.6203,-68.2637 182.8995,-78.3383 188.4664,-74.0945\"/>\n</g>\n<!-- 6 -->\n<g id=\"node7\" class=\"node\">\n<title>6</title>\n<path fill=\"#ffffff\" stroke=\"#000000\" d=\"M380,-68C380,-68 269,-68 269,-68 263,-68 257,-62 257,-56 257,-56 257,-12 257,-12 257,-6 263,0 269,0 269,0 380,0 380,0 386,0 392,-6 392,-12 392,-12 392,-56 392,-56 392,-62 386,-68 380,-68\"/>\n<text text-anchor=\"start\" x=\"295\" y=\"-52.8\" font-family=\"Helvetica,sans-Serif\" font-size=\"14.00\" fill=\"#000000\">gini = 0.5</text>\n<text text-anchor=\"start\" x=\"285\" y=\"-37.8\" font-family=\"Helvetica,sans-Serif\" font-size=\"14.00\" fill=\"#000000\">samples = 2</text>\n<text text-anchor=\"start\" x=\"275\" y=\"-22.8\" font-family=\"Helvetica,sans-Serif\" font-size=\"14.00\" fill=\"#000000\">value = [1, 0, 1]</text>\n<text text-anchor=\"start\" x=\"265\" y=\"-7.8\" font-family=\"Helvetica,sans-Serif\" font-size=\"14.00\" fill=\"#000000\">credithistory = bad</text>\n</g>\n<!-- 4&#45;&gt;6 -->\n<g id=\"edge6\" class=\"edge\">\n<title>4&#45;&gt;6</title>\n<path fill=\"none\" stroke=\"#000000\" d=\"M270.5232,-103.9815C277.4702,-94.9747 284.8269,-85.4367 291.7996,-76.3965\"/>\n<polygon fill=\"#000000\" stroke=\"#000000\" points=\"294.7364,-78.3196 298.0724,-68.2637 289.1936,-74.0444 294.7364,-78.3196\"/>\n</g>\n<!-- 8 -->\n<g id=\"node9\" class=\"node\">\n<title>8</title>\n<path fill=\"#8139e5\" stroke=\"#000000\" d=\"M499.5,-179.5C499.5,-179.5 353.5,-179.5 353.5,-179.5 347.5,-179.5 341.5,-173.5 341.5,-167.5 341.5,-167.5 341.5,-123.5 341.5,-123.5 341.5,-117.5 347.5,-111.5 353.5,-111.5 353.5,-111.5 499.5,-111.5 499.5,-111.5 505.5,-111.5 511.5,-117.5 511.5,-123.5 511.5,-123.5 511.5,-167.5 511.5,-167.5 511.5,-173.5 505.5,-179.5 499.5,-179.5\"/>\n<text text-anchor=\"start\" x=\"397\" y=\"-164.3\" font-family=\"Helvetica,sans-Serif\" font-size=\"14.00\" fill=\"#000000\">gini = 0.0</text>\n<text text-anchor=\"start\" x=\"387\" y=\"-149.3\" font-family=\"Helvetica,sans-Serif\" font-size=\"14.00\" fill=\"#000000\">samples = 1</text>\n<text text-anchor=\"start\" x=\"377\" y=\"-134.3\" font-family=\"Helvetica,sans-Serif\" font-size=\"14.00\" fill=\"#000000\">value = [0, 0, 1]</text>\n<text text-anchor=\"start\" x=\"349.5\" y=\"-119.3\" font-family=\"Helvetica,sans-Serif\" font-size=\"14.00\" fill=\"#000000\">credithistory = unknown</text>\n</g>\n<!-- 7&#45;&gt;8 -->\n<g id=\"edge8\" class=\"edge\">\n<title>7&#45;&gt;8</title>\n<path fill=\"none\" stroke=\"#000000\" d=\"M426.5,-222.8796C426.5,-212.2134 426.5,-200.7021 426.5,-189.9015\"/>\n<polygon fill=\"#000000\" stroke=\"#000000\" points=\"430.0001,-189.8149 426.5,-179.8149 423.0001,-189.815 430.0001,-189.8149\"/>\n</g>\n<!-- 9 -->\n<g id=\"node10\" class=\"node\">\n<title>9</title>\n<path fill=\"#ffffff\" stroke=\"#000000\" d=\"M661,-179.5C661,-179.5 542,-179.5 542,-179.5 536,-179.5 530,-173.5 530,-167.5 530,-167.5 530,-123.5 530,-123.5 530,-117.5 536,-111.5 542,-111.5 542,-111.5 661,-111.5 661,-111.5 667,-111.5 673,-117.5 673,-123.5 673,-123.5 673,-167.5 673,-167.5 673,-173.5 667,-179.5 661,-179.5\"/>\n<text text-anchor=\"start\" x=\"572\" y=\"-164.3\" font-family=\"Helvetica,sans-Serif\" font-size=\"14.00\" fill=\"#000000\">gini = 0.5</text>\n<text text-anchor=\"start\" x=\"562\" y=\"-149.3\" font-family=\"Helvetica,sans-Serif\" font-size=\"14.00\" fill=\"#000000\">samples = 2</text>\n<text text-anchor=\"start\" x=\"552\" y=\"-134.3\" font-family=\"Helvetica,sans-Serif\" font-size=\"14.00\" fill=\"#000000\">value = [0, 1, 1]</text>\n<text text-anchor=\"start\" x=\"538\" y=\"-119.3\" font-family=\"Helvetica,sans-Serif\" font-size=\"14.00\" fill=\"#000000\">credithistory = good</text>\n</g>\n<!-- 7&#45;&gt;9 -->\n<g id=\"edge9\" class=\"edge\">\n<title>7&#45;&gt;9</title>\n<path fill=\"none\" stroke=\"#000000\" d=\"M487.7065,-222.8796C505.579,-210.7263 525.0649,-197.4759 542.7798,-185.4297\"/>\n<polygon fill=\"#000000\" stroke=\"#000000\" points=\"545.0179,-188.1404 551.3191,-179.623 541.0817,-182.3519 545.0179,-188.1404\"/>\n</g>\n<!-- 11 -->\n<g id=\"node12\" class=\"node\">\n<title>11</title>\n<path fill=\"#39e581\" stroke=\"#000000\" d=\"M661,-298.5C661,-298.5 542,-298.5 542,-298.5 536,-298.5 530,-292.5 530,-286.5 530,-286.5 530,-242.5 530,-242.5 530,-236.5 536,-230.5 542,-230.5 542,-230.5 661,-230.5 661,-230.5 667,-230.5 673,-236.5 673,-242.5 673,-242.5 673,-286.5 673,-286.5 673,-292.5 667,-298.5 661,-298.5\"/>\n<text text-anchor=\"start\" x=\"572\" y=\"-283.3\" font-family=\"Helvetica,sans-Serif\" font-size=\"14.00\" fill=\"#000000\">gini = 0.0</text>\n<text text-anchor=\"start\" x=\"562\" y=\"-268.3\" font-family=\"Helvetica,sans-Serif\" font-size=\"14.00\" fill=\"#000000\">samples = 3</text>\n<text text-anchor=\"start\" x=\"552\" y=\"-253.3\" font-family=\"Helvetica,sans-Serif\" font-size=\"14.00\" fill=\"#000000\">value = [0, 3, 0]</text>\n<text text-anchor=\"start\" x=\"538\" y=\"-238.3\" font-family=\"Helvetica,sans-Serif\" font-size=\"14.00\" fill=\"#000000\">credithistory = good</text>\n</g>\n<!-- 10&#45;&gt;11 -->\n<g id=\"edge11\" class=\"edge\">\n<title>10&#45;&gt;11</title>\n<path fill=\"none\" stroke=\"#000000\" d=\"M601.5,-341.8796C601.5,-331.2134 601.5,-319.7021 601.5,-308.9015\"/>\n<polygon fill=\"#000000\" stroke=\"#000000\" points=\"605.0001,-308.8149 601.5,-298.8149 598.0001,-308.815 605.0001,-308.8149\"/>\n</g>\n<!-- 12 -->\n<g id=\"node13\" class=\"node\">\n<title>12</title>\n<path fill=\"#f6d5bd\" stroke=\"#000000\" d=\"M867.5,-306C867.5,-306 703.5,-306 703.5,-306 697.5,-306 691.5,-300 691.5,-294 691.5,-294 691.5,-235 691.5,-235 691.5,-229 697.5,-223 703.5,-223 703.5,-223 867.5,-223 867.5,-223 873.5,-223 879.5,-229 879.5,-235 879.5,-235 879.5,-294 879.5,-294 879.5,-300 873.5,-306 867.5,-306\"/>\n<text text-anchor=\"start\" x=\"699.5\" y=\"-290.8\" font-family=\"Helvetica,sans-Serif\" font-size=\"14.00\" fill=\"#000000\">income=$15Kto$35K ≤ 0.5</text>\n<text text-anchor=\"start\" x=\"747.5\" y=\"-275.8\" font-family=\"Helvetica,sans-Serif\" font-size=\"14.00\" fill=\"#000000\">gini = 0.625</text>\n<text text-anchor=\"start\" x=\"746\" y=\"-260.8\" font-family=\"Helvetica,sans-Serif\" font-size=\"14.00\" fill=\"#000000\">samples = 4</text>\n<text text-anchor=\"start\" x=\"736\" y=\"-245.8\" font-family=\"Helvetica,sans-Serif\" font-size=\"14.00\" fill=\"#000000\">value = [2, 1, 1]</text>\n<text text-anchor=\"start\" x=\"726\" y=\"-230.8\" font-family=\"Helvetica,sans-Serif\" font-size=\"14.00\" fill=\"#000000\">credithistory = bad</text>\n</g>\n<!-- 10&#45;&gt;12 -->\n<g id=\"edge12\" class=\"edge\">\n<title>10&#45;&gt;12</title>\n<path fill=\"none\" stroke=\"#000000\" d=\"M665.8543,-341.8796C680.9815,-332.0962 697.2081,-321.6019 712.6776,-311.5971\"/>\n<polygon fill=\"#000000\" stroke=\"#000000\" points=\"714.6859,-314.4665 721.1821,-306.0969 710.8844,-308.5887 714.6859,-314.4665\"/>\n</g>\n<!-- 13 -->\n<g id=\"node14\" class=\"node\">\n<title>13</title>\n<path fill=\"#ffffff\" stroke=\"#000000\" d=\"M828,-179.5C828,-179.5 717,-179.5 717,-179.5 711,-179.5 705,-173.5 705,-167.5 705,-167.5 705,-123.5 705,-123.5 705,-117.5 711,-111.5 717,-111.5 717,-111.5 828,-111.5 828,-111.5 834,-111.5 840,-117.5 840,-123.5 840,-123.5 840,-167.5 840,-167.5 840,-173.5 834,-179.5 828,-179.5\"/>\n<text text-anchor=\"start\" x=\"743\" y=\"-164.3\" font-family=\"Helvetica,sans-Serif\" font-size=\"14.00\" fill=\"#000000\">gini = 0.5</text>\n<text text-anchor=\"start\" x=\"733\" y=\"-149.3\" font-family=\"Helvetica,sans-Serif\" font-size=\"14.00\" fill=\"#000000\">samples = 2</text>\n<text text-anchor=\"start\" x=\"723\" y=\"-134.3\" font-family=\"Helvetica,sans-Serif\" font-size=\"14.00\" fill=\"#000000\">value = [1, 1, 0]</text>\n<text text-anchor=\"start\" x=\"713\" y=\"-119.3\" font-family=\"Helvetica,sans-Serif\" font-size=\"14.00\" fill=\"#000000\">credithistory = bad</text>\n</g>\n<!-- 12&#45;&gt;13 -->\n<g id=\"edge13\" class=\"edge\">\n<title>12&#45;&gt;13</title>\n<path fill=\"none\" stroke=\"#000000\" d=\"M780.9532,-222.8796C779.788,-212.2134 778.5305,-200.7021 777.3506,-189.9015\"/>\n<polygon fill=\"#000000\" stroke=\"#000000\" points=\"780.8141,-189.3757 776.2487,-179.8149 773.8555,-190.1359 780.8141,-189.3757\"/>\n</g>\n<!-- 14 -->\n<g id=\"node15\" class=\"node\">\n<title>14</title>\n<path fill=\"#ffffff\" stroke=\"#000000\" d=\"M981,-179.5C981,-179.5 870,-179.5 870,-179.5 864,-179.5 858,-173.5 858,-167.5 858,-167.5 858,-123.5 858,-123.5 858,-117.5 864,-111.5 870,-111.5 870,-111.5 981,-111.5 981,-111.5 987,-111.5 993,-117.5 993,-123.5 993,-123.5 993,-167.5 993,-167.5 993,-173.5 987,-179.5 981,-179.5\"/>\n<text text-anchor=\"start\" x=\"896\" y=\"-164.3\" font-family=\"Helvetica,sans-Serif\" font-size=\"14.00\" fill=\"#000000\">gini = 0.5</text>\n<text text-anchor=\"start\" x=\"886\" y=\"-149.3\" font-family=\"Helvetica,sans-Serif\" font-size=\"14.00\" fill=\"#000000\">samples = 2</text>\n<text text-anchor=\"start\" x=\"876\" y=\"-134.3\" font-family=\"Helvetica,sans-Serif\" font-size=\"14.00\" fill=\"#000000\">value = [1, 0, 1]</text>\n<text text-anchor=\"start\" x=\"866\" y=\"-119.3\" font-family=\"Helvetica,sans-Serif\" font-size=\"14.00\" fill=\"#000000\">credithistory = bad</text>\n</g>\n<!-- 12&#45;&gt;14 -->\n<g id=\"edge14\" class=\"edge\">\n<title>12&#45;&gt;14</title>\n<path fill=\"none\" stroke=\"#000000\" d=\"M834.4652,-222.8796C848.3073,-211.1138 863.3592,-198.3197 877.1641,-186.5855\"/>\n<polygon fill=\"#000000\" stroke=\"#000000\" points=\"879.7769,-188.9582 885.1295,-179.8149 875.2433,-183.6247 879.7769,-188.9582\"/>\n</g>\n</g>\n</svg>\n"
          },
          "metadata": {
            "tags": []
          },
          "execution_count": 16
        }
      ]
    }
  ]
}