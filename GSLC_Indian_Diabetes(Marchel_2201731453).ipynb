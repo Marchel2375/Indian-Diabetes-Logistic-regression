{
  "nbformat": 4,
  "nbformat_minor": 0,
  "metadata": {
    "colab": {
      "name": "GSLC Indian Diabetes(Marchel-2201731453).ipynb",
      "provenance": [],
      "collapsed_sections": [],
      "toc_visible": true
    },
    "kernelspec": {
      "name": "python3",
      "display_name": "Python 3"
    }
  },
  "cells": [
    {
      "cell_type": "markdown",
      "metadata": {
        "id": "B6HriFXwxgIA"
      },
      "source": [
        "Import"
      ]
    },
    {
      "cell_type": "code",
      "metadata": {
        "id": "LBoPKCH8xNQL"
      },
      "source": [
        "import pandas as pd\n",
        "import sklearn as sl\n",
        "from sklearn.model_selection import train_test_split,cross_val_score\n",
        "import numpy as np\n",
        "import matplotlib.pyplot as plt\n",
        "from sklearn import preprocessing\n",
        "from sklearn.linear_model import LogisticRegression, Ridge, Lasso\n",
        "from sklearn.metrics import confusion_matrix\n",
        "from sklearn.metrics import accuracy_score,precision_score,recall_score,f1_score\n",
        "from statistics import mean"
      ],
      "execution_count": null,
      "outputs": []
    },
    {
      "cell_type": "markdown",
      "metadata": {
        "id": "MofHb1bkxk3k"
      },
      "source": [
        "Get Data, Preprocessing(normalize), splitting"
      ]
    },
    {
      "cell_type": "code",
      "metadata": {
        "id": "Fm2UeHJCxd4a",
        "colab": {
          "base_uri": "https://localhost:8080/",
          "height": 268
        },
        "outputId": "8cf1c170-8241-492c-d18b-fe2b87414136"
      },
      "source": [
        "data = pd.read_csv('pima-indians-diabetes.csv').values\n",
        "inputs= data[:,0:8]\n",
        "output = data [:,8]\n",
        "\n",
        "normalize_x = preprocessing.normalize(inputs)\n",
        "\n",
        "plt.hist(normalize_x)\n",
        "plt.show()\n",
        "\n",
        "trainX, testX, trainY, testY =train_test_split(normalize_x, output, test_size=0.33)\n"
      ],
      "execution_count": null,
      "outputs": [
        {
          "output_type": "display_data",
          "data": {
            "image/png": "[encoded data removed]",
            "text/plain": [
              "<Figure size 432x288 with 1 Axes>"
            ]
          },
          "metadata": {
            "tags": []
          }
        }
      ]
    },
    {
      "cell_type": "markdown",
      "metadata": {
        "id": "47TpI3H6xzli"
      },
      "source": [
        "Logistic Regression"
      ]
    },
    {
      "cell_type": "code",
      "metadata": {
        "id": "5VN6queTx3yv",
        "colab": {
          "base_uri": "https://localhost:8080/",
          "height": 204
        },
        "outputId": "1d9e1c6d-b675-4458-c13a-8065ca91383d"
      },
      "source": [
        "logisticRegr = LogisticRegression()\n",
        "\n",
        "logisticRegr.fit(trainX,trainY)\n",
        "\n",
        "predictionslgr= logisticRegr.predict(testX)\n",
        "\n",
        "cmlgr=confusion_matrix(testY,predictionslgr)\n",
        "\n",
        "print('LOGISTIC REGRESSION')\n",
        "\n",
        "print('Confusion Matrix')\n",
        "print (pd.DataFrame(cmlgr))\n",
        "print()\n",
        "print('precision = ', precision_score(testY,predictionslgr))\n",
        "print('recall = ', recall_score(testY,predictionslgr))\n",
        "print('F1-score = ',f1_score(testY,predictionslgr))\n",
        "print('accuracy = ', accuracy_score(testY, predictionslgr))\n",
        "\n",
        "print()"
      ],
      "execution_count": null,
      "outputs": [
        {
          "output_type": "stream",
          "text": [
            "LOGISTIC REGRESSION\n",
            "Confusion Matrix\n",
            "     0  1\n",
            "0  158  6\n",
            "1   84  6\n",
            "\n",
            "precision =  0.5\n",
            "recall =  0.06666666666666667\n",
            "F1-score =  0.11764705882352941\n",
            "accuracy =  0.6456692913385826\n",
            "\n"
          ],
          "name": "stdout"
        }
      ]
    },
    {
      "cell_type": "markdown",
      "metadata": {
        "id": "zqfRn6GBx7Da"
      },
      "source": [
        "L1 (lasso)"
      ]
    },
    {
      "cell_type": "code",
      "metadata": {
        "id": "24Xq76F8x6zs",
        "colab": {
          "base_uri": "https://localhost:8080/",
          "height": 445
        },
        "outputId": "92bbac56-7066-4bd4-e9c6-8f886559e2fa"
      },
      "source": [
        "print('L1')\n",
        "print('determining l1 lambda')\n",
        "# List to maintain the cross-validation scores \n",
        "cross_val_scores_lasso = [] \n",
        "  \n",
        "# List to maintain the different values of Lambda \n",
        "Lambda = [] \n",
        "\n",
        "  \n",
        "# Loop to compute the cross-validation scores \n",
        "for i in range(1, 9): \n",
        "    lassoModel = Lasso(alpha = i * 0.25,tol = 0.0925) \n",
        "    lassoModel.fit(trainX, trainY) \n",
        "    scores = cross_val_score(lassoModel,inputs, output, cv = 10) \n",
        "    avg_cross_val_score = mean(scores)*100\n",
        "    cross_val_scores_lasso.append(avg_cross_val_score) \n",
        "    Lambda.append(i * 0.25) \n",
        "  \n",
        "# Loop to print the different values of cross-validation scores \n",
        "for i in range(len(Lambda)): \n",
        "    print(str(Lambda[i])+' : '+str(cross_val_scores_lasso[i])) \n",
        "\n",
        "chosenLambda = (np.argmax(cross_val_scores_lasso)+1)*0.25\n",
        "print()\n",
        "print('chosen lambda: ',chosenLambda)\n",
        "\n",
        "lassoModelChosen = Lasso(alpha=chosenLambda,tol = 0.0925)\n",
        "lassoModelChosen.fit(trainX,trainY)\n",
        "predictionsl1 = lassoModelChosen.predict(testX)\n",
        "\n",
        "\n",
        "for i in range(len(predictionsl1)):\n",
        "    if(predictionsl1[i]>=0.5):\n",
        "        predictionsl1[i]=1\n",
        "    else:\n",
        "        predictionsl1[i]=0\n",
        "\n",
        "cml1= confusion_matrix(testY, predictionsl1)\n",
        "\n",
        "print('Confusion Matrix')\n",
        "print (pd.DataFrame(cml1))\n",
        "print()\n",
        "print('precision = ', precision_score(testY,predictionsl1))\n",
        "print('recall = ', recall_score(testY,predictionsl1))\n",
        "print('F1-score = ',f1_score(testY,predictionsl1))\n",
        "print('accuracy = ', accuracy_score(testY, predictionsl1))\n",
        "\n",
        "\n",
        "print()"
      ],
      "execution_count": null,
      "outputs": [
        {
          "output_type": "stream",
          "text": [
            "L1\n",
            "determining l1 lambda\n",
            "0.25 : 23.192737943814652\n",
            "0.5 : 21.05722328093963\n",
            "0.75 : 18.401768266825766\n",
            "1.0 : 18.222306444774127\n",
            "1.25 : 18.00103376499665\n",
            "1.5 : 17.723323051420866\n",
            "1.75 : 17.38917430404678\n",
            "2.0 : 16.998587522874352\n",
            "\n",
            "chosen lambda:  0.25\n",
            "Confusion Matrix\n",
            "     0  1\n",
            "0  164  0\n",
            "1   90  0\n",
            "\n",
            "precision =  0.0\n",
            "recall =  0.0\n",
            "F1-score =  0.0\n",
            "accuracy =  0.6456692913385826\n",
            "\n"
          ],
          "name": "stdout"
        },
        {
          "output_type": "stream",
          "text": [
            "/usr/local/lib/python3.6/dist-packages/sklearn/metrics/_classification.py:1272: UndefinedMetricWarning: Precision is ill-defined and being set to 0.0 due to no predicted samples. Use `zero_division` parameter to control this behavior.\n",
            "  _warn_prf(average, modifier, msg_start, len(result))\n"
          ],
          "name": "stderr"
        }
      ]
    },
    {
      "cell_type": "markdown",
      "metadata": {
        "id": "ZRHDXZjZyEFQ"
      },
      "source": [
        "L2 (Ridge)"
      ]
    },
    {
      "cell_type": "code",
      "metadata": {
        "id": "JgpAL6v7yIol",
        "colab": {
          "base_uri": "https://localhost:8080/",
          "height": 391
        },
        "outputId": "ad442c49-88d4-4c14-818f-ba73a74f6897"
      },
      "source": [
        "print('L2')\n",
        "print('determining l2 alpha')\n",
        "# List to maintain the different cross-validation scores \n",
        "cross_val_scores_ridge = [] \n",
        "  \n",
        "# List to maintain the different values of alpha \n",
        "alpha = [] \n",
        "  \n",
        "# Loop to compute the different values of cross-validation scores \n",
        "for i in range(1, 9): \n",
        "    ridgeModel = Ridge(alpha = i * 0.25) \n",
        "    ridgeModel.fit(trainX, trainY) \n",
        "    scores = cross_val_score(ridgeModel, inputs, output, cv = 10) \n",
        "    avg_cross_val_score = mean(scores)*100\n",
        "    cross_val_scores_ridge.append(avg_cross_val_score) \n",
        "    alpha.append(i * 0.25) \n",
        "  \n",
        "# Loop to print the different values of cross-validation scores \n",
        "for i in range(0, len(alpha)): \n",
        "    print(str(alpha[i])+' : '+str(cross_val_scores_ridge[i])) \n",
        "\n",
        "chosenAlpha=(np.argmax(cross_val_scores_ridge)+1)*0.25\n",
        "print()\n",
        "print('chosen alpha: ',chosenAlpha)\n",
        "\n",
        "ridgeModelChosen = Ridge(alpha=chosenAlpha)\n",
        "ridgeModelChosen.fit(trainX,trainY)\n",
        "predictionsl2 = ridgeModelChosen.predict(testX)\n",
        "for i in range(len(predictionsl2)):\n",
        "    if(predictionsl2[i]>=0.5):\n",
        "        predictionsl2[i]=1\n",
        "    else:\n",
        "        predictionsl2[i]=0\n",
        "cml2= confusion_matrix(testY,predictionsl2)\n",
        "\n",
        "print('Confusion Matrix')\n",
        "print (pd.DataFrame(cml2))\n",
        "print()\n",
        "print('precision = ', precision_score(testY,predictionsl2))\n",
        "print('recall = ', recall_score(testY,predictionsl2))\n",
        "print('F1-score = ',f1_score(testY,predictionsl2))\n",
        "print('accuracy = ', accuracy_score(testY, predictionsl2))\n",
        "\n",
        "\n",
        "print()"
      ],
      "execution_count": null,
      "outputs": [
        {
          "output_type": "stream",
          "text": [
            "L2\n",
            "determining l2 alpha\n",
            "0.25 : 26.144676045207653\n",
            "0.5 : 26.145812780168555\n",
            "0.75 : 26.146914467652504\n",
            "1.0 : 26.147981762583882\n",
            "1.25 : 26.149015306707028\n",
            "1.5 : 26.150015728886483\n",
            "1.75 : 26.150983645399386\n",
            "2.0 : 26.15191966022029\n",
            "\n",
            "chosen alpha:  2.0\n",
            "Confusion Matrix\n",
            "     0  1\n",
            "0  156  8\n",
            "1   81  9\n",
            "\n",
            "precision =  0.5294117647058824\n",
            "recall =  0.1\n",
            "F1-score =  0.16822429906542058\n",
            "accuracy =  0.6496062992125984\n",
            "\n"
          ],
          "name": "stdout"
        }
      ]
    },
    {
      "cell_type": "markdown",
      "metadata": {
        "id": "6684d3s8y-rR"
      },
      "source": [
        "\n",
        "> accuracy\n",
        "\n",
        "*   logistic : 0.6456692913385826\n",
        "*   l1 : 0.6456692913385826\n",
        "*   l2 : 0.6496062992125984\n",
        "\n",
        "there is a significant increase of accuracy with l2 however not much with l1\n",
        "\n",
        "\n",
        "\n",
        "\n",
        "\n",
        "\n",
        "\n",
        "\n",
        "\n",
        "\n",
        "\n",
        "\n",
        "\n",
        "\n",
        "\n",
        "\n",
        "\n",
        "\n",
        "\n"
      ]
    },
    {
      "cell_type": "markdown",
      "metadata": {
        "id": "oLzezSeYRp3z"
      },
      "source": [
        ""
      ]
    },
    {
      "cell_type": "markdown",
      "metadata": {
        "id": "ECo-jdtl09ff"
      },
      "source": [
        "l1 have a problem with classifying it all as false this leads to.\n",
        "\n",
        "*   precision = 0.0\n",
        "*   recall = 0.0\n",
        "*   F1-score = 0.0\n",
        "\n",
        "\n",
        "\n",
        "\n"
      ]
    }
  ]
}