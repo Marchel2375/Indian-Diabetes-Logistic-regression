{
  "nbformat": 4,
  "nbformat_minor": 0,
  "metadata": {
    "colab": {
      "name": "bigdata.ipynb",
      "provenance": [],
      "collapsed_sections": []
    },
    "kernelspec": {
      "name": "python3",
      "display_name": "Python 3"
    }
  },
  "cells": [
    {
      "cell_type": "code",
      "metadata": {
        "id": "bLFC32duQHwY"
      },
      "source": [
        "import matplotlib.pyplot as plt\r\n",
        "import pandas as pd\r\n",
        "from sklearn import linear_model\r\n",
        "from sklearn.model_selection import train_test_split\r\n",
        "import numpy as np\r\n",
        "import seaborn as sb"
      ],
      "execution_count": null,
      "outputs": []
    },
    {
      "cell_type": "markdown",
      "metadata": {
        "id": "H74lIwwQ1_uF"
      },
      "source": [
        "figuring out data properties"
      ]
    },
    {
      "cell_type": "code",
      "metadata": {
        "colab": {
          "resources": {
            "http://localhost:8080/nbextensions/google.colab/files.js": {
              "data": "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",
              "ok": true,
              "headers": [
                [
                  "content-type",
                  "application/javascript"
                ]
              ],
              "status": 200,
              "status_text": ""
            }
          },
          "base_uri": "https://localhost:8080/",
          "height": 72
        },
        "id": "hCpJrfzucOkq",
        "outputId": "13966a48-2a5e-4743-c53d-866dad09c85f"
      },
      "source": [
        "from google.colab import files\r\n",
        "uploaded = files.upload()"
      ],
      "execution_count": null,
      "outputs": [
        {
          "output_type": "display_data",
          "data": {
            "text/html": [
              "\n",
              "     <input type=\"file\" id=\"files-6d690409-8d1f-4ea8-a608-6e50a9b92e28\" name=\"files[]\" multiple disabled\n",
              "        style=\"border:none\" />\n",
              "     <output id=\"result-6d690409-8d1f-4ea8-a608-6e50a9b92e28\">\n",
              "      Upload widget is only available when the cell has been executed in the\n",
              "      current browser session. Please rerun this cell to enable.\n",
              "      </output>\n",
              "      <script src=\"/nbextensions/google.colab/files.js\"></script> "
            ],
            "text/plain": [
              "<IPython.core.display.HTML object>"
            ]
          },
          "metadata": {
            "tags": []
          }
        },
        {
          "output_type": "stream",
          "text": [
            "Saving data-tinggi-muka-air-februari-2020.csv to data-tinggi-muka-air-februari-2020.csv\n"
          ],
          "name": "stdout"
        }
      ]
    },
    {
      "cell_type": "code",
      "metadata": {
        "colab": {
          "base_uri": "https://localhost:8080/"
        },
        "id": "Yk0la6tiQ3ZH",
        "outputId": "8b615f41-7820-4c61-b4ba-152c925ef5a0"
      },
      "source": [
        "Data = pd.read_csv(\"data-tinggi-muka-air-februari-2020.csv\")\r\n",
        "print(Data.dtypes)\r\n",
        "print(Data.isna().values.any())"
      ],
      "execution_count": null,
      "outputs": [
        {
          "output_type": "stream",
          "text": [
            "nama_pintu_air     object\n",
            "lokasi             object\n",
            "latitude          float64\n",
            "longitude         float64\n",
            "tanggal            object\n",
            "tinggi_air          int64\n",
            "status_siaga       object\n",
            "dtype: object\n",
            "False\n"
          ],
          "name": "stdout"
        }
      ]
    },
    {
      "cell_type": "code",
      "metadata": {
        "colab": {
          "base_uri": "https://localhost:8080/",
          "height": 198
        },
        "id": "HQY2okT9Rutv",
        "outputId": "e0140eaa-7135-4108-d14a-76d785ff586b"
      },
      "source": [
        "floodData = Data[[\"nama_pintu_air\",\"lokasi\",\"tanggal\",\"tinggi_air\",\"status_siaga\"]]\r\n",
        "floodData.head()"
      ],
      "execution_count": null,
      "outputs": [
        {
          "output_type": "execute_result",
          "data": {
            "text/html": [
              "<div>\n",
              "<style scoped>\n",
              "    .dataframe tbody tr th:only-of-type {\n",
              "        vertical-align: middle;\n",
              "    }\n",
              "\n",
              "    .dataframe tbody tr th {\n",
              "        vertical-align: top;\n",
              "    }\n",
              "\n",
              "    .dataframe thead th {\n",
              "        text-align: right;\n",
              "    }\n",
              "</style>\n",
              "<table border=\"1\" class=\"dataframe\">\n",
              "  <thead>\n",
              "    <tr style=\"text-align: right;\">\n",
              "      <th></th>\n",
              "      <th>nama_pintu_air</th>\n",
              "      <th>lokasi</th>\n",
              "      <th>tanggal</th>\n",
              "      <th>tinggi_air</th>\n",
              "      <th>status_siaga</th>\n",
              "    </tr>\n",
              "  </thead>\n",
              "  <tbody>\n",
              "    <tr>\n",
              "      <th>0</th>\n",
              "      <td>PA. Cibalok - Gadog</td>\n",
              "      <td>Ciliwung</td>\n",
              "      <td>2020-01-31 23:40:00</td>\n",
              "      <td>-50</td>\n",
              "      <td>Status : Normal</td>\n",
              "    </tr>\n",
              "    <tr>\n",
              "      <th>1</th>\n",
              "      <td>PS. Katulampa (Hulu)</td>\n",
              "      <td>Ciliwung</td>\n",
              "      <td>2020-01-31 23:40:00</td>\n",
              "      <td>130</td>\n",
              "      <td>Status : Normal</td>\n",
              "    </tr>\n",
              "    <tr>\n",
              "      <th>2</th>\n",
              "      <td>PS. Depok</td>\n",
              "      <td>Ciliwung</td>\n",
              "      <td>2020-01-31 23:40:00</td>\n",
              "      <td>760</td>\n",
              "      <td>Status : Normal</td>\n",
              "    </tr>\n",
              "    <tr>\n",
              "      <th>3</th>\n",
              "      <td>PA. Manggarai</td>\n",
              "      <td>Ciliwung</td>\n",
              "      <td>2020-01-31 23:40:00</td>\n",
              "      <td>5890</td>\n",
              "      <td>Status : Normal</td>\n",
              "    </tr>\n",
              "    <tr>\n",
              "      <th>4</th>\n",
              "      <td>PS. Krukut Hulu</td>\n",
              "      <td>Krukut</td>\n",
              "      <td>2020-01-31 15:00:11</td>\n",
              "      <td>200</td>\n",
              "      <td>Status : Normal</td>\n",
              "    </tr>\n",
              "  </tbody>\n",
              "</table>\n",
              "</div>"
            ],
            "text/plain": [
              "         nama_pintu_air    lokasi  ... tinggi_air     status_siaga\n",
              "0   PA. Cibalok - Gadog  Ciliwung  ...        -50  Status : Normal\n",
              "1  PS. Katulampa (Hulu)  Ciliwung  ...        130  Status : Normal\n",
              "2             PS. Depok  Ciliwung  ...        760  Status : Normal\n",
              "3         PA. Manggarai  Ciliwung  ...       5890  Status : Normal\n",
              "4       PS. Krukut Hulu    Krukut  ...        200  Status : Normal\n",
              "\n",
              "[5 rows x 5 columns]"
            ]
          },
          "metadata": {
            "tags": []
          },
          "execution_count": 3
        }
      ]
    },
    {
      "cell_type": "code",
      "metadata": {
        "colab": {
          "base_uri": "https://localhost:8080/",
          "height": 516
        },
        "id": "zW_0l2WmUUb0",
        "outputId": "751d8621-2076-4aad-d2ec-42d44dddeaee"
      },
      "source": [
        "floodData['tanggal'] = floodData['tanggal'].str[:10]\r\n",
        "floodData.head(1000)\r\n"
      ],
      "execution_count": null,
      "outputs": [
        {
          "output_type": "stream",
          "text": [
            "/usr/local/lib/python3.6/dist-packages/ipykernel_launcher.py:1: SettingWithCopyWarning: \n",
            "A value is trying to be set on a copy of a slice from a DataFrame.\n",
            "Try using .loc[row_indexer,col_indexer] = value instead\n",
            "\n",
            "See the caveats in the documentation: https://pandas.pydata.org/pandas-docs/stable/user_guide/indexing.html#returning-a-view-versus-a-copy\n",
            "  \"\"\"Entry point for launching an IPython kernel.\n"
          ],
          "name": "stderr"
        },
        {
          "output_type": "execute_result",
          "data": {
            "text/html": [
              "<div>\n",
              "<style scoped>\n",
              "    .dataframe tbody tr th:only-of-type {\n",
              "        vertical-align: middle;\n",
              "    }\n",
              "\n",
              "    .dataframe tbody tr th {\n",
              "        vertical-align: top;\n",
              "    }\n",
              "\n",
              "    .dataframe thead th {\n",
              "        text-align: right;\n",
              "    }\n",
              "</style>\n",
              "<table border=\"1\" class=\"dataframe\">\n",
              "  <thead>\n",
              "    <tr style=\"text-align: right;\">\n",
              "      <th></th>\n",
              "      <th>nama_pintu_air</th>\n",
              "      <th>lokasi</th>\n",
              "      <th>tanggal</th>\n",
              "      <th>tinggi_air</th>\n",
              "      <th>status_siaga</th>\n",
              "    </tr>\n",
              "  </thead>\n",
              "  <tbody>\n",
              "    <tr>\n",
              "      <th>0</th>\n",
              "      <td>PA. Cibalok - Gadog</td>\n",
              "      <td>Ciliwung</td>\n",
              "      <td>2020-01-31</td>\n",
              "      <td>-50</td>\n",
              "      <td>Status : Normal</td>\n",
              "    </tr>\n",
              "    <tr>\n",
              "      <th>1</th>\n",
              "      <td>PS. Katulampa (Hulu)</td>\n",
              "      <td>Ciliwung</td>\n",
              "      <td>2020-01-31</td>\n",
              "      <td>130</td>\n",
              "      <td>Status : Normal</td>\n",
              "    </tr>\n",
              "    <tr>\n",
              "      <th>2</th>\n",
              "      <td>PS. Depok</td>\n",
              "      <td>Ciliwung</td>\n",
              "      <td>2020-01-31</td>\n",
              "      <td>760</td>\n",
              "      <td>Status : Normal</td>\n",
              "    </tr>\n",
              "    <tr>\n",
              "      <th>3</th>\n",
              "      <td>PA. Manggarai</td>\n",
              "      <td>Ciliwung</td>\n",
              "      <td>2020-01-31</td>\n",
              "      <td>5890</td>\n",
              "      <td>Status : Normal</td>\n",
              "    </tr>\n",
              "    <tr>\n",
              "      <th>4</th>\n",
              "      <td>PS. Krukut Hulu</td>\n",
              "      <td>Krukut</td>\n",
              "      <td>2020-01-31</td>\n",
              "      <td>200</td>\n",
              "      <td>Status : Normal</td>\n",
              "    </tr>\n",
              "    <tr>\n",
              "      <th>...</th>\n",
              "      <td>...</td>\n",
              "      <td>...</td>\n",
              "      <td>...</td>\n",
              "      <td>...</td>\n",
              "      <td>...</td>\n",
              "    </tr>\n",
              "    <tr>\n",
              "      <th>995</th>\n",
              "      <td>Pompa Pasar Ikan</td>\n",
              "      <td>Laut</td>\n",
              "      <td>2020-02-01</td>\n",
              "      <td>1580</td>\n",
              "      <td>Status : Normal</td>\n",
              "    </tr>\n",
              "    <tr>\n",
              "      <th>996</th>\n",
              "      <td>P.A. Pluit</td>\n",
              "      <td>Waduk Pluit</td>\n",
              "      <td>2020-02-01</td>\n",
              "      <td>-1710</td>\n",
              "      <td>Status : Normal</td>\n",
              "    </tr>\n",
              "    <tr>\n",
              "      <th>997</th>\n",
              "      <td>PS. Pesanggrahan</td>\n",
              "      <td>Pesanggrahan</td>\n",
              "      <td>2020-02-01</td>\n",
              "      <td>850</td>\n",
              "      <td>Status : Normal</td>\n",
              "    </tr>\n",
              "    <tr>\n",
              "      <th>998</th>\n",
              "      <td>PS. Angke Hulu</td>\n",
              "      <td>Angke</td>\n",
              "      <td>2020-02-01</td>\n",
              "      <td>1790</td>\n",
              "      <td>Status : Siaga 3</td>\n",
              "    </tr>\n",
              "    <tr>\n",
              "      <th>999</th>\n",
              "      <td>PS. Sunter Hulu</td>\n",
              "      <td>Sunter</td>\n",
              "      <td>2020-02-01</td>\n",
              "      <td>800</td>\n",
              "      <td>Status : Normal</td>\n",
              "    </tr>\n",
              "  </tbody>\n",
              "</table>\n",
              "<p>1000 rows × 5 columns</p>\n",
              "</div>"
            ],
            "text/plain": [
              "           nama_pintu_air        lokasi  ... tinggi_air      status_siaga\n",
              "0     PA. Cibalok - Gadog      Ciliwung  ...        -50   Status : Normal\n",
              "1    PS. Katulampa (Hulu)      Ciliwung  ...        130   Status : Normal\n",
              "2               PS. Depok      Ciliwung  ...        760   Status : Normal\n",
              "3           PA. Manggarai      Ciliwung  ...       5890   Status : Normal\n",
              "4         PS. Krukut Hulu        Krukut  ...        200   Status : Normal\n",
              "..                    ...           ...  ...        ...               ...\n",
              "995      Pompa Pasar Ikan          Laut  ...       1580   Status : Normal\n",
              "996            P.A. Pluit   Waduk Pluit  ...      -1710   Status : Normal\n",
              "997      PS. Pesanggrahan  Pesanggrahan  ...        850   Status : Normal\n",
              "998        PS. Angke Hulu         Angke  ...       1790  Status : Siaga 3\n",
              "999       PS. Sunter Hulu        Sunter  ...        800   Status : Normal\n",
              "\n",
              "[1000 rows x 5 columns]"
            ]
          },
          "metadata": {
            "tags": []
          },
          "execution_count": 4
        }
      ]
    },
    {
      "cell_type": "code",
      "metadata": {
        "colab": {
          "base_uri": "https://localhost:8080/"
        },
        "id": "H_s3vimCStBu",
        "outputId": "34d49fe0-4705-4ebe-b754-85a52a93d66f"
      },
      "source": [
        "normal = floodData.loc[floodData['status_siaga']=='Status : Normal']\r\n",
        "print(normal)\r\n",
        "siaga_3 = floodData.loc[floodData['status_siaga']=='Status : Siaga 3']\r\n",
        "print(siaga_3)\r\n",
        "siaga_2 = floodData.loc[floodData['status_siaga']=='Status : Siaga 2']\r\n",
        "print(siaga_2)\r\n",
        "siaga_1 = floodData.loc[floodData['status_siaga']=='Status : Siaga 1']\r\n",
        "print(siaga_1)\r\n",
        "\r\n",
        "temp_location[\"status_siaga\"].unique()"
      ],
      "execution_count": null,
      "outputs": [
        {
          "output_type": "stream",
          "text": [
            "                   nama_pintu_air           lokasi  ... tinggi_air     status_siaga\n",
            "0       Bendung. Katulampa (Hulu)         Ciliwung  ...        100  Status : Normal\n",
            "1                       PS. Depok         Ciliwung  ...        700  Status : Normal\n",
            "2                   PA. Manggarai         Ciliwung  ...       5590  Status : Normal\n",
            "3                 PS. Krukut Hulu           Krukut  ...        100  Status : Normal\n",
            "4                    Pompa Cideng   Cideng Siantar  ...         40  Status : Normal\n",
            "...                           ...              ...  ...        ...              ...\n",
            "27097           PS. Cipinang Hulu    Cipinang Hulu  ...        390  Status : Normal\n",
            "27098  Pompa Kali Duri (Kalijodo)        Kali Duri  ...        500  Status : Normal\n",
            "27099             P.A. Istiqlal           Ciliwung  ...       2240  Status : Normal\n",
            "27100         P.A. Jembatan Merah         Ciliwung  ...       1360  Status : Normal\n",
            "27102                    P.A. Hek  Kali Baru Timur  ...       1300  Status : Normal\n",
            "\n",
            "[21867 rows x 5 columns]\n",
            "           nama_pintu_air    lokasi     tanggal  tinggi_air      status_siaga\n",
            "6      P.A. Marina Ancol       Laut  2020-09-30        1880  Status : Siaga 3\n",
            "7        Pompa Pasar Ikan      Laut  2020-09-30        1890  Status : Siaga 3\n",
            "26     P.A. Marina Ancol       Laut  2020-10-01        1860  Status : Siaga 3\n",
            "27       Pompa Pasar Ikan      Laut  2020-10-01        1830  Status : Siaga 3\n",
            "46     P.A. Marina Ancol       Laut  2020-10-01        1820  Status : Siaga 3\n",
            "...                   ...       ...         ...         ...               ...\n",
            "27030    Pompa Pasar Ikan      Laut  2020-10-31        1700  Status : Siaga 3\n",
            "27050    Pompa Pasar Ikan      Laut  2020-10-31        1700  Status : Siaga 3\n",
            "27061  P.A. Flusing Ancol  Ciliwung  2020-10-31        1800  Status : Siaga 3\n",
            "27090    Pompa Pasar Ikan      Laut  2020-10-31        1700  Status : Siaga 3\n",
            "27101  P.A. Flusing Ancol  Ciliwung  2020-10-31        1840  Status : Siaga 3\n",
            "\n",
            "[2354 rows x 5 columns]\n",
            "            nama_pintu_air    lokasi     tanggal  tinggi_air      status_siaga\n",
            "17     P.A. Jembatan Merah  Ciliwung  2020-09-30        1750  Status : Siaga 2\n",
            "18      P.A. Flusing Ancol  Ciliwung  2020-09-19        1910  Status : Siaga 2\n",
            "37     P.A. Jembatan Merah  Ciliwung  2020-10-01        1650  Status : Siaga 2\n",
            "38      P.A. Flusing Ancol  Ciliwung  2020-09-19        1910  Status : Siaga 2\n",
            "57     P.A. Jembatan Merah  Ciliwung  2020-10-01        1650  Status : Siaga 2\n",
            "...                    ...       ...         ...         ...               ...\n",
            "26830     Pompa Pasar Ikan      Laut  2020-10-31        2000  Status : Siaga 2\n",
            "26841   P.A. Flusing Ancol  Ciliwung  2020-10-31        2040  Status : Siaga 2\n",
            "26861   P.A. Flusing Ancol  Ciliwung  2020-10-31        1980  Status : Siaga 2\n",
            "26881   P.A. Flusing Ancol  Ciliwung  2020-10-31        1900  Status : Siaga 2\n",
            "26921   P.A. Flusing Ancol  Ciliwung  2020-10-31        1900  Status : Siaga 2\n",
            "\n",
            "[2717 rows x 5 columns]\n",
            "           nama_pintu_air    lokasi     tanggal  tinggi_air      status_siaga\n",
            "3571      PS. Sunter Hulu    Sunter  2020-10-04        2500  Status : Siaga 1\n",
            "3591      PS. Sunter Hulu    Sunter  2020-10-04        2500  Status : Siaga 1\n",
            "3611      PS. Sunter Hulu    Sunter  2020-10-04        2900  Status : Siaga 1\n",
            "3631      PS. Sunter Hulu    Sunter  2020-10-04        2900  Status : Siaga 1\n",
            "3651      PS. Sunter Hulu    Sunter  2020-10-05        2900  Status : Siaga 1\n",
            "...                   ...       ...         ...         ...               ...\n",
            "26521  P.A. Flusing Ancol  Ciliwung  2020-10-31        2210  Status : Siaga 1\n",
            "26541  P.A. Flusing Ancol  Ciliwung  2020-10-31        2350  Status : Siaga 1\n",
            "26561  P.A. Flusing Ancol  Ciliwung  2020-10-31        2260  Status : Siaga 1\n",
            "26581  P.A. Flusing Ancol  Ciliwung  2020-10-31        2340  Status : Siaga 1\n",
            "26601  P.A. Flusing Ancol  Ciliwung  2020-10-31        2360  Status : Siaga 1\n",
            "\n",
            "[165 rows x 5 columns]\n"
          ],
          "name": "stdout"
        },
        {
          "output_type": "execute_result",
          "data": {
            "text/plain": [
              "array(['Status : Normal'], dtype=object)"
            ]
          },
          "metadata": {
            "tags": []
          },
          "execution_count": 234
        }
      ]
    },
    {
      "cell_type": "code",
      "metadata": {
        "colab": {
          "base_uri": "https://localhost:8080/",
          "height": 318
        },
        "id": "YEuB_BpSWH1j",
        "outputId": "c577d4a7-6e25-4e47-fbce-7b771fb94117"
      },
      "source": [
        "normal.hist()"
      ],
      "execution_count": null,
      "outputs": [
        {
          "output_type": "execute_result",
          "data": {
            "text/plain": [
              "array([[<matplotlib.axes._subplots.AxesSubplot object at 0x7fb001c160b8>]],\n",
              "      dtype=object)"
            ]
          },
          "metadata": {
            "tags": []
          },
          "execution_count": 209
        },
        {
          "output_type": "display_data",
          "data": {
            "image/png": "[encoded data removed]",
            "text/plain": [
              "<Figure size 432x288 with 1 Axes>"
            ]
          },
          "metadata": {
            "tags": [],
            "needs_background": "light"
          }
        }
      ]
    },
    {
      "cell_type": "code",
      "metadata": {
        "colab": {
          "base_uri": "https://localhost:8080/",
          "height": 318
        },
        "id": "iqnjKSUMWJLn",
        "outputId": "18fcb60f-d06c-46c5-85f4-596a48d4a48f"
      },
      "source": [
        "siaga_3.hist()"
      ],
      "execution_count": null,
      "outputs": [
        {
          "output_type": "execute_result",
          "data": {
            "text/plain": [
              "array([[<matplotlib.axes._subplots.AxesSubplot object at 0x7fb0023f47f0>]],\n",
              "      dtype=object)"
            ]
          },
          "metadata": {
            "tags": []
          },
          "execution_count": 154
        },
        {
          "output_type": "display_data",
          "data": {
            "image/png": "[encoded data removed]",
            "text/plain": [
              "<Figure size 432x288 with 1 Axes>"
            ]
          },
          "metadata": {
            "tags": [],
            "needs_background": "light"
          }
        }
      ]
    },
    {
      "cell_type": "code",
      "metadata": {
        "colab": {
          "base_uri": "https://localhost:8080/",
          "height": 318
        },
        "id": "9DVa8GqlWMm8",
        "outputId": "5d1af532-3237-40ff-8e24-5a3521f6876d"
      },
      "source": [
        "siaga_2.hist()"
      ],
      "execution_count": null,
      "outputs": [
        {
          "output_type": "execute_result",
          "data": {
            "text/plain": [
              "array([[<matplotlib.axes._subplots.AxesSubplot object at 0x7fb001d59a90>]],\n",
              "      dtype=object)"
            ]
          },
          "metadata": {
            "tags": []
          },
          "execution_count": 155
        },
        {
          "output_type": "display_data",
          "data": {
            "image/png": "[encoded data removed]",
            "text/plain": [
              "<Figure size 432x288 with 1 Axes>"
            ]
          },
          "metadata": {
            "tags": [],
            "needs_background": "light"
          }
        }
      ]
    },
    {
      "cell_type": "code",
      "metadata": {
        "colab": {
          "base_uri": "https://localhost:8080/",
          "height": 318
        },
        "id": "xmpyxravWrsP",
        "outputId": "20c1d499-e5c6-437b-b0af-7d7292a58861"
      },
      "source": [
        "siaga_1.hist()"
      ],
      "execution_count": null,
      "outputs": [
        {
          "output_type": "execute_result",
          "data": {
            "text/plain": [
              "array([[<matplotlib.axes._subplots.AxesSubplot object at 0x7fb001c809e8>]],\n",
              "      dtype=object)"
            ]
          },
          "metadata": {
            "tags": []
          },
          "execution_count": 156
        },
        {
          "output_type": "display_data",
          "data": {
            "image/png": "[encoded data removed]",
            "text/plain": [
              "<Figure size 432x288 with 1 Axes>"
            ]
          },
          "metadata": {
            "tags": [],
            "needs_background": "light"
          }
        }
      ]
    },
    {
      "cell_type": "code",
      "metadata": {
        "colab": {
          "base_uri": "https://localhost:8080/"
        },
        "id": "il8F_V3BZ-Yy",
        "outputId": "e5ea0c4b-f952-4f5e-bc25-31c10dba722d"
      },
      "source": [
        "print(floodData[\"nama_pintu_air\"].value_counts())\r\n",
        "pintu_air = floodData[\"nama_pintu_air\"].unique()\r\n",
        "lokasi_N = floodData[\"lokasi\"].unique()\r\n",
        "print(\"Total pintu air: \"+ str(len(pintu_air)))\r\n",
        "print(\"Total lokasi: \"+ str(len(lokasi_N)))"
      ],
      "execution_count": null,
      "outputs": [
        {
          "output_type": "stream",
          "text": [
            "PA. Pulo Gadung               985\n",
            "PS. Sunter Hulu               985\n",
            "Pompa Pasar Ikan              985\n",
            "P.A. Jembatan Merah           985\n",
            "PA. Cibalok - Gadog           985\n",
            "P.A. Hek                      985\n",
            "Pompa Cideng                  985\n",
            "P.A. Ancol Flusing            985\n",
            "PS. Depok                     985\n",
            "P.A. Istiqlal                 985\n",
            "Pompa Kali Duri (Kalijodo)    985\n",
            "PS. Cipinang Hulu             985\n",
            "PS. Krukut Hulu               985\n",
            "PS. Katulampa (Hulu)          985\n",
            "P.A. Marina Ancol             985\n",
            "PA. Manggarai                 985\n",
            "PS. Angke Hulu                985\n",
            "Pompa Yos Sudarso 1           985\n",
            "PS. Pesanggrahan              985\n",
            "P.A. Pluit                    985\n",
            "P.A. Karet                    985\n",
            "Name: nama_pintu_air, dtype: int64\n",
            "Total pintu air: 21\n",
            "Total lokasi: 13\n"
          ],
          "name": "stdout"
        }
      ]
    },
    {
      "cell_type": "code",
      "metadata": {
        "colab": {
          "base_uri": "https://localhost:8080/"
        },
        "id": "f8p6wNnFfRjM",
        "outputId": "53250e6f-74dd-4279-f39b-ff72f3c6b085"
      },
      "source": [
        "test_array = []\r\n",
        "\r\n",
        "\r\n",
        "for i in lokasi_N:\r\n",
        "  temp_location = floodData.loc[floodData['lokasi'] == i]\r\n",
        "\r\n",
        "  status_normal = temp_location.loc[temp_location['status_siaga']=='Status : Normal'].shape[0]\r\n",
        "  status_siaga_3 = temp_location.loc[temp_location['status_siaga']=='Status : Siaga 3'].shape[0]\r\n",
        "  status_siaga_2 = temp_location.loc[temp_location['status_siaga']=='Status : Siaga 2'].shape[0]\r\n",
        "  status_siaga_1 = temp_location.loc[temp_location['status_siaga']=='Status : Siaga 1'].shape[0]\r\n",
        "  \r\n",
        "  tinggi_n = temp_location.loc[temp_location['status_siaga']=='Status : Normal'][\"tinggi_air\"].mean()\r\n",
        "  tinggi_s3 = temp_location.loc[temp_location['status_siaga']=='Status : Siaga 3'][\"tinggi_air\"].mean()\r\n",
        "  tinggi_s2 = temp_location.loc[temp_location['status_siaga']=='Status : Siaga 2'][\"tinggi_air\"].mean()\r\n",
        "  tinggi_s1 = temp_location.loc[temp_location['status_siaga']=='Status : Siaga 1'][\"tinggi_air\"].mean()\r\n",
        "\r\n",
        "  unique = temp_location[\"nama_pintu_air\"].unique()\r\n",
        "  temp = [i, len(unique), \"February\", temp_location[\"lokasi\"].count(), status_normal, status_siaga_3, status_siaga_2, status_siaga_1, tinggi_n, tinggi_s3, tinggi_s2, tinggi_s1]\r\n",
        "  test_array.append(temp)\r\n",
        "  print(i + \": \" + str(len(unique)) + \" = \" + str(temp_location[\"lokasi\"].count()/len(unique)))\r\n",
        "\r\n",
        "\r\n",
        "test = pd.DataFrame(test_array, columns=['Lokasi', 'Gates', 'Month', 'Reports', 'Normal', 'Siaga 3', 'Siaga 2', 'Siaga 1', 'Tinggi N', 'Tinggi S3', 'Tinggi S2', 'Tinggi S1'])"
      ],
      "execution_count": null,
      "outputs": [
        {
          "output_type": "stream",
          "text": [
            "Ciliwung: 7 = 985.0\n",
            "Krukut: 1 = 985.0\n",
            "Cideng Siantar: 1 = 985.0\n",
            "Banjir Kanal Barat: 1 = 985.0\n",
            "Laut: 2 = 985.0\n",
            "Waduk Pluit: 1 = 985.0\n",
            "Pesanggrahan: 1 = 985.0\n",
            "Angke: 1 = 985.0\n",
            "Sunter: 2 = 985.0\n",
            "Sunter Timur: 1 = 985.0\n",
            "Cipinang Hulu: 1 = 985.0\n",
            "Kali Duri: 1 = 985.0\n",
            "Kali Baru Timur: 1 = 985.0\n"
          ],
          "name": "stdout"
        }
      ]
    },
    {
      "cell_type": "code",
      "metadata": {
        "id": "DHPzgwfJlPBy"
      },
      "source": [
        "#for x in test_array:\r\n",
        "  #print(x)\r\n",
        "\r\n",
        "test.to_csv(\"October.csv\")"
      ],
      "execution_count": null,
      "outputs": []
    },
    {
      "cell_type": "markdown",
      "metadata": {
        "id": "0v1Z2Mx7nAuc"
      },
      "source": [
        "based on this we can tell that the data is not biased but cideng and aliran cideng are lazy muthafuckas"
      ]
    },
    {
      "cell_type": "code",
      "metadata": {
        "colab": {
          "base_uri": "https://localhost:8080/",
          "height": 198
        },
        "id": "svvC2zjp4yaB",
        "outputId": "d477d00f-7203-4d13-ca49-058015abf612"
      },
      "source": [
        "test.head()"
      ],
      "execution_count": null,
      "outputs": [
        {
          "output_type": "execute_result",
          "data": {
            "text/html": [
              "<div>\n",
              "<style scoped>\n",
              "    .dataframe tbody tr th:only-of-type {\n",
              "        vertical-align: middle;\n",
              "    }\n",
              "\n",
              "    .dataframe tbody tr th {\n",
              "        vertical-align: top;\n",
              "    }\n",
              "\n",
              "    .dataframe thead th {\n",
              "        text-align: right;\n",
              "    }\n",
              "</style>\n",
              "<table border=\"1\" class=\"dataframe\">\n",
              "  <thead>\n",
              "    <tr style=\"text-align: right;\">\n",
              "      <th></th>\n",
              "      <th>Lokasi</th>\n",
              "      <th>Gates</th>\n",
              "      <th>Month</th>\n",
              "      <th>Reports</th>\n",
              "      <th>Normal</th>\n",
              "      <th>Siaga 3</th>\n",
              "      <th>Siaga 2</th>\n",
              "      <th>Siaga 1</th>\n",
              "      <th>Tinggi N</th>\n",
              "      <th>Tinggi S3</th>\n",
              "      <th>Tinggi S2</th>\n",
              "      <th>Tinggi S1</th>\n",
              "    </tr>\n",
              "  </thead>\n",
              "  <tbody>\n",
              "    <tr>\n",
              "      <th>0</th>\n",
              "      <td>Ciliwung</td>\n",
              "      <td>7</td>\n",
              "      <td>February</td>\n",
              "      <td>6895</td>\n",
              "      <td>5506</td>\n",
              "      <td>368</td>\n",
              "      <td>803</td>\n",
              "      <td>218</td>\n",
              "      <td>1998.103887</td>\n",
              "      <td>3717.853261</td>\n",
              "      <td>2285.803238</td>\n",
              "      <td>2407.018349</td>\n",
              "    </tr>\n",
              "    <tr>\n",
              "      <th>1</th>\n",
              "      <td>Krukut</td>\n",
              "      <td>1</td>\n",
              "      <td>February</td>\n",
              "      <td>985</td>\n",
              "      <td>969</td>\n",
              "      <td>16</td>\n",
              "      <td>0</td>\n",
              "      <td>0</td>\n",
              "      <td>332.291022</td>\n",
              "      <td>2075.000000</td>\n",
              "      <td>NaN</td>\n",
              "      <td>NaN</td>\n",
              "    </tr>\n",
              "    <tr>\n",
              "      <th>2</th>\n",
              "      <td>Cideng Siantar</td>\n",
              "      <td>1</td>\n",
              "      <td>February</td>\n",
              "      <td>985</td>\n",
              "      <td>981</td>\n",
              "      <td>4</td>\n",
              "      <td>0</td>\n",
              "      <td>0</td>\n",
              "      <td>267.808359</td>\n",
              "      <td>1600.000000</td>\n",
              "      <td>NaN</td>\n",
              "      <td>NaN</td>\n",
              "    </tr>\n",
              "    <tr>\n",
              "      <th>3</th>\n",
              "      <td>Banjir Kanal Barat</td>\n",
              "      <td>1</td>\n",
              "      <td>February</td>\n",
              "      <td>985</td>\n",
              "      <td>852</td>\n",
              "      <td>68</td>\n",
              "      <td>20</td>\n",
              "      <td>45</td>\n",
              "      <td>3349.953052</td>\n",
              "      <td>4869.411765</td>\n",
              "      <td>5748.000000</td>\n",
              "      <td>6559.777778</td>\n",
              "    </tr>\n",
              "    <tr>\n",
              "      <th>4</th>\n",
              "      <td>Laut</td>\n",
              "      <td>2</td>\n",
              "      <td>February</td>\n",
              "      <td>1970</td>\n",
              "      <td>1054</td>\n",
              "      <td>659</td>\n",
              "      <td>257</td>\n",
              "      <td>0</td>\n",
              "      <td>1491.622391</td>\n",
              "      <td>1834.810319</td>\n",
              "      <td>2081.634241</td>\n",
              "      <td>NaN</td>\n",
              "    </tr>\n",
              "  </tbody>\n",
              "</table>\n",
              "</div>"
            ],
            "text/plain": [
              "               Lokasi  Gates     Month  ...    Tinggi S3    Tinggi S2    Tinggi S1\n",
              "0            Ciliwung      7  February  ...  3717.853261  2285.803238  2407.018349\n",
              "1              Krukut      1  February  ...  2075.000000          NaN          NaN\n",
              "2      Cideng Siantar      1  February  ...  1600.000000          NaN          NaN\n",
              "3  Banjir Kanal Barat      1  February  ...  4869.411765  5748.000000  6559.777778\n",
              "4                Laut      2  February  ...  1834.810319  2081.634241          NaN\n",
              "\n",
              "[5 rows x 12 columns]"
            ]
          },
          "metadata": {
            "tags": []
          },
          "execution_count": 12
        }
      ]
    },
    {
      "cell_type": "code",
      "metadata": {
        "id": "H4lfYpJ9ui_w"
      },
      "source": [
        "gate_N = Data[\"nama_pintu_air\"].unique()\r\n",
        "\r\n",
        "for j in gate_N:\r\n",
        "  lokasi_X = Data.loc[Data['nama_pintu_air'] == j]\r\n",
        "  extra_unique = lokasi_X[\"tanggal\"].unique()\r\n",
        "  calculation = lokasi_X[\"nama_pintu_air\"].count() / len(extra_unique)\r\n",
        "  #print(j + \": \" + str(calculation))\r\n",
        "  #print(lokasi_X.head())\r\n",
        "  #print(extra_unique)"
      ],
      "execution_count": null,
      "outputs": []
    },
    {
      "cell_type": "markdown",
      "metadata": {
        "id": "ybR12YNx2H7J"
      },
      "source": [
        "machine learning to classify siaga"
      ]
    },
    {
      "cell_type": "code",
      "metadata": {
        "colab": {
          "base_uri": "https://localhost:8080/",
          "height": 340
        },
        "id": "9nr0-bNH3s48",
        "outputId": "a9723782-4280-42f0-d950-e1050651a16b"
      },
      "source": [
        "display(floodData.head())\r\n",
        "display(floodData[\"nama_pintu_air\"].unique())"
      ],
      "execution_count": null,
      "outputs": [
        {
          "output_type": "display_data",
          "data": {
            "text/html": [
              "<div>\n",
              "<style scoped>\n",
              "    .dataframe tbody tr th:only-of-type {\n",
              "        vertical-align: middle;\n",
              "    }\n",
              "\n",
              "    .dataframe tbody tr th {\n",
              "        vertical-align: top;\n",
              "    }\n",
              "\n",
              "    .dataframe thead th {\n",
              "        text-align: right;\n",
              "    }\n",
              "</style>\n",
              "<table border=\"1\" class=\"dataframe\">\n",
              "  <thead>\n",
              "    <tr style=\"text-align: right;\">\n",
              "      <th></th>\n",
              "      <th>nama_pintu_air</th>\n",
              "      <th>lokasi</th>\n",
              "      <th>tanggal</th>\n",
              "      <th>tinggi_air</th>\n",
              "      <th>status_siaga</th>\n",
              "    </tr>\n",
              "  </thead>\n",
              "  <tbody>\n",
              "    <tr>\n",
              "      <th>0</th>\n",
              "      <td>PA. Cibalok - Gadog</td>\n",
              "      <td>Ciliwung</td>\n",
              "      <td>2020-01-31</td>\n",
              "      <td>-50</td>\n",
              "      <td>Status : Normal</td>\n",
              "    </tr>\n",
              "    <tr>\n",
              "      <th>1</th>\n",
              "      <td>PS. Katulampa (Hulu)</td>\n",
              "      <td>Ciliwung</td>\n",
              "      <td>2020-01-31</td>\n",
              "      <td>130</td>\n",
              "      <td>Status : Normal</td>\n",
              "    </tr>\n",
              "    <tr>\n",
              "      <th>2</th>\n",
              "      <td>PS. Depok</td>\n",
              "      <td>Ciliwung</td>\n",
              "      <td>2020-01-31</td>\n",
              "      <td>760</td>\n",
              "      <td>Status : Normal</td>\n",
              "    </tr>\n",
              "    <tr>\n",
              "      <th>3</th>\n",
              "      <td>PA. Manggarai</td>\n",
              "      <td>Ciliwung</td>\n",
              "      <td>2020-01-31</td>\n",
              "      <td>5890</td>\n",
              "      <td>Status : Normal</td>\n",
              "    </tr>\n",
              "    <tr>\n",
              "      <th>4</th>\n",
              "      <td>PS. Krukut Hulu</td>\n",
              "      <td>Krukut</td>\n",
              "      <td>2020-01-31</td>\n",
              "      <td>200</td>\n",
              "      <td>Status : Normal</td>\n",
              "    </tr>\n",
              "  </tbody>\n",
              "</table>\n",
              "</div>"
            ],
            "text/plain": [
              "         nama_pintu_air    lokasi     tanggal  tinggi_air     status_siaga\n",
              "0   PA. Cibalok - Gadog  Ciliwung  2020-01-31         -50  Status : Normal\n",
              "1  PS. Katulampa (Hulu)  Ciliwung  2020-01-31         130  Status : Normal\n",
              "2             PS. Depok  Ciliwung  2020-01-31         760  Status : Normal\n",
              "3         PA. Manggarai  Ciliwung  2020-01-31        5890  Status : Normal\n",
              "4       PS. Krukut Hulu    Krukut  2020-01-31         200  Status : Normal"
            ]
          },
          "metadata": {
            "tags": []
          }
        },
        {
          "output_type": "display_data",
          "data": {
            "text/plain": [
              "array(['PA. Cibalok - Gadog', 'PS. Katulampa (Hulu)', 'PS. Depok',\n",
              "       'PA. Manggarai', 'PS. Krukut Hulu', 'Pompa Cideng', 'P.A. Karet',\n",
              "       'P.A. Marina Ancol ', 'Pompa Pasar Ikan', 'P.A. Pluit',\n",
              "       'PS. Pesanggrahan', 'PS. Angke Hulu', 'PS. Sunter Hulu',\n",
              "       'PA. Pulo Gadung', 'Pompa Yos Sudarso 1', 'PS. Cipinang Hulu',\n",
              "       'Pompa Kali Duri (Kalijodo)', 'P.A. Istiqlal  ',\n",
              "       'P.A. Jembatan Merah', 'P.A. Ancol Flusing', 'P.A. Hek'],\n",
              "      dtype=object)"
            ]
          },
          "metadata": {
            "tags": []
          }
        }
      ]
    },
    {
      "cell_type": "code",
      "metadata": {
        "colab": {
          "base_uri": "https://localhost:8080/",
          "height": 241
        },
        "id": "dfzVFu972HLO",
        "outputId": "35a74917-3b15-4264-8fc6-81764abe5299"
      },
      "source": [
        "from sklearn.preprocessing import OrdinalEncoder\r\n",
        "from sklearn.preprocessing import LabelEncoder\r\n",
        "from sklearn.model_selection import train_test_split\r\n",
        "\r\n",
        "#dataset = floodData.loc[:,floodData.columns != 'status_siaga']\r\n",
        "#label = floodData['status_siaga']\r\n",
        "\r\n",
        "dataset = floodData.copy()\r\n",
        "\r\n",
        "dataset['tanggal'] = dataset['tanggal'].str[5:]\r\n",
        "\r\n",
        "#apply encoder for classification data\r\n",
        "Oencoder = OrdinalEncoder()\r\n",
        "le = OrdinalEncoder()\r\n",
        "\r\n",
        "dataset[['tanggal']]=Oencoder.fit_transform(dataset[['tanggal']],)\r\n",
        "dataset = pd.get_dummies(dataset,prefix=['nama_pintu_air','lokasi'],columns=['nama_pintu_air','lokasi'])\r\n",
        "\r\n",
        "siaga_encoder = le.fit(dataset[['status_siaga']])\r\n",
        "\r\n",
        "dataset[['status_siaga']] = le.transform(dataset[['status_siaga']])\r\n",
        "\r\n",
        "#dataset[['status_siaga']] = le.inverse_transform(dataset[['status_siaga']])\r\n",
        "\r\n",
        "#label_encoder = Oencoder.fit(label['status_siaga'])\r\n",
        "#label = label_encoder.transform(label)\r\n",
        "\r\n",
        "dataset.head()"
      ],
      "execution_count": null,
      "outputs": [
        {
          "output_type": "execute_result",
          "data": {
            "text/html": [
              "<div>\n",
              "<style scoped>\n",
              "    .dataframe tbody tr th:only-of-type {\n",
              "        vertical-align: middle;\n",
              "    }\n",
              "\n",
              "    .dataframe tbody tr th {\n",
              "        vertical-align: top;\n",
              "    }\n",
              "\n",
              "    .dataframe thead th {\n",
              "        text-align: right;\n",
              "    }\n",
              "</style>\n",
              "<table border=\"1\" class=\"dataframe\">\n",
              "  <thead>\n",
              "    <tr style=\"text-align: right;\">\n",
              "      <th></th>\n",
              "      <th>tanggal</th>\n",
              "      <th>tinggi_air</th>\n",
              "      <th>status_siaga</th>\n",
              "      <th>nama_pintu_air_P.A. Ancol Flusing</th>\n",
              "      <th>nama_pintu_air_P.A. Hek</th>\n",
              "      <th>nama_pintu_air_P.A. Istiqlal</th>\n",
              "      <th>nama_pintu_air_P.A. Jembatan Merah</th>\n",
              "      <th>nama_pintu_air_P.A. Karet</th>\n",
              "      <th>nama_pintu_air_P.A. Marina Ancol</th>\n",
              "      <th>nama_pintu_air_P.A. Pluit</th>\n",
              "      <th>nama_pintu_air_PA. Cibalok - Gadog</th>\n",
              "      <th>nama_pintu_air_PA. Manggarai</th>\n",
              "      <th>nama_pintu_air_PA. Pulo Gadung</th>\n",
              "      <th>nama_pintu_air_PS. Angke Hulu</th>\n",
              "      <th>nama_pintu_air_PS. Cipinang Hulu</th>\n",
              "      <th>nama_pintu_air_PS. Depok</th>\n",
              "      <th>nama_pintu_air_PS. Katulampa (Hulu)</th>\n",
              "      <th>nama_pintu_air_PS. Krukut Hulu</th>\n",
              "      <th>nama_pintu_air_PS. Pesanggrahan</th>\n",
              "      <th>nama_pintu_air_PS. Sunter Hulu</th>\n",
              "      <th>nama_pintu_air_Pompa Cideng</th>\n",
              "      <th>nama_pintu_air_Pompa Kali Duri (Kalijodo)</th>\n",
              "      <th>nama_pintu_air_Pompa Pasar Ikan</th>\n",
              "      <th>nama_pintu_air_Pompa Yos Sudarso 1</th>\n",
              "      <th>lokasi_Angke</th>\n",
              "      <th>lokasi_Banjir Kanal Barat</th>\n",
              "      <th>lokasi_Cideng Siantar</th>\n",
              "      <th>lokasi_Ciliwung</th>\n",
              "      <th>lokasi_Cipinang Hulu</th>\n",
              "      <th>lokasi_Kali Baru Timur</th>\n",
              "      <th>lokasi_Kali Duri</th>\n",
              "      <th>lokasi_Krukut</th>\n",
              "      <th>lokasi_Laut</th>\n",
              "      <th>lokasi_Pesanggrahan</th>\n",
              "      <th>lokasi_Sunter</th>\n",
              "      <th>lokasi_Sunter Timur</th>\n",
              "      <th>lokasi_Waduk Pluit</th>\n",
              "    </tr>\n",
              "  </thead>\n",
              "  <tbody>\n",
              "    <tr>\n",
              "      <th>0</th>\n",
              "      <td>0.0</td>\n",
              "      <td>-50</td>\n",
              "      <td>0.0</td>\n",
              "      <td>0</td>\n",
              "      <td>0</td>\n",
              "      <td>0</td>\n",
              "      <td>0</td>\n",
              "      <td>0</td>\n",
              "      <td>0</td>\n",
              "      <td>0</td>\n",
              "      <td>1</td>\n",
              "      <td>0</td>\n",
              "      <td>0</td>\n",
              "      <td>0</td>\n",
              "      <td>0</td>\n",
              "      <td>0</td>\n",
              "      <td>0</td>\n",
              "      <td>0</td>\n",
              "      <td>0</td>\n",
              "      <td>0</td>\n",
              "      <td>0</td>\n",
              "      <td>0</td>\n",
              "      <td>0</td>\n",
              "      <td>0</td>\n",
              "      <td>0</td>\n",
              "      <td>0</td>\n",
              "      <td>0</td>\n",
              "      <td>1</td>\n",
              "      <td>0</td>\n",
              "      <td>0</td>\n",
              "      <td>0</td>\n",
              "      <td>0</td>\n",
              "      <td>0</td>\n",
              "      <td>0</td>\n",
              "      <td>0</td>\n",
              "      <td>0</td>\n",
              "      <td>0</td>\n",
              "    </tr>\n",
              "    <tr>\n",
              "      <th>1</th>\n",
              "      <td>0.0</td>\n",
              "      <td>130</td>\n",
              "      <td>0.0</td>\n",
              "      <td>0</td>\n",
              "      <td>0</td>\n",
              "      <td>0</td>\n",
              "      <td>0</td>\n",
              "      <td>0</td>\n",
              "      <td>0</td>\n",
              "      <td>0</td>\n",
              "      <td>0</td>\n",
              "      <td>0</td>\n",
              "      <td>0</td>\n",
              "      <td>0</td>\n",
              "      <td>0</td>\n",
              "      <td>0</td>\n",
              "      <td>1</td>\n",
              "      <td>0</td>\n",
              "      <td>0</td>\n",
              "      <td>0</td>\n",
              "      <td>0</td>\n",
              "      <td>0</td>\n",
              "      <td>0</td>\n",
              "      <td>0</td>\n",
              "      <td>0</td>\n",
              "      <td>0</td>\n",
              "      <td>0</td>\n",
              "      <td>1</td>\n",
              "      <td>0</td>\n",
              "      <td>0</td>\n",
              "      <td>0</td>\n",
              "      <td>0</td>\n",
              "      <td>0</td>\n",
              "      <td>0</td>\n",
              "      <td>0</td>\n",
              "      <td>0</td>\n",
              "      <td>0</td>\n",
              "    </tr>\n",
              "    <tr>\n",
              "      <th>2</th>\n",
              "      <td>0.0</td>\n",
              "      <td>760</td>\n",
              "      <td>0.0</td>\n",
              "      <td>0</td>\n",
              "      <td>0</td>\n",
              "      <td>0</td>\n",
              "      <td>0</td>\n",
              "      <td>0</td>\n",
              "      <td>0</td>\n",
              "      <td>0</td>\n",
              "      <td>0</td>\n",
              "      <td>0</td>\n",
              "      <td>0</td>\n",
              "      <td>0</td>\n",
              "      <td>0</td>\n",
              "      <td>1</td>\n",
              "      <td>0</td>\n",
              "      <td>0</td>\n",
              "      <td>0</td>\n",
              "      <td>0</td>\n",
              "      <td>0</td>\n",
              "      <td>0</td>\n",
              "      <td>0</td>\n",
              "      <td>0</td>\n",
              "      <td>0</td>\n",
              "      <td>0</td>\n",
              "      <td>0</td>\n",
              "      <td>1</td>\n",
              "      <td>0</td>\n",
              "      <td>0</td>\n",
              "      <td>0</td>\n",
              "      <td>0</td>\n",
              "      <td>0</td>\n",
              "      <td>0</td>\n",
              "      <td>0</td>\n",
              "      <td>0</td>\n",
              "      <td>0</td>\n",
              "    </tr>\n",
              "    <tr>\n",
              "      <th>3</th>\n",
              "      <td>0.0</td>\n",
              "      <td>5890</td>\n",
              "      <td>0.0</td>\n",
              "      <td>0</td>\n",
              "      <td>0</td>\n",
              "      <td>0</td>\n",
              "      <td>0</td>\n",
              "      <td>0</td>\n",
              "      <td>0</td>\n",
              "      <td>0</td>\n",
              "      <td>0</td>\n",
              "      <td>1</td>\n",
              "      <td>0</td>\n",
              "      <td>0</td>\n",
              "      <td>0</td>\n",
              "      <td>0</td>\n",
              "      <td>0</td>\n",
              "      <td>0</td>\n",
              "      <td>0</td>\n",
              "      <td>0</td>\n",
              "      <td>0</td>\n",
              "      <td>0</td>\n",
              "      <td>0</td>\n",
              "      <td>0</td>\n",
              "      <td>0</td>\n",
              "      <td>0</td>\n",
              "      <td>0</td>\n",
              "      <td>1</td>\n",
              "      <td>0</td>\n",
              "      <td>0</td>\n",
              "      <td>0</td>\n",
              "      <td>0</td>\n",
              "      <td>0</td>\n",
              "      <td>0</td>\n",
              "      <td>0</td>\n",
              "      <td>0</td>\n",
              "      <td>0</td>\n",
              "    </tr>\n",
              "    <tr>\n",
              "      <th>4</th>\n",
              "      <td>0.0</td>\n",
              "      <td>200</td>\n",
              "      <td>0.0</td>\n",
              "      <td>0</td>\n",
              "      <td>0</td>\n",
              "      <td>0</td>\n",
              "      <td>0</td>\n",
              "      <td>0</td>\n",
              "      <td>0</td>\n",
              "      <td>0</td>\n",
              "      <td>0</td>\n",
              "      <td>0</td>\n",
              "      <td>0</td>\n",
              "      <td>0</td>\n",
              "      <td>0</td>\n",
              "      <td>0</td>\n",
              "      <td>0</td>\n",
              "      <td>1</td>\n",
              "      <td>0</td>\n",
              "      <td>0</td>\n",
              "      <td>0</td>\n",
              "      <td>0</td>\n",
              "      <td>0</td>\n",
              "      <td>0</td>\n",
              "      <td>0</td>\n",
              "      <td>0</td>\n",
              "      <td>0</td>\n",
              "      <td>0</td>\n",
              "      <td>0</td>\n",
              "      <td>0</td>\n",
              "      <td>0</td>\n",
              "      <td>1</td>\n",
              "      <td>0</td>\n",
              "      <td>0</td>\n",
              "      <td>0</td>\n",
              "      <td>0</td>\n",
              "      <td>0</td>\n",
              "    </tr>\n",
              "  </tbody>\n",
              "</table>\n",
              "</div>"
            ],
            "text/plain": [
              "   tanggal  tinggi_air  ...  lokasi_Sunter Timur  lokasi_Waduk Pluit\n",
              "0      0.0         -50  ...                    0                   0\n",
              "1      0.0         130  ...                    0                   0\n",
              "2      0.0         760  ...                    0                   0\n",
              "3      0.0        5890  ...                    0                   0\n",
              "4      0.0         200  ...                    0                   0\n",
              "\n",
              "[5 rows x 37 columns]"
            ]
          },
          "metadata": {
            "tags": []
          },
          "execution_count": 82
        }
      ]
    },
    {
      "cell_type": "markdown",
      "metadata": {
        "id": "dDwEAhTcCXSS"
      },
      "source": [
        "split training and testing 80%, 20%\r\n",
        "\r\n",
        "training it with logistic regression"
      ]
    },
    {
      "cell_type": "code",
      "metadata": {
        "colab": {
          "base_uri": "https://localhost:8080/",
          "height": 377
        },
        "id": "AZ032mp6CW29",
        "outputId": "e8b005d8-6079-49e6-afb1-5b2470e67ab4"
      },
      "source": [
        "Train, Test = train_test_split(dataset, test_size=0.2)\r\n",
        "\r\n",
        "display(Train.head())\r\n",
        "\r\n",
        "XTrain = Train.loc[:,Train.columns != 'status_siaga']\r\n",
        "YTrain = Train['status_siaga']\r\n",
        "\r\n",
        "from sklearn.linear_model import LogisticRegression\r\n",
        "LGR = LogisticRegression(max_iter=1000).fit(XTrain, YTrain.astype('int').values.ravel())"
      ],
      "execution_count": null,
      "outputs": [
        {
          "output_type": "display_data",
          "data": {
            "text/html": [
              "<div>\n",
              "<style scoped>\n",
              "    .dataframe tbody tr th:only-of-type {\n",
              "        vertical-align: middle;\n",
              "    }\n",
              "\n",
              "    .dataframe tbody tr th {\n",
              "        vertical-align: top;\n",
              "    }\n",
              "\n",
              "    .dataframe thead th {\n",
              "        text-align: right;\n",
              "    }\n",
              "</style>\n",
              "<table border=\"1\" class=\"dataframe\">\n",
              "  <thead>\n",
              "    <tr style=\"text-align: right;\">\n",
              "      <th></th>\n",
              "      <th>tanggal</th>\n",
              "      <th>tinggi_air</th>\n",
              "      <th>status_siaga</th>\n",
              "      <th>nama_pintu_air_P.A. Ancol Flusing</th>\n",
              "      <th>nama_pintu_air_P.A. Hek</th>\n",
              "      <th>nama_pintu_air_P.A. Istiqlal</th>\n",
              "      <th>nama_pintu_air_P.A. Jembatan Merah</th>\n",
              "      <th>nama_pintu_air_P.A. Karet</th>\n",
              "      <th>nama_pintu_air_P.A. Marina Ancol</th>\n",
              "      <th>nama_pintu_air_P.A. Pluit</th>\n",
              "      <th>nama_pintu_air_PA. Cibalok - Gadog</th>\n",
              "      <th>nama_pintu_air_PA. Manggarai</th>\n",
              "      <th>nama_pintu_air_PA. Pulo Gadung</th>\n",
              "      <th>nama_pintu_air_PS. Angke Hulu</th>\n",
              "      <th>nama_pintu_air_PS. Cipinang Hulu</th>\n",
              "      <th>nama_pintu_air_PS. Depok</th>\n",
              "      <th>nama_pintu_air_PS. Katulampa (Hulu)</th>\n",
              "      <th>nama_pintu_air_PS. Krukut Hulu</th>\n",
              "      <th>nama_pintu_air_PS. Pesanggrahan</th>\n",
              "      <th>nama_pintu_air_PS. Sunter Hulu</th>\n",
              "      <th>nama_pintu_air_Pompa Cideng</th>\n",
              "      <th>nama_pintu_air_Pompa Kali Duri (Kalijodo)</th>\n",
              "      <th>nama_pintu_air_Pompa Pasar Ikan</th>\n",
              "      <th>nama_pintu_air_Pompa Yos Sudarso 1</th>\n",
              "      <th>lokasi_Angke</th>\n",
              "      <th>lokasi_Banjir Kanal Barat</th>\n",
              "      <th>lokasi_Cideng Siantar</th>\n",
              "      <th>lokasi_Ciliwung</th>\n",
              "      <th>lokasi_Cipinang Hulu</th>\n",
              "      <th>lokasi_Kali Baru Timur</th>\n",
              "      <th>lokasi_Kali Duri</th>\n",
              "      <th>lokasi_Krukut</th>\n",
              "      <th>lokasi_Laut</th>\n",
              "      <th>lokasi_Pesanggrahan</th>\n",
              "      <th>lokasi_Sunter</th>\n",
              "      <th>lokasi_Sunter Timur</th>\n",
              "      <th>lokasi_Waduk Pluit</th>\n",
              "    </tr>\n",
              "  </thead>\n",
              "  <tbody>\n",
              "    <tr>\n",
              "      <th>6285</th>\n",
              "      <td>7.0</td>\n",
              "      <td>2700</td>\n",
              "      <td>0.0</td>\n",
              "      <td>0</td>\n",
              "      <td>0</td>\n",
              "      <td>0</td>\n",
              "      <td>0</td>\n",
              "      <td>1</td>\n",
              "      <td>0</td>\n",
              "      <td>0</td>\n",
              "      <td>0</td>\n",
              "      <td>0</td>\n",
              "      <td>0</td>\n",
              "      <td>0</td>\n",
              "      <td>0</td>\n",
              "      <td>0</td>\n",
              "      <td>0</td>\n",
              "      <td>0</td>\n",
              "      <td>0</td>\n",
              "      <td>0</td>\n",
              "      <td>0</td>\n",
              "      <td>0</td>\n",
              "      <td>0</td>\n",
              "      <td>0</td>\n",
              "      <td>0</td>\n",
              "      <td>1</td>\n",
              "      <td>0</td>\n",
              "      <td>0</td>\n",
              "      <td>0</td>\n",
              "      <td>0</td>\n",
              "      <td>0</td>\n",
              "      <td>0</td>\n",
              "      <td>0</td>\n",
              "      <td>0</td>\n",
              "      <td>0</td>\n",
              "      <td>0</td>\n",
              "      <td>0</td>\n",
              "    </tr>\n",
              "    <tr>\n",
              "      <th>7191</th>\n",
              "      <td>8.0</td>\n",
              "      <td>-1520</td>\n",
              "      <td>0.0</td>\n",
              "      <td>0</td>\n",
              "      <td>0</td>\n",
              "      <td>0</td>\n",
              "      <td>0</td>\n",
              "      <td>0</td>\n",
              "      <td>0</td>\n",
              "      <td>1</td>\n",
              "      <td>0</td>\n",
              "      <td>0</td>\n",
              "      <td>0</td>\n",
              "      <td>0</td>\n",
              "      <td>0</td>\n",
              "      <td>0</td>\n",
              "      <td>0</td>\n",
              "      <td>0</td>\n",
              "      <td>0</td>\n",
              "      <td>0</td>\n",
              "      <td>0</td>\n",
              "      <td>0</td>\n",
              "      <td>0</td>\n",
              "      <td>0</td>\n",
              "      <td>0</td>\n",
              "      <td>0</td>\n",
              "      <td>0</td>\n",
              "      <td>0</td>\n",
              "      <td>0</td>\n",
              "      <td>0</td>\n",
              "      <td>0</td>\n",
              "      <td>0</td>\n",
              "      <td>0</td>\n",
              "      <td>0</td>\n",
              "      <td>0</td>\n",
              "      <td>0</td>\n",
              "      <td>1</td>\n",
              "    </tr>\n",
              "    <tr>\n",
              "      <th>16790</th>\n",
              "      <td>21.0</td>\n",
              "      <td>2350</td>\n",
              "      <td>3.0</td>\n",
              "      <td>0</td>\n",
              "      <td>0</td>\n",
              "      <td>0</td>\n",
              "      <td>0</td>\n",
              "      <td>0</td>\n",
              "      <td>0</td>\n",
              "      <td>0</td>\n",
              "      <td>0</td>\n",
              "      <td>0</td>\n",
              "      <td>0</td>\n",
              "      <td>1</td>\n",
              "      <td>0</td>\n",
              "      <td>0</td>\n",
              "      <td>0</td>\n",
              "      <td>0</td>\n",
              "      <td>0</td>\n",
              "      <td>0</td>\n",
              "      <td>0</td>\n",
              "      <td>0</td>\n",
              "      <td>0</td>\n",
              "      <td>0</td>\n",
              "      <td>1</td>\n",
              "      <td>0</td>\n",
              "      <td>0</td>\n",
              "      <td>0</td>\n",
              "      <td>0</td>\n",
              "      <td>0</td>\n",
              "      <td>0</td>\n",
              "      <td>0</td>\n",
              "      <td>0</td>\n",
              "      <td>0</td>\n",
              "      <td>0</td>\n",
              "      <td>0</td>\n",
              "      <td>0</td>\n",
              "    </tr>\n",
              "    <tr>\n",
              "      <th>19799</th>\n",
              "      <td>24.0</td>\n",
              "      <td>2000</td>\n",
              "      <td>0.0</td>\n",
              "      <td>0</td>\n",
              "      <td>0</td>\n",
              "      <td>1</td>\n",
              "      <td>0</td>\n",
              "      <td>0</td>\n",
              "      <td>0</td>\n",
              "      <td>0</td>\n",
              "      <td>0</td>\n",
              "      <td>0</td>\n",
              "      <td>0</td>\n",
              "      <td>0</td>\n",
              "      <td>0</td>\n",
              "      <td>0</td>\n",
              "      <td>0</td>\n",
              "      <td>0</td>\n",
              "      <td>0</td>\n",
              "      <td>0</td>\n",
              "      <td>0</td>\n",
              "      <td>0</td>\n",
              "      <td>0</td>\n",
              "      <td>0</td>\n",
              "      <td>0</td>\n",
              "      <td>0</td>\n",
              "      <td>0</td>\n",
              "      <td>1</td>\n",
              "      <td>0</td>\n",
              "      <td>0</td>\n",
              "      <td>0</td>\n",
              "      <td>0</td>\n",
              "      <td>0</td>\n",
              "      <td>0</td>\n",
              "      <td>0</td>\n",
              "      <td>0</td>\n",
              "      <td>0</td>\n",
              "    </tr>\n",
              "    <tr>\n",
              "      <th>262</th>\n",
              "      <td>1.0</td>\n",
              "      <td>930</td>\n",
              "      <td>0.0</td>\n",
              "      <td>0</td>\n",
              "      <td>0</td>\n",
              "      <td>0</td>\n",
              "      <td>0</td>\n",
              "      <td>0</td>\n",
              "      <td>0</td>\n",
              "      <td>0</td>\n",
              "      <td>0</td>\n",
              "      <td>0</td>\n",
              "      <td>0</td>\n",
              "      <td>0</td>\n",
              "      <td>0</td>\n",
              "      <td>0</td>\n",
              "      <td>0</td>\n",
              "      <td>0</td>\n",
              "      <td>1</td>\n",
              "      <td>0</td>\n",
              "      <td>0</td>\n",
              "      <td>0</td>\n",
              "      <td>0</td>\n",
              "      <td>0</td>\n",
              "      <td>0</td>\n",
              "      <td>0</td>\n",
              "      <td>0</td>\n",
              "      <td>0</td>\n",
              "      <td>0</td>\n",
              "      <td>0</td>\n",
              "      <td>0</td>\n",
              "      <td>0</td>\n",
              "      <td>0</td>\n",
              "      <td>1</td>\n",
              "      <td>0</td>\n",
              "      <td>0</td>\n",
              "      <td>0</td>\n",
              "    </tr>\n",
              "  </tbody>\n",
              "</table>\n",
              "</div>"
            ],
            "text/plain": [
              "       tanggal  tinggi_air  ...  lokasi_Sunter Timur  lokasi_Waduk Pluit\n",
              "6285       7.0        2700  ...                    0                   0\n",
              "7191       8.0       -1520  ...                    0                   1\n",
              "16790     21.0        2350  ...                    0                   0\n",
              "19799     24.0        2000  ...                    0                   0\n",
              "262        1.0         930  ...                    0                   0\n",
              "\n",
              "[5 rows x 37 columns]"
            ]
          },
          "metadata": {
            "tags": []
          }
        },
        {
          "output_type": "stream",
          "text": [
            "/usr/local/lib/python3.6/dist-packages/sklearn/linear_model/_logistic.py:940: ConvergenceWarning: lbfgs failed to converge (status=1):\n",
            "STOP: TOTAL NO. of ITERATIONS REACHED LIMIT.\n",
            "\n",
            "Increase the number of iterations (max_iter) or scale the data as shown in:\n",
            "    https://scikit-learn.org/stable/modules/preprocessing.html\n",
            "Please also refer to the documentation for alternative solver options:\n",
            "    https://scikit-learn.org/stable/modules/linear_model.html#logistic-regression\n",
            "  extra_warning_msg=_LOGISTIC_SOLVER_CONVERGENCE_MSG)\n"
          ],
          "name": "stderr"
        }
      ]
    },
    {
      "cell_type": "code",
      "metadata": {
        "colab": {
          "base_uri": "https://localhost:8080/"
        },
        "id": "AiQ_81YYDmXD",
        "outputId": "424895c2-3563-43fe-b009-b39917eb3239"
      },
      "source": [
        "from sklearn import metrics\r\n",
        "CTest  = LGR.predict(Test.loc[:,Test.columns != 'status_siaga'])\r\n",
        "YTest = Test['status_siaga']\r\n",
        "CTrain  = LGR.predict(XTrain)\r\n",
        "\r\n",
        "print(\"Train set acc: \", metrics.accuracy_score(YTrain.astype('int'), CTrain))\r\n",
        "print(\"Test set acc: \", metrics.accuracy_score(YTest.astype('int'), CTest))"
      ],
      "execution_count": null,
      "outputs": [
        {
          "output_type": "stream",
          "text": [
            "Train set acc:  0.8878414309886391\n",
            "Test set acc:  0.8917089678510999\n"
          ],
          "name": "stdout"
        }
      ]
    }
  ]
}