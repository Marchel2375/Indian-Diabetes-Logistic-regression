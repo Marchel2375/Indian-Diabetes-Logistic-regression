{
  "nbformat": 4,
  "nbformat_minor": 0,
  "metadata": {
    "colab": {
      "name": "Untitled4.ipynb",
      "provenance": []
    },
    "kernelspec": {
      "name": "python3",
      "display_name": "Python 3"
    }
  },
  "cells": [
    {
      "cell_type": "code",
      "metadata": {
        "id": "i51raRAxYGSW"
      },
      "source": [
        "import pandas as pd\r\n",
        "from sklearn.model_selection import train_test_split"
      ],
      "execution_count": null,
      "outputs": []
    },
    {
      "cell_type": "code",
      "metadata": {
        "id": "3a24Yg0hYkxj"
      },
      "source": [
        "old_Data = pd.read_csv(\"data-tinggi-muka-air-februari-2020.csv\")\r\n",
        "\r\n",
        "train, test = train_test_split(old_Data, test_size=0.2)\r\n",
        "\r\n",
        "train.to_csv(\"Train.csv\")\r\n",
        "test.to_csv(\"Test.csv\")"
      ],
      "execution_count": null,
      "outputs": []
    },
    {
      "cell_type": "code",
      "metadata": {
        "colab": {
          "base_uri": "https://localhost:8080/"
        },
        "id": "pQ5wO9JaaO8P",
        "outputId": "37f5d8a8-4707-422b-ddd9-caf85835797c"
      },
      "source": [
        "### Important ###\r\n",
        "### Run this cell if you are using Google Colab\r\n",
        "!apt-get install openjdk-8-jdk-headless -qq > /dev/null\r\n",
        "print('[Done] openjdk8 has been installed')\r\n",
        "!wget -q https://downloads.apache.org/spark/spark-2.4.7/spark-2.4.7-bin-hadoop2.7.tgz\r\n",
        "!tar xf spark-2.4.7-bin-hadoop2.7.tgz -C /usr/lib/\r\n",
        "!rm spark-2.4.7-bin-hadoop2.7.tgz\r\n",
        "print('[Done] Spark has been installed')\r\n",
        "!pip install -q findspark\r\n",
        "print('[Done] findspark has been installed')\r\n",
        "import os\r\n",
        "os.environ[\"JAVA_HOME\"] = \"/usr/lib/jvm/java-8-openjdk-amd64\"\r\n",
        "os.environ[\"SPARK_HOME\"] = \"/usr/lib/spark-2.4.7-bin-hadoop2.7\"\r\n",
        "print('[Done] Environment variables has been set')\r\n",
        "import findspark\r\n",
        "findspark.init()\r\n",
        "print('[Done] You can use pyspark now.')"
      ],
      "execution_count": null,
      "outputs": [
        {
          "output_type": "stream",
          "text": [
            "[Done] openjdk8 has been installed\n",
            "[Done] Spark has been installed\n",
            "[Done] findspark has been installed\n",
            "[Done] Environment variables has been set\n",
            "[Done] You can use pyspark now.\n"
          ],
          "name": "stdout"
        }
      ]
    },
    {
      "cell_type": "code",
      "metadata": {
        "id": "GgwszNtWaJVG"
      },
      "source": [
        "from pyspark.sql import SparkSession\r\n",
        "from pyspark.ml.feature import VectorAssembler, StandardScaler, StringIndexer\r\n",
        "from pyspark.ml.classification import LogisticRegression\r\n",
        "from pyspark.ml.evaluation import BinaryClassificationEvaluator"
      ],
      "execution_count": null,
      "outputs": []
    },
    {
      "cell_type": "code",
      "metadata": {
        "id": "RNSkWADlagny"
      },
      "source": [
        "spark = SparkSession.builder.getOrCreate()"
      ],
      "execution_count": null,
      "outputs": []
    },
    {
      "cell_type": "code",
      "metadata": {
        "id": "7raxWsCAfsLP"
      },
      "source": [
        "from pyspark.sql.types import StringType"
      ],
      "execution_count": null,
      "outputs": []
    },
    {
      "cell_type": "markdown",
      "metadata": {
        "id": "PL4BG1uyaq55"
      },
      "source": [
        "# 1. Load Data"
      ]
    },
    {
      "cell_type": "code",
      "metadata": {
        "id": "JPM31Z1Ial2g"
      },
      "source": [
        "water_train = spark.read.csv('Train.csv', inferSchema=True, header=True)\r\n",
        "water_test = spark.read.csv('Test.csv', inferSchema=True, header=True)"
      ],
      "execution_count": null,
      "outputs": []
    },
    {
      "cell_type": "code",
      "metadata": {
        "id": "90RV7uxMfwM0"
      },
      "source": [
        "# water_train = water_train.withColumn(\"tanggal\", water_train[\"tanggal\"].cast(StringType()))\r\n",
        "# water_test = water_test.withColumn(\"tanggal\", water_test[\"tanggal\"].cast(StringType()))"
      ],
      "execution_count": null,
      "outputs": []
    },
    {
      "cell_type": "code",
      "metadata": {
        "id": "QVP_yehriYCX"
      },
      "source": [
        "# water_train = water_train.withColumn(\"tanggal\", water_train[\"tanggal\"].substr(1, 11))\r\n",
        "# water_test = water_test.withColumn(\"tanggal\", water_test[\"tanggal\"].substr(1, 11))"
      ],
      "execution_count": null,
      "outputs": []
    },
    {
      "cell_type": "code",
      "metadata": {
        "colab": {
          "base_uri": "https://localhost:8080/"
        },
        "id": "RVQ2aP6HgsZq",
        "outputId": "5f7ca54d-3de2-4d47-e32e-c3b9ec5bff37"
      },
      "source": [
        "water_train.printSchema()"
      ],
      "execution_count": null,
      "outputs": [
        {
          "output_type": "stream",
          "text": [
            "root\n",
            " |-- _c0: integer (nullable = true)\n",
            " |-- nama_pintu_air: string (nullable = true)\n",
            " |-- lokasi: string (nullable = true)\n",
            " |-- latitude: double (nullable = true)\n",
            " |-- longitude: double (nullable = true)\n",
            " |-- tanggal: timestamp (nullable = true)\n",
            " |-- tinggi_air: integer (nullable = true)\n",
            " |-- status_siaga: string (nullable = true)\n",
            "\n"
          ],
          "name": "stdout"
        }
      ]
    },
    {
      "cell_type": "code",
      "metadata": {
        "colab": {
          "base_uri": "https://localhost:8080/"
        },
        "id": "m9DEKirKa1o3",
        "outputId": "e7818a0c-bd2b-464a-d470-fe7351f3ade2"
      },
      "source": [
        "water_test.show()"
      ],
      "execution_count": null,
      "outputs": [
        {
          "output_type": "stream",
          "text": [
            "+-----+--------------------+------------------+---------+------------------+-------------------+----------+----------------+\n",
            "|  _c0|      nama_pintu_air|            lokasi| latitude|         longitude|            tanggal|tinggi_air|    status_siaga|\n",
            "+-----+--------------------+------------------+---------+------------------+-------------------+----------+----------------+\n",
            "|14874|          P.A. Karet|Banjir Kanal Barat|-6.197901|        106.810075|2020-02-24 05:00:00|      3530| Status : Normal|\n",
            "|18955|     PA. Pulo Gadung|            Sunter|   -6.191|106.90419399999999|2020-02-28 06:10:00|      6280|Status : Siaga 3|\n",
            "| 7405|     PA. Pulo Gadung|            Sunter|   -6.191|106.90419399999999|2020-02-07 16:00:00|      3340| Status : Normal|\n",
            "|10720|    PS. Pesanggrahan|      Pesanggrahan|-6.397111|        106.771825|2020-02-20 02:10:00|      1080| Status : Normal|\n",
            "| 3445|PS. Katulampa (Hulu)|          Ciliwung|-6.633167|106.83680600000001|2020-02-04 10:10:00|        60| Status : Normal|\n",
            "| 2924|        Pompa Cideng|    Cideng Siantar|-6.173271|        106.806351|2020-02-03 21:40:00|       260| Status : Normal|\n",
            "|15145|     PS. Krukut Hulu|            Krukut|  -6.3439|        106.798874|2020-02-24 11:40:00|       290| Status : Normal|\n",
            "|10853|     P.A. Istiqlal  |          Ciliwung|-6.168254|         106.83135|2020-02-20 05:10:00|      2190| Status : Normal|\n",
            "|19991|            P.A. Hek|   Kali Baru Timur|-6.287305|         106.87063|2020-02-29 06:40:00|      1840| Status : Normal|\n",
            "|13505|           PS. Depok|          Ciliwung|-6.400514|        106.832143|2020-02-22 20:30:00|      1250| Status : Normal|\n",
            "|20102|        Pompa Cideng|    Cideng Siantar|-6.173271|        106.806351|2020-02-29 09:40:00|       130| Status : Normal|\n",
            "|11993|           PS. Depok|          Ciliwung|-6.400514|        106.832143|2020-02-21 08:40:00|       870| Status : Normal|\n",
            "|18191|        Pompa Cideng|    Cideng Siantar|-6.173271|        106.806351|2020-02-27 12:00:00|       220| Status : Normal|\n",
            "| 5053|     PA. Pulo Gadung|            Sunter|   -6.191|106.90419399999999|2020-02-05 17:30:00|      3340| Status : Normal|\n",
            "| 2414|            P.A. Hek|   Kali Baru Timur|-6.287305|         106.87063|2020-02-03 09:10:00|      1420| Status : Normal|\n",
            "| 9012|       PA. Manggarai|          Ciliwung|-6.207825|106.84845800000001|2020-02-09 23:40:00|      6500| Status : Normal|\n",
            "|18275|        Pompa Cideng|    Cideng Siantar|-6.173271|        106.806351|2020-02-27 14:10:00|       200| Status : Normal|\n",
            "|16056|     PS. Sunter Hulu|            Sunter| -6.31792|        106.920901|2020-02-25 09:10:00|      2210|Status : Siaga 2|\n",
            "|16960|     PA. Pulo Gadung|            Sunter|   -6.191|106.90419399999999|2020-02-25 14:40:00|      6270|Status : Siaga 3|\n",
            "| 4714|    PS. Pesanggrahan|      Pesanggrahan|-6.397111|        106.771825|2020-02-05 16:10:00|       730| Status : Normal|\n",
            "+-----+--------------------+------------------+---------+------------------+-------------------+----------+----------------+\n",
            "only showing top 20 rows\n",
            "\n"
          ],
          "name": "stdout"
        }
      ]
    },
    {
      "cell_type": "markdown",
      "metadata": {
        "id": "atg8ie3wbBlm"
      },
      "source": [
        "# 2. Selection"
      ]
    },
    {
      "cell_type": "code",
      "metadata": {
        "id": "wYzQ88uKbDnq"
      },
      "source": [
        "# Selecting important features\r\n",
        "chosen_columns = ['nama_pintu_air', 'lokasi', 'tinggi_air', 'status_siaga']"
      ],
      "execution_count": null,
      "outputs": []
    },
    {
      "cell_type": "code",
      "metadata": {
        "id": "SELPDutkblgj"
      },
      "source": [
        "water_train = water_train.select(chosen_columns)\r\n",
        "water_test = water_test.select(chosen_columns)"
      ],
      "execution_count": null,
      "outputs": []
    },
    {
      "cell_type": "code",
      "metadata": {
        "colab": {
          "base_uri": "https://localhost:8080/"
        },
        "id": "Xjr_eiwUbrpQ",
        "outputId": "2d0291af-037d-4c38-d247-7c485869a10f"
      },
      "source": [
        "water_train.show()"
      ],
      "execution_count": null,
      "outputs": [
        {
          "output_type": "stream",
          "text": [
            "+--------------------+------------------+----------+----------------+\n",
            "|      nama_pintu_air|            lokasi|tinggi_air|    status_siaga|\n",
            "+--------------------+------------------+----------+----------------+\n",
            "|  P.A. Marina Ancol |              Laut|      1460| Status : Normal|\n",
            "|   PS. Cipinang Hulu|     Cipinang Hulu|      1150| Status : Normal|\n",
            "|PS. Katulampa (Hulu)|          Ciliwung|       360| Status : Normal|\n",
            "|PS. Katulampa (Hulu)|          Ciliwung|       140| Status : Normal|\n",
            "|           PS. Depok|          Ciliwung|      1550| Status : Normal|\n",
            "|     PS. Krukut Hulu|            Krukut|       500| Status : Normal|\n",
            "|   PS. Cipinang Hulu|     Cipinang Hulu|      1100| Status : Normal|\n",
            "|           PS. Depok|          Ciliwung|       760| Status : Normal|\n",
            "|      PS. Angke Hulu|             Angke|      1590|Status : Siaga 3|\n",
            "|    Pompa Pasar Ikan|              Laut|      1340| Status : Normal|\n",
            "|       PA. Manggarai|          Ciliwung|      7170| Status : Normal|\n",
            "|     PA. Pulo Gadung|            Sunter|      3320| Status : Normal|\n",
            "|PS. Katulampa (Hulu)|          Ciliwung|       490| Status : Normal|\n",
            "|          P.A. Pluit|       Waduk Pluit|      -910| Status : Normal|\n",
            "|   PS. Cipinang Hulu|     Cipinang Hulu|       900| Status : Normal|\n",
            "|          P.A. Karet|Banjir Kanal Barat|      2690| Status : Normal|\n",
            "|          P.A. Pluit|       Waduk Pluit|     -1870| Status : Normal|\n",
            "| Pompa Yos Sudarso 1|      Sunter Timur|         0| Status : Normal|\n",
            "|           PS. Depok|          Ciliwung|       940| Status : Normal|\n",
            "|        Pompa Cideng|    Cideng Siantar|       210| Status : Normal|\n",
            "+--------------------+------------------+----------+----------------+\n",
            "only showing top 20 rows\n",
            "\n"
          ],
          "name": "stdout"
        }
      ]
    },
    {
      "cell_type": "markdown",
      "metadata": {
        "id": "GrPzDLjnbz87"
      },
      "source": [
        "# Data Preprocessing"
      ]
    },
    {
      "cell_type": "code",
      "metadata": {
        "colab": {
          "base_uri": "https://localhost:8080/"
        },
        "id": "EvUm2vA0bwCa",
        "outputId": "3ea56118-e310-4b91-c004-dd5b772ac20c"
      },
      "source": [
        "# Data Preprocessing\r\n",
        "\r\n",
        "print(f'Train df count: {water_train.count()}') # counting the amount of data\r\n",
        "print(f'Test df count: {water_test.count()}')"
      ],
      "execution_count": null,
      "outputs": [
        {
          "output_type": "stream",
          "text": [
            "Train df count: 16548\n",
            "Test df count: 4137\n"
          ],
          "name": "stdout"
        }
      ]
    },
    {
      "cell_type": "code",
      "metadata": {
        "id": "K60hHex7b-W8"
      },
      "source": [
        "# Dropping Null\r\n",
        "water_train = water_train.dropna() # dropping null or empty data\r\n",
        "water_test = water_test.dropna()"
      ],
      "execution_count": null,
      "outputs": []
    },
    {
      "cell_type": "code",
      "metadata": {
        "colab": {
          "base_uri": "https://localhost:8080/"
        },
        "id": "TEq0oUaRcDcu",
        "outputId": "08c730af-37ae-4dcf-915f-52dfbe2bf81e"
      },
      "source": [
        "print(f'Train df count: {water_train.count()}') # counting the amount of data\r\n",
        "print(f'Test df count: {water_test.count()}')"
      ],
      "execution_count": null,
      "outputs": [
        {
          "output_type": "stream",
          "text": [
            "Train df count: 16548\n",
            "Test df count: 4137\n"
          ],
          "name": "stdout"
        }
      ]
    },
    {
      "cell_type": "markdown",
      "metadata": {
        "id": "4-K9fXbwcPtJ"
      },
      "source": [
        "# Transforming Data"
      ]
    },
    {
      "cell_type": "code",
      "metadata": {
        "id": "LC2wL5YpcKOC"
      },
      "source": [
        "# Transform Data\r\n",
        "\r\n",
        "# Indexing String\r\n",
        "def encode_column(column_name: str):\r\n",
        "  global water_train, water_test\r\n",
        "\r\n",
        "  indexer = StringIndexer(\r\n",
        "      inputCol = column_name,\r\n",
        "      outputCol = 'generated')\r\n",
        "  \r\n",
        "  # Catat\r\n",
        "  indexer = indexer.fit(water_train) # fit sekali aja \r\n",
        "  # Ubah\r\n",
        "  water_train = indexer.transform(water_train)\r\n",
        "  water_train = water_train.drop(column_name)\r\n",
        "  water_train = water_train.withColumnRenamed('generated', column_name)\r\n",
        "  # Ubah\r\n",
        "  water_test = indexer.transform(water_test)\r\n",
        "  water_test = water_test.drop(column_name)\r\n",
        "  water_test = water_test.withColumnRenamed('generated', column_name)"
      ],
      "execution_count": null,
      "outputs": []
    },
    {
      "cell_type": "code",
      "metadata": {
        "id": "LDgxc_elciAD"
      },
      "source": [
        "encode_column('nama_pintu_air')\r\n",
        "encode_column('lokasi')\r\n",
        "encode_column('status_siaga')"
      ],
      "execution_count": null,
      "outputs": []
    },
    {
      "cell_type": "code",
      "metadata": {
        "colab": {
          "base_uri": "https://localhost:8080/"
        },
        "id": "nAcCeQ9bcs91",
        "outputId": "5d444a99-901b-4c2c-d7af-a6ba96ab9b66"
      },
      "source": [
        "water_train.show()"
      ],
      "execution_count": null,
      "outputs": [
        {
          "output_type": "stream",
          "text": [
            "+----------+--------------+------+------------+\n",
            "|tinggi_air|nama_pintu_air|lokasi|status_siaga|\n",
            "+----------+--------------+------+------------+\n",
            "|      1460|          17.0|   2.0|         0.0|\n",
            "|      1150|           7.0|   4.0|         0.0|\n",
            "|       360|          18.0|   0.0|         0.0|\n",
            "|       140|          18.0|   0.0|         0.0|\n",
            "|      1550|           0.0|   0.0|         0.0|\n",
            "|       500|          11.0|   8.0|         0.0|\n",
            "|      1100|           7.0|   4.0|         0.0|\n",
            "|       760|           0.0|   0.0|         0.0|\n",
            "|      1590|           5.0|   5.0|         1.0|\n",
            "|      1340|          12.0|   2.0|         0.0|\n",
            "|      7170|           9.0|   0.0|         0.0|\n",
            "|      3320|           1.0|   1.0|         0.0|\n",
            "|       490|          18.0|   0.0|         0.0|\n",
            "|      -910|           8.0|   6.0|         0.0|\n",
            "|       900|           7.0|   4.0|         0.0|\n",
            "|      2690|          16.0|  10.0|         0.0|\n",
            "|     -1870|           8.0|   6.0|         0.0|\n",
            "|         0|           3.0|   3.0|         0.0|\n",
            "|       940|           0.0|   0.0|         0.0|\n",
            "|       210|          10.0|   7.0|         0.0|\n",
            "+----------+--------------+------+------------+\n",
            "only showing top 20 rows\n",
            "\n"
          ],
          "name": "stdout"
        }
      ]
    },
    {
      "cell_type": "markdown",
      "metadata": {
        "id": "ALZpq_bzdCUj"
      },
      "source": [
        "# Normalization"
      ]
    },
    {
      "cell_type": "code",
      "metadata": {
        "id": "YVaYuOHuc5a6"
      },
      "source": [
        "# Vectorize\r\n",
        "assembler = VectorAssembler(\r\n",
        "    inputCols=chosen_columns[0:-1],\r\n",
        "    outputCol='Features'\r\n",
        ")"
      ],
      "execution_count": null,
      "outputs": []
    },
    {
      "cell_type": "code",
      "metadata": {
        "id": "VG9MVl7edIPr"
      },
      "source": [
        "water_train = assembler.transform(water_train)\r\n",
        "water_test = assembler.transform(water_test)"
      ],
      "execution_count": null,
      "outputs": []
    },
    {
      "cell_type": "code",
      "metadata": {
        "id": "bZpofh46dOVG"
      },
      "source": [
        "# Scaler\r\n",
        "scaler = StandardScaler(inputCol='Features', outputCol='Features_normalized')"
      ],
      "execution_count": null,
      "outputs": []
    },
    {
      "cell_type": "code",
      "metadata": {
        "id": "oQ0qsaM0dUOr"
      },
      "source": [
        "scaler = scaler.fit(water_train) #fit sekali"
      ],
      "execution_count": null,
      "outputs": []
    },
    {
      "cell_type": "code",
      "metadata": {
        "id": "URGan2KSdYVA"
      },
      "source": [
        "water_train = scaler.transform(water_train)\r\n",
        "water_test = scaler.transform(water_test)"
      ],
      "execution_count": null,
      "outputs": []
    },
    {
      "cell_type": "code",
      "metadata": {
        "colab": {
          "base_uri": "https://localhost:8080/"
        },
        "id": "A5O4mZsudb15",
        "outputId": "6b092348-970a-427e-89b3-c0dae17f3015"
      },
      "source": [
        "water_train.show()"
      ],
      "execution_count": null,
      "outputs": [
        {
          "output_type": "stream",
          "text": [
            "+----------+--------------+------+------------+------------------+--------------------+\n",
            "|tinggi_air|nama_pintu_air|lokasi|status_siaga|          Features| Features_normalized|\n",
            "+----------+--------------+------+------------+------------------+--------------------+\n",
            "|      1460|          17.0|   2.0|         0.0| [17.0,2.0,1460.0]|[2.80876701359175...|\n",
            "|      1150|           7.0|   4.0|         0.0|  [7.0,4.0,1150.0]|[1.15655112324366...|\n",
            "|       360|          18.0|   0.0|         0.0|  [18.0,0.0,360.0]|[2.97398860262656...|\n",
            "|       140|          18.0|   0.0|         0.0|  [18.0,0.0,140.0]|[2.97398860262656...|\n",
            "|      1550|           0.0|   0.0|         0.0|  [0.0,0.0,1550.0]|[0.0,0.0,0.878864...|\n",
            "|       500|          11.0|   8.0|         0.0|  [11.0,8.0,500.0]|[1.81743747938290...|\n",
            "|      1100|           7.0|   4.0|         0.0|  [7.0,4.0,1100.0]|[1.15655112324366...|\n",
            "|       760|           0.0|   0.0|         0.0|   [0.0,0.0,760.0]|[0.0,0.0,0.430927...|\n",
            "|      1590|           5.0|   5.0|         1.0|  [5.0,5.0,1590.0]|[0.82610794517404...|\n",
            "|      1340|          12.0|   2.0|         0.0| [12.0,2.0,1340.0]|[1.98265906841771...|\n",
            "|      7170|           9.0|   0.0|         0.0|  [9.0,0.0,7170.0]|[1.48699430131328...|\n",
            "|      3320|           1.0|   1.0|         0.0|  [1.0,1.0,3320.0]|[0.16522158903480...|\n",
            "|       490|          18.0|   0.0|         0.0|  [18.0,0.0,490.0]|[2.97398860262656...|\n",
            "|      -910|           8.0|   6.0|         0.0|  [8.0,6.0,-910.0]|[1.32177271227847...|\n",
            "|       900|           7.0|   4.0|         0.0|   [7.0,4.0,900.0]|[1.15655112324366...|\n",
            "|      2690|          16.0|  10.0|         0.0|[16.0,10.0,2690.0]|[2.64354542455694...|\n",
            "|     -1870|           8.0|   6.0|         0.0| [8.0,6.0,-1870.0]|[1.32177271227847...|\n",
            "|         0|           3.0|   3.0|         0.0|     [3.0,3.0,0.0]|[0.49566476710442...|\n",
            "|       940|           0.0|   0.0|         0.0|   [0.0,0.0,940.0]|[0.0,0.0,0.532988...|\n",
            "|       210|          10.0|   7.0|         0.0|  [10.0,7.0,210.0]|[1.65221589034809...|\n",
            "+----------+--------------+------+------------+------------------+--------------------+\n",
            "only showing top 20 rows\n",
            "\n"
          ],
          "name": "stdout"
        }
      ]
    },
    {
      "cell_type": "markdown",
      "metadata": {
        "id": "NtQ9WaL5djFI"
      },
      "source": [
        "# Generate Model"
      ]
    },
    {
      "cell_type": "code",
      "metadata": {
        "id": "rEb6ZM4wdhDk"
      },
      "source": [
        "# Generate Model - using Logistic Regression\r\n",
        "model = LogisticRegression(\r\n",
        "    featuresCol='Features_normalized',\r\n",
        "    labelCol='status_siaga',\r\n",
        "    maxIter=100\r\n",
        "    )"
      ],
      "execution_count": null,
      "outputs": []
    },
    {
      "cell_type": "code",
      "metadata": {
        "id": "SiCo4GG4dviw"
      },
      "source": [
        "# Training\r\n",
        "model = model.fit(water_train)"
      ],
      "execution_count": null,
      "outputs": []
    },
    {
      "cell_type": "markdown",
      "metadata": {
        "id": "DcZGVO1Qd3ij"
      },
      "source": [
        "# Evaluate"
      ]
    },
    {
      "cell_type": "code",
      "metadata": {
        "colab": {
          "base_uri": "https://localhost:8080/"
        },
        "id": "3jNatWPdd27-",
        "outputId": "dc94c67d-c7cb-4565-8fa2-d6719741bfec"
      },
      "source": [
        "# Model Testing and Evaluation\r\n",
        "prediction = model.transform(water_test)\r\n",
        "prediction.show()"
      ],
      "execution_count": null,
      "outputs": [
        {
          "output_type": "stream",
          "text": [
            "+----------+--------------+------+------------+------------------+--------------------+--------------------+--------------------+----------+\n",
            "|tinggi_air|nama_pintu_air|lokasi|status_siaga|          Features| Features_normalized|       rawPrediction|         probability|prediction|\n",
            "+----------+--------------+------+------------+------------------+--------------------+--------------------+--------------------+----------+\n",
            "|      3530|          16.0|  10.0|         0.0|[16.0,10.0,3530.0]|[2.64354542455694...|[2.65501474232930...|[0.84743724984843...|       0.0|\n",
            "|      6280|           1.0|   1.0|         1.0|  [1.0,1.0,6280.0]|[0.16522158903480...|[0.71085482383337...|[0.44256278696996...|       0.0|\n",
            "|      3340|           1.0|   1.0|         0.0|  [1.0,1.0,3340.0]|[0.16522158903480...|[1.43778593348532...|[0.67884118756022...|       0.0|\n",
            "|      1080|          14.0|   9.0|         0.0| [14.0,9.0,1080.0]|[2.31310224648732...|[3.10439944396083...|[0.92684602458406...|       0.0|\n",
            "|        60|          18.0|   0.0|         0.0|   [18.0,0.0,60.0]|[2.97398860262656...|[3.00004584890495...|[0.88744749649616...|       0.0|\n",
            "|       260|          10.0|   7.0|         0.0|  [10.0,7.0,260.0]|[1.65221589034809...|[2.99436649097222...|[0.93155314768275...|       0.0|\n",
            "|       290|          11.0|   8.0|         0.0|  [11.0,8.0,290.0]|[1.81743747938290...|[3.09556883041248...|[0.93666272095675...|       0.0|\n",
            "|      2190|           2.0|   0.0|         0.0|  [2.0,0.0,2190.0]|[0.33044317806961...|[1.70905216956323...|[0.73491972089158...|       0.0|\n",
            "|      1840|          20.0|  12.0|         0.0|[20.0,12.0,1840.0]|[3.30443178069618...|[3.38565894879627...|[0.92456903852565...|       0.0|\n",
            "|      1250|           0.0|   0.0|         0.0|  [0.0,0.0,1250.0]|[0.0,0.0,0.708761...|[1.84592988176036...|[0.77070553833919...|       0.0|\n",
            "|       130|          10.0|   7.0|         0.0|  [10.0,7.0,130.0]|[1.65221589034809...|[3.02650970330377...|[0.93439153011704...|       0.0|\n",
            "|       870|           0.0|   0.0|         0.0|   [0.0,0.0,870.0]|[0.0,0.0,0.493298...|[1.93988696396028...|[0.78900276398433...|       0.0|\n",
            "|       220|          10.0|   7.0|         0.0|  [10.0,7.0,220.0]|[1.65221589034809...|[3.00425671015116...|[0.93243919125521...|       0.0|\n",
            "|      3340|           1.0|   1.0|         0.0|  [1.0,1.0,3340.0]|[0.16522158903480...|[1.43778593348532...|[0.67884118756022...|       0.0|\n",
            "|      1420|          20.0|  12.0|         0.0|[20.0,12.0,1420.0]|[3.30443178069618...|[3.48950625017512...|[0.93491869582303...|       0.0|\n",
            "|      6500|           9.0|   0.0|         0.0|  [9.0,0.0,6500.0]|[1.48699430131328...|[0.97777958781034...|[0.47256077844394...|       0.0|\n",
            "|       200|          10.0|   7.0|         0.0|  [10.0,7.0,200.0]|[1.65221589034809...|[3.00920181974062...|[0.93287795322252...|       0.0|\n",
            "|      2210|          19.0|   1.0|         2.0| [19.0,1.0,2210.0]|[3.13921019166137...|[2.57706657186150...|[0.83044161935303...|       0.0|\n",
            "|      6270|           1.0|   1.0|         1.0|  [1.0,1.0,6270.0]|[0.16522158903480...|[0.71332737862811...|[0.44341764389653...|       0.0|\n",
            "|       730|          14.0|   9.0|         0.0|  [14.0,9.0,730.0]|[2.31310224648732...|[3.19093886177654...|[0.93506593638287...|       0.0|\n",
            "+----------+--------------+------+------------+------------------+--------------------+--------------------+--------------------+----------+\n",
            "only showing top 20 rows\n",
            "\n"
          ],
          "name": "stdout"
        }
      ]
    },
    {
      "cell_type": "code",
      "metadata": {
        "id": "ZrYdGcKEeBqt"
      },
      "source": [
        "evaluator = BinaryClassificationEvaluator(labelCol='status_siaga')"
      ],
      "execution_count": null,
      "outputs": []
    },
    {
      "cell_type": "code",
      "metadata": {
        "colab": {
          "base_uri": "https://localhost:8080/"
        },
        "id": "MeqAYAvZeJL-",
        "outputId": "280dd2dc-c1c3-4ada-ffff-44de86e60626"
      },
      "source": [
        "score = evaluator.evaluate(prediction)\r\n",
        "score = round(score * 100, 2)\r\n",
        "print('Score: ' + str(score) + '%')"
      ],
      "execution_count": null,
      "outputs": [
        {
          "output_type": "stream",
          "text": [
            "Score: 52.89%\n"
          ],
          "name": "stdout"
        }
      ]
    },
    {
      "cell_type": "code",
      "metadata": {
        "id": "Fo3umkhZnaoa"
      },
      "source": [
        "prediction = prediction.toPandas()"
      ],
      "execution_count": null,
      "outputs": []
    },
    {
      "cell_type": "code",
      "metadata": {
        "colab": {
          "base_uri": "https://localhost:8080/"
        },
        "id": "SeQVaaw2neAO",
        "outputId": "8bf6ac68-4d27-42dd-a39a-651827f4f62b"
      },
      "source": [
        "c = 0\r\n",
        "for index, row in prediction.iterrows():\r\n",
        "  if row['status_siaga'] == row['prediction']:\r\n",
        "    c = c+1\r\n",
        "\r\n",
        "print('Accuracy :' + str(round(c/len(prediction)*100, 2)) + '%')"
      ],
      "execution_count": null,
      "outputs": [
        {
          "output_type": "stream",
          "text": [
            "Accuracy :83.39%\n"
          ],
          "name": "stdout"
        }
      ]
    }
  ]
}