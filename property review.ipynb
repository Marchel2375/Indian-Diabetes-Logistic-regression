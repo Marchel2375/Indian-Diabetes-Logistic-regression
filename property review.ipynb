{
  "nbformat": 4,
  "nbformat_minor": 0,
  "metadata": {
    "colab": {
      "name": "2201731453.ipynb",
      "provenance": [],
      "collapsed_sections": []
    },
    "kernelspec": {
      "name": "python3",
      "display_name": "Python 3"
    }
  },
  "cells": [
    {
      "cell_type": "markdown",
      "metadata": {
        "id": "8Pcj2a4D5nAA"
      },
      "source": [
        "import essential libraries"
      ]
    },
    {
      "cell_type": "code",
      "metadata": {
        "id": "KnynUItO2tJ7",
        "colab": {
          "base_uri": "https://localhost:8080/",
          "height": 70
        },
        "outputId": "0eac584c-d082-4868-84e6-8a79a6a9880c"
      },
      "source": [
        "import pandas as pd\n",
        "import numpy as np\n",
        "import seaborn as sb\n",
        "import matplotlib.pyplot as plt\n",
        "import seaborn as sb\n",
        "import plotly.graph_objects as go\n",
        "from sklearn import preprocessing,metrics,feature_selection\n",
        "from sklearn.model_selection import train_test_split\n",
        "from scipy import stats\n",
        "from sklearn_pandas import CategoricalImputer"
      ],
      "execution_count": null,
      "outputs": [
        {
          "output_type": "stream",
          "text": [
            "/usr/local/lib/python3.6/dist-packages/statsmodels/tools/_testing.py:19: FutureWarning: pandas.util.testing is deprecated. Use the functions in the public API at pandas.testing instead.\n",
            "  import pandas.util.testing as tm\n"
          ],
          "name": "stderr"
        }
      ]
    },
    {
      "cell_type": "markdown",
      "metadata": {
        "id": "arW4x8tW5rRv"
      },
      "source": [
        "Read the dataset, and choose 12 random feature which are \n",
        "\n",
        "\n",
        "1.   host_id\n",
        "2.   host_response_time\n",
        "3. host_response_rate\n",
        "4. host_acceptance_rate\n",
        "5. property_type\n",
        "6. room_type\n",
        "7. beds\n",
        "8. extra_people\n",
        "9. number_of_reviews\n",
        "10. number_of_reviews_ltm\n",
        "11. reviews_per_month \n",
        "12. neighbourhood\n",
        "\n",
        "\n",
        "\n",
        "\n",
        "\n",
        "\n"
      ]
    },
    {
      "cell_type": "code",
      "metadata": {
        "id": "7tjF-c3MCaHl",
        "colab": {
          "base_uri": "https://localhost:8080/",
          "height": 386
        },
        "outputId": "ba4a191b-e5f4-4bee-8fee-dca34a59831f"
      },
      "source": [
        "#get the Train dataset\n",
        "data =pd.read_csv(\"dataset.csv\",dtype=object)\n",
        "temp = data[[\"host_id\",\"host_response_time\",\"host_response_rate\",\"host_acceptance_rate\",\"property_type\",\"room_type\",\"beds\", \"extra_people\",\"number_of_reviews\",\"number_of_reviews_ltm\",\"reviews_per_month\", \"neighbourhood\",\"price\",\"review_scores_rating\"]]\n",
        "features = pd.DataFrame(temp)\n",
        "print(features.info())"
      ],
      "execution_count": null,
      "outputs": [
        {
          "output_type": "stream",
          "text": [
            "<class 'pandas.core.frame.DataFrame'>\n",
            "RangeIndex: 13049 entries, 0 to 13048\n",
            "Data columns (total 14 columns):\n",
            " #   Column                 Non-Null Count  Dtype \n",
            "---  ------                 --------------  ----- \n",
            " 0   host_id                12811 non-null  object\n",
            " 1   host_response_time     12199 non-null  object\n",
            " 2   host_response_rate     12246 non-null  object\n",
            " 3   host_acceptance_rate   12729 non-null  object\n",
            " 4   property_type          13048 non-null  object\n",
            " 5   room_type              13045 non-null  object\n",
            " 6   beds                   13015 non-null  object\n",
            " 7   extra_people           13027 non-null  object\n",
            " 8   number_of_reviews      13049 non-null  object\n",
            " 9   number_of_reviews_ltm  13049 non-null  object\n",
            " 10  reviews_per_month      11110 non-null  object\n",
            " 11  neighbourhood          11861 non-null  object\n",
            " 12  price                  12847 non-null  object\n",
            " 13  review_scores_rating   11075 non-null  object\n",
            "dtypes: object(14)\n",
            "memory usage: 1.4+ MB\n",
            "None\n"
          ],
          "name": "stdout"
        }
      ]
    },
    {
      "cell_type": "markdown",
      "metadata": {
        "id": "SCgQ6zlntawh"
      },
      "source": [
        "converting all continous data feature into float64 type and convert string data into null"
      ]
    },
    {
      "cell_type": "code",
      "metadata": {
        "id": "vwLhnwx1tKcv"
      },
      "source": [
        "features['host_response_rate']=features['host_response_rate'].str.replace(\"%\",\"\")\n",
        "features['host_response_rate']=pd.to_numeric(features['host_response_rate'], errors='coerce')\n",
        "\n",
        "features['host_acceptance_rate']=features['host_acceptance_rate'].str.replace(\"%\",\"\")\n",
        "features['host_acceptance_rate']=pd.to_numeric(features['host_acceptance_rate'], errors='coerce')\n",
        "\n",
        "features['beds']=pd.to_numeric(features['beds'], errors='coerce')\n",
        "\n",
        "features['extra_people']=pd.to_numeric(features['extra_people'], errors='coerce')\n",
        "\n",
        "features['reviews_per_month']=pd.to_numeric(features['reviews_per_month'], errors='coerce')\n",
        "\n",
        "features['number_of_reviews']=pd.to_numeric(features['reviews_per_month'], errors='coerce')\n",
        "\n",
        "features['number_of_reviews_ltm']=pd.to_numeric(features['reviews_per_month'], errors='coerce')\n"
      ],
      "execution_count": null,
      "outputs": []
    },
    {
      "cell_type": "markdown",
      "metadata": {
        "id": "Om8SgClO9J7N"
      },
      "source": [
        "Check for number of NULL values in each feature"
      ]
    },
    {
      "cell_type": "code",
      "metadata": {
        "id": "dSq6ONam9JJA",
        "colab": {
          "base_uri": "https://localhost:8080/",
          "height": 252
        },
        "outputId": "30d23b15-d0ed-4396-b099-da892b0cdd42"
      },
      "source": [
        "for i in features:\n",
        "  print(i,features[i].isna().sum())"
      ],
      "execution_count": null,
      "outputs": [
        {
          "output_type": "stream",
          "text": [
            "host_id 238\n",
            "host_response_time 850\n",
            "host_response_rate 1092\n",
            "host_acceptance_rate 428\n",
            "property_type 1\n",
            "room_type 4\n",
            "beds 97\n",
            "extra_people 12821\n",
            "number_of_reviews 1977\n",
            "number_of_reviews_ltm 1977\n",
            "reviews_per_month 1977\n",
            "neighbourhood 1188\n",
            "price 202\n",
            "review_scores_rating 1974\n"
          ],
          "name": "stdout"
        }
      ]
    },
    {
      "cell_type": "markdown",
      "metadata": {
        "id": "xE08u7oEzPTe"
      },
      "source": [
        "all collumns are required to be processed further.\n",
        "\n",
        "we will start from the least amount of missing values which is property_type. since there is only 1 data missing which means that by removing the missing value in property type would not reduce any significant information."
      ]
    },
    {
      "cell_type": "code",
      "metadata": {
        "id": "JeZJEkXR0Qy-",
        "colab": {
          "base_uri": "https://localhost:8080/",
          "height": 386
        },
        "outputId": "d2fdb382-bff1-477e-af69-f6a9c57a2beb"
      },
      "source": [
        "features.dropna(subset = [\"property_type\"], inplace=True)\n",
        "data.dropna(subset = [\"property_type\"], inplace=True)\n",
        "for i in features:\n",
        "  print(i,features[i].isna().sum())\n",
        "print(features.head())"
      ],
      "execution_count": null,
      "outputs": [
        {
          "output_type": "stream",
          "text": [
            "host_id 238\n",
            "host_response_time 849\n",
            "host_response_rate 1091\n",
            "host_acceptance_rate 427\n",
            "property_type 0\n",
            "room_type 4\n",
            "beds 96\n",
            "extra_people 12821\n",
            "number_of_reviews 1976\n",
            "number_of_reviews_ltm 1976\n",
            "reviews_per_month 1976\n",
            "neighbourhood 1188\n",
            "price 202\n",
            "review_scores_rating 1974\n",
            "   host_id  host_response_time  ...       price  review_scores_rating\n",
            "0   151977                 NaN  ...   $4,183.00                    94\n",
            "1   964081  within a few hours  ...  $11,048.00                    95\n",
            "2   341577  within a few hours  ...   $4,171.00                    95\n",
            "3  1573631        within a day  ...   $6,952.00                    95\n",
            "4   341577  within a few hours  ...   $3,957.00                    96\n",
            "\n",
            "[5 rows x 14 columns]\n"
          ],
          "name": "stdout"
        }
      ]
    },
    {
      "cell_type": "markdown",
      "metadata": {
        "id": "WXk726oG1KsN"
      },
      "source": [
        "next we will consider categorical data which mean we will replace the data with the most frequent data in the dataset\n",
        "\n",
        "catergorical data are:\n",
        "\n",
        "1. host_id\n",
        "2. host response time\n",
        "3. room_type\n",
        "4. neighbourhood"
      ]
    },
    {
      "cell_type": "code",
      "metadata": {
        "id": "T6tJhBE91uqs",
        "colab": {
          "base_uri": "https://localhost:8080/",
          "height": 252
        },
        "outputId": "39293a09-b267-4b88-a789-f976ffe37b87"
      },
      "source": [
        "#replacing with the frequently occured\n",
        "features['host_id']=features['host_id'].fillna(features['host_id'].mode()[0])\n",
        "features['room_type']=features['room_type'].fillna(features['room_type'].mode()[0])\n",
        "features['host_response_time']=features['host_response_time'].fillna(features['host_response_time'].mode()[0])\n",
        "features['neighbourhood']=features['neighbourhood'].fillna(features['neighbourhood'].mode()[0])\n",
        "for i in features:\n",
        "  print(i,features[i].isna().sum())\n"
      ],
      "execution_count": null,
      "outputs": [
        {
          "output_type": "stream",
          "text": [
            "host_id 0\n",
            "host_response_time 0\n",
            "host_response_rate 1091\n",
            "host_acceptance_rate 427\n",
            "property_type 0\n",
            "room_type 0\n",
            "beds 96\n",
            "extra_people 12821\n",
            "number_of_reviews 1976\n",
            "number_of_reviews_ltm 1976\n",
            "reviews_per_month 1976\n",
            "neighbourhood 0\n",
            "price 202\n",
            "review_scores_rating 1974\n"
          ],
          "name": "stdout"
        }
      ]
    },
    {
      "cell_type": "markdown",
      "metadata": {
        "id": "0Ibr2xajFra3"
      },
      "source": [
        "next we will consider continous data and replace null values with the median"
      ]
    },
    {
      "cell_type": "code",
      "metadata": {
        "id": "M5glGavkFwLc",
        "colab": {
          "base_uri": "https://localhost:8080/",
          "height": 252
        },
        "outputId": "3d717fdb-73a6-441b-c8cc-066c71338f30"
      },
      "source": [
        "features['host_response_rate'] = features['host_response_rate'].fillna(features['host_response_rate'].median())\n",
        "\n",
        "features['host_acceptance_rate'] = features['host_acceptance_rate'].fillna(features['host_acceptance_rate'].median())\n",
        "\n",
        "features['beds'] = features['beds'].fillna(features['beds'].median())\n",
        "\n",
        "features['extra_people'] = features['extra_people'].fillna(features['extra_people'].median())\n",
        "\n",
        "features['reviews_per_month'] = features['reviews_per_month'].fillna(features['reviews_per_month'].median())\n",
        "\n",
        "features['number_of_reviews'] = features['number_of_reviews'].fillna(features['number_of_reviews'].median())\n",
        "\n",
        "features['number_of_reviews_ltm'] = features['number_of_reviews_ltm'].fillna(features['number_of_reviews_ltm'].median())\n",
        "\n",
        "for i in features:\n",
        "  print(i,features[i].isna().sum())\n"
      ],
      "execution_count": null,
      "outputs": [
        {
          "output_type": "stream",
          "text": [
            "host_id 0\n",
            "host_response_time 0\n",
            "host_response_rate 0\n",
            "host_acceptance_rate 0\n",
            "property_type 0\n",
            "room_type 0\n",
            "beds 0\n",
            "extra_people 0\n",
            "number_of_reviews 0\n",
            "number_of_reviews_ltm 0\n",
            "reviews_per_month 0\n",
            "neighbourhood 0\n",
            "price 202\n",
            "review_scores_rating 1974\n"
          ],
          "name": "stdout"
        }
      ]
    },
    {
      "cell_type": "markdown",
      "metadata": {
        "id": "umG-yEtPuS3e"
      },
      "source": [
        "show the data after Null values are removed"
      ]
    },
    {
      "cell_type": "code",
      "metadata": {
        "id": "gVPTnywrt1F6",
        "colab": {
          "base_uri": "https://localhost:8080/",
          "height": 654
        },
        "outputId": "e634f618-56a7-40a6-8b13-2c64555705aa"
      },
      "source": [
        "print(features.info())\n",
        "#check for continous data\n",
        "display(features.describe())\n"
      ],
      "execution_count": null,
      "outputs": [
        {
          "output_type": "stream",
          "text": [
            "<class 'pandas.core.frame.DataFrame'>\n",
            "Int64Index: 13048 entries, 0 to 13048\n",
            "Data columns (total 14 columns):\n",
            " #   Column                 Non-Null Count  Dtype  \n",
            "---  ------                 --------------  -----  \n",
            " 0   host_id                13048 non-null  object \n",
            " 1   host_response_time     13048 non-null  object \n",
            " 2   host_response_rate     13048 non-null  float64\n",
            " 3   host_acceptance_rate   13048 non-null  float64\n",
            " 4   property_type          13048 non-null  object \n",
            " 5   room_type              13048 non-null  object \n",
            " 6   beds                   13048 non-null  float64\n",
            " 7   extra_people           13048 non-null  float64\n",
            " 8   number_of_reviews      13048 non-null  float64\n",
            " 9   number_of_reviews_ltm  13048 non-null  float64\n",
            " 10  reviews_per_month      13048 non-null  float64\n",
            " 11  neighbourhood          13048 non-null  object \n",
            " 12  price                  12846 non-null  object \n",
            " 13  review_scores_rating   11074 non-null  object \n",
            "dtypes: float64(7), object(7)\n",
            "memory usage: 1.5+ MB\n",
            "None\n"
          ],
          "name": "stdout"
        },
        {
          "output_type": "display_data",
          "data": {
            "text/html": [
              "<div>\n",
              "<style scoped>\n",
              "    .dataframe tbody tr th:only-of-type {\n",
              "        vertical-align: middle;\n",
              "    }\n",
              "\n",
              "    .dataframe tbody tr th {\n",
              "        vertical-align: top;\n",
              "    }\n",
              "\n",
              "    .dataframe thead th {\n",
              "        text-align: right;\n",
              "    }\n",
              "</style>\n",
              "<table border=\"1\" class=\"dataframe\">\n",
              "  <thead>\n",
              "    <tr style=\"text-align: right;\">\n",
              "      <th></th>\n",
              "      <th>host_response_rate</th>\n",
              "      <th>host_acceptance_rate</th>\n",
              "      <th>beds</th>\n",
              "      <th>extra_people</th>\n",
              "      <th>number_of_reviews</th>\n",
              "      <th>number_of_reviews_ltm</th>\n",
              "      <th>reviews_per_month</th>\n",
              "    </tr>\n",
              "  </thead>\n",
              "  <tbody>\n",
              "    <tr>\n",
              "      <th>count</th>\n",
              "      <td>1.304800e+04</td>\n",
              "      <td>1.304800e+04</td>\n",
              "      <td>1.304800e+04</td>\n",
              "      <td>13048.000000</td>\n",
              "      <td>13048.000000</td>\n",
              "      <td>13048.000000</td>\n",
              "      <td>13048.000000</td>\n",
              "    </tr>\n",
              "    <tr>\n",
              "      <th>mean</th>\n",
              "      <td>8.202861e+04</td>\n",
              "      <td>3.664705e+04</td>\n",
              "      <td>9.170265e+01</td>\n",
              "      <td>2.012048</td>\n",
              "      <td>1.712597</td>\n",
              "      <td>1.712597</td>\n",
              "      <td>1.712597</td>\n",
              "    </tr>\n",
              "    <tr>\n",
              "      <th>std</th>\n",
              "      <td>3.823178e+06</td>\n",
              "      <td>1.728403e+06</td>\n",
              "      <td>1.015523e+04</td>\n",
              "      <td>0.420813</td>\n",
              "      <td>3.106943</td>\n",
              "      <td>3.106943</td>\n",
              "      <td>3.106943</td>\n",
              "    </tr>\n",
              "    <tr>\n",
              "      <th>min</th>\n",
              "      <td>0.000000e+00</td>\n",
              "      <td>0.000000e+00</td>\n",
              "      <td>0.000000e+00</td>\n",
              "      <td>0.000000</td>\n",
              "      <td>0.000000</td>\n",
              "      <td>0.000000</td>\n",
              "      <td>0.000000</td>\n",
              "    </tr>\n",
              "    <tr>\n",
              "      <th>25%</th>\n",
              "      <td>1.000000e+02</td>\n",
              "      <td>9.900000e+01</td>\n",
              "      <td>1.000000e+00</td>\n",
              "      <td>2.000000</td>\n",
              "      <td>0.800000</td>\n",
              "      <td>0.800000</td>\n",
              "      <td>0.800000</td>\n",
              "    </tr>\n",
              "    <tr>\n",
              "      <th>50%</th>\n",
              "      <td>1.000000e+02</td>\n",
              "      <td>1.000000e+02</td>\n",
              "      <td>2.000000e+00</td>\n",
              "      <td>2.000000</td>\n",
              "      <td>1.510000</td>\n",
              "      <td>1.510000</td>\n",
              "      <td>1.510000</td>\n",
              "    </tr>\n",
              "    <tr>\n",
              "      <th>75%</th>\n",
              "      <td>1.000000e+02</td>\n",
              "      <td>1.000000e+02</td>\n",
              "      <td>3.000000e+00</td>\n",
              "      <td>2.000000</td>\n",
              "      <td>2.240000</td>\n",
              "      <td>2.240000</td>\n",
              "      <td>2.240000</td>\n",
              "    </tr>\n",
              "    <tr>\n",
              "      <th>max</th>\n",
              "      <td>1.814470e+08</td>\n",
              "      <td>1.095871e+08</td>\n",
              "      <td>1.160013e+06</td>\n",
              "      <td>35.705370</td>\n",
              "      <td>227.000000</td>\n",
              "      <td>227.000000</td>\n",
              "      <td>227.000000</td>\n",
              "    </tr>\n",
              "  </tbody>\n",
              "</table>\n",
              "</div>"
            ],
            "text/plain": [
              "       host_response_rate  ...  reviews_per_month\n",
              "count        1.304800e+04  ...       13048.000000\n",
              "mean         8.202861e+04  ...           1.712597\n",
              "std          3.823178e+06  ...           3.106943\n",
              "min          0.000000e+00  ...           0.000000\n",
              "25%          1.000000e+02  ...           0.800000\n",
              "50%          1.000000e+02  ...           1.510000\n",
              "75%          1.000000e+02  ...           2.240000\n",
              "max          1.814470e+08  ...         227.000000\n",
              "\n",
              "[8 rows x 7 columns]"
            ]
          },
          "metadata": {
            "tags": []
          }
        }
      ]
    },
    {
      "cell_type": "markdown",
      "metadata": {
        "id": "Ng3dBJ6IfikG"
      },
      "source": [
        "apply odrinal encoder to categorical data"
      ]
    },
    {
      "cell_type": "code",
      "metadata": {
        "id": "SS7LNZQ8d7_Y",
        "colab": {
          "base_uri": "https://localhost:8080/",
          "height": 215
        },
        "outputId": "3c9e09df-6c21-47f2-a916-65f61335c07c"
      },
      "source": [
        "#apply encoder\n",
        "feature_oe = preprocessing.OrdinalEncoder()\n",
        "feature_oe.fit(features[['host_id','host_response_time','property_type','room_type','neighbourhood']])\n",
        "features[['host_id','host_response_time','property_type','room_type','neighbourhood']] = feature_oe.transform(features[['host_id','host_response_time','property_type','room_type','neighbourhood']])\n",
        "display(features.head())"
      ],
      "execution_count": null,
      "outputs": [
        {
          "output_type": "display_data",
          "data": {
            "text/html": [
              "<div>\n",
              "<style scoped>\n",
              "    .dataframe tbody tr th:only-of-type {\n",
              "        vertical-align: middle;\n",
              "    }\n",
              "\n",
              "    .dataframe tbody tr th {\n",
              "        vertical-align: top;\n",
              "    }\n",
              "\n",
              "    .dataframe thead th {\n",
              "        text-align: right;\n",
              "    }\n",
              "</style>\n",
              "<table border=\"1\" class=\"dataframe\">\n",
              "  <thead>\n",
              "    <tr style=\"text-align: right;\">\n",
              "      <th></th>\n",
              "      <th>host_id</th>\n",
              "      <th>host_response_time</th>\n",
              "      <th>host_response_rate</th>\n",
              "      <th>host_acceptance_rate</th>\n",
              "      <th>property_type</th>\n",
              "      <th>room_type</th>\n",
              "      <th>beds</th>\n",
              "      <th>extra_people</th>\n",
              "      <th>number_of_reviews</th>\n",
              "      <th>number_of_reviews_ltm</th>\n",
              "      <th>reviews_per_month</th>\n",
              "      <th>neighbourhood</th>\n",
              "      <th>price</th>\n",
              "      <th>review_scores_rating</th>\n",
              "    </tr>\n",
              "  </thead>\n",
              "  <tbody>\n",
              "    <tr>\n",
              "      <th>0</th>\n",
              "      <td>411.0</td>\n",
              "      <td>85.0</td>\n",
              "      <td>100.0</td>\n",
              "      <td>100.0</td>\n",
              "      <td>66.0</td>\n",
              "      <td>48.0</td>\n",
              "      <td>1.0</td>\n",
              "      <td>2.0</td>\n",
              "      <td>0.18</td>\n",
              "      <td>0.18</td>\n",
              "      <td>0.18</td>\n",
              "      <td>54.0</td>\n",
              "      <td>$4,183.00</td>\n",
              "      <td>94</td>\n",
              "    </tr>\n",
              "    <tr>\n",
              "      <th>1</th>\n",
              "      <td>3015.0</td>\n",
              "      <td>84.0</td>\n",
              "      <td>100.0</td>\n",
              "      <td>88.0</td>\n",
              "      <td>66.0</td>\n",
              "      <td>41.0</td>\n",
              "      <td>2.0</td>\n",
              "      <td>2.0</td>\n",
              "      <td>1.57</td>\n",
              "      <td>1.57</td>\n",
              "      <td>1.57</td>\n",
              "      <td>73.0</td>\n",
              "      <td>$11,048.00</td>\n",
              "      <td>95</td>\n",
              "    </tr>\n",
              "    <tr>\n",
              "      <th>2</th>\n",
              "      <td>2266.0</td>\n",
              "      <td>84.0</td>\n",
              "      <td>100.0</td>\n",
              "      <td>82.0</td>\n",
              "      <td>66.0</td>\n",
              "      <td>41.0</td>\n",
              "      <td>1.0</td>\n",
              "      <td>2.0</td>\n",
              "      <td>1.18</td>\n",
              "      <td>1.18</td>\n",
              "      <td>1.18</td>\n",
              "      <td>45.0</td>\n",
              "      <td>$4,171.00</td>\n",
              "      <td>95</td>\n",
              "    </tr>\n",
              "    <tr>\n",
              "      <th>3</th>\n",
              "      <td>458.0</td>\n",
              "      <td>83.0</td>\n",
              "      <td>100.0</td>\n",
              "      <td>93.0</td>\n",
              "      <td>66.0</td>\n",
              "      <td>41.0</td>\n",
              "      <td>1.0</td>\n",
              "      <td>2.0</td>\n",
              "      <td>1.39</td>\n",
              "      <td>1.39</td>\n",
              "      <td>1.39</td>\n",
              "      <td>49.0</td>\n",
              "      <td>$6,952.00</td>\n",
              "      <td>95</td>\n",
              "    </tr>\n",
              "    <tr>\n",
              "      <th>4</th>\n",
              "      <td>2266.0</td>\n",
              "      <td>84.0</td>\n",
              "      <td>100.0</td>\n",
              "      <td>82.0</td>\n",
              "      <td>66.0</td>\n",
              "      <td>41.0</td>\n",
              "      <td>1.0</td>\n",
              "      <td>2.0</td>\n",
              "      <td>1.12</td>\n",
              "      <td>1.12</td>\n",
              "      <td>1.12</td>\n",
              "      <td>45.0</td>\n",
              "      <td>$3,957.00</td>\n",
              "      <td>96</td>\n",
              "    </tr>\n",
              "  </tbody>\n",
              "</table>\n",
              "</div>"
            ],
            "text/plain": [
              "   host_id  host_response_time  ...       price  review_scores_rating\n",
              "0    411.0                85.0  ...   $4,183.00                    94\n",
              "1   3015.0                84.0  ...  $11,048.00                    95\n",
              "2   2266.0                84.0  ...   $4,171.00                    95\n",
              "3    458.0                83.0  ...   $6,952.00                    95\n",
              "4   2266.0                84.0  ...   $3,957.00                    96\n",
              "\n",
              "[5 rows x 14 columns]"
            ]
          },
          "metadata": {
            "tags": []
          }
        }
      ]
    },
    {
      "cell_type": "markdown",
      "metadata": {
        "id": "D5et0MDA6hmD"
      },
      "source": [
        "Split the dataset between training and testing"
      ]
    },
    {
      "cell_type": "code",
      "metadata": {
        "id": "dzo0ZK0xyRDa"
      },
      "source": [
        "Train, Test = train_test_split(features, test_size=0.2)\n",
        "Train.to_csv(r'Train.csv', index = False)\n",
        "Test.to_csv(r'Test.csv', index = False)"
      ],
      "execution_count": null,
      "outputs": []
    },
    {
      "cell_type": "markdown",
      "metadata": {
        "id": "k-ldvQwcfncF"
      },
      "source": [
        "**Feature engineering**"
      ]
    },
    {
      "cell_type": "markdown",
      "metadata": {
        "id": "gAh86rpHzFxM"
      },
      "source": [
        "Get the data"
      ]
    },
    {
      "cell_type": "code",
      "metadata": {
        "id": "NdAUErtlzBnM",
        "colab": {
          "base_uri": "https://localhost:8080/",
          "height": 215
        },
        "outputId": "adb317ff-80c3-4960-e965-d7b50ceacf89"
      },
      "source": [
        "#get the data\n",
        "Train_Raw =pd.read_csv(\"Train.csv\")\n",
        "Test_Raw=pd.read_csv(\"Test.csv\")\n",
        "display(Train_Raw.head())"
      ],
      "execution_count": null,
      "outputs": [
        {
          "output_type": "display_data",
          "data": {
            "text/html": [
              "<div>\n",
              "<style scoped>\n",
              "    .dataframe tbody tr th:only-of-type {\n",
              "        vertical-align: middle;\n",
              "    }\n",
              "\n",
              "    .dataframe tbody tr th {\n",
              "        vertical-align: top;\n",
              "    }\n",
              "\n",
              "    .dataframe thead th {\n",
              "        text-align: right;\n",
              "    }\n",
              "</style>\n",
              "<table border=\"1\" class=\"dataframe\">\n",
              "  <thead>\n",
              "    <tr style=\"text-align: right;\">\n",
              "      <th></th>\n",
              "      <th>host_id</th>\n",
              "      <th>host_response_time</th>\n",
              "      <th>host_response_rate</th>\n",
              "      <th>host_acceptance_rate</th>\n",
              "      <th>property_type</th>\n",
              "      <th>room_type</th>\n",
              "      <th>beds</th>\n",
              "      <th>extra_people</th>\n",
              "      <th>number_of_reviews</th>\n",
              "      <th>number_of_reviews_ltm</th>\n",
              "      <th>reviews_per_month</th>\n",
              "      <th>neighbourhood</th>\n",
              "      <th>price</th>\n",
              "      <th>review_scores_rating</th>\n",
              "    </tr>\n",
              "  </thead>\n",
              "  <tbody>\n",
              "    <tr>\n",
              "      <th>0</th>\n",
              "      <td>2482.0</td>\n",
              "      <td>83.0</td>\n",
              "      <td>82.0</td>\n",
              "      <td>72.0</td>\n",
              "      <td>85.0</td>\n",
              "      <td>48.0</td>\n",
              "      <td>2.0</td>\n",
              "      <td>2.0</td>\n",
              "      <td>2.13</td>\n",
              "      <td>2.13</td>\n",
              "      <td>2.13</td>\n",
              "      <td>54.0</td>\n",
              "      <td>$5,041.00</td>\n",
              "      <td>82</td>\n",
              "    </tr>\n",
              "    <tr>\n",
              "      <th>1</th>\n",
              "      <td>2357.0</td>\n",
              "      <td>85.0</td>\n",
              "      <td>100.0</td>\n",
              "      <td>90.0</td>\n",
              "      <td>85.0</td>\n",
              "      <td>41.0</td>\n",
              "      <td>2.0</td>\n",
              "      <td>2.0</td>\n",
              "      <td>0.31</td>\n",
              "      <td>0.31</td>\n",
              "      <td>0.31</td>\n",
              "      <td>31.0</td>\n",
              "      <td>$6,631.00</td>\n",
              "      <td>70</td>\n",
              "    </tr>\n",
              "    <tr>\n",
              "      <th>2</th>\n",
              "      <td>1310.0</td>\n",
              "      <td>85.0</td>\n",
              "      <td>100.0</td>\n",
              "      <td>100.0</td>\n",
              "      <td>66.0</td>\n",
              "      <td>41.0</td>\n",
              "      <td>1.0</td>\n",
              "      <td>2.0</td>\n",
              "      <td>1.23</td>\n",
              "      <td>1.23</td>\n",
              "      <td>1.23</td>\n",
              "      <td>81.0</td>\n",
              "      <td>$6,952.00</td>\n",
              "      <td>80</td>\n",
              "    </tr>\n",
              "    <tr>\n",
              "      <th>3</th>\n",
              "      <td>1773.0</td>\n",
              "      <td>85.0</td>\n",
              "      <td>100.0</td>\n",
              "      <td>100.0</td>\n",
              "      <td>66.0</td>\n",
              "      <td>41.0</td>\n",
              "      <td>2.0</td>\n",
              "      <td>2.0</td>\n",
              "      <td>2.27</td>\n",
              "      <td>2.27</td>\n",
              "      <td>2.27</td>\n",
              "      <td>63.0</td>\n",
              "      <td>$13,049.00</td>\n",
              "      <td>100</td>\n",
              "    </tr>\n",
              "    <tr>\n",
              "      <th>4</th>\n",
              "      <td>1098.0</td>\n",
              "      <td>85.0</td>\n",
              "      <td>100.0</td>\n",
              "      <td>88.0</td>\n",
              "      <td>66.0</td>\n",
              "      <td>41.0</td>\n",
              "      <td>5.0</td>\n",
              "      <td>2.0</td>\n",
              "      <td>2.10</td>\n",
              "      <td>2.10</td>\n",
              "      <td>2.10</td>\n",
              "      <td>11.0</td>\n",
              "      <td>$19,951.00</td>\n",
              "      <td>96</td>\n",
              "    </tr>\n",
              "  </tbody>\n",
              "</table>\n",
              "</div>"
            ],
            "text/plain": [
              "   host_id  host_response_time  ...       price  review_scores_rating\n",
              "0   2482.0                83.0  ...   $5,041.00                    82\n",
              "1   2357.0                85.0  ...   $6,631.00                    70\n",
              "2   1310.0                85.0  ...   $6,952.00                    80\n",
              "3   1773.0                85.0  ...  $13,049.00                   100\n",
              "4   1098.0                85.0  ...  $19,951.00                    96\n",
              "\n",
              "[5 rows x 14 columns]"
            ]
          },
          "metadata": {
            "tags": []
          }
        }
      ]
    },
    {
      "cell_type": "markdown",
      "metadata": {
        "id": "w78ZQ8mBGben"
      },
      "source": [
        "from we can see above based one the mean standard deviation and maximum value. there is outliers in the continous value. therefore we need to remove those outliers"
      ]
    },
    {
      "cell_type": "code",
      "metadata": {
        "id": "xZevUckYCT-G",
        "colab": {
          "base_uri": "https://localhost:8080/",
          "height": 674
        },
        "outputId": "046bce8f-73af-4d8d-c09d-72a9edea4aa5"
      },
      "source": [
        "temp=pd.DataFrame(Train_Raw[['host_response_rate','host_acceptance_rate','beds','extra_people','reviews_per_month','number_of_reviews','number_of_reviews_ltm']])\n",
        "z_scores = stats.zscore(temp)\n",
        "abs_z_scores = np.abs(z_scores)\n",
        "filtered_entries = (abs_z_scores < 3).all(axis=1)\n",
        "new_features = Train_Raw[filtered_entries]\n",
        "display(new_features.describe())\n",
        "print(new_features.info())"
      ],
      "execution_count": null,
      "outputs": [
        {
          "output_type": "display_data",
          "data": {
            "text/html": [
              "<div>\n",
              "<style scoped>\n",
              "    .dataframe tbody tr th:only-of-type {\n",
              "        vertical-align: middle;\n",
              "    }\n",
              "\n",
              "    .dataframe tbody tr th {\n",
              "        vertical-align: top;\n",
              "    }\n",
              "\n",
              "    .dataframe thead th {\n",
              "        text-align: right;\n",
              "    }\n",
              "</style>\n",
              "<table border=\"1\" class=\"dataframe\">\n",
              "  <thead>\n",
              "    <tr style=\"text-align: right;\">\n",
              "      <th></th>\n",
              "      <th>host_id</th>\n",
              "      <th>host_response_time</th>\n",
              "      <th>host_response_rate</th>\n",
              "      <th>host_acceptance_rate</th>\n",
              "      <th>property_type</th>\n",
              "      <th>room_type</th>\n",
              "      <th>beds</th>\n",
              "      <th>extra_people</th>\n",
              "      <th>number_of_reviews</th>\n",
              "      <th>number_of_reviews_ltm</th>\n",
              "      <th>reviews_per_month</th>\n",
              "      <th>neighbourhood</th>\n",
              "    </tr>\n",
              "  </thead>\n",
              "  <tbody>\n",
              "    <tr>\n",
              "      <th>count</th>\n",
              "      <td>10357.000000</td>\n",
              "      <td>10357.000000</td>\n",
              "      <td>10357.000000</td>\n",
              "      <td>10357.000000</td>\n",
              "      <td>10357.000000</td>\n",
              "      <td>10357.000000</td>\n",
              "      <td>10357.000000</td>\n",
              "      <td>10357.000000</td>\n",
              "      <td>10357.000000</td>\n",
              "      <td>10357.000000</td>\n",
              "      <td>10357.000000</td>\n",
              "      <td>10357.000000</td>\n",
              "    </tr>\n",
              "    <tr>\n",
              "      <th>mean</th>\n",
              "      <td>1527.968620</td>\n",
              "      <td>84.261852</td>\n",
              "      <td>98.368543</td>\n",
              "      <td>97.041035</td>\n",
              "      <td>73.275176</td>\n",
              "      <td>42.879212</td>\n",
              "      <td>2.727479</td>\n",
              "      <td>1.993483</td>\n",
              "      <td>1.652083</td>\n",
              "      <td>1.652083</td>\n",
              "      <td>1.652083</td>\n",
              "      <td>51.852757</td>\n",
              "    </tr>\n",
              "    <tr>\n",
              "      <th>std</th>\n",
              "      <td>862.332903</td>\n",
              "      <td>5.987997</td>\n",
              "      <td>6.819957</td>\n",
              "      <td>9.938297</td>\n",
              "      <td>11.099230</td>\n",
              "      <td>3.597104</td>\n",
              "      <td>2.622189</td>\n",
              "      <td>0.087236</td>\n",
              "      <td>1.139071</td>\n",
              "      <td>1.139071</td>\n",
              "      <td>1.139071</td>\n",
              "      <td>23.522292</td>\n",
              "    </tr>\n",
              "    <tr>\n",
              "      <th>min</th>\n",
              "      <td>3.000000</td>\n",
              "      <td>0.000000</td>\n",
              "      <td>0.000000</td>\n",
              "      <td>0.000000</td>\n",
              "      <td>3.000000</td>\n",
              "      <td>3.000000</td>\n",
              "      <td>0.000000</td>\n",
              "      <td>1.000000</td>\n",
              "      <td>0.000000</td>\n",
              "      <td>0.000000</td>\n",
              "      <td>0.000000</td>\n",
              "      <td>1.000000</td>\n",
              "    </tr>\n",
              "    <tr>\n",
              "      <th>25%</th>\n",
              "      <td>781.000000</td>\n",
              "      <td>85.000000</td>\n",
              "      <td>100.000000</td>\n",
              "      <td>99.000000</td>\n",
              "      <td>66.000000</td>\n",
              "      <td>41.000000</td>\n",
              "      <td>1.000000</td>\n",
              "      <td>2.000000</td>\n",
              "      <td>0.810000</td>\n",
              "      <td>0.810000</td>\n",
              "      <td>0.810000</td>\n",
              "      <td>31.000000</td>\n",
              "    </tr>\n",
              "    <tr>\n",
              "      <th>50%</th>\n",
              "      <td>1501.000000</td>\n",
              "      <td>85.000000</td>\n",
              "      <td>100.000000</td>\n",
              "      <td>100.000000</td>\n",
              "      <td>66.000000</td>\n",
              "      <td>41.000000</td>\n",
              "      <td>2.000000</td>\n",
              "      <td>2.000000</td>\n",
              "      <td>1.510000</td>\n",
              "      <td>1.510000</td>\n",
              "      <td>1.510000</td>\n",
              "      <td>63.000000</td>\n",
              "    </tr>\n",
              "    <tr>\n",
              "      <th>75%</th>\n",
              "      <td>2303.000000</td>\n",
              "      <td>85.000000</td>\n",
              "      <td>100.000000</td>\n",
              "      <td>100.000000</td>\n",
              "      <td>84.000000</td>\n",
              "      <td>43.000000</td>\n",
              "      <td>3.000000</td>\n",
              "      <td>2.000000</td>\n",
              "      <td>2.240000</td>\n",
              "      <td>2.240000</td>\n",
              "      <td>2.240000</td>\n",
              "      <td>73.000000</td>\n",
              "    </tr>\n",
              "    <tr>\n",
              "      <th>max</th>\n",
              "      <td>3099.000000</td>\n",
              "      <td>101.000000</td>\n",
              "      <td>100.000000</td>\n",
              "      <td>100.000000</td>\n",
              "      <td>109.000000</td>\n",
              "      <td>60.000000</td>\n",
              "      <td>56.000000</td>\n",
              "      <td>3.000000</td>\n",
              "      <td>8.000000</td>\n",
              "      <td>8.000000</td>\n",
              "      <td>8.000000</td>\n",
              "      <td>109.000000</td>\n",
              "    </tr>\n",
              "  </tbody>\n",
              "</table>\n",
              "</div>"
            ],
            "text/plain": [
              "            host_id  host_response_time  ...  reviews_per_month  neighbourhood\n",
              "count  10357.000000        10357.000000  ...       10357.000000   10357.000000\n",
              "mean    1527.968620           84.261852  ...           1.652083      51.852757\n",
              "std      862.332903            5.987997  ...           1.139071      23.522292\n",
              "min        3.000000            0.000000  ...           0.000000       1.000000\n",
              "25%      781.000000           85.000000  ...           0.810000      31.000000\n",
              "50%     1501.000000           85.000000  ...           1.510000      63.000000\n",
              "75%     2303.000000           85.000000  ...           2.240000      73.000000\n",
              "max     3099.000000          101.000000  ...           8.000000     109.000000\n",
              "\n",
              "[8 rows x 12 columns]"
            ]
          },
          "metadata": {
            "tags": []
          }
        },
        {
          "output_type": "stream",
          "text": [
            "<class 'pandas.core.frame.DataFrame'>\n",
            "Int64Index: 10357 entries, 0 to 10437\n",
            "Data columns (total 14 columns):\n",
            " #   Column                 Non-Null Count  Dtype  \n",
            "---  ------                 --------------  -----  \n",
            " 0   host_id                10357 non-null  float64\n",
            " 1   host_response_time     10357 non-null  float64\n",
            " 2   host_response_rate     10357 non-null  float64\n",
            " 3   host_acceptance_rate   10357 non-null  float64\n",
            " 4   property_type          10357 non-null  float64\n",
            " 5   room_type              10357 non-null  float64\n",
            " 6   beds                   10357 non-null  float64\n",
            " 7   extra_people           10357 non-null  float64\n",
            " 8   number_of_reviews      10357 non-null  float64\n",
            " 9   number_of_reviews_ltm  10357 non-null  float64\n",
            " 10  reviews_per_month      10357 non-null  float64\n",
            " 11  neighbourhood          10357 non-null  float64\n",
            " 12  price                  10236 non-null  object \n",
            " 13  review_scores_rating   8784 non-null   object \n",
            "dtypes: float64(12), object(2)\n",
            "memory usage: 1.2+ MB\n",
            "None\n"
          ],
          "name": "stdout"
        }
      ]
    },
    {
      "cell_type": "markdown",
      "metadata": {
        "id": "LVatylV1T1Bs"
      },
      "source": [
        "we will also remove any outlier for the categorical data by removing any category which only have the frequency of one. Since the data category is too diffrent than the others"
      ]
    },
    {
      "cell_type": "code",
      "metadata": {
        "id": "e5xtIj8RKX4U",
        "colab": {
          "base_uri": "https://localhost:8080/",
          "height": 386
        },
        "outputId": "ae5fa5fa-962a-407a-9ee3-be09c2c141ef"
      },
      "source": [
        "\n",
        "#host id\n",
        "# Frequencies of each value in the column.\n",
        "freq = new_features['host_id'].value_counts()\n",
        "# Select frequent values. Value is in the index.\n",
        "frequent_values = freq[freq > 1].index\n",
        "# Use only rows with value frequency above threshold.\n",
        "new_features=new_features[new_features['host_id'].isin(frequent_values)]\n",
        "\n",
        "\n",
        "#apply for the other categorical data\n",
        "#host_response_time\n",
        "freq = new_features['host_response_time'].value_counts()\n",
        "frequent_values = freq[freq > 1].index\n",
        "new_features=new_features[new_features['host_response_time'].isin(frequent_values)]\n",
        "\n",
        "\n",
        "#property_type\n",
        "freq = new_features['property_type'].value_counts()\n",
        "frequent_values = freq[freq > 1].index\n",
        "new_features=new_features[new_features['property_type'].isin(frequent_values)]\n",
        "\n",
        "\n",
        "#room_type\n",
        "freq = new_features['room_type'].value_counts()\n",
        "frequent_values = freq[freq > 1].index\n",
        "new_features=new_features[new_features['room_type'].isin(frequent_values)]\n",
        "\n",
        "\n",
        "#neighbourhood\n",
        "freq = new_features['neighbourhood'].value_counts()\n",
        "frequent_values = freq[freq > 1].index\n",
        "new_features=new_features[new_features['neighbourhood'].isin(frequent_values)]\n",
        "\n",
        "\n",
        "print(new_features.info())"
      ],
      "execution_count": null,
      "outputs": [
        {
          "output_type": "stream",
          "text": [
            "<class 'pandas.core.frame.DataFrame'>\n",
            "Int64Index: 9064 entries, 0 to 10437\n",
            "Data columns (total 14 columns):\n",
            " #   Column                 Non-Null Count  Dtype  \n",
            "---  ------                 --------------  -----  \n",
            " 0   host_id                9064 non-null   float64\n",
            " 1   host_response_time     9064 non-null   float64\n",
            " 2   host_response_rate     9064 non-null   float64\n",
            " 3   host_acceptance_rate   9064 non-null   float64\n",
            " 4   property_type          9064 non-null   float64\n",
            " 5   room_type              9064 non-null   float64\n",
            " 6   beds                   9064 non-null   float64\n",
            " 7   extra_people           9064 non-null   float64\n",
            " 8   number_of_reviews      9064 non-null   float64\n",
            " 9   number_of_reviews_ltm  9064 non-null   float64\n",
            " 10  reviews_per_month      9064 non-null   float64\n",
            " 11  neighbourhood          9064 non-null   float64\n",
            " 12  price                  8971 non-null   object \n",
            " 13  review_scores_rating   7595 non-null   object \n",
            "dtypes: float64(12), object(2)\n",
            "memory usage: 1.0+ MB\n",
            "None\n"
          ],
          "name": "stdout"
        }
      ]
    },
    {
      "cell_type": "markdown",
      "metadata": {
        "id": "ptffIZMdcU-J"
      },
      "source": [
        "scale the **data**"
      ]
    },
    {
      "cell_type": "code",
      "metadata": {
        "id": "zHJG5diOcY1C",
        "colab": {
          "base_uri": "https://localhost:8080/",
          "height": 478
        },
        "outputId": "541e25a3-7fa1-4dff-e820-823bd22e8388"
      },
      "source": [
        "\n",
        "\n",
        "# Scaled feature \n",
        "temp_feature=Train_Raw[[\"host_id\",\"host_response_time\",\"host_response_rate\",\"host_acceptance_rate\",\"property_type\",\"room_type\",\"beds\", \"extra_people\",\"number_of_reviews\",\"number_of_reviews_ltm\",\"reviews_per_month\", \"neighbourhood\"]]\n",
        "feature_min_max_scaler = preprocessing.MinMaxScaler(feature_range =(0, 1)) \n",
        "feature_min_max_scaler.fit(temp_feature) \n",
        "feature_scaled = feature_min_max_scaler.transform(temp_feature)\n",
        "feature_scaled=pd.DataFrame(feature_scaled)\n",
        "feature_scaled.columns=temp_feature.columns\n",
        "Train=feature_scaled.join(Train_Raw[[\"price\",\"review_scores_rating\"]])\n",
        "display(Train.head())\n",
        "\n",
        "temp_feature=Test_Raw[[\"host_id\",\"host_response_time\",\"host_response_rate\",\"host_acceptance_rate\",\"property_type\",\"room_type\",\"beds\", \"extra_people\",\"number_of_reviews\",\"number_of_reviews_ltm\",\"reviews_per_month\", \"neighbourhood\"]]\n",
        "feature_scaled = feature_min_max_scaler.transform(temp_feature)\n",
        "feature_scaled=pd.DataFrame(feature_scaled)\n",
        "feature_scaled.columns=temp_feature.columns\n",
        "Test=feature_scaled.join(Test_Raw[[\"price\",\"review_scores_rating\"]])\n",
        "display(Test.head())\n"
      ],
      "execution_count": null,
      "outputs": [
        {
          "output_type": "display_data",
          "data": {
            "text/html": [
              "<div>\n",
              "<style scoped>\n",
              "    .dataframe tbody tr th:only-of-type {\n",
              "        vertical-align: middle;\n",
              "    }\n",
              "\n",
              "    .dataframe tbody tr th {\n",
              "        vertical-align: top;\n",
              "    }\n",
              "\n",
              "    .dataframe thead th {\n",
              "        text-align: right;\n",
              "    }\n",
              "</style>\n",
              "<table border=\"1\" class=\"dataframe\">\n",
              "  <thead>\n",
              "    <tr style=\"text-align: right;\">\n",
              "      <th></th>\n",
              "      <th>host_id</th>\n",
              "      <th>host_response_time</th>\n",
              "      <th>host_response_rate</th>\n",
              "      <th>host_acceptance_rate</th>\n",
              "      <th>property_type</th>\n",
              "      <th>room_type</th>\n",
              "      <th>beds</th>\n",
              "      <th>extra_people</th>\n",
              "      <th>number_of_reviews</th>\n",
              "      <th>number_of_reviews_ltm</th>\n",
              "      <th>reviews_per_month</th>\n",
              "      <th>neighbourhood</th>\n",
              "      <th>price</th>\n",
              "      <th>review_scores_rating</th>\n",
              "    </tr>\n",
              "  </thead>\n",
              "  <tbody>\n",
              "    <tr>\n",
              "      <th>0</th>\n",
              "      <td>0.800904</td>\n",
              "      <td>0.821782</td>\n",
              "      <td>4.519226e-07</td>\n",
              "      <td>9.800769e-07</td>\n",
              "      <td>0.775701</td>\n",
              "      <td>0.800000</td>\n",
              "      <td>1.724119e-06</td>\n",
              "      <td>0.056014</td>\n",
              "      <td>0.009383</td>\n",
              "      <td>0.009383</td>\n",
              "      <td>0.009383</td>\n",
              "      <td>0.486239</td>\n",
              "      <td>$5,041.00</td>\n",
              "      <td>82</td>\n",
              "    </tr>\n",
              "    <tr>\n",
              "      <th>1</th>\n",
              "      <td>0.760568</td>\n",
              "      <td>0.841584</td>\n",
              "      <td>5.511251e-07</td>\n",
              "      <td>1.225096e-06</td>\n",
              "      <td>0.775701</td>\n",
              "      <td>0.683333</td>\n",
              "      <td>1.724119e-06</td>\n",
              "      <td>0.056014</td>\n",
              "      <td>0.001366</td>\n",
              "      <td>0.001366</td>\n",
              "      <td>0.001366</td>\n",
              "      <td>0.275229</td>\n",
              "      <td>$6,631.00</td>\n",
              "      <td>70</td>\n",
              "    </tr>\n",
              "    <tr>\n",
              "      <th>2</th>\n",
              "      <td>0.422717</td>\n",
              "      <td>0.841584</td>\n",
              "      <td>5.511251e-07</td>\n",
              "      <td>1.361218e-06</td>\n",
              "      <td>0.598131</td>\n",
              "      <td>0.683333</td>\n",
              "      <td>8.620593e-07</td>\n",
              "      <td>0.056014</td>\n",
              "      <td>0.005419</td>\n",
              "      <td>0.005419</td>\n",
              "      <td>0.005419</td>\n",
              "      <td>0.733945</td>\n",
              "      <td>$6,952.00</td>\n",
              "      <td>80</td>\n",
              "    </tr>\n",
              "    <tr>\n",
              "      <th>3</th>\n",
              "      <td>0.572120</td>\n",
              "      <td>0.841584</td>\n",
              "      <td>5.511251e-07</td>\n",
              "      <td>1.361218e-06</td>\n",
              "      <td>0.598131</td>\n",
              "      <td>0.683333</td>\n",
              "      <td>1.724119e-06</td>\n",
              "      <td>0.056014</td>\n",
              "      <td>0.010000</td>\n",
              "      <td>0.010000</td>\n",
              "      <td>0.010000</td>\n",
              "      <td>0.568807</td>\n",
              "      <td>$13,049.00</td>\n",
              "      <td>100</td>\n",
              "    </tr>\n",
              "    <tr>\n",
              "      <th>4</th>\n",
              "      <td>0.354308</td>\n",
              "      <td>0.841584</td>\n",
              "      <td>5.511251e-07</td>\n",
              "      <td>1.197872e-06</td>\n",
              "      <td>0.598131</td>\n",
              "      <td>0.683333</td>\n",
              "      <td>4.310297e-06</td>\n",
              "      <td>0.056014</td>\n",
              "      <td>0.009251</td>\n",
              "      <td>0.009251</td>\n",
              "      <td>0.009251</td>\n",
              "      <td>0.091743</td>\n",
              "      <td>$19,951.00</td>\n",
              "      <td>96</td>\n",
              "    </tr>\n",
              "  </tbody>\n",
              "</table>\n",
              "</div>"
            ],
            "text/plain": [
              "    host_id  host_response_time  ...       price  review_scores_rating\n",
              "0  0.800904            0.821782  ...   $5,041.00                    82\n",
              "1  0.760568            0.841584  ...   $6,631.00                    70\n",
              "2  0.422717            0.841584  ...   $6,952.00                    80\n",
              "3  0.572120            0.841584  ...  $13,049.00                   100\n",
              "4  0.354308            0.841584  ...  $19,951.00                    96\n",
              "\n",
              "[5 rows x 14 columns]"
            ]
          },
          "metadata": {
            "tags": []
          }
        },
        {
          "output_type": "display_data",
          "data": {
            "text/html": [
              "<div>\n",
              "<style scoped>\n",
              "    .dataframe tbody tr th:only-of-type {\n",
              "        vertical-align: middle;\n",
              "    }\n",
              "\n",
              "    .dataframe tbody tr th {\n",
              "        vertical-align: top;\n",
              "    }\n",
              "\n",
              "    .dataframe thead th {\n",
              "        text-align: right;\n",
              "    }\n",
              "</style>\n",
              "<table border=\"1\" class=\"dataframe\">\n",
              "  <thead>\n",
              "    <tr style=\"text-align: right;\">\n",
              "      <th></th>\n",
              "      <th>host_id</th>\n",
              "      <th>host_response_time</th>\n",
              "      <th>host_response_rate</th>\n",
              "      <th>host_acceptance_rate</th>\n",
              "      <th>property_type</th>\n",
              "      <th>room_type</th>\n",
              "      <th>beds</th>\n",
              "      <th>extra_people</th>\n",
              "      <th>number_of_reviews</th>\n",
              "      <th>number_of_reviews_ltm</th>\n",
              "      <th>reviews_per_month</th>\n",
              "      <th>neighbourhood</th>\n",
              "      <th>price</th>\n",
              "      <th>review_scores_rating</th>\n",
              "    </tr>\n",
              "  </thead>\n",
              "  <tbody>\n",
              "    <tr>\n",
              "      <th>0</th>\n",
              "      <td>0.376573</td>\n",
              "      <td>0.831683</td>\n",
              "      <td>5.511251e-07</td>\n",
              "      <td>0.000001</td>\n",
              "      <td>0.775701</td>\n",
              "      <td>0.800000</td>\n",
              "      <td>0.000003</td>\n",
              "      <td>0.056014</td>\n",
              "      <td>0.006740</td>\n",
              "      <td>0.006740</td>\n",
              "      <td>0.006740</td>\n",
              "      <td>0.568807</td>\n",
              "      <td>$3,957.00</td>\n",
              "      <td>90</td>\n",
              "    </tr>\n",
              "    <tr>\n",
              "      <th>1</th>\n",
              "      <td>0.809939</td>\n",
              "      <td>0.841584</td>\n",
              "      <td>5.511251e-07</td>\n",
              "      <td>0.000001</td>\n",
              "      <td>0.598131</td>\n",
              "      <td>0.683333</td>\n",
              "      <td>0.000002</td>\n",
              "      <td>0.056014</td>\n",
              "      <td>0.000925</td>\n",
              "      <td>0.000925</td>\n",
              "      <td>0.000925</td>\n",
              "      <td>0.440367</td>\n",
              "      <td>$4,920.00</td>\n",
              "      <td>100</td>\n",
              "    </tr>\n",
              "    <tr>\n",
              "      <th>2</th>\n",
              "      <td>0.408196</td>\n",
              "      <td>0.841584</td>\n",
              "      <td>5.511251e-07</td>\n",
              "      <td>0.000001</td>\n",
              "      <td>0.598131</td>\n",
              "      <td>0.683333</td>\n",
              "      <td>0.000002</td>\n",
              "      <td>0.056014</td>\n",
              "      <td>0.010044</td>\n",
              "      <td>0.010044</td>\n",
              "      <td>0.010044</td>\n",
              "      <td>0.220183</td>\n",
              "      <td>$49,984.00</td>\n",
              "      <td>84</td>\n",
              "    </tr>\n",
              "    <tr>\n",
              "      <th>3</th>\n",
              "      <td>0.313972</td>\n",
              "      <td>0.831683</td>\n",
              "      <td>5.511251e-07</td>\n",
              "      <td>0.000001</td>\n",
              "      <td>0.598131</td>\n",
              "      <td>0.683333</td>\n",
              "      <td>0.000002</td>\n",
              "      <td>0.056014</td>\n",
              "      <td>0.006652</td>\n",
              "      <td>0.006652</td>\n",
              "      <td>0.006652</td>\n",
              "      <td>0.568807</td>\n",
              "      <td>$9,975.00</td>\n",
              "      <td>NaN</td>\n",
              "    </tr>\n",
              "    <tr>\n",
              "      <th>4</th>\n",
              "      <td>0.655050</td>\n",
              "      <td>0.841584</td>\n",
              "      <td>5.511251e-07</td>\n",
              "      <td>0.000001</td>\n",
              "      <td>0.766355</td>\n",
              "      <td>0.800000</td>\n",
              "      <td>0.000002</td>\n",
              "      <td>0.056014</td>\n",
              "      <td>0.001057</td>\n",
              "      <td>0.001057</td>\n",
              "      <td>0.001057</td>\n",
              "      <td>0.119266</td>\n",
              "      <td>$8,045.00</td>\n",
              "      <td>100</td>\n",
              "    </tr>\n",
              "  </tbody>\n",
              "</table>\n",
              "</div>"
            ],
            "text/plain": [
              "    host_id  host_response_time  ...       price  review_scores_rating\n",
              "0  0.376573            0.831683  ...   $3,957.00                    90\n",
              "1  0.809939            0.841584  ...   $4,920.00                   100\n",
              "2  0.408196            0.841584  ...  $49,984.00                    84\n",
              "3  0.313972            0.831683  ...   $9,975.00                   NaN\n",
              "4  0.655050            0.841584  ...   $8,045.00                   100\n",
              "\n",
              "[5 rows x 14 columns]"
            ]
          },
          "metadata": {
            "tags": []
          }
        }
      ]
    },
    {
      "cell_type": "markdown",
      "metadata": {
        "id": "jcsoYjmRyxBW"
      },
      "source": [
        "**Logistic Regression**"
      ]
    },
    {
      "cell_type": "markdown",
      "metadata": {
        "id": "nJ9xVfcEzC5D"
      },
      "source": [
        "convert price into float datatype "
      ]
    },
    {
      "cell_type": "code",
      "metadata": {
        "id": "NWCYbdE7zJjy",
        "colab": {
          "base_uri": "https://localhost:8080/",
          "height": 652
        },
        "outputId": "6fbb25b9-08be-46ae-813d-86c847853083"
      },
      "source": [
        "Train['price']=Train['price'].str.replace('$',\"\")\n",
        "Train['price']=Train['price'].str.replace(',',\"\")\n",
        "Train['price']=pd.to_numeric(Train['price'], errors='coerce')\n",
        "\n",
        "Train_Raw['price']=Train_Raw['price'].str.replace('$',\"\")\n",
        "Train_Raw['price']=Train_Raw['price'].str.replace(',',\"\")\n",
        "Train_Raw['price']=pd.to_numeric(Train_Raw['price'], errors='coerce')\n",
        "\n",
        "Test['price']=Test['price'].str.replace('$',\"\")\n",
        "Test['price']=Test['price'].str.replace(',',\"\")\n",
        "Test['price']=pd.to_numeric(Test['price'], errors='coerce')\n",
        "\n",
        "Test_Raw['price']=Test_Raw['price'].str.replace('$',\"\")\n",
        "Test_Raw['price']=Test_Raw['price'].str.replace(',',\"\")\n",
        "Test_Raw['price']=pd.to_numeric(Test_Raw['price'], errors='coerce')\n",
        "\n",
        "lr_Train=Train.copy()\n",
        "lr_Train_Raw=Train_Raw.copy()\n",
        "lr_Test=Test.copy()\n",
        "lr_Test_Raw=Test_Raw.copy()\n",
        "lr_Train.info()\n",
        "\n",
        "lr_Train.head()\n"
      ],
      "execution_count": null,
      "outputs": [
        {
          "output_type": "stream",
          "text": [
            "<class 'pandas.core.frame.DataFrame'>\n",
            "RangeIndex: 10438 entries, 0 to 10437\n",
            "Data columns (total 14 columns):\n",
            " #   Column                 Non-Null Count  Dtype  \n",
            "---  ------                 --------------  -----  \n",
            " 0   host_id                10438 non-null  float64\n",
            " 1   host_response_time     10438 non-null  float64\n",
            " 2   host_response_rate     10438 non-null  float64\n",
            " 3   host_acceptance_rate   10438 non-null  float64\n",
            " 4   property_type          10438 non-null  float64\n",
            " 5   room_type              10438 non-null  float64\n",
            " 6   beds                   10438 non-null  float64\n",
            " 7   extra_people           10438 non-null  float64\n",
            " 8   number_of_reviews      10438 non-null  float64\n",
            " 9   number_of_reviews_ltm  10438 non-null  float64\n",
            " 10  reviews_per_month      10438 non-null  float64\n",
            " 11  neighbourhood          10438 non-null  float64\n",
            " 12  price                  10197 non-null  float64\n",
            " 13  review_scores_rating   8861 non-null   object \n",
            "dtypes: float64(13), object(1)\n",
            "memory usage: 1.1+ MB\n"
          ],
          "name": "stdout"
        },
        {
          "output_type": "execute_result",
          "data": {
            "text/html": [
              "<div>\n",
              "<style scoped>\n",
              "    .dataframe tbody tr th:only-of-type {\n",
              "        vertical-align: middle;\n",
              "    }\n",
              "\n",
              "    .dataframe tbody tr th {\n",
              "        vertical-align: top;\n",
              "    }\n",
              "\n",
              "    .dataframe thead th {\n",
              "        text-align: right;\n",
              "    }\n",
              "</style>\n",
              "<table border=\"1\" class=\"dataframe\">\n",
              "  <thead>\n",
              "    <tr style=\"text-align: right;\">\n",
              "      <th></th>\n",
              "      <th>host_id</th>\n",
              "      <th>host_response_time</th>\n",
              "      <th>host_response_rate</th>\n",
              "      <th>host_acceptance_rate</th>\n",
              "      <th>property_type</th>\n",
              "      <th>room_type</th>\n",
              "      <th>beds</th>\n",
              "      <th>extra_people</th>\n",
              "      <th>number_of_reviews</th>\n",
              "      <th>number_of_reviews_ltm</th>\n",
              "      <th>reviews_per_month</th>\n",
              "      <th>neighbourhood</th>\n",
              "      <th>price</th>\n",
              "      <th>review_scores_rating</th>\n",
              "    </tr>\n",
              "  </thead>\n",
              "  <tbody>\n",
              "    <tr>\n",
              "      <th>0</th>\n",
              "      <td>0.800904</td>\n",
              "      <td>0.821782</td>\n",
              "      <td>4.519226e-07</td>\n",
              "      <td>9.800769e-07</td>\n",
              "      <td>0.775701</td>\n",
              "      <td>0.800000</td>\n",
              "      <td>1.724119e-06</td>\n",
              "      <td>0.056014</td>\n",
              "      <td>0.009383</td>\n",
              "      <td>0.009383</td>\n",
              "      <td>0.009383</td>\n",
              "      <td>0.486239</td>\n",
              "      <td>5041.0</td>\n",
              "      <td>82</td>\n",
              "    </tr>\n",
              "    <tr>\n",
              "      <th>1</th>\n",
              "      <td>0.760568</td>\n",
              "      <td>0.841584</td>\n",
              "      <td>5.511251e-07</td>\n",
              "      <td>1.225096e-06</td>\n",
              "      <td>0.775701</td>\n",
              "      <td>0.683333</td>\n",
              "      <td>1.724119e-06</td>\n",
              "      <td>0.056014</td>\n",
              "      <td>0.001366</td>\n",
              "      <td>0.001366</td>\n",
              "      <td>0.001366</td>\n",
              "      <td>0.275229</td>\n",
              "      <td>6631.0</td>\n",
              "      <td>70</td>\n",
              "    </tr>\n",
              "    <tr>\n",
              "      <th>2</th>\n",
              "      <td>0.422717</td>\n",
              "      <td>0.841584</td>\n",
              "      <td>5.511251e-07</td>\n",
              "      <td>1.361218e-06</td>\n",
              "      <td>0.598131</td>\n",
              "      <td>0.683333</td>\n",
              "      <td>8.620593e-07</td>\n",
              "      <td>0.056014</td>\n",
              "      <td>0.005419</td>\n",
              "      <td>0.005419</td>\n",
              "      <td>0.005419</td>\n",
              "      <td>0.733945</td>\n",
              "      <td>6952.0</td>\n",
              "      <td>80</td>\n",
              "    </tr>\n",
              "    <tr>\n",
              "      <th>3</th>\n",
              "      <td>0.572120</td>\n",
              "      <td>0.841584</td>\n",
              "      <td>5.511251e-07</td>\n",
              "      <td>1.361218e-06</td>\n",
              "      <td>0.598131</td>\n",
              "      <td>0.683333</td>\n",
              "      <td>1.724119e-06</td>\n",
              "      <td>0.056014</td>\n",
              "      <td>0.010000</td>\n",
              "      <td>0.010000</td>\n",
              "      <td>0.010000</td>\n",
              "      <td>0.568807</td>\n",
              "      <td>13049.0</td>\n",
              "      <td>100</td>\n",
              "    </tr>\n",
              "    <tr>\n",
              "      <th>4</th>\n",
              "      <td>0.354308</td>\n",
              "      <td>0.841584</td>\n",
              "      <td>5.511251e-07</td>\n",
              "      <td>1.197872e-06</td>\n",
              "      <td>0.598131</td>\n",
              "      <td>0.683333</td>\n",
              "      <td>4.310297e-06</td>\n",
              "      <td>0.056014</td>\n",
              "      <td>0.009251</td>\n",
              "      <td>0.009251</td>\n",
              "      <td>0.009251</td>\n",
              "      <td>0.091743</td>\n",
              "      <td>19951.0</td>\n",
              "      <td>96</td>\n",
              "    </tr>\n",
              "  </tbody>\n",
              "</table>\n",
              "</div>"
            ],
            "text/plain": [
              "    host_id  host_response_time  ...    price  review_scores_rating\n",
              "0  0.800904            0.821782  ...   5041.0                    82\n",
              "1  0.760568            0.841584  ...   6631.0                    70\n",
              "2  0.422717            0.841584  ...   6952.0                    80\n",
              "3  0.572120            0.841584  ...  13049.0                   100\n",
              "4  0.354308            0.841584  ...  19951.0                    96\n",
              "\n",
              "[5 rows x 14 columns]"
            ]
          },
          "metadata": {
            "tags": []
          },
          "execution_count": 163
        }
      ]
    },
    {
      "cell_type": "markdown",
      "metadata": {
        "id": "b3wz8Mqy6p_0"
      },
      "source": [
        "Check for NULL values"
      ]
    },
    {
      "cell_type": "code",
      "metadata": {
        "id": "a0U9CW5A4zzd",
        "colab": {
          "base_uri": "https://localhost:8080/",
          "height": 34
        },
        "outputId": "4746a71c-70d1-44d8-d782-c786679333f1"
      },
      "source": [
        "print(lr_Train['price'].isna().sum())"
      ],
      "execution_count": null,
      "outputs": [
        {
          "output_type": "stream",
          "text": [
            "241\n"
          ],
          "name": "stdout"
        }
      ]
    },
    {
      "cell_type": "markdown",
      "metadata": {
        "id": "6dTz9RV26vUV"
      },
      "source": [
        "drop null values"
      ]
    },
    {
      "cell_type": "code",
      "metadata": {
        "id": "G5_4jYr66ujn",
        "colab": {
          "base_uri": "https://localhost:8080/",
          "height": 34
        },
        "outputId": "52e7baea-d4d5-430e-80fa-c8138081dcce"
      },
      "source": [
        "lr_Train.dropna(subset = [\"price\"], inplace=True)\n",
        "lr_Train_Raw.dropna(subset = [\"price\"], inplace=True)\n",
        "lr_Test.dropna(subset = [\"price\"], inplace=True)\n",
        "lr_Test_Raw.dropna(subset = [\"price\"], inplace=True)\n",
        "\n",
        "print(lr_Train['price'].isna().sum())\n"
      ],
      "execution_count": null,
      "outputs": [
        {
          "output_type": "stream",
          "text": [
            "0\n"
          ],
          "name": "stdout"
        }
      ]
    },
    {
      "cell_type": "markdown",
      "metadata": {
        "id": "HhrS3R22OAyD"
      },
      "source": [
        "remove outliers"
      ]
    },
    {
      "cell_type": "code",
      "metadata": {
        "id": "GFAZKiqk0kqd",
        "colab": {
          "base_uri": "https://localhost:8080/",
          "height": 674
        },
        "outputId": "a32ca94a-3316-4e90-a1a3-2142fe3f5436"
      },
      "source": [
        "z_scores = stats.zscore(lr_Train['price'])\n",
        "abs_z_scores = np.abs(z_scores)\n",
        "filtered_entries = (abs_z_scores < 3)\n",
        "lr_feature_train = lr_Train[filtered_entries]\n",
        "display(lr_feature_train.info())\n",
        "display(lr_feature_train.describe())"
      ],
      "execution_count": null,
      "outputs": [
        {
          "output_type": "stream",
          "text": [
            "<class 'pandas.core.frame.DataFrame'>\n",
            "Int64Index: 10075 entries, 0 to 10437\n",
            "Data columns (total 14 columns):\n",
            " #   Column                 Non-Null Count  Dtype  \n",
            "---  ------                 --------------  -----  \n",
            " 0   host_id                10075 non-null  float64\n",
            " 1   host_response_time     10075 non-null  float64\n",
            " 2   host_response_rate     10075 non-null  float64\n",
            " 3   host_acceptance_rate   10075 non-null  float64\n",
            " 4   property_type          10075 non-null  float64\n",
            " 5   room_type              10075 non-null  float64\n",
            " 6   beds                   10075 non-null  float64\n",
            " 7   extra_people           10075 non-null  float64\n",
            " 8   number_of_reviews      10075 non-null  float64\n",
            " 9   number_of_reviews_ltm  10075 non-null  float64\n",
            " 10  reviews_per_month      10075 non-null  float64\n",
            " 11  neighbourhood          10075 non-null  float64\n",
            " 12  price                  10075 non-null  float64\n",
            " 13  review_scores_rating   8580 non-null   object \n",
            "dtypes: float64(13), object(1)\n",
            "memory usage: 1.2+ MB\n"
          ],
          "name": "stdout"
        },
        {
          "output_type": "display_data",
          "data": {
            "text/plain": [
              "None"
            ]
          },
          "metadata": {
            "tags": []
          }
        },
        {
          "output_type": "display_data",
          "data": {
            "text/html": [
              "<div>\n",
              "<style scoped>\n",
              "    .dataframe tbody tr th:only-of-type {\n",
              "        vertical-align: middle;\n",
              "    }\n",
              "\n",
              "    .dataframe tbody tr th {\n",
              "        vertical-align: top;\n",
              "    }\n",
              "\n",
              "    .dataframe thead th {\n",
              "        text-align: right;\n",
              "    }\n",
              "</style>\n",
              "<table border=\"1\" class=\"dataframe\">\n",
              "  <thead>\n",
              "    <tr style=\"text-align: right;\">\n",
              "      <th></th>\n",
              "      <th>host_id</th>\n",
              "      <th>host_response_time</th>\n",
              "      <th>host_response_rate</th>\n",
              "      <th>host_acceptance_rate</th>\n",
              "      <th>property_type</th>\n",
              "      <th>room_type</th>\n",
              "      <th>beds</th>\n",
              "      <th>extra_people</th>\n",
              "      <th>number_of_reviews</th>\n",
              "      <th>number_of_reviews_ltm</th>\n",
              "      <th>reviews_per_month</th>\n",
              "      <th>neighbourhood</th>\n",
              "      <th>price</th>\n",
              "    </tr>\n",
              "  </thead>\n",
              "  <tbody>\n",
              "    <tr>\n",
              "      <th>count</th>\n",
              "      <td>10075.000000</td>\n",
              "      <td>10075.000000</td>\n",
              "      <td>1.007500e+04</td>\n",
              "      <td>1.007500e+04</td>\n",
              "      <td>10075.000000</td>\n",
              "      <td>10075.000000</td>\n",
              "      <td>1.007500e+04</td>\n",
              "      <td>10075.000000</td>\n",
              "      <td>10075.000000</td>\n",
              "      <td>10075.000000</td>\n",
              "      <td>10075.000000</td>\n",
              "      <td>10075.000000</td>\n",
              "      <td>10075.000000</td>\n",
              "    </tr>\n",
              "    <tr>\n",
              "      <th>mean</th>\n",
              "      <td>0.488390</td>\n",
              "      <td>0.838923</td>\n",
              "      <td>4.860681e-04</td>\n",
              "      <td>1.320068e-06</td>\n",
              "      <td>0.663816</td>\n",
              "      <td>0.715355</td>\n",
              "      <td>2.426709e-06</td>\n",
              "      <td>0.056007</td>\n",
              "      <td>0.007480</td>\n",
              "      <td>0.007480</td>\n",
              "      <td>0.007480</td>\n",
              "      <td>0.463087</td>\n",
              "      <td>19035.607465</td>\n",
              "    </tr>\n",
              "    <tr>\n",
              "      <th>std</th>\n",
              "      <td>0.278470</td>\n",
              "      <td>0.028745</td>\n",
              "      <td>2.181170e-02</td>\n",
              "      <td>1.363245e-07</td>\n",
              "      <td>0.092648</td>\n",
              "      <td>0.053309</td>\n",
              "      <td>3.481833e-06</td>\n",
              "      <td>0.000419</td>\n",
              "      <td>0.005819</td>\n",
              "      <td>0.005819</td>\n",
              "      <td>0.005819</td>\n",
              "      <td>0.213012</td>\n",
              "      <td>24246.193675</td>\n",
              "    </tr>\n",
              "    <tr>\n",
              "      <th>min</th>\n",
              "      <td>0.000968</td>\n",
              "      <td>0.019802</td>\n",
              "      <td>0.000000e+00</td>\n",
              "      <td>0.000000e+00</td>\n",
              "      <td>0.588785</td>\n",
              "      <td>0.416667</td>\n",
              "      <td>0.000000e+00</td>\n",
              "      <td>0.028007</td>\n",
              "      <td>0.000000</td>\n",
              "      <td>0.000000</td>\n",
              "      <td>0.000000</td>\n",
              "      <td>0.000000</td>\n",
              "      <td>0.000000</td>\n",
              "    </tr>\n",
              "    <tr>\n",
              "      <th>25%</th>\n",
              "      <td>0.249919</td>\n",
              "      <td>0.841584</td>\n",
              "      <td>5.511251e-07</td>\n",
              "      <td>1.347606e-06</td>\n",
              "      <td>0.598131</td>\n",
              "      <td>0.683333</td>\n",
              "      <td>8.620593e-07</td>\n",
              "      <td>0.056014</td>\n",
              "      <td>0.003700</td>\n",
              "      <td>0.003700</td>\n",
              "      <td>0.003700</td>\n",
              "      <td>0.275229</td>\n",
              "      <td>6757.000000</td>\n",
              "    </tr>\n",
              "    <tr>\n",
              "      <th>50%</th>\n",
              "      <td>0.477573</td>\n",
              "      <td>0.841584</td>\n",
              "      <td>5.511251e-07</td>\n",
              "      <td>1.361218e-06</td>\n",
              "      <td>0.598131</td>\n",
              "      <td>0.683333</td>\n",
              "      <td>1.724119e-06</td>\n",
              "      <td>0.056014</td>\n",
              "      <td>0.006652</td>\n",
              "      <td>0.006652</td>\n",
              "      <td>0.006652</td>\n",
              "      <td>0.568807</td>\n",
              "      <td>11048.000000</td>\n",
              "    </tr>\n",
              "    <tr>\n",
              "      <th>75%</th>\n",
              "      <td>0.742820</td>\n",
              "      <td>0.841584</td>\n",
              "      <td>5.511251e-07</td>\n",
              "      <td>1.361218e-06</td>\n",
              "      <td>0.757009</td>\n",
              "      <td>0.716667</td>\n",
              "      <td>2.586178e-06</td>\n",
              "      <td>0.056014</td>\n",
              "      <td>0.010000</td>\n",
              "      <td>0.010000</td>\n",
              "      <td>0.010000</td>\n",
              "      <td>0.605505</td>\n",
              "      <td>19951.000000</td>\n",
              "    </tr>\n",
              "    <tr>\n",
              "      <th>max</th>\n",
              "      <td>1.000000</td>\n",
              "      <td>0.990099</td>\n",
              "      <td>1.000000e+00</td>\n",
              "      <td>1.361218e-06</td>\n",
              "      <td>0.981308</td>\n",
              "      <td>0.850000</td>\n",
              "      <td>1.205896e-04</td>\n",
              "      <td>0.056014</td>\n",
              "      <td>0.192070</td>\n",
              "      <td>0.192070</td>\n",
              "      <td>0.192070</td>\n",
              "      <td>0.798165</td>\n",
              "      <td>250025.000000</td>\n",
              "    </tr>\n",
              "  </tbody>\n",
              "</table>\n",
              "</div>"
            ],
            "text/plain": [
              "            host_id  host_response_time  ...  neighbourhood          price\n",
              "count  10075.000000        10075.000000  ...   10075.000000   10075.000000\n",
              "mean       0.488390            0.838923  ...       0.463087   19035.607465\n",
              "std        0.278470            0.028745  ...       0.213012   24246.193675\n",
              "min        0.000968            0.019802  ...       0.000000       0.000000\n",
              "25%        0.249919            0.841584  ...       0.275229    6757.000000\n",
              "50%        0.477573            0.841584  ...       0.568807   11048.000000\n",
              "75%        0.742820            0.841584  ...       0.605505   19951.000000\n",
              "max        1.000000            0.990099  ...       0.798165  250025.000000\n",
              "\n",
              "[8 rows x 13 columns]"
            ]
          },
          "metadata": {
            "tags": []
          }
        }
      ]
    },
    {
      "cell_type": "markdown",
      "metadata": {
        "id": "o4aLOuD8FTXE"
      },
      "source": [
        "Feature selection for categorical features use ANOVA and for continous features use pearson.\n",
        "\n",
        "When using ANOVA we will take the p value and the close the value get to 0 the better\n",
        "\n",
        "When using pearson correlation we want to have the correlation coefficient to be as close to 1 as possible"
      ]
    },
    {
      "cell_type": "code",
      "metadata": {
        "id": "evo6IU5uD8SP",
        "colab": {
          "base_uri": "https://localhost:8080/",
          "height": 462
        },
        "outputId": "59d126b2-6ccc-491d-fb34-0793f5fd7a70"
      },
      "source": [
        "categorical=lr_feature_train[['host_id','host_response_time','property_type','room_type','neighbourhood']]\n",
        "continous =lr_feature_train[['host_response_rate','host_acceptance_rate','beds','extra_people','reviews_per_month','number_of_reviews','number_of_reviews_ltm']]\n",
        "label=lr_feature_train[[\"price\"]]\n",
        "\n",
        "\n",
        "fval,pval=feature_selection.f_classif(categorical,label.values.ravel())\n",
        "pvalue=pd.DataFrame(categorical.columns,columns=['feature'])\n",
        "pval=pd.DataFrame(pval,columns=['p value'])\n",
        "display(pvalue.join(pval))\n",
        "display(pd.DataFrame(continous.join(label).corr()['price']))\n",
        "\n",
        "\n"
      ],
      "execution_count": null,
      "outputs": [
        {
          "output_type": "display_data",
          "data": {
            "text/html": [
              "<div>\n",
              "<style scoped>\n",
              "    .dataframe tbody tr th:only-of-type {\n",
              "        vertical-align: middle;\n",
              "    }\n",
              "\n",
              "    .dataframe tbody tr th {\n",
              "        vertical-align: top;\n",
              "    }\n",
              "\n",
              "    .dataframe thead th {\n",
              "        text-align: right;\n",
              "    }\n",
              "</style>\n",
              "<table border=\"1\" class=\"dataframe\">\n",
              "  <thead>\n",
              "    <tr style=\"text-align: right;\">\n",
              "      <th></th>\n",
              "      <th>feature</th>\n",
              "      <th>p value</th>\n",
              "    </tr>\n",
              "  </thead>\n",
              "  <tbody>\n",
              "    <tr>\n",
              "      <th>0</th>\n",
              "      <td>host_id</td>\n",
              "      <td>1.009943e-77</td>\n",
              "    </tr>\n",
              "    <tr>\n",
              "      <th>1</th>\n",
              "      <td>host_response_time</td>\n",
              "      <td>0.000000e+00</td>\n",
              "    </tr>\n",
              "    <tr>\n",
              "      <th>2</th>\n",
              "      <td>property_type</td>\n",
              "      <td>5.312683e-152</td>\n",
              "    </tr>\n",
              "    <tr>\n",
              "      <th>3</th>\n",
              "      <td>room_type</td>\n",
              "      <td>0.000000e+00</td>\n",
              "    </tr>\n",
              "    <tr>\n",
              "      <th>4</th>\n",
              "      <td>neighbourhood</td>\n",
              "      <td>6.794549e-39</td>\n",
              "    </tr>\n",
              "  </tbody>\n",
              "</table>\n",
              "</div>"
            ],
            "text/plain": [
              "              feature        p value\n",
              "0             host_id   1.009943e-77\n",
              "1  host_response_time   0.000000e+00\n",
              "2       property_type  5.312683e-152\n",
              "3           room_type   0.000000e+00\n",
              "4       neighbourhood   6.794549e-39"
            ]
          },
          "metadata": {
            "tags": []
          }
        },
        {
          "output_type": "display_data",
          "data": {
            "text/html": [
              "<div>\n",
              "<style scoped>\n",
              "    .dataframe tbody tr th:only-of-type {\n",
              "        vertical-align: middle;\n",
              "    }\n",
              "\n",
              "    .dataframe tbody tr th {\n",
              "        vertical-align: top;\n",
              "    }\n",
              "\n",
              "    .dataframe thead th {\n",
              "        text-align: right;\n",
              "    }\n",
              "</style>\n",
              "<table border=\"1\" class=\"dataframe\">\n",
              "  <thead>\n",
              "    <tr style=\"text-align: right;\">\n",
              "      <th></th>\n",
              "      <th>price</th>\n",
              "    </tr>\n",
              "  </thead>\n",
              "  <tbody>\n",
              "    <tr>\n",
              "      <th>host_response_rate</th>\n",
              "      <td>-0.017473</td>\n",
              "    </tr>\n",
              "    <tr>\n",
              "      <th>host_acceptance_rate</th>\n",
              "      <td>0.079334</td>\n",
              "    </tr>\n",
              "    <tr>\n",
              "      <th>beds</th>\n",
              "      <td>0.085022</td>\n",
              "    </tr>\n",
              "    <tr>\n",
              "      <th>extra_people</th>\n",
              "      <td>0.013014</td>\n",
              "    </tr>\n",
              "    <tr>\n",
              "      <th>reviews_per_month</th>\n",
              "      <td>0.039731</td>\n",
              "    </tr>\n",
              "    <tr>\n",
              "      <th>number_of_reviews</th>\n",
              "      <td>0.039731</td>\n",
              "    </tr>\n",
              "    <tr>\n",
              "      <th>number_of_reviews_ltm</th>\n",
              "      <td>0.039731</td>\n",
              "    </tr>\n",
              "    <tr>\n",
              "      <th>price</th>\n",
              "      <td>1.000000</td>\n",
              "    </tr>\n",
              "  </tbody>\n",
              "</table>\n",
              "</div>"
            ],
            "text/plain": [
              "                          price\n",
              "host_response_rate    -0.017473\n",
              "host_acceptance_rate   0.079334\n",
              "beds                   0.085022\n",
              "extra_people           0.013014\n",
              "reviews_per_month      0.039731\n",
              "number_of_reviews      0.039731\n",
              "number_of_reviews_ltm  0.039731\n",
              "price                  1.000000"
            ]
          },
          "metadata": {
            "tags": []
          }
        }
      ]
    },
    {
      "cell_type": "code",
      "metadata": {
        "id": "7LEHoW5tSM-T"
      },
      "source": [
        "selected_feature=lr_feature_train[[\"host_id\",\"host_response_time\",\"host_acceptance_rate\",\"property_type\",\"room_type\",\"beds\", \"neighbourhood\"]]"
      ],
      "execution_count": null,
      "outputs": []
    },
    {
      "cell_type": "markdown",
      "metadata": {
        "id": "ejqeAbvNLvjr"
      },
      "source": [
        "from the above value we will take all the categorical data since all of the values are very close to 0.\n",
        "\n",
        "for the continous we will only take the correlation above 0.05 which are host acceptance rate and beds"
      ]
    },
    {
      "cell_type": "markdown",
      "metadata": {
        "id": "tiqkx4eA7ieT"
      },
      "source": [
        "Train logisitic regression with feature engineered data"
      ]
    },
    {
      "cell_type": "code",
      "metadata": {
        "id": "7ZVx8FTi-vVx",
        "colab": {
          "base_uri": "https://localhost:8080/",
          "height": 571
        },
        "outputId": "dd55fa24-92ff-4fe8-c870-f232b74e7458"
      },
      "source": [
        "display(selected_feature.describe())\n",
        "display(lr_Test.describe())"
      ],
      "execution_count": null,
      "outputs": [
        {
          "output_type": "display_data",
          "data": {
            "text/html": [
              "<div>\n",
              "<style scoped>\n",
              "    .dataframe tbody tr th:only-of-type {\n",
              "        vertical-align: middle;\n",
              "    }\n",
              "\n",
              "    .dataframe tbody tr th {\n",
              "        vertical-align: top;\n",
              "    }\n",
              "\n",
              "    .dataframe thead th {\n",
              "        text-align: right;\n",
              "    }\n",
              "</style>\n",
              "<table border=\"1\" class=\"dataframe\">\n",
              "  <thead>\n",
              "    <tr style=\"text-align: right;\">\n",
              "      <th></th>\n",
              "      <th>host_id</th>\n",
              "      <th>host_response_time</th>\n",
              "      <th>host_acceptance_rate</th>\n",
              "      <th>property_type</th>\n",
              "      <th>room_type</th>\n",
              "      <th>beds</th>\n",
              "      <th>neighbourhood</th>\n",
              "    </tr>\n",
              "  </thead>\n",
              "  <tbody>\n",
              "    <tr>\n",
              "      <th>count</th>\n",
              "      <td>10075.000000</td>\n",
              "      <td>10075.000000</td>\n",
              "      <td>1.007500e+04</td>\n",
              "      <td>10075.000000</td>\n",
              "      <td>10075.000000</td>\n",
              "      <td>1.007500e+04</td>\n",
              "      <td>10075.000000</td>\n",
              "    </tr>\n",
              "    <tr>\n",
              "      <th>mean</th>\n",
              "      <td>0.488390</td>\n",
              "      <td>0.838923</td>\n",
              "      <td>1.320068e-06</td>\n",
              "      <td>0.663816</td>\n",
              "      <td>0.715355</td>\n",
              "      <td>2.426709e-06</td>\n",
              "      <td>0.463087</td>\n",
              "    </tr>\n",
              "    <tr>\n",
              "      <th>std</th>\n",
              "      <td>0.278470</td>\n",
              "      <td>0.028745</td>\n",
              "      <td>1.363245e-07</td>\n",
              "      <td>0.092648</td>\n",
              "      <td>0.053309</td>\n",
              "      <td>3.481833e-06</td>\n",
              "      <td>0.213012</td>\n",
              "    </tr>\n",
              "    <tr>\n",
              "      <th>min</th>\n",
              "      <td>0.000968</td>\n",
              "      <td>0.019802</td>\n",
              "      <td>0.000000e+00</td>\n",
              "      <td>0.588785</td>\n",
              "      <td>0.416667</td>\n",
              "      <td>0.000000e+00</td>\n",
              "      <td>0.000000</td>\n",
              "    </tr>\n",
              "    <tr>\n",
              "      <th>25%</th>\n",
              "      <td>0.249919</td>\n",
              "      <td>0.841584</td>\n",
              "      <td>1.347606e-06</td>\n",
              "      <td>0.598131</td>\n",
              "      <td>0.683333</td>\n",
              "      <td>8.620593e-07</td>\n",
              "      <td>0.275229</td>\n",
              "    </tr>\n",
              "    <tr>\n",
              "      <th>50%</th>\n",
              "      <td>0.477573</td>\n",
              "      <td>0.841584</td>\n",
              "      <td>1.361218e-06</td>\n",
              "      <td>0.598131</td>\n",
              "      <td>0.683333</td>\n",
              "      <td>1.724119e-06</td>\n",
              "      <td>0.568807</td>\n",
              "    </tr>\n",
              "    <tr>\n",
              "      <th>75%</th>\n",
              "      <td>0.742820</td>\n",
              "      <td>0.841584</td>\n",
              "      <td>1.361218e-06</td>\n",
              "      <td>0.757009</td>\n",
              "      <td>0.716667</td>\n",
              "      <td>2.586178e-06</td>\n",
              "      <td>0.605505</td>\n",
              "    </tr>\n",
              "    <tr>\n",
              "      <th>max</th>\n",
              "      <td>1.000000</td>\n",
              "      <td>0.990099</td>\n",
              "      <td>1.361218e-06</td>\n",
              "      <td>0.981308</td>\n",
              "      <td>0.850000</td>\n",
              "      <td>1.205896e-04</td>\n",
              "      <td>0.798165</td>\n",
              "    </tr>\n",
              "  </tbody>\n",
              "</table>\n",
              "</div>"
            ],
            "text/plain": [
              "            host_id  host_response_time  ...          beds  neighbourhood\n",
              "count  10075.000000        10075.000000  ...  1.007500e+04   10075.000000\n",
              "mean       0.488390            0.838923  ...  2.426709e-06       0.463087\n",
              "std        0.278470            0.028745  ...  3.481833e-06       0.213012\n",
              "min        0.000968            0.019802  ...  0.000000e+00       0.000000\n",
              "25%        0.249919            0.841584  ...  8.620593e-07       0.275229\n",
              "50%        0.477573            0.841584  ...  1.724119e-06       0.568807\n",
              "75%        0.742820            0.841584  ...  2.586178e-06       0.605505\n",
              "max        1.000000            0.990099  ...  1.205896e-04       0.798165\n",
              "\n",
              "[8 rows x 7 columns]"
            ]
          },
          "metadata": {
            "tags": []
          }
        },
        {
          "output_type": "display_data",
          "data": {
            "text/html": [
              "<div>\n",
              "<style scoped>\n",
              "    .dataframe tbody tr th:only-of-type {\n",
              "        vertical-align: middle;\n",
              "    }\n",
              "\n",
              "    .dataframe tbody tr th {\n",
              "        vertical-align: top;\n",
              "    }\n",
              "\n",
              "    .dataframe thead th {\n",
              "        text-align: right;\n",
              "    }\n",
              "</style>\n",
              "<table border=\"1\" class=\"dataframe\">\n",
              "  <thead>\n",
              "    <tr style=\"text-align: right;\">\n",
              "      <th></th>\n",
              "      <th>host_id</th>\n",
              "      <th>host_response_time</th>\n",
              "      <th>host_response_rate</th>\n",
              "      <th>host_acceptance_rate</th>\n",
              "      <th>property_type</th>\n",
              "      <th>room_type</th>\n",
              "      <th>beds</th>\n",
              "      <th>extra_people</th>\n",
              "      <th>number_of_reviews</th>\n",
              "      <th>number_of_reviews_ltm</th>\n",
              "      <th>reviews_per_month</th>\n",
              "      <th>neighbourhood</th>\n",
              "      <th>price</th>\n",
              "    </tr>\n",
              "  </thead>\n",
              "  <tbody>\n",
              "    <tr>\n",
              "      <th>count</th>\n",
              "      <td>2554.000000</td>\n",
              "      <td>2554.000000</td>\n",
              "      <td>2.554000e+03</td>\n",
              "      <td>2.554000e+03</td>\n",
              "      <td>2554.000000</td>\n",
              "      <td>2554.000000</td>\n",
              "      <td>2.554000e+03</td>\n",
              "      <td>2.554000e+03</td>\n",
              "      <td>2554.000000</td>\n",
              "      <td>2554.000000</td>\n",
              "      <td>2554.000000</td>\n",
              "      <td>2554.000000</td>\n",
              "      <td>2554.000000</td>\n",
              "    </tr>\n",
              "    <tr>\n",
              "      <th>mean</th>\n",
              "      <td>0.486886</td>\n",
              "      <td>0.839107</td>\n",
              "      <td>3.920829e-04</td>\n",
              "      <td>1.318489e-06</td>\n",
              "      <td>0.665418</td>\n",
              "      <td>0.715499</td>\n",
              "      <td>2.398471e-06</td>\n",
              "      <td>5.601398e-02</td>\n",
              "      <td>0.007525</td>\n",
              "      <td>0.007525</td>\n",
              "      <td>0.007525</td>\n",
              "      <td>0.463500</td>\n",
              "      <td>27272.433634</td>\n",
              "    </tr>\n",
              "    <tr>\n",
              "      <th>std</th>\n",
              "      <td>0.280105</td>\n",
              "      <td>0.026046</td>\n",
              "      <td>1.978743e-02</td>\n",
              "      <td>1.335515e-07</td>\n",
              "      <td>0.092485</td>\n",
              "      <td>0.054139</td>\n",
              "      <td>3.435350e-06</td>\n",
              "      <td>3.678334e-16</td>\n",
              "      <td>0.006176</td>\n",
              "      <td>0.006176</td>\n",
              "      <td>0.006176</td>\n",
              "      <td>0.215669</td>\n",
              "      <td>83927.654639</td>\n",
              "    </tr>\n",
              "    <tr>\n",
              "      <th>min</th>\n",
              "      <td>0.001936</td>\n",
              "      <td>0.158416</td>\n",
              "      <td>0.000000e+00</td>\n",
              "      <td>0.000000e+00</td>\n",
              "      <td>0.588785</td>\n",
              "      <td>0.383333</td>\n",
              "      <td>0.000000e+00</td>\n",
              "      <td>5.601398e-02</td>\n",
              "      <td>0.000000</td>\n",
              "      <td>0.000000</td>\n",
              "      <td>0.000000</td>\n",
              "      <td>0.000000</td>\n",
              "      <td>0.000000</td>\n",
              "    </tr>\n",
              "    <tr>\n",
              "      <th>25%</th>\n",
              "      <td>0.244918</td>\n",
              "      <td>0.841584</td>\n",
              "      <td>5.511251e-07</td>\n",
              "      <td>1.347606e-06</td>\n",
              "      <td>0.598131</td>\n",
              "      <td>0.683333</td>\n",
              "      <td>8.620593e-07</td>\n",
              "      <td>5.601398e-02</td>\n",
              "      <td>0.003756</td>\n",
              "      <td>0.003756</td>\n",
              "      <td>0.003756</td>\n",
              "      <td>0.275229</td>\n",
              "      <td>6952.000000</td>\n",
              "    </tr>\n",
              "    <tr>\n",
              "      <th>50%</th>\n",
              "      <td>0.469184</td>\n",
              "      <td>0.841584</td>\n",
              "      <td>5.511251e-07</td>\n",
              "      <td>1.361218e-06</td>\n",
              "      <td>0.598131</td>\n",
              "      <td>0.683333</td>\n",
              "      <td>1.724119e-06</td>\n",
              "      <td>5.601398e-02</td>\n",
              "      <td>0.006652</td>\n",
              "      <td>0.006652</td>\n",
              "      <td>0.006652</td>\n",
              "      <td>0.568807</td>\n",
              "      <td>11048.000000</td>\n",
              "    </tr>\n",
              "    <tr>\n",
              "      <th>75%</th>\n",
              "      <td>0.738061</td>\n",
              "      <td>0.841584</td>\n",
              "      <td>5.511251e-07</td>\n",
              "      <td>1.361218e-06</td>\n",
              "      <td>0.766355</td>\n",
              "      <td>0.800000</td>\n",
              "      <td>2.586178e-06</td>\n",
              "      <td>5.601398e-02</td>\n",
              "      <td>0.009813</td>\n",
              "      <td>0.009813</td>\n",
              "      <td>0.009813</td>\n",
              "      <td>0.660550</td>\n",
              "      <td>19951.000000</td>\n",
              "    </tr>\n",
              "    <tr>\n",
              "      <th>max</th>\n",
              "      <td>0.984511</td>\n",
              "      <td>0.990099</td>\n",
              "      <td>1.000000e+00</td>\n",
              "      <td>1.361218e-06</td>\n",
              "      <td>0.981308</td>\n",
              "      <td>0.833333</td>\n",
              "      <td>1.205886e-04</td>\n",
              "      <td>5.601398e-02</td>\n",
              "      <td>0.096916</td>\n",
              "      <td>0.096916</td>\n",
              "      <td>0.096916</td>\n",
              "      <td>0.807339</td>\n",
              "      <td>999995.000000</td>\n",
              "    </tr>\n",
              "  </tbody>\n",
              "</table>\n",
              "</div>"
            ],
            "text/plain": [
              "           host_id  host_response_time  ...  neighbourhood          price\n",
              "count  2554.000000         2554.000000  ...    2554.000000    2554.000000\n",
              "mean      0.486886            0.839107  ...       0.463500   27272.433634\n",
              "std       0.280105            0.026046  ...       0.215669   83927.654639\n",
              "min       0.001936            0.158416  ...       0.000000       0.000000\n",
              "25%       0.244918            0.841584  ...       0.275229    6952.000000\n",
              "50%       0.469184            0.841584  ...       0.568807   11048.000000\n",
              "75%       0.738061            0.841584  ...       0.660550   19951.000000\n",
              "max       0.984511            0.990099  ...       0.807339  999995.000000\n",
              "\n",
              "[8 rows x 13 columns]"
            ]
          },
          "metadata": {
            "tags": []
          }
        }
      ]
    },
    {
      "cell_type": "code",
      "metadata": {
        "id": "XskiN9lAnQF9"
      },
      "source": [
        "XTrain=selected_feature\n",
        "YTrain = lr_feature_train[[\"price\"]]\n",
        "XTest=lr_Test[[\"host_id\",\"host_response_time\",\"host_response_rate\",\"host_acceptance_rate\",\"property_type\",\"room_type\",\"beds\", \"extra_people\",\"number_of_reviews\",\"number_of_reviews_ltm\",\"reviews_per_month\", \"neighbourhood\"]]\n",
        "YTest = lr_Test[[\"price\"]]"
      ],
      "execution_count": null,
      "outputs": []
    },
    {
      "cell_type": "code",
      "metadata": {
        "id": "7HNqUEwo9w4C"
      },
      "source": [
        "from sklearn.linear_model import LogisticRegression\n",
        "LGR = LogisticRegression(max_iter=1000).fit(XTrain, YTrain.astype('int').values.ravel())"
      ],
      "execution_count": null,
      "outputs": []
    },
    {
      "cell_type": "code",
      "metadata": {
        "id": "fTLLTDJvmmlV",
        "colab": {
          "base_uri": "https://localhost:8080/",
          "height": 67
        },
        "outputId": "3444df4c-68df-49c1-c037-a14f5b850dda"
      },
      "source": [
        "CTest  = LGR.predict(XTest[[\"host_id\",\"host_response_time\",\"host_acceptance_rate\",\"property_type\",\"room_type\",\"beds\", \"neighbourhood\"]])\n",
        "CTrain  = LGR.predict(XTrain[[\"host_id\",\"host_response_time\",\"host_acceptance_rate\",\"property_type\",\"room_type\",\"beds\", \"neighbourhood\"]])\n",
        "\n",
        "print(\"Train set acc: \", metrics.accuracy_score(YTrain.astype('int'), CTrain))\n",
        "print(\"Test set acc: \", metrics.accuracy_score(YTest.astype('int'), CTest))\n",
        "print('Root Mean Squared Error:', np.sqrt(metrics.mean_squared_error(YTest, CTest)))\n"
      ],
      "execution_count": null,
      "outputs": [
        {
          "output_type": "stream",
          "text": [
            "Train set acc:  0.05349875930521092\n",
            "Test set acc:  0.056382145653876274\n",
            "Root Mean Squared Error: 85191.91037470057\n"
          ],
          "name": "stdout"
        }
      ]
    },
    {
      "cell_type": "markdown",
      "metadata": {
        "id": "_8AVRq8w7stG"
      },
      "source": [
        "Train logisitic regression with raw data"
      ]
    },
    {
      "cell_type": "code",
      "metadata": {
        "id": "yuCmvayC-hrU",
        "colab": {
          "base_uri": "https://localhost:8080/",
          "height": 394
        },
        "outputId": "049f0f91-09c2-4f36-fd5b-5a3afcb0fe75"
      },
      "source": [
        "display(lr_Train_Raw.head())\n",
        "display(lr_Test_Raw.head())"
      ],
      "execution_count": null,
      "outputs": [
        {
          "output_type": "display_data",
          "data": {
            "text/html": [
              "<div>\n",
              "<style scoped>\n",
              "    .dataframe tbody tr th:only-of-type {\n",
              "        vertical-align: middle;\n",
              "    }\n",
              "\n",
              "    .dataframe tbody tr th {\n",
              "        vertical-align: top;\n",
              "    }\n",
              "\n",
              "    .dataframe thead th {\n",
              "        text-align: right;\n",
              "    }\n",
              "</style>\n",
              "<table border=\"1\" class=\"dataframe\">\n",
              "  <thead>\n",
              "    <tr style=\"text-align: right;\">\n",
              "      <th></th>\n",
              "      <th>host_id</th>\n",
              "      <th>host_response_time</th>\n",
              "      <th>host_response_rate</th>\n",
              "      <th>host_acceptance_rate</th>\n",
              "      <th>property_type</th>\n",
              "      <th>room_type</th>\n",
              "      <th>beds</th>\n",
              "      <th>extra_people</th>\n",
              "      <th>number_of_reviews</th>\n",
              "      <th>number_of_reviews_ltm</th>\n",
              "      <th>reviews_per_month</th>\n",
              "      <th>neighbourhood</th>\n",
              "      <th>price</th>\n",
              "      <th>review_scores_rating</th>\n",
              "    </tr>\n",
              "  </thead>\n",
              "  <tbody>\n",
              "    <tr>\n",
              "      <th>0</th>\n",
              "      <td>2482.0</td>\n",
              "      <td>83.0</td>\n",
              "      <td>82.0</td>\n",
              "      <td>72.0</td>\n",
              "      <td>85.0</td>\n",
              "      <td>48.0</td>\n",
              "      <td>2.0</td>\n",
              "      <td>2.0</td>\n",
              "      <td>2.13</td>\n",
              "      <td>2.13</td>\n",
              "      <td>2.13</td>\n",
              "      <td>54.0</td>\n",
              "      <td>5041.0</td>\n",
              "      <td>82</td>\n",
              "    </tr>\n",
              "    <tr>\n",
              "      <th>1</th>\n",
              "      <td>2357.0</td>\n",
              "      <td>85.0</td>\n",
              "      <td>100.0</td>\n",
              "      <td>90.0</td>\n",
              "      <td>85.0</td>\n",
              "      <td>41.0</td>\n",
              "      <td>2.0</td>\n",
              "      <td>2.0</td>\n",
              "      <td>0.31</td>\n",
              "      <td>0.31</td>\n",
              "      <td>0.31</td>\n",
              "      <td>31.0</td>\n",
              "      <td>6631.0</td>\n",
              "      <td>70</td>\n",
              "    </tr>\n",
              "    <tr>\n",
              "      <th>2</th>\n",
              "      <td>1310.0</td>\n",
              "      <td>85.0</td>\n",
              "      <td>100.0</td>\n",
              "      <td>100.0</td>\n",
              "      <td>66.0</td>\n",
              "      <td>41.0</td>\n",
              "      <td>1.0</td>\n",
              "      <td>2.0</td>\n",
              "      <td>1.23</td>\n",
              "      <td>1.23</td>\n",
              "      <td>1.23</td>\n",
              "      <td>81.0</td>\n",
              "      <td>6952.0</td>\n",
              "      <td>80</td>\n",
              "    </tr>\n",
              "    <tr>\n",
              "      <th>3</th>\n",
              "      <td>1773.0</td>\n",
              "      <td>85.0</td>\n",
              "      <td>100.0</td>\n",
              "      <td>100.0</td>\n",
              "      <td>66.0</td>\n",
              "      <td>41.0</td>\n",
              "      <td>2.0</td>\n",
              "      <td>2.0</td>\n",
              "      <td>2.27</td>\n",
              "      <td>2.27</td>\n",
              "      <td>2.27</td>\n",
              "      <td>63.0</td>\n",
              "      <td>13049.0</td>\n",
              "      <td>100</td>\n",
              "    </tr>\n",
              "    <tr>\n",
              "      <th>4</th>\n",
              "      <td>1098.0</td>\n",
              "      <td>85.0</td>\n",
              "      <td>100.0</td>\n",
              "      <td>88.0</td>\n",
              "      <td>66.0</td>\n",
              "      <td>41.0</td>\n",
              "      <td>5.0</td>\n",
              "      <td>2.0</td>\n",
              "      <td>2.10</td>\n",
              "      <td>2.10</td>\n",
              "      <td>2.10</td>\n",
              "      <td>11.0</td>\n",
              "      <td>19951.0</td>\n",
              "      <td>96</td>\n",
              "    </tr>\n",
              "  </tbody>\n",
              "</table>\n",
              "</div>"
            ],
            "text/plain": [
              "   host_id  host_response_time  ...    price  review_scores_rating\n",
              "0   2482.0                83.0  ...   5041.0                    82\n",
              "1   2357.0                85.0  ...   6631.0                    70\n",
              "2   1310.0                85.0  ...   6952.0                    80\n",
              "3   1773.0                85.0  ...  13049.0                   100\n",
              "4   1098.0                85.0  ...  19951.0                    96\n",
              "\n",
              "[5 rows x 14 columns]"
            ]
          },
          "metadata": {
            "tags": []
          }
        },
        {
          "output_type": "display_data",
          "data": {
            "text/html": [
              "<div>\n",
              "<style scoped>\n",
              "    .dataframe tbody tr th:only-of-type {\n",
              "        vertical-align: middle;\n",
              "    }\n",
              "\n",
              "    .dataframe tbody tr th {\n",
              "        vertical-align: top;\n",
              "    }\n",
              "\n",
              "    .dataframe thead th {\n",
              "        text-align: right;\n",
              "    }\n",
              "</style>\n",
              "<table border=\"1\" class=\"dataframe\">\n",
              "  <thead>\n",
              "    <tr style=\"text-align: right;\">\n",
              "      <th></th>\n",
              "      <th>host_id</th>\n",
              "      <th>host_response_time</th>\n",
              "      <th>host_response_rate</th>\n",
              "      <th>host_acceptance_rate</th>\n",
              "      <th>property_type</th>\n",
              "      <th>room_type</th>\n",
              "      <th>beds</th>\n",
              "      <th>extra_people</th>\n",
              "      <th>number_of_reviews</th>\n",
              "      <th>number_of_reviews_ltm</th>\n",
              "      <th>reviews_per_month</th>\n",
              "      <th>neighbourhood</th>\n",
              "      <th>price</th>\n",
              "      <th>review_scores_rating</th>\n",
              "    </tr>\n",
              "  </thead>\n",
              "  <tbody>\n",
              "    <tr>\n",
              "      <th>0</th>\n",
              "      <td>1167.0</td>\n",
              "      <td>84.0</td>\n",
              "      <td>100.0</td>\n",
              "      <td>96.0</td>\n",
              "      <td>85.0</td>\n",
              "      <td>48.0</td>\n",
              "      <td>4.0</td>\n",
              "      <td>2.0</td>\n",
              "      <td>1.53</td>\n",
              "      <td>1.53</td>\n",
              "      <td>1.53</td>\n",
              "      <td>63.0</td>\n",
              "      <td>3957.0</td>\n",
              "      <td>90</td>\n",
              "    </tr>\n",
              "    <tr>\n",
              "      <th>1</th>\n",
              "      <td>2510.0</td>\n",
              "      <td>85.0</td>\n",
              "      <td>100.0</td>\n",
              "      <td>97.0</td>\n",
              "      <td>66.0</td>\n",
              "      <td>41.0</td>\n",
              "      <td>2.0</td>\n",
              "      <td>2.0</td>\n",
              "      <td>0.21</td>\n",
              "      <td>0.21</td>\n",
              "      <td>0.21</td>\n",
              "      <td>49.0</td>\n",
              "      <td>4920.0</td>\n",
              "      <td>100</td>\n",
              "    </tr>\n",
              "    <tr>\n",
              "      <th>2</th>\n",
              "      <td>1265.0</td>\n",
              "      <td>85.0</td>\n",
              "      <td>100.0</td>\n",
              "      <td>100.0</td>\n",
              "      <td>66.0</td>\n",
              "      <td>41.0</td>\n",
              "      <td>2.0</td>\n",
              "      <td>2.0</td>\n",
              "      <td>2.28</td>\n",
              "      <td>2.28</td>\n",
              "      <td>2.28</td>\n",
              "      <td>25.0</td>\n",
              "      <td>49984.0</td>\n",
              "      <td>84</td>\n",
              "    </tr>\n",
              "    <tr>\n",
              "      <th>3</th>\n",
              "      <td>973.0</td>\n",
              "      <td>84.0</td>\n",
              "      <td>100.0</td>\n",
              "      <td>96.0</td>\n",
              "      <td>66.0</td>\n",
              "      <td>41.0</td>\n",
              "      <td>2.0</td>\n",
              "      <td>2.0</td>\n",
              "      <td>1.51</td>\n",
              "      <td>1.51</td>\n",
              "      <td>1.51</td>\n",
              "      <td>63.0</td>\n",
              "      <td>9975.0</td>\n",
              "      <td>NaN</td>\n",
              "    </tr>\n",
              "    <tr>\n",
              "      <th>4</th>\n",
              "      <td>2030.0</td>\n",
              "      <td>85.0</td>\n",
              "      <td>100.0</td>\n",
              "      <td>96.0</td>\n",
              "      <td>84.0</td>\n",
              "      <td>48.0</td>\n",
              "      <td>2.0</td>\n",
              "      <td>2.0</td>\n",
              "      <td>0.24</td>\n",
              "      <td>0.24</td>\n",
              "      <td>0.24</td>\n",
              "      <td>14.0</td>\n",
              "      <td>8045.0</td>\n",
              "      <td>100</td>\n",
              "    </tr>\n",
              "  </tbody>\n",
              "</table>\n",
              "</div>"
            ],
            "text/plain": [
              "   host_id  host_response_time  ...    price  review_scores_rating\n",
              "0   1167.0                84.0  ...   3957.0                    90\n",
              "1   2510.0                85.0  ...   4920.0                   100\n",
              "2   1265.0                85.0  ...  49984.0                    84\n",
              "3    973.0                84.0  ...   9975.0                   NaN\n",
              "4   2030.0                85.0  ...   8045.0                   100\n",
              "\n",
              "[5 rows x 14 columns]"
            ]
          },
          "metadata": {
            "tags": []
          }
        }
      ]
    },
    {
      "cell_type": "code",
      "metadata": {
        "id": "hQbLXDiL70JD"
      },
      "source": [
        "XTrain=lr_Train_Raw[[\"host_id\",\"host_response_time\",\"host_response_rate\",\"host_acceptance_rate\",\"property_type\",\"room_type\",\"beds\", \"extra_people\",\"number_of_reviews\",\"number_of_reviews_ltm\",\"reviews_per_month\", \"neighbourhood\"]]\n",
        "YTrain = lr_Train_Raw[[\"price\"]]\n",
        "XTest=lr_Test_Raw[[\"host_id\",\"host_response_time\",\"host_response_rate\",\"host_acceptance_rate\",\"property_type\",\"room_type\",\"beds\", \"extra_people\",\"number_of_reviews\",\"number_of_reviews_ltm\",\"reviews_per_month\", \"neighbourhood\"]]\n",
        "YTest = lr_Test_Raw[[\"price\"]]"
      ],
      "execution_count": null,
      "outputs": []
    },
    {
      "cell_type": "code",
      "metadata": {
        "id": "60EGXqiT7xsv"
      },
      "source": [
        "from sklearn.linear_model import LogisticRegression\n",
        "LGR = LogisticRegression(max_iter=1000).fit(XTrain, YTrain.astype('int').values.ravel())"
      ],
      "execution_count": null,
      "outputs": []
    },
    {
      "cell_type": "code",
      "metadata": {
        "id": "MqMYwR6o8aiU",
        "colab": {
          "base_uri": "https://localhost:8080/",
          "height": 67
        },
        "outputId": "bdf9bef9-23f4-44ee-eb7a-abb79e571de1"
      },
      "source": [
        "CTest  = LGR.predict(XTest)\n",
        "CTrain  = LGR.predict(XTrain)\n",
        "\n",
        "print(\"Train set acc: \", metrics.accuracy_score(YTrain.astype('int'), CTrain))\n",
        "print(\"Test set acc: \", metrics.accuracy_score(YTest.astype('int'), CTest))\n",
        "print('Root Mean Squared Error:', np.sqrt(metrics.mean_squared_error(YTest, CTest)))\n"
      ],
      "execution_count": null,
      "outputs": [
        {
          "output_type": "stream",
          "text": [
            "Train set acc:  0.00019613611846621556\n",
            "Test set acc:  0.0\n",
            "Root Mean Squared Error: 88227.04403958295\n"
          ],
          "name": "stdout"
        }
      ]
    },
    {
      "cell_type": "markdown",
      "metadata": {
        "id": "pol-8NVctFtA"
      },
      "source": [
        "Based on the result above we can see the diffrence between using raw data and data that has been proccessed. we will first be using confusion matrix as a metric to understand how much data is classified correctly since we are using logistic regression, and logistic regression is a classifier model. After that we will use Root mean square error to understand how effective it is in predicting continous data.\n",
        "\n",
        "the result for using rawdata  shows a horrible results as almost all of them are not classified properly. On the other hand after featured engineered the classification accuracy increase up to 56% for using test data and 53% for using training data. However the root mean square error does not show much diffrence as approximately 88227 for raw data and 85191 for processed data. there is an increase in performance by a reduction of approximately 3000 in the rmse."
      ]
    },
    {
      "cell_type": "markdown",
      "metadata": {
        "id": "6zgYVK7sw6JC"
      },
      "source": [
        "**Get review score rating data for question no 3,4,5**"
      ]
    },
    {
      "cell_type": "markdown",
      "metadata": {
        "id": "yCEHmqdZxPme"
      },
      "source": [
        "convert data type to float"
      ]
    },
    {
      "cell_type": "code",
      "metadata": {
        "id": "GdNt-mLaxOa2",
        "colab": {
          "base_uri": "https://localhost:8080/",
          "height": 304
        },
        "outputId": "481f6e30-f4b0-4861-d460-23f0f2fae834"
      },
      "source": [
        "Train['review_scores_rating']=pd.to_numeric(Train['review_scores_rating'], errors='coerce')\n",
        "Test['review_scores_rating']=pd.to_numeric(Test['review_scores_rating'], errors='coerce')\n",
        "Train_Raw['review_scores_rating']=pd.to_numeric(Train['review_scores_rating'], errors='coerce')\n",
        "Test_Raw['review_scores_rating']=pd.to_numeric(Test['review_scores_rating'], errors='coerce')\n",
        "clf_Train=Train.copy()\n",
        "clf_Train_Raw=Train_Raw.copy()\n",
        "clf_Test=Test.copy()\n",
        "clf_Test_Raw=Test_Raw.copy()\n",
        "\n",
        "clf_Train.describe()"
      ],
      "execution_count": null,
      "outputs": [
        {
          "output_type": "execute_result",
          "data": {
            "text/html": [
              "<div>\n",
              "<style scoped>\n",
              "    .dataframe tbody tr th:only-of-type {\n",
              "        vertical-align: middle;\n",
              "    }\n",
              "\n",
              "    .dataframe tbody tr th {\n",
              "        vertical-align: top;\n",
              "    }\n",
              "\n",
              "    .dataframe thead th {\n",
              "        text-align: right;\n",
              "    }\n",
              "</style>\n",
              "<table border=\"1\" class=\"dataframe\">\n",
              "  <thead>\n",
              "    <tr style=\"text-align: right;\">\n",
              "      <th></th>\n",
              "      <th>host_id</th>\n",
              "      <th>host_response_time</th>\n",
              "      <th>host_response_rate</th>\n",
              "      <th>host_acceptance_rate</th>\n",
              "      <th>property_type</th>\n",
              "      <th>room_type</th>\n",
              "      <th>beds</th>\n",
              "      <th>extra_people</th>\n",
              "      <th>number_of_reviews</th>\n",
              "      <th>number_of_reviews_ltm</th>\n",
              "      <th>reviews_per_month</th>\n",
              "      <th>neighbourhood</th>\n",
              "      <th>price</th>\n",
              "      <th>review_scores_rating</th>\n",
              "    </tr>\n",
              "  </thead>\n",
              "  <tbody>\n",
              "    <tr>\n",
              "      <th>count</th>\n",
              "      <td>10438.000000</td>\n",
              "      <td>10438.000000</td>\n",
              "      <td>1.043800e+04</td>\n",
              "      <td>10438.000000</td>\n",
              "      <td>10438.000000</td>\n",
              "      <td>10438.000000</td>\n",
              "      <td>1.043800e+04</td>\n",
              "      <td>10438.000000</td>\n",
              "      <td>10438.000000</td>\n",
              "      <td>10438.000000</td>\n",
              "      <td>10438.000000</td>\n",
              "      <td>10438.000000</td>\n",
              "      <td>10197.000000</td>\n",
              "      <td>8670.000000</td>\n",
              "    </tr>\n",
              "    <tr>\n",
              "      <th>mean</th>\n",
              "      <td>0.493226</td>\n",
              "      <td>0.833649</td>\n",
              "      <td>4.691831e-04</td>\n",
              "      <td>0.000289</td>\n",
              "      <td>0.667532</td>\n",
              "      <td>0.714198</td>\n",
              "      <td>9.821843e-05</td>\n",
              "      <td>0.056358</td>\n",
              "      <td>0.007478</td>\n",
              "      <td>0.007478</td>\n",
              "      <td>0.007478</td>\n",
              "      <td>0.467781</td>\n",
              "      <td>26600.909798</td>\n",
              "      <td>93.547866</td>\n",
              "    </tr>\n",
              "    <tr>\n",
              "      <th>std</th>\n",
              "      <td>0.277898</td>\n",
              "      <td>0.063410</td>\n",
              "      <td>2.142922e-02</td>\n",
              "      <td>0.016952</td>\n",
              "      <td>0.106604</td>\n",
              "      <td>0.061671</td>\n",
              "      <td>9.787918e-03</td>\n",
              "      <td>0.012723</td>\n",
              "      <td>0.011402</td>\n",
              "      <td>0.011402</td>\n",
              "      <td>0.011402</td>\n",
              "      <td>0.216498</td>\n",
              "      <td>79521.022528</td>\n",
              "      <td>28.196957</td>\n",
              "    </tr>\n",
              "    <tr>\n",
              "      <th>min</th>\n",
              "      <td>0.000000</td>\n",
              "      <td>0.000000</td>\n",
              "      <td>0.000000e+00</td>\n",
              "      <td>0.000000</td>\n",
              "      <td>0.000000</td>\n",
              "      <td>0.000000</td>\n",
              "      <td>0.000000e+00</td>\n",
              "      <td>0.000000</td>\n",
              "      <td>0.000000</td>\n",
              "      <td>0.000000</td>\n",
              "      <td>0.000000</td>\n",
              "      <td>0.000000</td>\n",
              "      <td>0.000000</td>\n",
              "      <td>0.000000</td>\n",
              "    </tr>\n",
              "    <tr>\n",
              "      <th>25%</th>\n",
              "      <td>0.252339</td>\n",
              "      <td>0.841584</td>\n",
              "      <td>5.511251e-07</td>\n",
              "      <td>0.000001</td>\n",
              "      <td>0.598131</td>\n",
              "      <td>0.683333</td>\n",
              "      <td>8.620593e-07</td>\n",
              "      <td>0.056014</td>\n",
              "      <td>0.003524</td>\n",
              "      <td>0.003524</td>\n",
              "      <td>0.003524</td>\n",
              "      <td>0.275229</td>\n",
              "      <td>6865.000000</td>\n",
              "      <td>90.000000</td>\n",
              "    </tr>\n",
              "    <tr>\n",
              "      <th>50%</th>\n",
              "      <td>0.484350</td>\n",
              "      <td>0.841584</td>\n",
              "      <td>5.511251e-07</td>\n",
              "      <td>0.000001</td>\n",
              "      <td>0.598131</td>\n",
              "      <td>0.683333</td>\n",
              "      <td>1.724119e-06</td>\n",
              "      <td>0.056014</td>\n",
              "      <td>0.006652</td>\n",
              "      <td>0.006652</td>\n",
              "      <td>0.006652</td>\n",
              "      <td>0.568807</td>\n",
              "      <td>11551.000000</td>\n",
              "      <td>95.000000</td>\n",
              "    </tr>\n",
              "    <tr>\n",
              "      <th>75%</th>\n",
              "      <td>0.742820</td>\n",
              "      <td>0.841584</td>\n",
              "      <td>5.511251e-07</td>\n",
              "      <td>0.000001</td>\n",
              "      <td>0.766355</td>\n",
              "      <td>0.716667</td>\n",
              "      <td>2.586178e-06</td>\n",
              "      <td>0.056014</td>\n",
              "      <td>0.009868</td>\n",
              "      <td>0.009868</td>\n",
              "      <td>0.009868</td>\n",
              "      <td>0.660550</td>\n",
              "      <td>20001.000000</td>\n",
              "      <td>98.000000</td>\n",
              "    </tr>\n",
              "    <tr>\n",
              "      <th>max</th>\n",
              "      <td>1.000000</td>\n",
              "      <td>1.000000</td>\n",
              "      <td>1.000000e+00</td>\n",
              "      <td>1.000000</td>\n",
              "      <td>1.000000</td>\n",
              "      <td>1.000000</td>\n",
              "      <td>1.000000e+00</td>\n",
              "      <td>1.000000</td>\n",
              "      <td>1.000000</td>\n",
              "      <td>1.000000</td>\n",
              "      <td>1.000000</td>\n",
              "      <td>1.000000</td>\n",
              "      <td>999995.000000</td>\n",
              "      <td>1125.000000</td>\n",
              "    </tr>\n",
              "  </tbody>\n",
              "</table>\n",
              "</div>"
            ],
            "text/plain": [
              "            host_id  host_response_time  ...          price  review_scores_rating\n",
              "count  10438.000000        10438.000000  ...   10197.000000           8670.000000\n",
              "mean       0.493226            0.833649  ...   26600.909798             93.547866\n",
              "std        0.277898            0.063410  ...   79521.022528             28.196957\n",
              "min        0.000000            0.000000  ...       0.000000              0.000000\n",
              "25%        0.252339            0.841584  ...    6865.000000             90.000000\n",
              "50%        0.484350            0.841584  ...   11551.000000             95.000000\n",
              "75%        0.742820            0.841584  ...   20001.000000             98.000000\n",
              "max        1.000000            1.000000  ...  999995.000000           1125.000000\n",
              "\n",
              "[8 rows x 14 columns]"
            ]
          },
          "metadata": {
            "tags": []
          },
          "execution_count": 186
        }
      ]
    },
    {
      "cell_type": "markdown",
      "metadata": {
        "id": "8K5syN_lxu6G"
      },
      "source": [
        "check NULL values and drop them"
      ]
    },
    {
      "cell_type": "code",
      "metadata": {
        "id": "iZQ4dVCpxwca",
        "colab": {
          "base_uri": "https://localhost:8080/",
          "height": 370
        },
        "outputId": "60e9b5a6-5b9b-49ee-b448-fb57c555a143"
      },
      "source": [
        "#print(clf_Train['review_scores_rating'].isna().sum())\n",
        "clf_Train.dropna(subset = [\"review_scores_rating\"], inplace=True)\n",
        "clf_Test.dropna(subset = [\"review_scores_rating\"], inplace=True)\n",
        "clf_Train_Raw.dropna(subset = [\"review_scores_rating\"], inplace=True)\n",
        "clf_Test_Raw.dropna(subset = [\"review_scores_rating\"], inplace=True)\n",
        "\n",
        "clf_Train.info()\n",
        "#print(clf_Train['review_scores_rating'].isna().sum())"
      ],
      "execution_count": null,
      "outputs": [
        {
          "output_type": "stream",
          "text": [
            "<class 'pandas.core.frame.DataFrame'>\n",
            "Int64Index: 8670 entries, 0 to 10437\n",
            "Data columns (total 14 columns):\n",
            " #   Column                 Non-Null Count  Dtype  \n",
            "---  ------                 --------------  -----  \n",
            " 0   host_id                8670 non-null   float64\n",
            " 1   host_response_time     8670 non-null   float64\n",
            " 2   host_response_rate     8670 non-null   float64\n",
            " 3   host_acceptance_rate   8670 non-null   float64\n",
            " 4   property_type          8670 non-null   float64\n",
            " 5   room_type              8670 non-null   float64\n",
            " 6   beds                   8670 non-null   float64\n",
            " 7   extra_people           8670 non-null   float64\n",
            " 8   number_of_reviews      8670 non-null   float64\n",
            " 9   number_of_reviews_ltm  8670 non-null   float64\n",
            " 10  reviews_per_month      8670 non-null   float64\n",
            " 11  neighbourhood          8670 non-null   float64\n",
            " 12  price                  8646 non-null   float64\n",
            " 13  review_scores_rating   8670 non-null   float64\n",
            "dtypes: float64(14)\n",
            "memory usage: 1016.0 KB\n"
          ],
          "name": "stdout"
        }
      ]
    },
    {
      "cell_type": "markdown",
      "metadata": {
        "id": "a7Mck90NtbdN"
      },
      "source": [
        "check and drop outliers.\n",
        "Since it is a rating we can assume that the maximum value should be 100 as in 100% and the minimum as 0. so any value above 100 should be removed"
      ]
    },
    {
      "cell_type": "code",
      "metadata": {
        "id": "4R_JSBoEtaqi",
        "colab": {
          "base_uri": "https://localhost:8080/",
          "height": 741
        },
        "outputId": "f6af7648-49bf-420f-cf6f-3eaea7af2d35"
      },
      "source": [
        "clf_feature_train = clf_Train[clf_Train['review_scores_rating']<=100]\n",
        "clf_feature_train = clf_feature_train[clf_Train['review_scores_rating']>=0]\n",
        "display(clf_feature_train.describe())\n",
        "display(clf_feature_train.info())"
      ],
      "execution_count": null,
      "outputs": [
        {
          "output_type": "stream",
          "text": [
            "/usr/local/lib/python3.6/dist-packages/ipykernel_launcher.py:2: UserWarning:\n",
            "\n",
            "Boolean Series key will be reindexed to match DataFrame index.\n",
            "\n"
          ],
          "name": "stderr"
        },
        {
          "output_type": "display_data",
          "data": {
            "text/html": [
              "<div>\n",
              "<style scoped>\n",
              "    .dataframe tbody tr th:only-of-type {\n",
              "        vertical-align: middle;\n",
              "    }\n",
              "\n",
              "    .dataframe tbody tr th {\n",
              "        vertical-align: top;\n",
              "    }\n",
              "\n",
              "    .dataframe thead th {\n",
              "        text-align: right;\n",
              "    }\n",
              "</style>\n",
              "<table border=\"1\" class=\"dataframe\">\n",
              "  <thead>\n",
              "    <tr style=\"text-align: right;\">\n",
              "      <th></th>\n",
              "      <th>host_id</th>\n",
              "      <th>host_response_time</th>\n",
              "      <th>host_response_rate</th>\n",
              "      <th>host_acceptance_rate</th>\n",
              "      <th>property_type</th>\n",
              "      <th>room_type</th>\n",
              "      <th>beds</th>\n",
              "      <th>extra_people</th>\n",
              "      <th>number_of_reviews</th>\n",
              "      <th>number_of_reviews_ltm</th>\n",
              "      <th>reviews_per_month</th>\n",
              "      <th>neighbourhood</th>\n",
              "      <th>price</th>\n",
              "      <th>review_scores_rating</th>\n",
              "    </tr>\n",
              "  </thead>\n",
              "  <tbody>\n",
              "    <tr>\n",
              "      <th>count</th>\n",
              "      <td>8649.000000</td>\n",
              "      <td>8649.000000</td>\n",
              "      <td>8.649000e+03</td>\n",
              "      <td>8649.000000</td>\n",
              "      <td>8649.000000</td>\n",
              "      <td>8649.000000</td>\n",
              "      <td>8.649000e+03</td>\n",
              "      <td>8649.000000</td>\n",
              "      <td>8649.000000</td>\n",
              "      <td>8649.000000</td>\n",
              "      <td>8649.000000</td>\n",
              "      <td>8649.000000</td>\n",
              "      <td>8628.000000</td>\n",
              "      <td>8649.000000</td>\n",
              "    </tr>\n",
              "    <tr>\n",
              "      <th>mean</th>\n",
              "      <td>0.481851</td>\n",
              "      <td>0.838765</td>\n",
              "      <td>5.661195e-04</td>\n",
              "      <td>0.000348</td>\n",
              "      <td>0.660890</td>\n",
              "      <td>0.712233</td>\n",
              "      <td>1.180811e-04</td>\n",
              "      <td>0.056059</td>\n",
              "      <td>0.007685</td>\n",
              "      <td>0.007685</td>\n",
              "      <td>0.007685</td>\n",
              "      <td>0.468475</td>\n",
              "      <td>24882.839534</td>\n",
              "      <td>92.543762</td>\n",
              "    </tr>\n",
              "    <tr>\n",
              "      <th>std</th>\n",
              "      <td>0.283739</td>\n",
              "      <td>0.032903</td>\n",
              "      <td>2.354045e-02</td>\n",
              "      <td>0.018622</td>\n",
              "      <td>0.093288</td>\n",
              "      <td>0.056490</td>\n",
              "      <td>1.075266e-02</td>\n",
              "      <td>0.004216</td>\n",
              "      <td>0.006405</td>\n",
              "      <td>0.006405</td>\n",
              "      <td>0.006405</td>\n",
              "      <td>0.211025</td>\n",
              "      <td>75288.039578</td>\n",
              "      <td>8.931863</td>\n",
              "    </tr>\n",
              "    <tr>\n",
              "      <th>min</th>\n",
              "      <td>0.001936</td>\n",
              "      <td>0.039604</td>\n",
              "      <td>0.000000e+00</td>\n",
              "      <td>0.000000</td>\n",
              "      <td>0.000000</td>\n",
              "      <td>0.050000</td>\n",
              "      <td>0.000000e+00</td>\n",
              "      <td>0.056014</td>\n",
              "      <td>0.000000</td>\n",
              "      <td>0.000000</td>\n",
              "      <td>0.000000</td>\n",
              "      <td>0.027523</td>\n",
              "      <td>0.000000</td>\n",
              "      <td>0.000000</td>\n",
              "    </tr>\n",
              "    <tr>\n",
              "      <th>25%</th>\n",
              "      <td>0.237496</td>\n",
              "      <td>0.841584</td>\n",
              "      <td>5.511251e-07</td>\n",
              "      <td>0.000001</td>\n",
              "      <td>0.598131</td>\n",
              "      <td>0.683333</td>\n",
              "      <td>8.620593e-07</td>\n",
              "      <td>0.056014</td>\n",
              "      <td>0.003128</td>\n",
              "      <td>0.003128</td>\n",
              "      <td>0.003128</td>\n",
              "      <td>0.321101</td>\n",
              "      <td>6822.250000</td>\n",
              "      <td>90.000000</td>\n",
              "    </tr>\n",
              "    <tr>\n",
              "      <th>50%</th>\n",
              "      <td>0.460148</td>\n",
              "      <td>0.841584</td>\n",
              "      <td>5.511251e-07</td>\n",
              "      <td>0.000001</td>\n",
              "      <td>0.598131</td>\n",
              "      <td>0.683333</td>\n",
              "      <td>1.724119e-06</td>\n",
              "      <td>0.056014</td>\n",
              "      <td>0.006828</td>\n",
              "      <td>0.006828</td>\n",
              "      <td>0.006828</td>\n",
              "      <td>0.568807</td>\n",
              "      <td>11048.000000</td>\n",
              "      <td>95.000000</td>\n",
              "    </tr>\n",
              "    <tr>\n",
              "      <th>75%</th>\n",
              "      <td>0.757341</td>\n",
              "      <td>0.841584</td>\n",
              "      <td>5.511251e-07</td>\n",
              "      <td>0.000001</td>\n",
              "      <td>0.757009</td>\n",
              "      <td>0.716667</td>\n",
              "      <td>3.448237e-06</td>\n",
              "      <td>0.056014</td>\n",
              "      <td>0.010881</td>\n",
              "      <td>0.010881</td>\n",
              "      <td>0.010881</td>\n",
              "      <td>0.660550</td>\n",
              "      <td>19951.000000</td>\n",
              "      <td>98.000000</td>\n",
              "    </tr>\n",
              "    <tr>\n",
              "      <th>max</th>\n",
              "      <td>0.986770</td>\n",
              "      <td>0.990099</td>\n",
              "      <td>1.000000e+00</td>\n",
              "      <td>1.000000</td>\n",
              "      <td>0.981308</td>\n",
              "      <td>0.900000</td>\n",
              "      <td>1.000000e+00</td>\n",
              "      <td>0.448112</td>\n",
              "      <td>0.192070</td>\n",
              "      <td>0.192070</td>\n",
              "      <td>0.192070</td>\n",
              "      <td>0.880734</td>\n",
              "      <td>999995.000000</td>\n",
              "      <td>100.000000</td>\n",
              "    </tr>\n",
              "  </tbody>\n",
              "</table>\n",
              "</div>"
            ],
            "text/plain": [
              "           host_id  host_response_time  ...          price  review_scores_rating\n",
              "count  8649.000000         8649.000000  ...    8628.000000           8649.000000\n",
              "mean      0.481851            0.838765  ...   24882.839534             92.543762\n",
              "std       0.283739            0.032903  ...   75288.039578              8.931863\n",
              "min       0.001936            0.039604  ...       0.000000              0.000000\n",
              "25%       0.237496            0.841584  ...    6822.250000             90.000000\n",
              "50%       0.460148            0.841584  ...   11048.000000             95.000000\n",
              "75%       0.757341            0.841584  ...   19951.000000             98.000000\n",
              "max       0.986770            0.990099  ...  999995.000000            100.000000\n",
              "\n",
              "[8 rows x 14 columns]"
            ]
          },
          "metadata": {
            "tags": []
          }
        },
        {
          "output_type": "stream",
          "text": [
            "<class 'pandas.core.frame.DataFrame'>\n",
            "Int64Index: 8649 entries, 0 to 10437\n",
            "Data columns (total 14 columns):\n",
            " #   Column                 Non-Null Count  Dtype  \n",
            "---  ------                 --------------  -----  \n",
            " 0   host_id                8649 non-null   float64\n",
            " 1   host_response_time     8649 non-null   float64\n",
            " 2   host_response_rate     8649 non-null   float64\n",
            " 3   host_acceptance_rate   8649 non-null   float64\n",
            " 4   property_type          8649 non-null   float64\n",
            " 5   room_type              8649 non-null   float64\n",
            " 6   beds                   8649 non-null   float64\n",
            " 7   extra_people           8649 non-null   float64\n",
            " 8   number_of_reviews      8649 non-null   float64\n",
            " 9   number_of_reviews_ltm  8649 non-null   float64\n",
            " 10  reviews_per_month      8649 non-null   float64\n",
            " 11  neighbourhood          8649 non-null   float64\n",
            " 12  price                  8628 non-null   float64\n",
            " 13  review_scores_rating   8649 non-null   float64\n",
            "dtypes: float64(14)\n",
            "memory usage: 1013.6 KB\n"
          ],
          "name": "stdout"
        },
        {
          "output_type": "display_data",
          "data": {
            "text/plain": [
              "None"
            ]
          },
          "metadata": {
            "tags": []
          }
        }
      ]
    },
    {
      "cell_type": "markdown",
      "metadata": {
        "id": "p_OsRpamcpO4"
      },
      "source": [
        "since we will be using classification algorithm. it's best to convert the output data into categorical data. we can do this by applying bins which allows us to convert the data into 5 category which are '1 star','2 star','3 star','4 star',and '5 star'. with an interval approximately of 20"
      ]
    },
    {
      "cell_type": "code",
      "metadata": {
        "id": "-4OsyL2RBzBF"
      },
      "source": [
        "cut_bins=[-9999999,20,40,60,80,9999999]\n",
        "cut_labels=['1 star','2 star','3 star','4 star', '5 star']\n",
        "le = preprocessing.LabelEncoder()\n",
        "\n",
        "rating_category=pd.cut(clf_feature_train['review_scores_rating'],bins=cut_bins,labels=cut_labels)\n",
        "clf_feature_train['review_scores_rating']=le.fit_transform(rating_category)\n",
        "\n",
        "\n",
        "rating_category=pd.cut(clf_Test['review_scores_rating'],bins=cut_bins,labels=cut_labels)\n",
        "clf_Test['review_scores_rating']=le.transform(rating_category)\n",
        "\n",
        "\n",
        "rating_category=pd.cut(clf_Train_Raw['review_scores_rating'],bins=cut_bins,labels=cut_labels)\n",
        "clf_Train_Raw['review_scores_rating']=le.transform(rating_category)\n",
        "\n",
        "rating_category=pd.cut(clf_Test_Raw['review_scores_rating'],bins=cut_bins,labels=cut_labels)\n",
        "clf_Test_Raw['review_scores_rating']=le.transform(rating_category)\n",
        "\n",
        "\n"
      ],
      "execution_count": null,
      "outputs": []
    },
    {
      "cell_type": "markdown",
      "metadata": {
        "id": "bFqcptnpTbX4"
      },
      "source": [
        "Feature selection using ANOVA for continous feature and chisquare for categorical feature"
      ]
    },
    {
      "cell_type": "code",
      "metadata": {
        "id": "1AfDAsSPTa0V",
        "colab": {
          "base_uri": "https://localhost:8080/",
          "height": 374
        },
        "outputId": "e5bf7a7c-8be1-4c96-ae45-e0555bd060d1"
      },
      "source": [
        "categorical=clf_feature_train[['host_id','host_response_time','property_type','room_type','neighbourhood']]\n",
        "continous =clf_feature_train[['host_response_rate','host_acceptance_rate','beds','extra_people','reviews_per_month','number_of_reviews','number_of_reviews_ltm']]\n",
        "label=clf_feature_train[[\"review_scores_rating\"]]\n",
        "\n",
        "\n",
        "fval,pval=feature_selection.f_classif(continous,label.values.ravel())\n",
        "pvalue=pd.DataFrame(categorical.columns,columns=['feature'])\n",
        "pval=pd.DataFrame(pval,columns=['p value'])\n",
        "display(pvalue.join(pval))\n",
        "\n",
        "chi,pval=feature_selection.chi2(categorical,label.values.ravel())\n",
        "pvalue=pd.DataFrame(categorical.columns,columns=['feature'])\n",
        "pval=pd.DataFrame(pval,columns=['p value'])\n",
        "display(pvalue.join(pval))"
      ],
      "execution_count": null,
      "outputs": [
        {
          "output_type": "display_data",
          "data": {
            "text/html": [
              "<div>\n",
              "<style scoped>\n",
              "    .dataframe tbody tr th:only-of-type {\n",
              "        vertical-align: middle;\n",
              "    }\n",
              "\n",
              "    .dataframe tbody tr th {\n",
              "        vertical-align: top;\n",
              "    }\n",
              "\n",
              "    .dataframe thead th {\n",
              "        text-align: right;\n",
              "    }\n",
              "</style>\n",
              "<table border=\"1\" class=\"dataframe\">\n",
              "  <thead>\n",
              "    <tr style=\"text-align: right;\">\n",
              "      <th></th>\n",
              "      <th>feature</th>\n",
              "      <th>p value</th>\n",
              "    </tr>\n",
              "  </thead>\n",
              "  <tbody>\n",
              "    <tr>\n",
              "      <th>0</th>\n",
              "      <td>host_id</td>\n",
              "      <td>1.440618e-12</td>\n",
              "    </tr>\n",
              "    <tr>\n",
              "      <th>1</th>\n",
              "      <td>host_response_time</td>\n",
              "      <td>1.782760e-218</td>\n",
              "    </tr>\n",
              "    <tr>\n",
              "      <th>2</th>\n",
              "      <td>property_type</td>\n",
              "      <td>3.574636e-69</td>\n",
              "    </tr>\n",
              "    <tr>\n",
              "      <th>3</th>\n",
              "      <td>room_type</td>\n",
              "      <td>3.831613e-69</td>\n",
              "    </tr>\n",
              "    <tr>\n",
              "      <th>4</th>\n",
              "      <td>neighbourhood</td>\n",
              "      <td>2.365708e-86</td>\n",
              "    </tr>\n",
              "  </tbody>\n",
              "</table>\n",
              "</div>"
            ],
            "text/plain": [
              "              feature        p value\n",
              "0             host_id   1.440618e-12\n",
              "1  host_response_time  1.782760e-218\n",
              "2       property_type   3.574636e-69\n",
              "3           room_type   3.831613e-69\n",
              "4       neighbourhood   2.365708e-86"
            ]
          },
          "metadata": {
            "tags": []
          }
        },
        {
          "output_type": "display_data",
          "data": {
            "text/html": [
              "<div>\n",
              "<style scoped>\n",
              "    .dataframe tbody tr th:only-of-type {\n",
              "        vertical-align: middle;\n",
              "    }\n",
              "\n",
              "    .dataframe tbody tr th {\n",
              "        vertical-align: top;\n",
              "    }\n",
              "\n",
              "    .dataframe thead th {\n",
              "        text-align: right;\n",
              "    }\n",
              "</style>\n",
              "<table border=\"1\" class=\"dataframe\">\n",
              "  <thead>\n",
              "    <tr style=\"text-align: right;\">\n",
              "      <th></th>\n",
              "      <th>feature</th>\n",
              "      <th>p value</th>\n",
              "    </tr>\n",
              "  </thead>\n",
              "  <tbody>\n",
              "    <tr>\n",
              "      <th>0</th>\n",
              "      <td>host_id</td>\n",
              "      <td>0.841600</td>\n",
              "    </tr>\n",
              "    <tr>\n",
              "      <th>1</th>\n",
              "      <td>host_response_time</td>\n",
              "      <td>0.399627</td>\n",
              "    </tr>\n",
              "    <tr>\n",
              "      <th>2</th>\n",
              "      <td>property_type</td>\n",
              "      <td>0.974214</td>\n",
              "    </tr>\n",
              "    <tr>\n",
              "      <th>3</th>\n",
              "      <td>room_type</td>\n",
              "      <td>0.613478</td>\n",
              "    </tr>\n",
              "    <tr>\n",
              "      <th>4</th>\n",
              "      <td>neighbourhood</td>\n",
              "      <td>0.269848</td>\n",
              "    </tr>\n",
              "  </tbody>\n",
              "</table>\n",
              "</div>"
            ],
            "text/plain": [
              "              feature   p value\n",
              "0             host_id  0.841600\n",
              "1  host_response_time  0.399627\n",
              "2       property_type  0.974214\n",
              "3           room_type  0.613478\n",
              "4       neighbourhood  0.269848"
            ]
          },
          "metadata": {
            "tags": []
          }
        }
      ]
    },
    {
      "cell_type": "markdown",
      "metadata": {
        "id": "-CqX1rKkaNIM"
      },
      "source": [
        "all of the data shows the p value close to 0 which means it is possible to use all the features for training"
      ]
    },
    {
      "cell_type": "markdown",
      "metadata": {
        "id": "8ynPNh7-yBwu"
      },
      "source": [
        "split data between test and train"
      ]
    },
    {
      "cell_type": "code",
      "metadata": {
        "id": "2bLzyyMkyFEu",
        "colab": {
          "base_uri": "https://localhost:8080/",
          "height": 974
        },
        "outputId": "2aa0327d-8b44-4f37-d2c5-d46666cf7ec8"
      },
      "source": [
        "XTrain=clf_feature_train[[\"host_id\",\"host_response_time\",\"host_response_rate\",\"host_acceptance_rate\",\"property_type\",\"room_type\",\"beds\", \"extra_people\",\"number_of_reviews\",\"number_of_reviews_ltm\",\"reviews_per_month\", \"neighbourhood\"]]\n",
        "YTrain = clf_feature_train[[\"review_scores_rating\"]]\n",
        "XTest=clf_Test[[\"host_id\",\"host_response_time\",\"host_response_rate\",\"host_acceptance_rate\",\"property_type\",\"room_type\",\"beds\", \"extra_people\",\"number_of_reviews\",\"number_of_reviews_ltm\",\"reviews_per_month\", \"neighbourhood\"]]\n",
        "YTest = clf_Test[[\"review_scores_rating\"]]\n",
        "display(XTrain)\n",
        "display(YTrain)"
      ],
      "execution_count": null,
      "outputs": [
        {
          "output_type": "display_data",
          "data": {
            "text/html": [
              "<div>\n",
              "<style scoped>\n",
              "    .dataframe tbody tr th:only-of-type {\n",
              "        vertical-align: middle;\n",
              "    }\n",
              "\n",
              "    .dataframe tbody tr th {\n",
              "        vertical-align: top;\n",
              "    }\n",
              "\n",
              "    .dataframe thead th {\n",
              "        text-align: right;\n",
              "    }\n",
              "</style>\n",
              "<table border=\"1\" class=\"dataframe\">\n",
              "  <thead>\n",
              "    <tr style=\"text-align: right;\">\n",
              "      <th></th>\n",
              "      <th>host_id</th>\n",
              "      <th>host_response_time</th>\n",
              "      <th>host_response_rate</th>\n",
              "      <th>host_acceptance_rate</th>\n",
              "      <th>property_type</th>\n",
              "      <th>room_type</th>\n",
              "      <th>beds</th>\n",
              "      <th>extra_people</th>\n",
              "      <th>number_of_reviews</th>\n",
              "      <th>number_of_reviews_ltm</th>\n",
              "      <th>reviews_per_month</th>\n",
              "      <th>neighbourhood</th>\n",
              "    </tr>\n",
              "  </thead>\n",
              "  <tbody>\n",
              "    <tr>\n",
              "      <th>0</th>\n",
              "      <td>0.800904</td>\n",
              "      <td>0.821782</td>\n",
              "      <td>4.519226e-07</td>\n",
              "      <td>9.800769e-07</td>\n",
              "      <td>0.775701</td>\n",
              "      <td>0.800000</td>\n",
              "      <td>1.724119e-06</td>\n",
              "      <td>0.056014</td>\n",
              "      <td>0.009383</td>\n",
              "      <td>0.009383</td>\n",
              "      <td>0.009383</td>\n",
              "      <td>0.486239</td>\n",
              "    </tr>\n",
              "    <tr>\n",
              "      <th>1</th>\n",
              "      <td>0.760568</td>\n",
              "      <td>0.841584</td>\n",
              "      <td>5.511251e-07</td>\n",
              "      <td>1.225096e-06</td>\n",
              "      <td>0.775701</td>\n",
              "      <td>0.683333</td>\n",
              "      <td>1.724119e-06</td>\n",
              "      <td>0.056014</td>\n",
              "      <td>0.001366</td>\n",
              "      <td>0.001366</td>\n",
              "      <td>0.001366</td>\n",
              "      <td>0.275229</td>\n",
              "    </tr>\n",
              "    <tr>\n",
              "      <th>2</th>\n",
              "      <td>0.422717</td>\n",
              "      <td>0.841584</td>\n",
              "      <td>5.511251e-07</td>\n",
              "      <td>1.361218e-06</td>\n",
              "      <td>0.598131</td>\n",
              "      <td>0.683333</td>\n",
              "      <td>8.620593e-07</td>\n",
              "      <td>0.056014</td>\n",
              "      <td>0.005419</td>\n",
              "      <td>0.005419</td>\n",
              "      <td>0.005419</td>\n",
              "      <td>0.733945</td>\n",
              "    </tr>\n",
              "    <tr>\n",
              "      <th>3</th>\n",
              "      <td>0.572120</td>\n",
              "      <td>0.841584</td>\n",
              "      <td>5.511251e-07</td>\n",
              "      <td>1.361218e-06</td>\n",
              "      <td>0.598131</td>\n",
              "      <td>0.683333</td>\n",
              "      <td>1.724119e-06</td>\n",
              "      <td>0.056014</td>\n",
              "      <td>0.010000</td>\n",
              "      <td>0.010000</td>\n",
              "      <td>0.010000</td>\n",
              "      <td>0.568807</td>\n",
              "    </tr>\n",
              "    <tr>\n",
              "      <th>4</th>\n",
              "      <td>0.354308</td>\n",
              "      <td>0.841584</td>\n",
              "      <td>5.511251e-07</td>\n",
              "      <td>1.197872e-06</td>\n",
              "      <td>0.598131</td>\n",
              "      <td>0.683333</td>\n",
              "      <td>4.310297e-06</td>\n",
              "      <td>0.056014</td>\n",
              "      <td>0.009251</td>\n",
              "      <td>0.009251</td>\n",
              "      <td>0.009251</td>\n",
              "      <td>0.091743</td>\n",
              "    </tr>\n",
              "    <tr>\n",
              "      <th>...</th>\n",
              "      <td>...</td>\n",
              "      <td>...</td>\n",
              "      <td>...</td>\n",
              "      <td>...</td>\n",
              "      <td>...</td>\n",
              "      <td>...</td>\n",
              "      <td>...</td>\n",
              "      <td>...</td>\n",
              "      <td>...</td>\n",
              "      <td>...</td>\n",
              "      <td>...</td>\n",
              "      <td>...</td>\n",
              "    </tr>\n",
              "    <tr>\n",
              "      <th>10428</th>\n",
              "      <td>0.801226</td>\n",
              "      <td>0.841584</td>\n",
              "      <td>5.511251e-07</td>\n",
              "      <td>1.347606e-06</td>\n",
              "      <td>0.878505</td>\n",
              "      <td>0.716667</td>\n",
              "      <td>1.724119e-06</td>\n",
              "      <td>0.056014</td>\n",
              "      <td>0.015066</td>\n",
              "      <td>0.015066</td>\n",
              "      <td>0.015066</td>\n",
              "      <td>0.110092</td>\n",
              "    </tr>\n",
              "    <tr>\n",
              "      <th>10432</th>\n",
              "      <td>0.251694</td>\n",
              "      <td>0.841584</td>\n",
              "      <td>5.511251e-07</td>\n",
              "      <td>1.361218e-06</td>\n",
              "      <td>0.598131</td>\n",
              "      <td>0.683333</td>\n",
              "      <td>2.586178e-06</td>\n",
              "      <td>0.056014</td>\n",
              "      <td>0.010705</td>\n",
              "      <td>0.010705</td>\n",
              "      <td>0.010705</td>\n",
              "      <td>0.055046</td>\n",
              "    </tr>\n",
              "    <tr>\n",
              "      <th>10433</th>\n",
              "      <td>0.749597</td>\n",
              "      <td>0.841584</td>\n",
              "      <td>5.511251e-07</td>\n",
              "      <td>1.252320e-06</td>\n",
              "      <td>0.775701</td>\n",
              "      <td>0.683333</td>\n",
              "      <td>6.896474e-06</td>\n",
              "      <td>0.056014</td>\n",
              "      <td>0.018370</td>\n",
              "      <td>0.018370</td>\n",
              "      <td>0.018370</td>\n",
              "      <td>0.568807</td>\n",
              "    </tr>\n",
              "    <tr>\n",
              "      <th>10434</th>\n",
              "      <td>0.877057</td>\n",
              "      <td>0.841584</td>\n",
              "      <td>5.511251e-07</td>\n",
              "      <td>1.361218e-06</td>\n",
              "      <td>0.598131</td>\n",
              "      <td>0.683333</td>\n",
              "      <td>1.724119e-06</td>\n",
              "      <td>0.056014</td>\n",
              "      <td>0.012159</td>\n",
              "      <td>0.012159</td>\n",
              "      <td>0.012159</td>\n",
              "      <td>0.688073</td>\n",
              "    </tr>\n",
              "    <tr>\n",
              "      <th>10437</th>\n",
              "      <td>0.344305</td>\n",
              "      <td>0.841584</td>\n",
              "      <td>5.511251e-07</td>\n",
              "      <td>1.361218e-06</td>\n",
              "      <td>0.598131</td>\n",
              "      <td>0.683333</td>\n",
              "      <td>8.620593e-07</td>\n",
              "      <td>0.056014</td>\n",
              "      <td>0.009471</td>\n",
              "      <td>0.009471</td>\n",
              "      <td>0.009471</td>\n",
              "      <td>0.568807</td>\n",
              "    </tr>\n",
              "  </tbody>\n",
              "</table>\n",
              "<p>8649 rows × 12 columns</p>\n",
              "</div>"
            ],
            "text/plain": [
              "        host_id  host_response_time  ...  reviews_per_month  neighbourhood\n",
              "0      0.800904            0.821782  ...           0.009383       0.486239\n",
              "1      0.760568            0.841584  ...           0.001366       0.275229\n",
              "2      0.422717            0.841584  ...           0.005419       0.733945\n",
              "3      0.572120            0.841584  ...           0.010000       0.568807\n",
              "4      0.354308            0.841584  ...           0.009251       0.091743\n",
              "...         ...                 ...  ...                ...            ...\n",
              "10428  0.801226            0.841584  ...           0.015066       0.110092\n",
              "10432  0.251694            0.841584  ...           0.010705       0.055046\n",
              "10433  0.749597            0.841584  ...           0.018370       0.568807\n",
              "10434  0.877057            0.841584  ...           0.012159       0.688073\n",
              "10437  0.344305            0.841584  ...           0.009471       0.568807\n",
              "\n",
              "[8649 rows x 12 columns]"
            ]
          },
          "metadata": {
            "tags": []
          }
        },
        {
          "output_type": "display_data",
          "data": {
            "text/html": [
              "<div>\n",
              "<style scoped>\n",
              "    .dataframe tbody tr th:only-of-type {\n",
              "        vertical-align: middle;\n",
              "    }\n",
              "\n",
              "    .dataframe tbody tr th {\n",
              "        vertical-align: top;\n",
              "    }\n",
              "\n",
              "    .dataframe thead th {\n",
              "        text-align: right;\n",
              "    }\n",
              "</style>\n",
              "<table border=\"1\" class=\"dataframe\">\n",
              "  <thead>\n",
              "    <tr style=\"text-align: right;\">\n",
              "      <th></th>\n",
              "      <th>review_scores_rating</th>\n",
              "    </tr>\n",
              "  </thead>\n",
              "  <tbody>\n",
              "    <tr>\n",
              "      <th>0</th>\n",
              "      <td>4</td>\n",
              "    </tr>\n",
              "    <tr>\n",
              "      <th>1</th>\n",
              "      <td>3</td>\n",
              "    </tr>\n",
              "    <tr>\n",
              "      <th>2</th>\n",
              "      <td>3</td>\n",
              "    </tr>\n",
              "    <tr>\n",
              "      <th>3</th>\n",
              "      <td>4</td>\n",
              "    </tr>\n",
              "    <tr>\n",
              "      <th>4</th>\n",
              "      <td>4</td>\n",
              "    </tr>\n",
              "    <tr>\n",
              "      <th>...</th>\n",
              "      <td>...</td>\n",
              "    </tr>\n",
              "    <tr>\n",
              "      <th>10428</th>\n",
              "      <td>4</td>\n",
              "    </tr>\n",
              "    <tr>\n",
              "      <th>10432</th>\n",
              "      <td>4</td>\n",
              "    </tr>\n",
              "    <tr>\n",
              "      <th>10433</th>\n",
              "      <td>4</td>\n",
              "    </tr>\n",
              "    <tr>\n",
              "      <th>10434</th>\n",
              "      <td>4</td>\n",
              "    </tr>\n",
              "    <tr>\n",
              "      <th>10437</th>\n",
              "      <td>4</td>\n",
              "    </tr>\n",
              "  </tbody>\n",
              "</table>\n",
              "<p>8649 rows × 1 columns</p>\n",
              "</div>"
            ],
            "text/plain": [
              "       review_scores_rating\n",
              "0                         4\n",
              "1                         3\n",
              "2                         3\n",
              "3                         4\n",
              "4                         4\n",
              "...                     ...\n",
              "10428                     4\n",
              "10432                     4\n",
              "10433                     4\n",
              "10434                     4\n",
              "10437                     4\n",
              "\n",
              "[8649 rows x 1 columns]"
            ]
          },
          "metadata": {
            "tags": []
          }
        }
      ]
    },
    {
      "cell_type": "code",
      "metadata": {
        "id": "1bc5S7iEQXMe",
        "colab": {
          "base_uri": "https://localhost:8080/",
          "height": 806
        },
        "outputId": "f1a2a782-1330-4f55-db3c-f32e9fd10230"
      },
      "source": [
        "XTrain_Raw=clf_Train_Raw[[\"host_id\",\"host_response_time\",\"host_response_rate\",\"host_acceptance_rate\",\"property_type\",\"room_type\",\"beds\", \"extra_people\",\"number_of_reviews\",\"number_of_reviews_ltm\",\"reviews_per_month\", \"neighbourhood\"]]\n",
        "YTrain_Raw = clf_Train_Raw[[\"review_scores_rating\"]]\n",
        "XTest_Raw=clf_Test_Raw[[\"host_id\",\"host_response_time\",\"host_response_rate\",\"host_acceptance_rate\",\"property_type\",\"room_type\",\"beds\", \"extra_people\",\"number_of_reviews\",\"number_of_reviews_ltm\",\"reviews_per_month\", \"neighbourhood\"]]\n",
        "YTest_Raw = clf_Test_Raw[[\"review_scores_rating\"]]\n",
        "display(XTrain_Raw)\n",
        "display(YTrain_Raw)"
      ],
      "execution_count": null,
      "outputs": [
        {
          "output_type": "display_data",
          "data": {
            "text/html": [
              "<div>\n",
              "<style scoped>\n",
              "    .dataframe tbody tr th:only-of-type {\n",
              "        vertical-align: middle;\n",
              "    }\n",
              "\n",
              "    .dataframe tbody tr th {\n",
              "        vertical-align: top;\n",
              "    }\n",
              "\n",
              "    .dataframe thead th {\n",
              "        text-align: right;\n",
              "    }\n",
              "</style>\n",
              "<table border=\"1\" class=\"dataframe\">\n",
              "  <thead>\n",
              "    <tr style=\"text-align: right;\">\n",
              "      <th></th>\n",
              "      <th>host_id</th>\n",
              "      <th>host_response_time</th>\n",
              "      <th>host_response_rate</th>\n",
              "      <th>host_acceptance_rate</th>\n",
              "      <th>property_type</th>\n",
              "      <th>room_type</th>\n",
              "      <th>beds</th>\n",
              "      <th>extra_people</th>\n",
              "      <th>number_of_reviews</th>\n",
              "      <th>number_of_reviews_ltm</th>\n",
              "      <th>reviews_per_month</th>\n",
              "      <th>neighbourhood</th>\n",
              "    </tr>\n",
              "  </thead>\n",
              "  <tbody>\n",
              "    <tr>\n",
              "      <th>0</th>\n",
              "      <td>2482.0</td>\n",
              "      <td>83.0</td>\n",
              "      <td>82.0</td>\n",
              "      <td>72.0</td>\n",
              "      <td>85.0</td>\n",
              "      <td>48.0</td>\n",
              "      <td>2.0</td>\n",
              "      <td>2.0</td>\n",
              "      <td>2.13</td>\n",
              "      <td>2.13</td>\n",
              "      <td>2.13</td>\n",
              "      <td>54.0</td>\n",
              "    </tr>\n",
              "    <tr>\n",
              "      <th>1</th>\n",
              "      <td>2357.0</td>\n",
              "      <td>85.0</td>\n",
              "      <td>100.0</td>\n",
              "      <td>90.0</td>\n",
              "      <td>85.0</td>\n",
              "      <td>41.0</td>\n",
              "      <td>2.0</td>\n",
              "      <td>2.0</td>\n",
              "      <td>0.31</td>\n",
              "      <td>0.31</td>\n",
              "      <td>0.31</td>\n",
              "      <td>31.0</td>\n",
              "    </tr>\n",
              "    <tr>\n",
              "      <th>2</th>\n",
              "      <td>1310.0</td>\n",
              "      <td>85.0</td>\n",
              "      <td>100.0</td>\n",
              "      <td>100.0</td>\n",
              "      <td>66.0</td>\n",
              "      <td>41.0</td>\n",
              "      <td>1.0</td>\n",
              "      <td>2.0</td>\n",
              "      <td>1.23</td>\n",
              "      <td>1.23</td>\n",
              "      <td>1.23</td>\n",
              "      <td>81.0</td>\n",
              "    </tr>\n",
              "    <tr>\n",
              "      <th>3</th>\n",
              "      <td>1773.0</td>\n",
              "      <td>85.0</td>\n",
              "      <td>100.0</td>\n",
              "      <td>100.0</td>\n",
              "      <td>66.0</td>\n",
              "      <td>41.0</td>\n",
              "      <td>2.0</td>\n",
              "      <td>2.0</td>\n",
              "      <td>2.27</td>\n",
              "      <td>2.27</td>\n",
              "      <td>2.27</td>\n",
              "      <td>63.0</td>\n",
              "    </tr>\n",
              "    <tr>\n",
              "      <th>4</th>\n",
              "      <td>1098.0</td>\n",
              "      <td>85.0</td>\n",
              "      <td>100.0</td>\n",
              "      <td>88.0</td>\n",
              "      <td>66.0</td>\n",
              "      <td>41.0</td>\n",
              "      <td>5.0</td>\n",
              "      <td>2.0</td>\n",
              "      <td>2.10</td>\n",
              "      <td>2.10</td>\n",
              "      <td>2.10</td>\n",
              "      <td>11.0</td>\n",
              "    </tr>\n",
              "    <tr>\n",
              "      <th>...</th>\n",
              "      <td>...</td>\n",
              "      <td>...</td>\n",
              "      <td>...</td>\n",
              "      <td>...</td>\n",
              "      <td>...</td>\n",
              "      <td>...</td>\n",
              "      <td>...</td>\n",
              "      <td>...</td>\n",
              "      <td>...</td>\n",
              "      <td>...</td>\n",
              "      <td>...</td>\n",
              "      <td>...</td>\n",
              "    </tr>\n",
              "    <tr>\n",
              "      <th>10430</th>\n",
              "      <td>3.0</td>\n",
              "      <td>85.0</td>\n",
              "      <td>100.0</td>\n",
              "      <td>100.0</td>\n",
              "      <td>103.0</td>\n",
              "      <td>41.0</td>\n",
              "      <td>2.0</td>\n",
              "      <td>1.0</td>\n",
              "      <td>1.51</td>\n",
              "      <td>1.51</td>\n",
              "      <td>1.51</td>\n",
              "      <td>2.0</td>\n",
              "    </tr>\n",
              "    <tr>\n",
              "      <th>10432</th>\n",
              "      <td>780.0</td>\n",
              "      <td>85.0</td>\n",
              "      <td>100.0</td>\n",
              "      <td>100.0</td>\n",
              "      <td>66.0</td>\n",
              "      <td>41.0</td>\n",
              "      <td>3.0</td>\n",
              "      <td>2.0</td>\n",
              "      <td>2.43</td>\n",
              "      <td>2.43</td>\n",
              "      <td>2.43</td>\n",
              "      <td>7.0</td>\n",
              "    </tr>\n",
              "    <tr>\n",
              "      <th>10433</th>\n",
              "      <td>2323.0</td>\n",
              "      <td>85.0</td>\n",
              "      <td>100.0</td>\n",
              "      <td>92.0</td>\n",
              "      <td>85.0</td>\n",
              "      <td>41.0</td>\n",
              "      <td>8.0</td>\n",
              "      <td>2.0</td>\n",
              "      <td>4.17</td>\n",
              "      <td>4.17</td>\n",
              "      <td>4.17</td>\n",
              "      <td>63.0</td>\n",
              "    </tr>\n",
              "    <tr>\n",
              "      <th>10434</th>\n",
              "      <td>2718.0</td>\n",
              "      <td>85.0</td>\n",
              "      <td>100.0</td>\n",
              "      <td>100.0</td>\n",
              "      <td>66.0</td>\n",
              "      <td>41.0</td>\n",
              "      <td>2.0</td>\n",
              "      <td>2.0</td>\n",
              "      <td>2.76</td>\n",
              "      <td>2.76</td>\n",
              "      <td>2.76</td>\n",
              "      <td>76.0</td>\n",
              "    </tr>\n",
              "    <tr>\n",
              "      <th>10437</th>\n",
              "      <td>1067.0</td>\n",
              "      <td>85.0</td>\n",
              "      <td>100.0</td>\n",
              "      <td>100.0</td>\n",
              "      <td>66.0</td>\n",
              "      <td>41.0</td>\n",
              "      <td>1.0</td>\n",
              "      <td>2.0</td>\n",
              "      <td>2.15</td>\n",
              "      <td>2.15</td>\n",
              "      <td>2.15</td>\n",
              "      <td>63.0</td>\n",
              "    </tr>\n",
              "  </tbody>\n",
              "</table>\n",
              "<p>8670 rows × 12 columns</p>\n",
              "</div>"
            ],
            "text/plain": [
              "       host_id  host_response_time  ...  reviews_per_month  neighbourhood\n",
              "0       2482.0                83.0  ...               2.13           54.0\n",
              "1       2357.0                85.0  ...               0.31           31.0\n",
              "2       1310.0                85.0  ...               1.23           81.0\n",
              "3       1773.0                85.0  ...               2.27           63.0\n",
              "4       1098.0                85.0  ...               2.10           11.0\n",
              "...        ...                 ...  ...                ...            ...\n",
              "10430      3.0                85.0  ...               1.51            2.0\n",
              "10432    780.0                85.0  ...               2.43            7.0\n",
              "10433   2323.0                85.0  ...               4.17           63.0\n",
              "10434   2718.0                85.0  ...               2.76           76.0\n",
              "10437   1067.0                85.0  ...               2.15           63.0\n",
              "\n",
              "[8670 rows x 12 columns]"
            ]
          },
          "metadata": {
            "tags": []
          }
        },
        {
          "output_type": "display_data",
          "data": {
            "text/html": [
              "<div>\n",
              "<style scoped>\n",
              "    .dataframe tbody tr th:only-of-type {\n",
              "        vertical-align: middle;\n",
              "    }\n",
              "\n",
              "    .dataframe tbody tr th {\n",
              "        vertical-align: top;\n",
              "    }\n",
              "\n",
              "    .dataframe thead th {\n",
              "        text-align: right;\n",
              "    }\n",
              "</style>\n",
              "<table border=\"1\" class=\"dataframe\">\n",
              "  <thead>\n",
              "    <tr style=\"text-align: right;\">\n",
              "      <th></th>\n",
              "      <th>review_scores_rating</th>\n",
              "    </tr>\n",
              "  </thead>\n",
              "  <tbody>\n",
              "    <tr>\n",
              "      <th>0</th>\n",
              "      <td>4</td>\n",
              "    </tr>\n",
              "    <tr>\n",
              "      <th>1</th>\n",
              "      <td>3</td>\n",
              "    </tr>\n",
              "    <tr>\n",
              "      <th>2</th>\n",
              "      <td>3</td>\n",
              "    </tr>\n",
              "    <tr>\n",
              "      <th>3</th>\n",
              "      <td>4</td>\n",
              "    </tr>\n",
              "    <tr>\n",
              "      <th>4</th>\n",
              "      <td>4</td>\n",
              "    </tr>\n",
              "    <tr>\n",
              "      <th>...</th>\n",
              "      <td>...</td>\n",
              "    </tr>\n",
              "    <tr>\n",
              "      <th>10430</th>\n",
              "      <td>4</td>\n",
              "    </tr>\n",
              "    <tr>\n",
              "      <th>10432</th>\n",
              "      <td>4</td>\n",
              "    </tr>\n",
              "    <tr>\n",
              "      <th>10433</th>\n",
              "      <td>4</td>\n",
              "    </tr>\n",
              "    <tr>\n",
              "      <th>10434</th>\n",
              "      <td>4</td>\n",
              "    </tr>\n",
              "    <tr>\n",
              "      <th>10437</th>\n",
              "      <td>4</td>\n",
              "    </tr>\n",
              "  </tbody>\n",
              "</table>\n",
              "<p>8670 rows × 1 columns</p>\n",
              "</div>"
            ],
            "text/plain": [
              "       review_scores_rating\n",
              "0                         4\n",
              "1                         3\n",
              "2                         3\n",
              "3                         4\n",
              "4                         4\n",
              "...                     ...\n",
              "10430                     4\n",
              "10432                     4\n",
              "10433                     4\n",
              "10434                     4\n",
              "10437                     4\n",
              "\n",
              "[8670 rows x 1 columns]"
            ]
          },
          "metadata": {
            "tags": []
          }
        }
      ]
    },
    {
      "cell_type": "markdown",
      "metadata": {
        "id": "HnxAJXeeB93T"
      },
      "source": [
        "**KNN**"
      ]
    },
    {
      "cell_type": "markdown",
      "metadata": {
        "id": "ckdnf6v8CGfh"
      },
      "source": [
        "Train with feature engineered data"
      ]
    },
    {
      "cell_type": "code",
      "metadata": {
        "id": "aZ4tPmBKB9Kz",
        "colab": {
          "base_uri": "https://localhost:8080/",
          "height": 50
        },
        "outputId": "50f50f16-1dac-474f-dd65-745f249e489a"
      },
      "source": [
        "#KNN ALGORITHM\n",
        "from sklearn.neighbors import KNeighborsClassifier\n",
        "Ks = 30\n",
        "accTrain = np.zeros((Ks-1))\n",
        "accTest = np.zeros((Ks-1))\n",
        "ConfustionMx = [];\n",
        "for n in range(1, Ks):    \n",
        "    KNN = KNeighborsClassifier(n_neighbors = n).fit(XTrain, YTrain.astype(int).values.ravel())\n",
        "    CTest  = KNN.predict(XTest)\n",
        "    CTrain  = KNN.predict(XTrain)\n",
        "    accTrain[n - 1] = metrics.accuracy_score(YTrain.astype(int), CTrain)\n",
        "    accTest[n - 1] = metrics.accuracy_score(YTest.astype(int), CTest)\n",
        "    \n",
        "print(\"Best  ACC Training : %.2f\" % accTrain.max(), \", with k = \", accTrain.argmax() + 1)\n",
        "print(\"Best  ACC Testing : %.2f\" % accTest.max(), \", with k = \", accTest.argmax() + 1)"
      ],
      "execution_count": null,
      "outputs": [
        {
          "output_type": "stream",
          "text": [
            "Best  ACC Training : 1.00 , with k =  1\n",
            "Best  ACC Testing : 0.92 , with k =  23\n"
          ],
          "name": "stdout"
        }
      ]
    },
    {
      "cell_type": "markdown",
      "metadata": {
        "id": "zro_GwzJCL6f"
      },
      "source": [
        "Train with raw data"
      ]
    },
    {
      "cell_type": "code",
      "metadata": {
        "id": "LT4f_AlmCZD5",
        "colab": {
          "base_uri": "https://localhost:8080/",
          "height": 50
        },
        "outputId": "eb8be71f-0076-43ba-a480-d6a14d246221"
      },
      "source": [
        "#KNN ALGORITHM\n",
        "from sklearn.neighbors import KNeighborsClassifier\n",
        "Ks = 30\n",
        "accTrain = np.zeros((Ks-1))\n",
        "accTest = np.zeros((Ks-1))\n",
        "ConfustionMx = [];\n",
        "for n in range(1, Ks):    \n",
        "    KNN = KNeighborsClassifier(n_neighbors = n).fit(XTrain_Raw, YTrain_Raw.astype(int).values.ravel())\n",
        "    CTest  = KNN.predict(XTest_Raw)\n",
        "    CTrain  = KNN.predict(XTrain_Raw)\n",
        "    accTrain[n - 1] = metrics.accuracy_score(YTrain_Raw.astype(int), CTrain)\n",
        "    accTest[n - 1] = metrics.accuracy_score(YTest_Raw.astype(int), CTest)\n",
        "    \n",
        "print(\"Best  ACC Training : %.2f\" % accTrain.max(), \", with k = \", accTrain.argmax() + 1)\n",
        "print(\"Best  ACC Testing : %.2f\" % accTest.max(), \", with k = \", accTest.argmax() + 1)"
      ],
      "execution_count": null,
      "outputs": [
        {
          "output_type": "stream",
          "text": [
            "Best  ACC Training : 1.00 , with k =  1\n",
            "Best  ACC Testing : 0.91 , with k =  21\n"
          ],
          "name": "stdout"
        }
      ]
    },
    {
      "cell_type": "markdown",
      "metadata": {
        "id": "1gbYQR0ru8Vu"
      },
      "source": [
        "from the result above we will be using confusion matrix to understand the accuracy of the model. from the result above we can see that there is an increase in accuracy by 0.01 by processing the data. when using the test dataset to try to predict the result. with a k of 23 for engineereed data and k=21 for raw data. this shows that using raw data is worst than featured engineered data"
      ]
    },
    {
      "cell_type": "markdown",
      "metadata": {
        "id": "NOeRUVVmCX6h"
      },
      "source": [
        "**SVM**"
      ]
    },
    {
      "cell_type": "markdown",
      "metadata": {
        "id": "Mc9HjIoWClSp"
      },
      "source": [
        "Train with feature engineered data"
      ]
    },
    {
      "cell_type": "code",
      "metadata": {
        "id": "Nfi4k0neCqSd",
        "colab": {
          "base_uri": "https://localhost:8080/",
          "height": 50
        },
        "outputId": "d04d3fa3-1d8a-4f69-eb1e-a3e4b3b9ccf1"
      },
      "source": [
        "#SVM ALGORITHM\n",
        "from sklearn.svm import SVC\n",
        "SVM = SVC().fit(XTrain, YTrain.astype(int).values.ravel())\n",
        "CTest  = SVM.predict(XTest)\n",
        "CTrain  = SVM.predict(XTrain)\n",
        "print(\"Train set acc: \", metrics.accuracy_score(YTrain.astype(int), CTrain))\n",
        "print(\"Test set acc: \", metrics.accuracy_score(YTest.astype(int), CTest))"
      ],
      "execution_count": null,
      "outputs": [
        {
          "output_type": "stream",
          "text": [
            "Train set acc:  0.91941264886114\n",
            "Test set acc:  0.9134438305709024\n"
          ],
          "name": "stdout"
        }
      ]
    },
    {
      "cell_type": "markdown",
      "metadata": {
        "id": "pjRucbwiCoKy"
      },
      "source": [
        "Train with raw data"
      ]
    },
    {
      "cell_type": "code",
      "metadata": {
        "id": "KjEKDp-ECsv1",
        "colab": {
          "base_uri": "https://localhost:8080/",
          "height": 50
        },
        "outputId": "15a8a50e-fa85-44a4-eb44-cb3ed0fd4284"
      },
      "source": [
        "#SVM ALGORITHM\n",
        "from sklearn.svm import SVC\n",
        "SVM = SVC().fit(XTrain_Raw, YTrain_Raw.astype(int).values.ravel())\n",
        "CTest  = SVM.predict(XTest_Raw)\n",
        "CTrain  = SVM.predict(XTrain_Raw)\n",
        "print(\"Train set acc: \", metrics.accuracy_score(YTrain_Raw.astype(int), CTrain))\n",
        "print(\"Test set acc: \", metrics.accuracy_score(YTest_Raw.astype(int), CTest))"
      ],
      "execution_count": null,
      "outputs": [
        {
          "output_type": "stream",
          "text": [
            "Train set acc:  0.9186851211072664\n",
            "Test set acc:  0.9111418047882136\n"
          ],
          "name": "stdout"
        }
      ]
    },
    {
      "cell_type": "markdown",
      "metadata": {
        "id": "ETuODlExxpln"
      },
      "source": [
        "from the result above we will be using confusion matrix to understand the accuracy of the model. from the result above we can see that there is an increase in accuracy by 0.02 by processing the data. when using the test dataset to try to predict the result. this shows that using raw data is worst than featured engineered data"
      ]
    },
    {
      "cell_type": "markdown",
      "metadata": {
        "id": "9bRm4Yz5Cvsz"
      },
      "source": [
        "**Classification Tree**"
      ]
    },
    {
      "cell_type": "markdown",
      "metadata": {
        "id": "84Cm_cV3C14A"
      },
      "source": [
        "Train with feature engineered data"
      ]
    },
    {
      "cell_type": "code",
      "metadata": {
        "id": "Oq6ATG_UC3s9",
        "colab": {
          "base_uri": "https://localhost:8080/",
          "height": 50
        },
        "outputId": "ead0a95d-faa7-4ea6-937e-cc88561dbbe7"
      },
      "source": [
        "#Tree algorithm\n",
        "from sklearn.tree import DecisionTreeClassifier\n",
        "DST = DecisionTreeClassifier(criterion=\"gini\").fit(XTrain, YTrain.astype(int).values.ravel())\n",
        "CTest  = DST.predict(XTest)\n",
        "CTrain  = DST.predict(XTrain)\n",
        "print(\"Train set acc: \", metrics.accuracy_score(YTrain.astype(int), CTrain))\n",
        "print(\"Test set acc: \", metrics.accuracy_score(YTest.astype(int), CTest))"
      ],
      "execution_count": null,
      "outputs": [
        {
          "output_type": "stream",
          "text": [
            "Train set acc:  0.9971094924268702\n",
            "Test set acc:  0.8476058931860037\n"
          ],
          "name": "stdout"
        }
      ]
    },
    {
      "cell_type": "markdown",
      "metadata": {
        "id": "C94ztNySC260"
      },
      "source": [
        "Train with raw data"
      ]
    },
    {
      "cell_type": "code",
      "metadata": {
        "id": "VGoAtvCQC4Gg",
        "colab": {
          "base_uri": "https://localhost:8080/",
          "height": 50
        },
        "outputId": "aed196ea-eebf-4d20-bb05-c4796563fcdb"
      },
      "source": [
        "#Tree algorithm\n",
        "from sklearn.tree import DecisionTreeClassifier\n",
        "DST = DecisionTreeClassifier(criterion=\"gini\").fit(XTrain_Raw, YTrain_Raw.astype(int).values.ravel())\n",
        "CTest  = DST.predict(XTest_Raw)\n",
        "CTrain  = DST.predict(XTrain_Raw)\n",
        "print(\"Train set acc: \", metrics.accuracy_score(YTrain_Raw.astype(int), CTrain))\n",
        "print(\"Test set acc: \", metrics.accuracy_score(YTest_Raw.astype(int), CTest))"
      ],
      "execution_count": null,
      "outputs": [
        {
          "output_type": "stream",
          "text": [
            "Train set acc:  0.9973471741637832\n",
            "Test set acc:  0.8531307550644567\n"
          ],
          "name": "stdout"
        }
      ]
    },
    {
      "cell_type": "markdown",
      "metadata": {
        "id": "C6YBV79qxvP1"
      },
      "source": [
        "from the result above we will be using confusion matrix to understand the accuracy of the model. from the result above we can see that there is an decrease in accuracy by approximately 0.01 by processing the data. When using the test dataset to try to predict the result. this shows that using raw data is better than featured engineered data"
      ]
    },
    {
      "cell_type": "markdown",
      "metadata": {
        "id": "l3rgQJYEDS6P"
      },
      "source": [
        "**GMM**"
      ]
    },
    {
      "cell_type": "code",
      "metadata": {
        "id": "U7x88a4hDXcj",
        "colab": {
          "base_uri": "https://localhost:8080/",
          "height": 34
        },
        "outputId": "7875334b-74b6-46df-afc8-f1d9023e1c6f"
      },
      "source": [
        "from sklearn.mixture import GaussianMixture\n",
        "from sklearn.metrics import silhouette_score\n",
        "Ks = 30\n",
        "acc = np.zeros((Ks-1))\n",
        "\n",
        "ConfustionMx = [];\n",
        "for n in range(2, Ks):   \n",
        "    GMM = GaussianMixture(n_components=n).fit(XTrain) \n",
        "    YPredict = GMM.predict(XTrain)\n",
        "    acc[n - 1] = silhouette_score(XTrain, YPredict)\n",
        "print(\"Best silhouette Training : %.2f\" % acc.max(), \", with k = \", acc.argmax() + 1)"
      ],
      "execution_count": null,
      "outputs": [
        {
          "output_type": "stream",
          "text": [
            "Best silhouette Training : 0.61 , with k =  2\n"
          ],
          "name": "stdout"
        }
      ]
    },
    {
      "cell_type": "markdown",
      "metadata": {
        "id": "u6GnYRo1yI8Y"
      },
      "source": [
        "the result shows that the training data is distributed by 2 cluster with a silhouette score of 0.61 which is decent"
      ]
    },
    {
      "cell_type": "markdown",
      "metadata": {
        "id": "tXcOShDFDVCe"
      },
      "source": [
        "**K Means**"
      ]
    },
    {
      "cell_type": "code",
      "metadata": {
        "id": "8imFfFC2DYWC",
        "colab": {
          "base_uri": "https://localhost:8080/",
          "height": 34
        },
        "outputId": "2596353f-76b5-471a-a1dc-7100fed4684e"
      },
      "source": [
        "from sklearn.cluster import KMeans\n",
        "from sklearn.metrics import silhouette_score\n",
        "Ks = 30\n",
        "acc = np.zeros((Ks-1))\n",
        "\n",
        "ConfustionMx = [];\n",
        "for n in range(2, Ks):   \n",
        "    KMN = KMeans(n_clusters=n).fit(XTrain) \n",
        "    YPredict = KMN.predict(XTrain)\n",
        "    acc[n - 1] = silhouette_score(XTrain, YPredict)\n",
        "print(\"Best  silhouette Training : %.2f\" % acc.max(), \", with k = \", acc.argmax() + 1)"
      ],
      "execution_count": null,
      "outputs": [
        {
          "output_type": "stream",
          "text": [
            "Best  silhouette Training : 0.39 , with k =  3\n"
          ],
          "name": "stdout"
        }
      ]
    },
    {
      "cell_type": "markdown",
      "metadata": {
        "id": "kbS6UpeLyhQU"
      },
      "source": [
        "the result shows that the training data is distributed by 3 cluster with a silhouette score of 0.39 "
      ]
    }
  ]
}