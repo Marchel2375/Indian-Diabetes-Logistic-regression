{
  "nbformat": 4,
  "nbformat_minor": 0,
  "metadata": {
    "colab": {
      "name": "Template.ipynb",
      "provenance": [],
      "collapsed_sections": [],
      "toc_visible": true
    },
    "kernelspec": {
      "name": "python3",
      "display_name": "Python 3"
    }
  },
  "cells": [
    {
      "cell_type": "markdown",
      "metadata": {
        "id": "pb9mIyHFGk4l"
      },
      "source": [
        "# Session 5 - Spark Introduction"
      ]
    },
    {
      "cell_type": "code",
      "metadata": {
        "colab": {
          "base_uri": "https://localhost:8080/"
        },
        "id": "JCCQjWB6ZzEf",
        "outputId": "2570e4b5-718e-467e-b3ca-00c8e8a84feb"
      },
      "source": [
        "### Important ###\r\n",
        "### Run this cell if you are using Google Colab\r\n",
        "!apt-get install openjdk-8-jdk-headless -qq > /dev/null\r\n",
        "print('[Done] openjdk8 has been installed')\r\n",
        "!wget -q https://downloads.apache.org/spark/spark-2.4.7/spark-2.4.7-bin-hadoop2.7.tgz\r\n",
        "!tar xf spark-2.4.7-bin-hadoop2.7.tgz -C /usr/lib/\r\n",
        "!rm spark-2.4.7-bin-hadoop2.7.tgz\r\n",
        "print('[Done] Spark has been installed')\r\n",
        "!pip install -q findspark\r\n",
        "print('[Done] findspark has been installed')\r\n",
        "import os\r\n",
        "os.environ[\"JAVA_HOME\"] = \"/usr/lib/jvm/java-8-openjdk-amd64\"\r\n",
        "os.environ[\"SPARK_HOME\"] = \"/usr/lib/spark-2.4.7-bin-hadoop2.7\"\r\n",
        "print('[Done] Environment variables has been set')\r\n",
        "import findspark\r\n",
        "findspark.init()\r\n",
        "print('[Done] You can use pyspark now.')"
      ],
      "execution_count": null,
      "outputs": [
        {
          "output_type": "stream",
          "text": [
            "[Done] openjdk8 has been installed\n",
            "[Done] Spark has been installed\n",
            "[Done] findspark has been installed\n",
            "[Done] Environment variables has been set\n",
            "[Done] You can use pyspark now.\n"
          ],
          "name": "stdout"
        }
      ]
    },
    {
      "cell_type": "code",
      "metadata": {
        "id": "l2ouMTNdbLAG"
      },
      "source": [
        "from pyspark import SparkContext"
      ],
      "execution_count": null,
      "outputs": []
    },
    {
      "cell_type": "markdown",
      "metadata": {
        "id": "oRaRo3xAeTyU"
      },
      "source": [
        "Create the spark context"
      ]
    },
    {
      "cell_type": "code",
      "metadata": {
        "id": "cta1SPL1eTSp"
      },
      "source": [
        "sc = SparkContext()"
      ],
      "execution_count": null,
      "outputs": []
    },
    {
      "cell_type": "code",
      "metadata": {
        "id": "kFAxfr29iH78"
      },
      "source": [
        "og_numbers = [0, 1, 2, 3]\r\n",
        "og_students = [('Sam', 15), ('Sarah', 17)]"
      ],
      "execution_count": null,
      "outputs": []
    },
    {
      "cell_type": "code",
      "metadata": {
        "id": "q8toKglli7Wc"
      },
      "source": [
        "# Parallelize \r\n",
        "# Convert to RDD\r\n",
        "\r\n",
        "numbers = sc.parallelize(og_numbers)\r\n",
        "students = sc.parallelize(og_students)"
      ],
      "execution_count": null,
      "outputs": []
    },
    {
      "cell_type": "code",
      "metadata": {
        "colab": {
          "base_uri": "https://localhost:8080/"
        },
        "id": "ufVQhTykjSXs",
        "outputId": "6660aa47-d31d-4d47-d1df-3f1a577a7db6"
      },
      "source": [
        "# checkin the type\r\n",
        "print(type(og_numbers))\r\n",
        "print(type(numbers))"
      ],
      "execution_count": null,
      "outputs": [
        {
          "output_type": "stream",
          "text": [
            "<class 'list'>\n",
            "<class 'pyspark.rdd.RDD'>\n"
          ],
          "name": "stdout"
        }
      ]
    },
    {
      "cell_type": "code",
      "metadata": {
        "colab": {
          "base_uri": "https://localhost:8080/"
        },
        "id": "OJGk9YuTm2mi",
        "outputId": "0f630ad3-915a-4592-fbd4-2f647fa4b143"
      },
      "source": [
        "#collect \r\n",
        "numbers.collect()\r\n",
        "students.collect() # prints the last one only"
      ],
      "execution_count": null,
      "outputs": [
        {
          "output_type": "execute_result",
          "data": {
            "text/plain": [
              "[('Sam', 15), ('Sarah', 17)]"
            ]
          },
          "metadata": {
            "tags": []
          },
          "execution_count": 11
        }
      ]
    },
    {
      "cell_type": "code",
      "metadata": {
        "colab": {
          "base_uri": "https://localhost:8080/"
        },
        "id": "OVhl5SNMnCXR",
        "outputId": "026ad672-9ced-4a7c-f817-0dce9d67f4c5"
      },
      "source": [
        "# Take\r\n",
        "numbers.take(3)"
      ],
      "execution_count": null,
      "outputs": [
        {
          "output_type": "execute_result",
          "data": {
            "text/plain": [
              "[0, 1, 2]"
            ]
          },
          "metadata": {
            "tags": []
          },
          "execution_count": 13
        }
      ]
    },
    {
      "cell_type": "code",
      "metadata": {
        "colab": {
          "base_uri": "https://localhost:8080/"
        },
        "id": "__k4CdXDnKQk",
        "outputId": "c6e912ed-4e26-47aa-8f1c-90ec2a3c9d68"
      },
      "source": [
        "# First\r\n",
        "numbers.first()"
      ],
      "execution_count": null,
      "outputs": [
        {
          "output_type": "execute_result",
          "data": {
            "text/plain": [
              "0"
            ]
          },
          "metadata": {
            "tags": []
          },
          "execution_count": 14
        }
      ]
    },
    {
      "cell_type": "code",
      "metadata": {
        "id": "ZljEGq59qcww"
      },
      "source": [
        "lines = sc.textFile('words.txt')"
      ],
      "execution_count": null,
      "outputs": []
    },
    {
      "cell_type": "code",
      "metadata": {
        "colab": {
          "base_uri": "https://localhost:8080/"
        },
        "id": "bo623DJdsNFK",
        "outputId": "596da6bd-591b-4ea7-d99b-383a156ff7b2"
      },
      "source": [
        "lines.take(3)"
      ],
      "execution_count": null,
      "outputs": [
        {
          "output_type": "execute_result",
          "data": {
            "text/plain": [
              "[\"Mr. and Mrs. Dursley, of number four, Privet Drive, were proud to say that they were perfectly normal, thank you very much. They were the last people you'd expect to be involved in anything strange or mysterious, because they just didn't hold with such nonsense.\",\n",
              " '',\n",
              " 'Mr. Dursley was the director of a firm called Grunnings, which made drills. He was a big, beefy man with hardly any neck, although he did have a very large mustache. Mrs. Dursley was thin and blonde and had nearly twice the usual amount of neck, which came in very useful as she spent so much of her time craning over garden fences, spying on the neighbors. The Dursleys had a small son called Dudley and in their opinion there was no finer boy anywhere.']"
            ]
          },
          "metadata": {
            "tags": []
          },
          "execution_count": 17
        }
      ]
    },
    {
      "cell_type": "code",
      "metadata": {
        "id": "p0Etij-ZsThy"
      },
      "source": [
        "# Map\r\n",
        "# Split by word\r\n",
        "\r\n",
        "def split_words(sentence):\r\n",
        "  return sentence.split(' ')\r\n",
        "\r\n",
        "words = lines.map(split_words)"
      ],
      "execution_count": null,
      "outputs": []
    },
    {
      "cell_type": "code",
      "metadata": {
        "colab": {
          "base_uri": "https://localhost:8080/"
        },
        "id": "ALcmfh3ZtIud",
        "outputId": "68949beb-eabf-44d4-a5df-51152265e4f0"
      },
      "source": [
        "words.take(1)"
      ],
      "execution_count": null,
      "outputs": [
        {
          "output_type": "execute_result",
          "data": {
            "text/plain": [
              "[['Mr.',\n",
              "  'and',\n",
              "  'Mrs.',\n",
              "  'Dursley,',\n",
              "  'of',\n",
              "  'number',\n",
              "  'four,',\n",
              "  'Privet',\n",
              "  'Drive,',\n",
              "  'were',\n",
              "  'proud',\n",
              "  'to',\n",
              "  'say',\n",
              "  'that',\n",
              "  'they',\n",
              "  'were',\n",
              "  'perfectly',\n",
              "  'normal,',\n",
              "  'thank',\n",
              "  'you',\n",
              "  'very',\n",
              "  'much.',\n",
              "  'They',\n",
              "  'were',\n",
              "  'the',\n",
              "  'last',\n",
              "  'people',\n",
              "  \"you'd\",\n",
              "  'expect',\n",
              "  'to',\n",
              "  'be',\n",
              "  'involved',\n",
              "  'in',\n",
              "  'anything',\n",
              "  'strange',\n",
              "  'or',\n",
              "  'mysterious,',\n",
              "  'because',\n",
              "  'they',\n",
              "  'just',\n",
              "  \"didn't\",\n",
              "  'hold',\n",
              "  'with',\n",
              "  'such',\n",
              "  'nonsense.']]"
            ]
          },
          "metadata": {
            "tags": []
          },
          "execution_count": 40
        }
      ]
    },
    {
      "cell_type": "code",
      "metadata": {
        "colab": {
          "base_uri": "https://localhost:8080/"
        },
        "id": "UtLXpBwUuD44",
        "outputId": "1a708050-8eb9-4c92-df47-248b21b9f565"
      },
      "source": [
        "flattened = words.flatMap(lambda x: x)  \r\n",
        "flattened.take(10)"
      ],
      "execution_count": null,
      "outputs": [
        {
          "output_type": "execute_result",
          "data": {
            "text/plain": [
              "['Mr.',\n",
              " 'and',\n",
              " 'Mrs.',\n",
              " 'Dursley,',\n",
              " 'of',\n",
              " 'number',\n",
              " 'four,',\n",
              " 'Privet',\n",
              " 'Drive,',\n",
              " 'were']"
            ]
          },
          "metadata": {
            "tags": []
          },
          "execution_count": 31
        }
      ]
    },
    {
      "cell_type": "code",
      "metadata": {
        "colab": {
          "base_uri": "https://localhost:8080/"
        },
        "id": "ubLXnuZnvSsl",
        "outputId": "46cada02-9b87-4765-a894-c41312108b4c"
      },
      "source": [
        "word_key = flattened.map(lambda x: (x, 1))\r\n",
        "word_key.take(5)"
      ],
      "execution_count": null,
      "outputs": [
        {
          "output_type": "execute_result",
          "data": {
            "text/plain": [
              "[('Mr.', 1), ('and', 1), ('Mrs.', 1), ('Dursley,', 1), ('of', 1)]"
            ]
          },
          "metadata": {
            "tags": []
          },
          "execution_count": 32
        }
      ]
    },
    {
      "cell_type": "code",
      "metadata": {
        "colab": {
          "base_uri": "https://localhost:8080/"
        },
        "id": "gI3pZT_jxoBV",
        "outputId": "2f744f95-79c6-4286-ebea-df8c0cd69f0d"
      },
      "source": [
        "result = word_key.reduceByKey(lambda accum, curr: accum + curr)\r\n",
        "result.take(10)"
      ],
      "execution_count": null,
      "outputs": [
        {
          "output_type": "execute_result",
          "data": {
            "text/plain": [
              "[('Mr.', 30),\n",
              " ('of', 72),\n",
              " ('four,', 3),\n",
              " ('Privet', 8),\n",
              " ('Drive,', 3),\n",
              " ('say', 6),\n",
              " ('perfectly', 2),\n",
              " ('normal,', 2),\n",
              " ('very', 17),\n",
              " ('much.', 1)]"
            ]
          },
          "metadata": {
            "tags": []
          },
          "execution_count": 37
        }
      ]
    },
    {
      "cell_type": "code",
      "metadata": {
        "colab": {
          "base_uri": "https://localhost:8080/"
        },
        "id": "h4BKAsKzynct",
        "outputId": "63fae8b1-182d-4e9b-b7b2-718448ff4d85"
      },
      "source": [
        "# Accum (Shared)\r\n",
        "\r\n",
        "n_of = sc.accumulator(0)\r\n",
        "\r\n",
        "def countIs(val):\r\n",
        "  global n_of\r\n",
        "  if val == 'of':\r\n",
        "    n_of += 1\r\n",
        "\r\n",
        "flattened.foreach(countIs)\r\n",
        "print(n_of)"
      ],
      "execution_count": null,
      "outputs": [
        {
          "output_type": "stream",
          "text": [
            "72\n"
          ],
          "name": "stdout"
        }
      ]
    },
    {
      "cell_type": "markdown",
      "metadata": {
        "id": "AS_ZLtWB4g7g"
      },
      "source": [
        "# Session 7 - Sql"
      ]
    },
    {
      "cell_type": "code",
      "metadata": {
        "id": "GfGoHOty4kf3"
      },
      "source": [
        "from pyspark.sql import SparkSession"
      ],
      "execution_count": null,
      "outputs": []
    },
    {
      "cell_type": "code",
      "metadata": {
        "colab": {
          "base_uri": "https://localhost:8080/",
          "height": 199
        },
        "id": "pQtSvBpe4v1G",
        "outputId": "44436339-36be-470d-c5ef-335ff0e86619"
      },
      "source": [
        "spark = SparkSession.builder.getOrCreate()\r\n",
        "\r\n",
        "spark.sparkContext # just to check version"
      ],
      "execution_count": null,
      "outputs": [
        {
          "output_type": "execute_result",
          "data": {
            "text/html": [
              "\n",
              "        <div>\n",
              "            <p><b>SparkContext</b></p>\n",
              "\n",
              "            <p><a href=\"http://c7e1f1ef8528:4040\">Spark UI</a></p>\n",
              "\n",
              "            <dl>\n",
              "              <dt>Version</dt>\n",
              "                <dd><code>v2.4.7</code></dd>\n",
              "              <dt>Master</dt>\n",
              "                <dd><code>local[*]</code></dd>\n",
              "              <dt>AppName</dt>\n",
              "                <dd><code>pyspark-shell</code></dd>\n",
              "            </dl>\n",
              "        </div>\n",
              "        "
            ],
            "text/plain": [
              "<SparkContext master=local[*] appName=pyspark-shell>"
            ]
          },
          "metadata": {
            "tags": []
          },
          "execution_count": 6
        }
      ]
    },
    {
      "cell_type": "code",
      "metadata": {
        "colab": {
          "base_uri": "https://localhost:8080/"
        },
        "id": "F8UyWCEU5XAi",
        "outputId": "81bd3e53-115c-48df-f161-7ff0669ebd63"
      },
      "source": [
        "# RDD -> Resilient Distributed Dataset\r\n",
        "\r\n",
        "rdd = sc.parallelize([\r\n",
        "  {\"name\" : \"William\", \"age\": 20},\r\n",
        "  {\"name\" : \"farrel\", \"age\": 20},\r\n",
        "  {\"name\" : \"joko\", \"age\": 19}\r\n",
        "])\r\n",
        "\r\n",
        "temp = rdd.toDF()"
      ],
      "execution_count": null,
      "outputs": [
        {
          "output_type": "stream",
          "text": [
            "/usr/lib/spark-2.4.7-bin-hadoop2.7/python/pyspark/sql/session.py:366: UserWarning: Using RDD of dict to inferSchema is deprecated. Use pyspark.sql.Row instead\n",
            "  warnings.warn(\"Using RDD of dict to inferSchema is deprecated. \"\n"
          ],
          "name": "stderr"
        }
      ]
    },
    {
      "cell_type": "code",
      "metadata": {
        "colab": {
          "base_uri": "https://localhost:8080/"
        },
        "id": "rGs7qR-e6qVq",
        "outputId": "6c31a749-ee54-45ad-98bb-f8b8b2f73d6e"
      },
      "source": [
        "temp.printSchema()"
      ],
      "execution_count": null,
      "outputs": [
        {
          "output_type": "stream",
          "text": [
            "root\n",
            " |-- age: long (nullable = true)\n",
            " |-- name: string (nullable = true)\n",
            "\n"
          ],
          "name": "stdout"
        }
      ]
    },
    {
      "cell_type": "code",
      "metadata": {
        "colab": {
          "base_uri": "https://localhost:8080/"
        },
        "id": "Kwy6all-9-Vb",
        "outputId": "4205419b-ebe9-4e6f-b033-cad0b6927aa0"
      },
      "source": [
        "temp.show()"
      ],
      "execution_count": null,
      "outputs": [
        {
          "output_type": "stream",
          "text": [
            "+---+-------+\n",
            "|age|   name|\n",
            "+---+-------+\n",
            "| 20|William|\n",
            "| 20| farrel|\n",
            "| 19|   joko|\n",
            "+---+-------+\n",
            "\n"
          ],
          "name": "stdout"
        }
      ]
    },
    {
      "cell_type": "code",
      "metadata": {
        "colab": {
          "base_uri": "https://localhost:8080/"
        },
        "id": "axEqAzxD7FhO",
        "outputId": "371357f0-159d-4ae4-b2f0-6bd3e802ff14"
      },
      "source": [
        "table = spark.read.format(\"csv\").options(header='true', inferschema='true').load('MsCustomer.csv')\r\n",
        "\r\n",
        "table.printSchema()"
      ],
      "execution_count": null,
      "outputs": [
        {
          "output_type": "stream",
          "text": [
            "root\n",
            " |-- CustomerId: integer (nullable = true)\n",
            " |-- CustomerName: string (nullable = true)\n",
            " |-- CustomerPhone: string (nullable = true)\n",
            " |-- CustomerEmail: string (nullable = true)\n",
            "\n"
          ],
          "name": "stdout"
        }
      ]
    },
    {
      "cell_type": "code",
      "metadata": {
        "colab": {
          "base_uri": "https://localhost:8080/"
        },
        "id": "YgyX_X3a-HcZ",
        "outputId": "81e03254-10a3-47f9-8c1b-274edf38a038"
      },
      "source": [
        "table.show()"
      ],
      "execution_count": null,
      "outputs": [
        {
          "output_type": "stream",
          "text": [
            "+----------+--------------------+-----------------+--------------------+\n",
            "|CustomerId|        CustomerName|    CustomerPhone|       CustomerEmail|\n",
            "+----------+--------------------+-----------------+--------------------+\n",
            "|         1|         Ky Mossdale| +33 956 967 8883|kmossdale0@eventb...|\n",
            "|         2|          Elora Camp| +55 872 805 1595|   ecamp1@reddit.com|\n",
            "|         3|         Lesli Birds| +86 365 657 4802|  lbirds2@oakley.com|\n",
            "|         4|      Vivianne Lukas| +86 776 874 9691|   vlukas3@alexa.com|\n",
            "|         5|      Ronny Klaesson|+378 130 669 9961|rklaesson4@smugmu...|\n",
            "|         6|    Delaney Pawelski| +86 838 788 6960|dpawelski5@weibo.com|\n",
            "|         7|     Gigi Stonbridge| +86 722 576 4237|gstonbridge6@buzz...|\n",
            "|         8|  Blondell Chattaway| +57 801 501 4983|bchattaway7@syman...|\n",
            "|         9|       Edita Valerio|+358 534 896 2773|evalerio8@cafepre...|\n",
            "|        10|Christalle Langca...| +81 249 342 0991|clangcastle9@colu...|\n",
            "|        11|        Kristel Dowd| +86 301 164 5672|    kdowda@globo.com|\n",
            "|        12|         Odette Hele|+234 372 105 0577| oheleb@netvibes.com|\n",
            "|        13|          Fern Audus| +81 110 726 9016|faudusc@marriott.com|\n",
            "|        14|  Alasdair Wetherill|+976 732 179 9594|awetherilld@thegl...|\n",
            "|        15|      Cosetta Jursch|+880 254 254 1604|    cjursche@mtv.com|\n",
            "|        16|      Lizette Artois|  +7 528 306 0322|lartoisf@histats.com|\n",
            "|        17|         Gard Cassar| +63 120 489 7357|gcassarg@youtube.com|\n",
            "|        18|        Port Giuroni| +86 609 544 7157| pgiuronih@google.nl|\n",
            "|        19|     Debbie Cockrill|+216 568 753 7031|dcockrilli@globo.com|\n",
            "|        20|    Jacquelyn Nutten| +62 693 342 7685|jnuttenj@stumbleu...|\n",
            "+----------+--------------------+-----------------+--------------------+\n",
            "only showing top 20 rows\n",
            "\n"
          ],
          "name": "stdout"
        }
      ]
    },
    {
      "cell_type": "code",
      "metadata": {
        "id": "dUqIn2Rs84oK"
      },
      "source": [
        "store_locations = spark.read.json('File location.json')\r\n",
        "\r\n",
        "store_locations.printSchema()"
      ],
      "execution_count": null,
      "outputs": []
    },
    {
      "cell_type": "code",
      "metadata": {
        "colab": {
          "base_uri": "https://localhost:8080/"
        },
        "id": "4xaDy37C-wsc",
        "outputId": "338da2a7-b9ac-4e9e-e339-eef65abaaaa0"
      },
      "source": [
        "# Query\r\n",
        "\r\n",
        "temp.select(\"*\").show() # show all\r\n",
        "temp.select(\"name\").show() # just name"
      ],
      "execution_count": null,
      "outputs": [
        {
          "output_type": "stream",
          "text": [
            "+---+-------+\n",
            "|age|   name|\n",
            "+---+-------+\n",
            "| 20|William|\n",
            "| 20| farrel|\n",
            "| 19|   joko|\n",
            "+---+-------+\n",
            "\n",
            "+-------+\n",
            "|   name|\n",
            "+-------+\n",
            "|William|\n",
            "| farrel|\n",
            "|   joko|\n",
            "+-------+\n",
            "\n"
          ],
          "name": "stdout"
        }
      ]
    },
    {
      "cell_type": "code",
      "metadata": {
        "colab": {
          "base_uri": "https://localhost:8080/"
        },
        "id": "AleXqkYv_FTg",
        "outputId": "7369aa92-3e8d-4608-c2cf-e8ec8b79a7b6"
      },
      "source": [
        "temp.filter(temp['name'] == 'farrel').show() # where condition"
      ],
      "execution_count": null,
      "outputs": [
        {
          "output_type": "stream",
          "text": [
            "+---+------+\n",
            "|age|  name|\n",
            "+---+------+\n",
            "| 20|farrel|\n",
            "+---+------+\n",
            "\n"
          ],
          "name": "stdout"
        }
      ]
    },
    {
      "cell_type": "code",
      "metadata": {
        "colab": {
          "base_uri": "https://localhost:8080/"
        },
        "id": "1SrlqGTF_UbK",
        "outputId": "f7deb487-308b-4b87-8f9f-98afdbfb7ee4"
      },
      "source": [
        "temp.groupBy('age').count().show()"
      ],
      "execution_count": null,
      "outputs": [
        {
          "output_type": "stream",
          "text": [
            "+---+-----+\n",
            "|age|count|\n",
            "+---+-----+\n",
            "| 19|    1|\n",
            "| 20|    2|\n",
            "+---+-----+\n",
            "\n"
          ],
          "name": "stdout"
        }
      ]
    },
    {
      "cell_type": "code",
      "metadata": {
        "colab": {
          "base_uri": "https://localhost:8080/"
        },
        "id": "erPkb4-aBkwp",
        "outputId": "49ace3a4-5982-4ac7-ee31-49e143858415"
      },
      "source": [
        "# Sql Version\r\n",
        "\r\n",
        "table.createOrReplaceTempView(\"MsCustomer\") # creating a view so that the main data is not altered\r\n",
        "\r\n",
        "spark.sql(\r\n",
        "    \"\"\"\r\n",
        "      SELECT CustomerName, CustomerPhone\r\n",
        "      FROM MsCustomer\r\n",
        "    \"\"\"\r\n",
        ").show()"
      ],
      "execution_count": null,
      "outputs": [
        {
          "output_type": "stream",
          "text": [
            "+--------------------+-----------------+\n",
            "|        CustomerName|    CustomerPhone|\n",
            "+--------------------+-----------------+\n",
            "|         Ky Mossdale| +33 956 967 8883|\n",
            "|          Elora Camp| +55 872 805 1595|\n",
            "|         Lesli Birds| +86 365 657 4802|\n",
            "|      Vivianne Lukas| +86 776 874 9691|\n",
            "|      Ronny Klaesson|+378 130 669 9961|\n",
            "|    Delaney Pawelski| +86 838 788 6960|\n",
            "|     Gigi Stonbridge| +86 722 576 4237|\n",
            "|  Blondell Chattaway| +57 801 501 4983|\n",
            "|       Edita Valerio|+358 534 896 2773|\n",
            "|Christalle Langca...| +81 249 342 0991|\n",
            "|        Kristel Dowd| +86 301 164 5672|\n",
            "|         Odette Hele|+234 372 105 0577|\n",
            "|          Fern Audus| +81 110 726 9016|\n",
            "|  Alasdair Wetherill|+976 732 179 9594|\n",
            "|      Cosetta Jursch|+880 254 254 1604|\n",
            "|      Lizette Artois|  +7 528 306 0322|\n",
            "|         Gard Cassar| +63 120 489 7357|\n",
            "|        Port Giuroni| +86 609 544 7157|\n",
            "|     Debbie Cockrill|+216 568 753 7031|\n",
            "|    Jacquelyn Nutten| +62 693 342 7685|\n",
            "+--------------------+-----------------+\n",
            "only showing top 20 rows\n",
            "\n"
          ],
          "name": "stdout"
        }
      ]
    },
    {
      "cell_type": "markdown",
      "metadata": {
        "id": "teTJ0wrpDnyp"
      },
      "source": [
        "# Session 9 - Classifying"
      ]
    },
    {
      "cell_type": "code",
      "metadata": {
        "id": "dEGHOXorDrka"
      },
      "source": [
        "from pyspark.ml.feature import VectorAssembler, StandardScaler, StringIndexer\r\n",
        "from pyspark.ml.classification import LogisticRegression\r\n",
        "from pyspark.ml.evaluation import BinaryClassificationEvaluator"
      ],
      "execution_count": null,
      "outputs": []
    },
    {
      "cell_type": "code",
      "metadata": {
        "id": "R7AtJj8lHVSg"
      },
      "source": [
        "df_train = spark.read.csv('Classification_Train.csv', inferSchema=True, header=True)\r\n",
        "df_test = spark.read.csv('Classification_Test.csv', inferSchema=True, header=True)"
      ],
      "execution_count": null,
      "outputs": []
    },
    {
      "cell_type": "code",
      "metadata": {
        "colab": {
          "base_uri": "https://localhost:8080/"
        },
        "id": "ZKSzbd7IJqEK",
        "outputId": "519b61fa-99c9-4dcd-abd9-c1898d553960"
      },
      "source": [
        "df_train.printSchema()"
      ],
      "execution_count": null,
      "outputs": [
        {
          "output_type": "stream",
          "text": [
            "root\n",
            " |-- Name: string (nullable = true)\n",
            " |-- Gender: string (nullable = true)\n",
            " |-- Height: integer (nullable = true)\n",
            " |-- Education Level: string (nullable = true)\n",
            " |-- Eye Color: string (nullable = true)\n",
            " |-- Married: string (nullable = true)\n",
            " |-- Salary Income: integer (nullable = true)\n",
            " |-- Depressed: string (nullable = true)\n",
            "\n"
          ],
          "name": "stdout"
        }
      ]
    },
    {
      "cell_type": "code",
      "metadata": {
        "colab": {
          "base_uri": "https://localhost:8080/"
        },
        "id": "BBxxZmUuJ2Bw",
        "outputId": "4b37cc24-a8c6-4746-f6b0-7f2c3f040af0"
      },
      "source": [
        "df_train.show()"
      ],
      "execution_count": null,
      "outputs": [
        {
          "output_type": "stream",
          "text": [
            "+-------------------+------+------+---------------+---------+-------+-------------+---------+\n",
            "|               Name|Gender|Height|Education Level|Eye Color|Married|Salary Income|Depressed|\n",
            "+-------------------+------+------+---------------+---------+-------+-------------+---------+\n",
            "|      Sax Tesseyman|Female|   174|   Intermediate|     Blue|    Yes|     85000000|       No|\n",
            "|        Niels Greet|  Male|   165|   Intermediate|    Black|     No|     14000000|       No|\n",
            "|     Minetta Santry|Female|   160|            Low|    Black|     No|    148000000|      Yes|\n",
            "|     Sherm Gossipin|Female|   144|           High|    Black|     No|     50000000|      Yes|\n",
            "|   Cathie Blackmuir|  Male|   168|   Intermediate|    Black|    Yes|    101000000|       No|\n",
            "|     Early Cardenas|  Male|   151|            Low|    Black|    Yes|    145000000|      Yes|\n",
            "|   Willard Pendrick|Female|   141|   Intermediate|    Brown|     No|     55000000|      Yes|\n",
            "|   Penelopa Spensly|Female|   144|   Intermediate|     Blue|    Yes|     51000000|       No|\n",
            "|     Courtney Easey|Female|   150|           High|     Gray|     No|     97000000|      Yes|\n",
            "|     Denney Eustice|  Male|   151|            Low|    Brown|     No|     41000000|      Yes|\n",
            "|   Archaimbaud Zupa|Female|   161|           High|    Brown|    Yes|     27000000|       No|\n",
            "|       Dylan Pratty|  Male|   163|           High|    Black|    Yes|      3000000|       No|\n",
            "|      Milli Brinded|Female|   174|           High|    Brown|     No|      9000000|      Yes|\n",
            "|   Kacie Giacomazzo|Female|   153|   Intermediate|    Brown|     No|     12000000|      Yes|\n",
            "|  Doretta Siegertsz|  Male|   153|   Intermediate|    Black|    Yes|     81000000|       No|\n",
            "|   Fiorenze Seavers|  Male|   174|           High|     Blue|     No|     53000000|      Yes|\n",
            "|  Harriette Denning|  Male|   169|            Low|     Gray|     No|     10000000|      Yes|\n",
            "| Bidget Rosenschein|  Male|   155|   Intermediate|    Black|    Yes|     55000000|       No|\n",
            "|Barbara-anne McNuff|Female|   147|           High|     Gray|     No|     13000000|      Yes|\n",
            "|    Arielle Squeers|  Male|   182|           High|    Brown|     No|     35000000|      Yes|\n",
            "+-------------------+------+------+---------------+---------+-------+-------------+---------+\n",
            "only showing top 20 rows\n",
            "\n"
          ],
          "name": "stdout"
        }
      ]
    },
    {
      "cell_type": "code",
      "metadata": {
        "id": "7EiJaB6MLjYw"
      },
      "source": [
        "# Selecting important features\r\n",
        "\r\n",
        "chosen_columns = ['Education Level', 'Married', 'Salary Income', 'Depressed']"
      ],
      "execution_count": null,
      "outputs": []
    },
    {
      "cell_type": "code",
      "metadata": {
        "id": "a4HVFbShMFTT"
      },
      "source": [
        "df_train = df_train.select(chosen_columns)\r\n",
        "df_test = df_test.select(chosen_columns)"
      ],
      "execution_count": null,
      "outputs": []
    },
    {
      "cell_type": "code",
      "metadata": {
        "colab": {
          "base_uri": "https://localhost:8080/"
        },
        "id": "rSFr8MfjNP4T",
        "outputId": "ea279e0c-ef28-4dc8-c23f-ce9b49ef4959"
      },
      "source": [
        "df_train.show()\r\n",
        "df_test.show()"
      ],
      "execution_count": null,
      "outputs": [
        {
          "output_type": "stream",
          "text": [
            "+---------------+-------+-------------+---------+\n",
            "|Education Level|Married|Salary Income|Depressed|\n",
            "+---------------+-------+-------------+---------+\n",
            "|   Intermediate|    Yes|     85000000|       No|\n",
            "|   Intermediate|     No|     14000000|       No|\n",
            "|            Low|     No|    148000000|      Yes|\n",
            "|           High|     No|     50000000|      Yes|\n",
            "|   Intermediate|    Yes|    101000000|       No|\n",
            "|            Low|    Yes|    145000000|      Yes|\n",
            "|   Intermediate|     No|     55000000|      Yes|\n",
            "|   Intermediate|    Yes|     51000000|       No|\n",
            "|           High|     No|     97000000|      Yes|\n",
            "|            Low|     No|     41000000|      Yes|\n",
            "|           High|    Yes|     27000000|       No|\n",
            "|           High|    Yes|      3000000|       No|\n",
            "|           High|     No|      9000000|      Yes|\n",
            "|   Intermediate|     No|     12000000|      Yes|\n",
            "|   Intermediate|    Yes|     81000000|       No|\n",
            "|           High|     No|     53000000|      Yes|\n",
            "|            Low|     No|     10000000|      Yes|\n",
            "|   Intermediate|    Yes|     55000000|       No|\n",
            "|           High|     No|     13000000|      Yes|\n",
            "|           High|     No|     35000000|      Yes|\n",
            "+---------------+-------+-------------+---------+\n",
            "only showing top 20 rows\n",
            "\n",
            "+---------------+-------+-------------+---------+\n",
            "|Education Level|Married|Salary Income|Depressed|\n",
            "+---------------+-------+-------------+---------+\n",
            "|            Low|     No|     74000000|      Yes|\n",
            "|           High|    Yes|     29000000|       No|\n",
            "|   Intermediate|    Yes|    134000000|       No|\n",
            "|   Intermediate|     No|     13000000|      Yes|\n",
            "|            Low|    Yes|      7000000|      Yes|\n",
            "|   Intermediate|     No|    106000000|      Yes|\n",
            "|           High|     No|     35000000|      Yes|\n",
            "|           High|    Yes|    124000000|       No|\n",
            "|            Low|     No|      7000000|      Yes|\n",
            "|            Low|     No|    122000000|      Yes|\n",
            "|           High|     No|    109000000|      Yes|\n",
            "|   Intermediate|    Yes|    136000000|       No|\n",
            "|            Low|    Yes|      4000000|       No|\n",
            "|   Intermediate|    Yes|     18000000|       No|\n",
            "|   Intermediate|    Yes|     35000000|       No|\n",
            "|           High|     No|     73000000|       No|\n",
            "|           High|    Yes|     60000000|       No|\n",
            "|            Low|     No|     57000000|      Yes|\n",
            "|            Low|     No|     57000000|      Yes|\n",
            "|   Intermediate|    Yes|     84000000|       No|\n",
            "+---------------+-------+-------------+---------+\n",
            "only showing top 20 rows\n",
            "\n"
          ],
          "name": "stdout"
        }
      ]
    },
    {
      "cell_type": "code",
      "metadata": {
        "colab": {
          "base_uri": "https://localhost:8080/"
        },
        "id": "BKw1t-bUNVYE",
        "outputId": "ea32d067-b167-4803-bbfa-05b2267a26b2"
      },
      "source": [
        "# Data Preprocessing\r\n",
        "# Drop null\r\n",
        "\r\n",
        "print(f'Train df count: {df_train.count()}') # counting the amount of data\r\n",
        "print(f'Test df count: {df_test.count()}')"
      ],
      "execution_count": null,
      "outputs": [
        {
          "output_type": "stream",
          "text": [
            "Train df count: 10000\n",
            "Test df count: 2000\n"
          ],
          "name": "stdout"
        }
      ]
    },
    {
      "cell_type": "code",
      "metadata": {
        "id": "A2rjy-vYN5-A"
      },
      "source": [
        "df_train = df_train.dropna() # dropping null or empty data\r\n",
        "df_test = df_test.dropna()"
      ],
      "execution_count": null,
      "outputs": []
    },
    {
      "cell_type": "code",
      "metadata": {
        "colab": {
          "base_uri": "https://localhost:8080/"
        },
        "id": "7T3yQvgsOPIV",
        "outputId": "426f810c-38b3-45ff-a637-82362a7f2abb"
      },
      "source": [
        "print(f'Train df count: {df_train.count()}')\r\n",
        "print(f'Test df count: {df_test.count()}')"
      ],
      "execution_count": null,
      "outputs": [
        {
          "output_type": "stream",
          "text": [
            "Train df count: 10000\n",
            "Test df count: 2000\n"
          ],
          "name": "stdout"
        }
      ]
    },
    {
      "cell_type": "code",
      "metadata": {
        "id": "eqiudK37O5H-"
      },
      "source": [
        "# Transform Data\r\n",
        "\r\n",
        "# Indexing String\r\n",
        "def encode_column(column_name: str):\r\n",
        "  global df_train, df_test\r\n",
        "\r\n",
        "  indexer = StringIndexer(\r\n",
        "      inputCol = column_name,\r\n",
        "      outputCol = 'generated')\r\n",
        "  \r\n",
        "  # Catat\r\n",
        "  indexer = indexer.fit(df_train) # fit sekali aja \r\n",
        "  # Ubah\r\n",
        "  df_train = indexer.transform(df_train)\r\n",
        "  df_train = df_train.drop(column_name)\r\n",
        "  df_train = df_train.withColumnRenamed('generated', column_name)\r\n",
        "  # Ubah\r\n",
        "  df_test = indexer.transform(df_test)\r\n",
        "  df_test = df_test.drop(column_name)\r\n",
        "  df_test = df_test.withColumnRenamed('generated', column_name)"
      ],
      "execution_count": null,
      "outputs": []
    },
    {
      "cell_type": "code",
      "metadata": {
        "id": "1JpKFUaZTmMJ"
      },
      "source": [
        "encode_column('Education Level')\r\n",
        "encode_column('Depressed')\r\n",
        "encode_column('Married')"
      ],
      "execution_count": null,
      "outputs": []
    },
    {
      "cell_type": "code",
      "metadata": {
        "colab": {
          "base_uri": "https://localhost:8080/"
        },
        "id": "bq_TBbodUfex",
        "outputId": "d81dd274-0816-494a-a0b0-5b7a2d26d884"
      },
      "source": [
        "df_train.show()"
      ],
      "execution_count": null,
      "outputs": [
        {
          "output_type": "stream",
          "text": [
            "+-------------+---------------+---------+-------+\n",
            "|Salary Income|Education Level|Depressed|Married|\n",
            "+-------------+---------------+---------+-------+\n",
            "|     85000000|            0.0|      0.0|    0.0|\n",
            "|     14000000|            0.0|      0.0|    1.0|\n",
            "|    148000000|            1.0|      1.0|    1.0|\n",
            "|     50000000|            2.0|      1.0|    1.0|\n",
            "|    101000000|            0.0|      0.0|    0.0|\n",
            "|    145000000|            1.0|      1.0|    0.0|\n",
            "|     55000000|            0.0|      1.0|    1.0|\n",
            "|     51000000|            0.0|      0.0|    0.0|\n",
            "|     97000000|            2.0|      1.0|    1.0|\n",
            "|     41000000|            1.0|      1.0|    1.0|\n",
            "|     27000000|            2.0|      0.0|    0.0|\n",
            "|      3000000|            2.0|      0.0|    0.0|\n",
            "|      9000000|            2.0|      1.0|    1.0|\n",
            "|     12000000|            0.0|      1.0|    1.0|\n",
            "|     81000000|            0.0|      0.0|    0.0|\n",
            "|     53000000|            2.0|      1.0|    1.0|\n",
            "|     10000000|            1.0|      1.0|    1.0|\n",
            "|     55000000|            0.0|      0.0|    0.0|\n",
            "|     13000000|            2.0|      1.0|    1.0|\n",
            "|     35000000|            2.0|      1.0|    1.0|\n",
            "+-------------+---------------+---------+-------+\n",
            "only showing top 20 rows\n",
            "\n"
          ],
          "name": "stdout"
        }
      ]
    },
    {
      "cell_type": "code",
      "metadata": {
        "colab": {
          "base_uri": "https://localhost:8080/"
        },
        "id": "5sCaplK2WiW1",
        "outputId": "477883a5-66b7-40f3-e0b3-e7949bcd7239"
      },
      "source": [
        "chosen_columns[0:-1] #picks the data from the first column(0) until before the final column(-1)"
      ],
      "execution_count": null,
      "outputs": [
        {
          "output_type": "execute_result",
          "data": {
            "text/plain": [
              "['Education Level', 'Married', 'Salary Income']"
            ]
          },
          "metadata": {
            "tags": []
          },
          "execution_count": 184
        }
      ]
    },
    {
      "cell_type": "code",
      "metadata": {
        "id": "SkxkLdAVU4ev"
      },
      "source": [
        "# Normalization\r\n",
        "\r\n",
        "# Vectorize\r\n",
        "assembler = VectorAssembler(\r\n",
        "    inputCols=chosen_columns[0:-1],\r\n",
        "    outputCol='Features'\r\n",
        ")"
      ],
      "execution_count": null,
      "outputs": []
    },
    {
      "cell_type": "code",
      "metadata": {
        "id": "mX-rWRdsW4kL"
      },
      "source": [
        "df_train = assembler.transform(df_train)\r\n",
        "df_test = assembler.transform(df_test)"
      ],
      "execution_count": null,
      "outputs": []
    },
    {
      "cell_type": "code",
      "metadata": {
        "id": "bNGENEPxXj3x"
      },
      "source": [
        "# Scaler\r\n",
        "scaler = StandardScaler(inputCol='Features', outputCol='Features_normalized')"
      ],
      "execution_count": null,
      "outputs": []
    },
    {
      "cell_type": "code",
      "metadata": {
        "id": "6FeIwUluX4k7"
      },
      "source": [
        "scaler = scaler.fit(df_train) #fit sekali"
      ],
      "execution_count": null,
      "outputs": []
    },
    {
      "cell_type": "code",
      "metadata": {
        "id": "yHvM4lEqYRfq"
      },
      "source": [
        "df_train = scaler.transform(df_train)\r\n",
        "df_test = scaler.transform(df_test)"
      ],
      "execution_count": null,
      "outputs": []
    },
    {
      "cell_type": "code",
      "metadata": {
        "colab": {
          "base_uri": "https://localhost:8080/"
        },
        "id": "OuQbYn1EYnlw",
        "outputId": "08784c73-a0a8-45ef-de40-99e961c437e0"
      },
      "source": [
        "df_train.show(truncate=False)"
      ],
      "execution_count": null,
      "outputs": [
        {
          "output_type": "stream",
          "text": [
            "+-------------+---------------+---------+-------+-------------------+----------------------------------------------------------+\n",
            "|Salary Income|Education Level|Depressed|Married|Features           |Features_normalized                                       |\n",
            "+-------------+---------------+---------+-------+-------------------+----------------------------------------------------------+\n",
            "|85000000     |0.0            |0.0      |0.0    |[0.0,0.0,8.5E7]    |[0.0,0.0,2.0520111267842664]                              |\n",
            "|14000000     |0.0            |0.0      |1.0    |[0.0,1.0,1.4E7]    |[0.0,2.0004291810120303,0.3379783032350556]               |\n",
            "|148000000    |1.0            |1.0      |1.0    |[1.0,1.0,1.48E8]   |[1.206657558863841,2.0004291810120303,3.5729134913420166] |\n",
            "|50000000     |2.0            |1.0      |1.0    |[2.0,1.0,5.0E7]    |[2.413315117727682,2.0004291810120303,1.2070653686966273] |\n",
            "|101000000    |0.0            |0.0      |0.0    |[0.0,0.0,1.01E8]   |[0.0,0.0,2.438272044767187]                               |\n",
            "|145000000    |1.0            |1.0      |0.0    |[1.0,0.0,1.45E8]   |[1.206657558863841,0.0,3.500489569220219]                 |\n",
            "|55000000     |0.0            |1.0      |1.0    |[0.0,1.0,5.5E7]    |[0.0,2.0004291810120303,1.32777190556629]                 |\n",
            "|51000000     |0.0            |0.0      |0.0    |[0.0,0.0,5.1E7]    |[0.0,0.0,1.2312066760705598]                              |\n",
            "|97000000     |2.0            |1.0      |1.0    |[2.0,1.0,9.7E7]    |[2.413315117727682,2.0004291810120303,2.341706815271457]  |\n",
            "|41000000     |1.0            |1.0      |1.0    |[1.0,1.0,4.1E7]    |[1.206657558863841,2.0004291810120303,0.9897936023312343] |\n",
            "|27000000     |2.0            |0.0      |0.0    |[2.0,0.0,2.7E7]    |[2.413315117727682,0.0,0.6518152990961787]                |\n",
            "|3000000      |2.0            |0.0      |0.0    |[2.0,0.0,3000000.0]|[2.413315117727682,0.0,0.07242392212179763]               |\n",
            "|9000000      |2.0            |1.0      |1.0    |[2.0,1.0,9000000.0]|[2.413315117727682,2.0004291810120303,0.2172717663653929] |\n",
            "|12000000     |0.0            |1.0      |1.0    |[0.0,1.0,1.2E7]    |[0.0,2.0004291810120303,0.2896956884871905]               |\n",
            "|81000000     |0.0            |0.0      |0.0    |[0.0,0.0,8.1E7]    |[0.0,0.0,1.955445897288536]                               |\n",
            "|53000000     |2.0            |1.0      |1.0    |[2.0,1.0,5.3E7]    |[2.413315117727682,2.0004291810120303,1.2794892908184248] |\n",
            "|10000000     |1.0            |1.0      |1.0    |[1.0,1.0,1.0E7]    |[1.206657558863841,2.0004291810120303,0.24141307373932544]|\n",
            "|55000000     |0.0            |0.0      |0.0    |[0.0,0.0,5.5E7]    |[0.0,0.0,1.32777190556629]                                |\n",
            "|13000000     |2.0            |1.0      |1.0    |[2.0,1.0,1.3E7]    |[2.413315117727682,2.0004291810120303,0.31383699586112307]|\n",
            "|35000000     |2.0            |1.0      |1.0    |[2.0,1.0,3.5E7]    |[2.413315117727682,2.0004291810120303,0.844945758087639]  |\n",
            "+-------------+---------------+---------+-------+-------------------+----------------------------------------------------------+\n",
            "only showing top 20 rows\n",
            "\n"
          ],
          "name": "stdout"
        }
      ]
    },
    {
      "cell_type": "code",
      "metadata": {
        "id": "7GtHb4cIY09E"
      },
      "source": [
        "# Generate Model - using Logistic Regression\r\n",
        "model = LogisticRegression(\r\n",
        "    featuresCol='Features_normalized',\r\n",
        "    labelCol='Depressed',\r\n",
        "    maxIter=10\r\n",
        "    )"
      ],
      "execution_count": null,
      "outputs": []
    },
    {
      "cell_type": "code",
      "metadata": {
        "id": "6DmNyTn0Z4NF"
      },
      "source": [
        "# Training\r\n",
        "model = model.fit(df_train)"
      ],
      "execution_count": null,
      "outputs": []
    },
    {
      "cell_type": "code",
      "metadata": {
        "colab": {
          "base_uri": "https://localhost:8080/"
        },
        "id": "RfjHMayjaKDu",
        "outputId": "cf110091-619e-4981-9f46-eff3385b9022"
      },
      "source": [
        "# Model Testing and Evaluation\r\n",
        "prediction = model.transform(df_test)\r\n",
        "prediction.show()"
      ],
      "execution_count": null,
      "outputs": [
        {
          "output_type": "stream",
          "text": [
            "+-------------+---------------+---------+-------+-------------------+--------------------+--------------------+--------------------+----------+\n",
            "|Salary Income|Education Level|Depressed|Married|           Features| Features_normalized|       rawPrediction|         probability|prediction|\n",
            "+-------------+---------------+---------+-------+-------------------+--------------------+--------------------+--------------------+----------+\n",
            "|     74000000|            1.0|      1.0|    1.0|    [1.0,1.0,7.4E7]|[1.20665755886384...|[-1.1810581718438...|[0.23486198746735...|       1.0|\n",
            "|     29000000|            2.0|      0.0|    0.0|    [2.0,0.0,2.9E7]|[2.41331511772768...|[1.30818252519447...|[0.78720886765539...|       0.0|\n",
            "|    134000000|            0.0|      0.0|    0.0|   [0.0,0.0,1.34E8]|[0.0,0.0,3.234935...|[2.33125831978272...|[0.91143296458772...|       0.0|\n",
            "|     13000000|            0.0|      1.0|    1.0|    [0.0,1.0,1.3E7]|[0.0,2.0004291810...|[-2.4806396573625...|[0.07722660612418...|       1.0|\n",
            "|      7000000|            1.0|      1.0|    0.0|[1.0,0.0,7000000.0]|[1.20665755886384...|[0.63092399940882...|[0.65269894672204...|       0.0|\n",
            "|    106000000|            0.0|      1.0|    1.0|   [0.0,1.0,1.06E8]|[0.0,2.0004291810...|[-0.9966387533837...|[0.26960279559552...|       1.0|\n",
            "|     35000000|            2.0|      1.0|    1.0|    [2.0,1.0,3.5E7]|[2.41331511772768...|[-1.4771765830765...|[0.18585425855910...|       1.0|\n",
            "|    124000000|            2.0|      0.0|    0.0|   [2.0,0.0,1.24E8]|[2.41331511772768...|[2.82409742710827...|[0.94396419775743...|       0.0|\n",
            "|      7000000|            1.0|      1.0|    1.0|[1.0,1.0,7000000.0]|[1.20665755886384...|[-2.2501771026672...|[0.09533418948182...|       1.0|\n",
            "|    122000000|            1.0|      1.0|    1.0|   [1.0,1.0,1.22E8]|[1.20665755886384...|[-0.4151222214031...|[0.39768454686339...|       1.0|\n",
            "|    109000000|            2.0|      1.0|    1.0|   [2.0,1.0,1.09E8]|[2.41331511772768...|[-0.2963586594805...|[0.42644787952040...|       1.0|\n",
            "|    136000000|            0.0|      0.0|    0.0|   [0.0,0.0,1.36E8]|[0.0,0.0,3.283217...|[2.36317231771775...|[0.91397555435116...|       0.0|\n",
            "|      4000000|            1.0|      0.0|    0.0|[1.0,0.0,4000000.0]|[1.20665755886384...|[0.58305300250628...|[0.64176959920618...|       0.0|\n",
            "|     18000000|            0.0|      0.0|    0.0|    [0.0,0.0,1.8E7]|[0.0,0.0,0.434543...|[0.48024643955113...|[0.61780606619171...|       0.0|\n",
            "|     35000000|            0.0|      0.0|    0.0|    [0.0,0.0,3.5E7]|[0.0,0.0,0.844945...|[0.75151542199886...|[0.67950881234313...|       0.0|\n",
            "|     73000000|            2.0|      0.0|    1.0|    [2.0,1.0,7.3E7]|[2.41331511772768...|[-0.8708106223110...|[0.29508565636021...|       1.0|\n",
            "|     60000000|            2.0|      0.0|    0.0|    [2.0,0.0,6.0E7]|[2.41331511772768...|[1.80284949318739...|[0.85849544815944...|       0.0|\n",
            "|     57000000|            1.0|      1.0|    1.0|    [1.0,1.0,5.7E7]|[1.20665755886384...|[-1.4523271542915...|[0.18964367306091...|       1.0|\n",
            "|     57000000|            1.0|      1.0|    1.0|    [1.0,1.0,5.7E7]|[1.20665755886384...|[-1.4523271542915...|[0.18964367306091...|       1.0|\n",
            "|     84000000|            0.0|      0.0|    0.0|    [0.0,0.0,8.4E7]|[0.0,0.0,2.027869...|[1.53340837140703...|[0.82250445242731...|       0.0|\n",
            "+-------------+---------------+---------+-------+-------------------+--------------------+--------------------+--------------------+----------+\n",
            "only showing top 20 rows\n",
            "\n"
          ],
          "name": "stdout"
        }
      ]
    },
    {
      "cell_type": "code",
      "metadata": {
        "id": "VXwtKLt1qP2Y"
      },
      "source": [
        "evaluator = BinaryClassificationEvaluator(labelCol='Depressed')"
      ],
      "execution_count": null,
      "outputs": []
    },
    {
      "cell_type": "code",
      "metadata": {
        "colab": {
          "base_uri": "https://localhost:8080/"
        },
        "id": "xILjpy_Ir-qg",
        "outputId": "679d4089-600b-4aa4-9a7d-ee96929bdfb6"
      },
      "source": [
        "score = evaluator.evaluate(prediction)\r\n",
        "score = round(score * 100, 2)\r\n",
        "print('Score: ' + str(score) + '%')"
      ],
      "execution_count": null,
      "outputs": [
        {
          "output_type": "stream",
          "text": [
            "Score: 85.91%\n"
          ],
          "name": "stdout"
        }
      ]
    },
    {
      "cell_type": "markdown",
      "metadata": {
        "id": "aa2SZnGovhke"
      },
      "source": [
        "# Session 10 - Clustering"
      ]
    },
    {
      "cell_type": "code",
      "metadata": {
        "id": "9eb2tgDTvlGq"
      },
      "source": [
        "from pyspark.ml.clustering import KMeans\r\n",
        "from pyspark.ml.evaluation import ClusteringEvaluator"
      ],
      "execution_count": null,
      "outputs": []
    },
    {
      "cell_type": "code",
      "metadata": {
        "id": "5VmQ0FutwpG_"
      },
      "source": [
        "clus_train = spark.read.csv('Training.csv', inferSchema=True, header=True)\r\n",
        "clus_test = spark.read.csv('Testing.csv', inferSchema=True, header=True)"
      ],
      "execution_count": null,
      "outputs": []
    },
    {
      "cell_type": "code",
      "metadata": {
        "colab": {
          "base_uri": "https://localhost:8080/"
        },
        "id": "gl6ob3RexRtD",
        "outputId": "89b37329-5ca5-4aba-91a0-a2281d5d7f8c"
      },
      "source": [
        "clus_train.show()"
      ],
      "execution_count": null,
      "outputs": [
        {
          "output_type": "stream",
          "text": [
            "+---------------+-----------------+--------------+-------------------+--------+--------------+---------------+--------+\n",
            "|Trash Pollution|Oil Concentration|Bacteria Level|Algae Concentration|Humidity|Wind Direction|Air Temperature|Polluted|\n",
            "+---------------+-----------------+--------------+-------------------+--------+--------------+---------------+--------+\n",
            "|            Low|             2.22|           207|               6.05|      52|           280|             38|     Yes|\n",
            "|           High|             1.37|           133|               4.21|      60|            30|           null|      No|\n",
            "|         Medium|             0.65|            84|               8.07|      18|           164|             12|      No|\n",
            "|           null|             2.62|           276|               6.53|      93|           254|             29|     Yes|\n",
            "|            Low|             1.68|           126|               1.73|      52|           176|             18|      No|\n",
            "|           High|             1.03|           308|              10.51|      95|           256|             12|     Yes|\n",
            "|         Medium|             0.56|           181|               7.27|      46|             9|             -1|      No|\n",
            "|            Low|             1.23|            64|               2.01|      56|           325|             14|      No|\n",
            "|         Medium|             0.27|            92|               1.15|      28|           118|             23|      No|\n",
            "|           High|             3.58|           270|               9.88|      51|           270|             35|     Yes|\n",
            "|         Medium|             null|           275|               6.54|      74|           198|             21|     Yes|\n",
            "|            Low|             1.65|           198|               4.12|      30|            85|             22|      No|\n",
            "|         Medium|             0.57|            54|               1.64|      32|           265|             22|      No|\n",
            "|            Low|             0.13|            55|               4.11|      46|            89|             22|      No|\n",
            "|            Low|             0.24|           166|               4.04|      62|           153|             27|      No|\n",
            "|         Medium|             1.56|           275|              14.71|      89|           353|             29|     Yes|\n",
            "|            Low|             2.21|           395|              13.88|      76|           112|             27|     Yes|\n",
            "|           High|             2.28|           214|              12.91|    null|           332|             20|     Yes|\n",
            "|           High|             2.01|           189|                0.4|      63|           237|             23|     Yes|\n",
            "|           High|             3.32|           153|               5.78|      40|            63|             14|      No|\n",
            "+---------------+-----------------+--------------+-------------------+--------+--------------+---------------+--------+\n",
            "only showing top 20 rows\n",
            "\n"
          ],
          "name": "stdout"
        }
      ]
    },
    {
      "cell_type": "code",
      "metadata": {
        "id": "bS-bOLCJxO9Y"
      },
      "source": [
        "# Selecting important features\r\n",
        "\r\n",
        "chosen_columns2 = ['Oil Concentration', 'Trash Pollution', 'Algae Concentration', 'Polluted']"
      ],
      "execution_count": null,
      "outputs": []
    },
    {
      "cell_type": "code",
      "metadata": {
        "id": "4y8VHeojx3Pn"
      },
      "source": [
        "clus_train = clus_train.select(chosen_columns2)\r\n",
        "clus_test = clus_test.select(chosen_columns2)"
      ],
      "execution_count": null,
      "outputs": []
    },
    {
      "cell_type": "code",
      "metadata": {
        "colab": {
          "base_uri": "https://localhost:8080/"
        },
        "id": "Q6EhnCD-yC-y",
        "outputId": "f64e0b90-a619-45c1-9dc3-e5f1feeb5a18"
      },
      "source": [
        "clus_train.show()"
      ],
      "execution_count": null,
      "outputs": [
        {
          "output_type": "stream",
          "text": [
            "+-----------------+---------------+-------------------+--------+\n",
            "|Oil Concentration|Trash Pollution|Algae Concentration|Polluted|\n",
            "+-----------------+---------------+-------------------+--------+\n",
            "|             2.22|            Low|               6.05|     Yes|\n",
            "|             1.37|           High|               4.21|      No|\n",
            "|             0.65|         Medium|               8.07|      No|\n",
            "|             2.62|           null|               6.53|     Yes|\n",
            "|             1.68|            Low|               1.73|      No|\n",
            "|             1.03|           High|              10.51|     Yes|\n",
            "|             0.56|         Medium|               7.27|      No|\n",
            "|             1.23|            Low|               2.01|      No|\n",
            "|             0.27|         Medium|               1.15|      No|\n",
            "|             3.58|           High|               9.88|     Yes|\n",
            "|             null|         Medium|               6.54|     Yes|\n",
            "|             1.65|            Low|               4.12|      No|\n",
            "|             0.57|         Medium|               1.64|      No|\n",
            "|             0.13|            Low|               4.11|      No|\n",
            "|             0.24|            Low|               4.04|      No|\n",
            "|             1.56|         Medium|              14.71|     Yes|\n",
            "|             2.21|            Low|              13.88|     Yes|\n",
            "|             2.28|           High|              12.91|     Yes|\n",
            "|             2.01|           High|                0.4|     Yes|\n",
            "|             3.32|           High|               5.78|      No|\n",
            "+-----------------+---------------+-------------------+--------+\n",
            "only showing top 20 rows\n",
            "\n"
          ],
          "name": "stdout"
        }
      ]
    },
    {
      "cell_type": "code",
      "metadata": {
        "colab": {
          "base_uri": "https://localhost:8080/"
        },
        "id": "Dh1b8MfHyJp4",
        "outputId": "7342d98d-d0b3-42c6-ec0c-479355db1ea0"
      },
      "source": [
        "# Data Preprocessing\r\n",
        "# Drop null\r\n",
        "\r\n",
        "print(f'Train clus count: {clus_train.count()}') # counting the amount of data\r\n",
        "print(f'Test clus count: {clus_test.count()}')"
      ],
      "execution_count": null,
      "outputs": [
        {
          "output_type": "stream",
          "text": [
            "Train clus count: 10000\n",
            "Test clus count: 2000\n"
          ],
          "name": "stdout"
        }
      ]
    },
    {
      "cell_type": "code",
      "metadata": {
        "id": "kQXe-KfcybAH"
      },
      "source": [
        "clus_train = clus_train.dropna() # dropping null or empty data\r\n",
        "clus_test = clus_test.dropna()"
      ],
      "execution_count": null,
      "outputs": []
    },
    {
      "cell_type": "code",
      "metadata": {
        "colab": {
          "base_uri": "https://localhost:8080/"
        },
        "id": "vYy8AE35yjnT",
        "outputId": "f58a6afc-3ec9-4024-907f-49b32e972a7e"
      },
      "source": [
        "print(f'Train clus count: {clus_train.count()}') # counting the amount of data\r\n",
        "print(f'Test clus count: {clus_test.count()}')"
      ],
      "execution_count": null,
      "outputs": [
        {
          "output_type": "stream",
          "text": [
            "Train clus count: 9489\n",
            "Test clus count: 1909\n"
          ],
          "name": "stdout"
        }
      ]
    },
    {
      "cell_type": "code",
      "metadata": {
        "id": "wXUCk4TPyxV9"
      },
      "source": [
        "# Transform Data\r\n",
        "\r\n",
        "# Indexing String\r\n",
        "def encode_column2(column_name: str):\r\n",
        "  global clus_train, clus_test\r\n",
        "\r\n",
        "  indexer = StringIndexer(\r\n",
        "      inputCol = column_name,\r\n",
        "      outputCol = 'generated')\r\n",
        "  \r\n",
        "  # Catat\r\n",
        "  indexer = indexer.fit(clus_train) # fit sekali aja \r\n",
        "  # Ubah\r\n",
        "  clus_train = indexer.transform(clus_train)\r\n",
        "  clus_train = clus_train.drop(column_name)\r\n",
        "  clus_train = clus_train.withColumnRenamed('generated', column_name)\r\n",
        "  # Ubah\r\n",
        "  clus_test = indexer.transform(clus_test)\r\n",
        "  clus_test = clus_test.drop(column_name)\r\n",
        "  clus_test = clus_test.withColumnRenamed('generated', column_name)"
      ],
      "execution_count": null,
      "outputs": []
    },
    {
      "cell_type": "code",
      "metadata": {
        "id": "c41-68Es0wU-"
      },
      "source": [
        "encode_column2('Trash Pollution')\r\n",
        "encode_column2('Polluted')"
      ],
      "execution_count": null,
      "outputs": []
    },
    {
      "cell_type": "code",
      "metadata": {
        "colab": {
          "base_uri": "https://localhost:8080/"
        },
        "id": "0cIizL961E-f",
        "outputId": "be3205ff-69db-4040-8128-5f84bf2f84d8"
      },
      "source": [
        "clus_train.show()"
      ],
      "execution_count": null,
      "outputs": [
        {
          "output_type": "stream",
          "text": [
            "+-----------------+-------------------+---------------+--------+\n",
            "|Oil Concentration|Algae Concentration|Trash Pollution|Polluted|\n",
            "+-----------------+-------------------+---------------+--------+\n",
            "|             2.22|               6.05|            2.0|     1.0|\n",
            "|             1.37|               4.21|            1.0|     0.0|\n",
            "|             0.65|               8.07|            0.0|     0.0|\n",
            "|             1.68|               1.73|            2.0|     0.0|\n",
            "|             1.03|              10.51|            1.0|     1.0|\n",
            "|             0.56|               7.27|            0.0|     0.0|\n",
            "|             1.23|               2.01|            2.0|     0.0|\n",
            "|             0.27|               1.15|            0.0|     0.0|\n",
            "|             3.58|               9.88|            1.0|     1.0|\n",
            "|             1.65|               4.12|            2.0|     0.0|\n",
            "|             0.57|               1.64|            0.0|     0.0|\n",
            "|             0.13|               4.11|            2.0|     0.0|\n",
            "|             0.24|               4.04|            2.0|     0.0|\n",
            "|             1.56|              14.71|            0.0|     1.0|\n",
            "|             2.21|              13.88|            2.0|     1.0|\n",
            "|             2.28|              12.91|            1.0|     1.0|\n",
            "|             2.01|                0.4|            1.0|     1.0|\n",
            "|             3.32|               5.78|            1.0|     0.0|\n",
            "|              1.4|               7.27|            2.0|     0.0|\n",
            "|             0.85|               3.75|            0.0|     0.0|\n",
            "+-----------------+-------------------+---------------+--------+\n",
            "only showing top 20 rows\n",
            "\n"
          ],
          "name": "stdout"
        }
      ]
    },
    {
      "cell_type": "code",
      "metadata": {
        "colab": {
          "base_uri": "https://localhost:8080/"
        },
        "id": "6RuBTqeQ2KMX",
        "outputId": "113bc0b8-7b81-40ae-d991-3015649fd89d"
      },
      "source": [
        "chosen_columns2[0:-1]"
      ],
      "execution_count": null,
      "outputs": [
        {
          "output_type": "execute_result",
          "data": {
            "text/plain": [
              "['Oil Concentration', 'Trash Pollution', 'Algae Concentration']"
            ]
          },
          "metadata": {
            "tags": []
          },
          "execution_count": 502
        }
      ]
    },
    {
      "cell_type": "code",
      "metadata": {
        "id": "GG0AFj6t1gt5"
      },
      "source": [
        "# Normalization\r\n",
        "\r\n",
        "# Vectorize\r\n",
        "assembler2 = VectorAssembler(\r\n",
        "    inputCols=chosen_columns2[0:-1],\r\n",
        "    outputCol='vector'\r\n",
        ")"
      ],
      "execution_count": null,
      "outputs": []
    },
    {
      "cell_type": "code",
      "metadata": {
        "id": "lwNwRzHz47UY"
      },
      "source": [
        "clus_train = assembler2.transform(clus_train)\r\n",
        "clus_test = assembler2.transform(clus_test)"
      ],
      "execution_count": null,
      "outputs": []
    },
    {
      "cell_type": "code",
      "metadata": {
        "colab": {
          "base_uri": "https://localhost:8080/"
        },
        "id": "YDX3KV9M5Fye",
        "outputId": "ee8c5008-2e97-40a9-e144-27f9287ac28a"
      },
      "source": [
        "clus_train.show()"
      ],
      "execution_count": null,
      "outputs": [
        {
          "output_type": "stream",
          "text": [
            "+-----------------+-------------------+---------------+--------+----------------+\n",
            "|Oil Concentration|Algae Concentration|Trash Pollution|Polluted|          vector|\n",
            "+-----------------+-------------------+---------------+--------+----------------+\n",
            "|             2.22|               6.05|            2.0|     1.0| [2.22,2.0,6.05]|\n",
            "|             1.37|               4.21|            1.0|     0.0| [1.37,1.0,4.21]|\n",
            "|             0.65|               8.07|            0.0|     0.0| [0.65,0.0,8.07]|\n",
            "|             1.68|               1.73|            2.0|     0.0| [1.68,2.0,1.73]|\n",
            "|             1.03|              10.51|            1.0|     1.0|[1.03,1.0,10.51]|\n",
            "|             0.56|               7.27|            0.0|     0.0| [0.56,0.0,7.27]|\n",
            "|             1.23|               2.01|            2.0|     0.0| [1.23,2.0,2.01]|\n",
            "|             0.27|               1.15|            0.0|     0.0| [0.27,0.0,1.15]|\n",
            "|             3.58|               9.88|            1.0|     1.0| [3.58,1.0,9.88]|\n",
            "|             1.65|               4.12|            2.0|     0.0| [1.65,2.0,4.12]|\n",
            "|             0.57|               1.64|            0.0|     0.0| [0.57,0.0,1.64]|\n",
            "|             0.13|               4.11|            2.0|     0.0| [0.13,2.0,4.11]|\n",
            "|             0.24|               4.04|            2.0|     0.0| [0.24,2.0,4.04]|\n",
            "|             1.56|              14.71|            0.0|     1.0|[1.56,0.0,14.71]|\n",
            "|             2.21|              13.88|            2.0|     1.0|[2.21,2.0,13.88]|\n",
            "|             2.28|              12.91|            1.0|     1.0|[2.28,1.0,12.91]|\n",
            "|             2.01|                0.4|            1.0|     1.0|  [2.01,1.0,0.4]|\n",
            "|             3.32|               5.78|            1.0|     0.0| [3.32,1.0,5.78]|\n",
            "|              1.4|               7.27|            2.0|     0.0|  [1.4,2.0,7.27]|\n",
            "|             0.85|               3.75|            0.0|     0.0| [0.85,0.0,3.75]|\n",
            "+-----------------+-------------------+---------------+--------+----------------+\n",
            "only showing top 20 rows\n",
            "\n"
          ],
          "name": "stdout"
        }
      ]
    },
    {
      "cell_type": "code",
      "metadata": {
        "id": "dHaH9cVQ5SDI"
      },
      "source": [
        "# Scaler\r\n",
        "scaler2 = StandardScaler(inputCol='vector', outputCol='features')"
      ],
      "execution_count": null,
      "outputs": []
    },
    {
      "cell_type": "code",
      "metadata": {
        "id": "faO-pjqJ5VNp"
      },
      "source": [
        "scaler2 = scaler2.fit(clus_train) #fit sekali"
      ],
      "execution_count": null,
      "outputs": []
    },
    {
      "cell_type": "code",
      "metadata": {
        "id": "QxgUoyFt5ehf"
      },
      "source": [
        "clus_train = scaler2.transform(clus_train)\r\n",
        "clus_test = scaler2.transform(clus_test)"
      ],
      "execution_count": null,
      "outputs": []
    },
    {
      "cell_type": "code",
      "metadata": {
        "colab": {
          "base_uri": "https://localhost:8080/"
        },
        "id": "HufS-orN5soB",
        "outputId": "8db3eaa9-4b34-4c0c-c4a3-909e4d663388"
      },
      "source": [
        "clus_train.show()"
      ],
      "execution_count": null,
      "outputs": [
        {
          "output_type": "stream",
          "text": [
            "+-----------------+-------------------+---------------+--------+----------------+--------------------+\n",
            "|Oil Concentration|Algae Concentration|Trash Pollution|Polluted|          vector|            features|\n",
            "+-----------------+-------------------+---------------+--------+----------------+--------------------+\n",
            "|             2.22|               6.05|            2.0|     1.0| [2.22,2.0,6.05]|[2.09541433273245...|\n",
            "|             1.37|               4.21|            1.0|     0.0| [1.37,1.0,4.21]|[1.29311605218174...|\n",
            "|             0.65|               8.07|            0.0|     0.0| [0.65,0.0,8.07]|[0.61352221453878...|\n",
            "|             1.68|               1.73|            2.0|     0.0| [1.68,2.0,1.73]|[1.58571895450023...|\n",
            "|             1.03|              10.51|            1.0|     1.0|[1.03,1.0,10.51]|[0.97219673996145...|\n",
            "|             0.56|               7.27|            0.0|     0.0| [0.56,0.0,7.27]|[0.52857298483341...|\n",
            "|             1.23|               2.01|            2.0|     0.0| [1.23,2.0,2.01]|[1.16097280597338...|\n",
            "|             0.27|               1.15|            0.0|     0.0| [0.27,0.0,1.15]|[0.25484768911610...|\n",
            "|             3.58|               9.88|            1.0|     1.0| [3.58,1.0,9.88]|[3.37909158161360...|\n",
            "|             1.65|               4.12|            2.0|     0.0| [1.65,2.0,4.12]|[1.55740254459844...|\n",
            "|             0.57|               1.64|            0.0|     0.0| [0.57,0.0,1.64]|[0.53801178813400...|\n",
            "|             0.13|               4.11|            2.0|     0.0| [0.13,2.0,4.11]|[0.12270444290775...|\n",
            "|             0.24|               4.04|            2.0|     0.0| [0.24,2.0,4.04]|[0.22653127921431...|\n",
            "|             1.56|              14.71|            0.0|     1.0|[1.56,0.0,14.71]|[1.47245331489307...|\n",
            "|             2.21|              13.88|            2.0|     1.0|[2.21,2.0,13.88]|[2.08597552943186...|\n",
            "|             2.28|              12.91|            1.0|     1.0|[2.28,1.0,12.91]|[2.15204715253603...|\n",
            "|             2.01|                0.4|            1.0|     1.0|  [2.01,1.0,0.4]|[1.89719946341992...|\n",
            "|             3.32|               5.78|            1.0|     0.0| [3.32,1.0,5.78]|[3.13368269579809...|\n",
            "|              1.4|               7.27|            2.0|     0.0|  [1.4,2.0,7.27]|[1.32143246208353...|\n",
            "|             0.85|               3.75|            0.0|     0.0| [0.85,0.0,3.75]|[0.80229828055071...|\n",
            "+-----------------+-------------------+---------------+--------+----------------+--------------------+\n",
            "only showing top 20 rows\n",
            "\n"
          ],
          "name": "stdout"
        }
      ]
    },
    {
      "cell_type": "code",
      "metadata": {
        "id": "ZeMfXKOs5yu5"
      },
      "source": [
        "# Generating Model\r\n",
        "\r\n",
        "kmeans = KMeans().setK(2).setSeed(1)"
      ],
      "execution_count": null,
      "outputs": []
    },
    {
      "cell_type": "code",
      "metadata": {
        "id": "ur6krK4T7DRQ"
      },
      "source": [
        "# Training\r\n",
        "model2 = kmeans.fit(clus_train)"
      ],
      "execution_count": null,
      "outputs": []
    },
    {
      "cell_type": "code",
      "metadata": {
        "id": "bVDAr3ny9Ja9"
      },
      "source": [
        "import pandas as pd \r\n",
        "from matplotlib import pyplot as plt"
      ],
      "execution_count": null,
      "outputs": []
    },
    {
      "cell_type": "code",
      "metadata": {
        "colab": {
          "base_uri": "https://localhost:8080/"
        },
        "id": "mdHA29N4F6eh",
        "outputId": "d8dcbc2f-0549-42ef-b7ca-ea8d1b57852b"
      },
      "source": [
        "# Model Testing and Evaluation\r\n",
        "prediction2 = model2.transform(clus_test)\r\n",
        "prediction2.show()"
      ],
      "execution_count": null,
      "outputs": [
        {
          "output_type": "stream",
          "text": [
            "+-----------------+-------------------+---------------+--------+----------------+--------------------+----------+\n",
            "|Oil Concentration|Algae Concentration|Trash Pollution|Polluted|          vector|            features|prediction|\n",
            "+-----------------+-------------------+---------------+--------+----------------+--------------------+----------+\n",
            "|             1.18|              10.17|            2.0|     0.0|[1.18,2.0,10.17]|[1.11377878947040...|         0|\n",
            "|             2.89|               0.15|            1.0|     1.0| [2.89,1.0,0.15]|[2.72781415387243...|         0|\n",
            "|             3.38|              13.53|            2.0|     1.0|[3.38,2.0,13.53]|[3.19031551560167...|         1|\n",
            "|              0.2|               6.28|            1.0|     0.0|  [0.2,1.0,6.28]|[0.18877606601193...|         0|\n",
            "|             1.55|               6.31|            1.0|     0.0| [1.55,1.0,6.31]|[1.46301451159248...|         0|\n",
            "|             1.24|               1.69|            1.0|     0.0| [1.24,1.0,1.69]|[1.17041160927398...|         0|\n",
            "|             3.47|               3.64|            0.0|     0.0| [3.47,0.0,3.64]|[3.27526474530704...|         1|\n",
            "|             1.33|              13.58|            2.0|     1.0|[1.33,2.0,13.58]|[1.25536083897935...|         1|\n",
            "|             1.55|               6.46|            1.0|     1.0| [1.55,1.0,6.46]|[1.46301451159248...|         0|\n",
            "|             0.48|               5.18|            2.0|     0.0| [0.48,2.0,5.18]|[0.45306255842863...|         0|\n",
            "|             3.61|              11.66|            0.0|     1.0|[3.61,0.0,11.66]|[3.40740799151539...|         1|\n",
            "|             1.48|                8.4|            0.0|     0.0|  [1.48,0.0,8.4]|[1.39694288848830...|         1|\n",
            "|             1.89|               0.74|            2.0|     0.0| [1.89,2.0,0.74]|[1.78393382381276...|         0|\n",
            "|             0.16|                1.7|            2.0|     0.0|  [0.16,2.0,1.7]|[0.15102085280954...|         0|\n",
            "|             2.13|              10.09|            1.0|     1.0|[2.13,1.0,10.09]|[2.01046510302708...|         1|\n",
            "|             0.02|               5.69|            1.0|     0.0| [0.02,1.0,5.69]|[0.01887760660119...|         0|\n",
            "|             1.28|               5.78|            0.0|     1.0| [1.28,0.0,5.78]|[1.20816682247637...|         0|\n",
            "|             1.79|               3.47|            2.0|     0.0| [1.79,2.0,3.47]|[1.68954579080680...|         0|\n",
            "|             2.41|               4.71|            1.0|     1.0| [2.41,1.0,4.71]|[2.27475159544379...|         0|\n",
            "|             1.44|              12.11|            2.0|     1.0|[1.44,2.0,12.11]|[1.35918767528591...|         1|\n",
            "+-----------------+-------------------+---------------+--------+----------------+--------------------+----------+\n",
            "only showing top 20 rows\n",
            "\n"
          ],
          "name": "stdout"
        }
      ]
    },
    {
      "cell_type": "code",
      "metadata": {
        "id": "FMyb-twLNKEp"
      },
      "source": [
        "prediction2 = prediction2.toPandas()"
      ],
      "execution_count": null,
      "outputs": []
    },
    {
      "cell_type": "code",
      "metadata": {
        "colab": {
          "base_uri": "https://localhost:8080/"
        },
        "id": "RPpkrs55KpD4",
        "outputId": "c5f6e5b6-8b04-49e1-d571-f1645a32d73c"
      },
      "source": [
        "c = 0\r\n",
        "for index, row in prediction2.iterrows():\r\n",
        "  if row['Polluted'] == row['prediction']:\r\n",
        "    c = c+1\r\n",
        "\r\n",
        "print('Accuracy :' + str(round(c/len(prediction2)*100, 2)) + '%')"
      ],
      "execution_count": null,
      "outputs": [
        {
          "output_type": "stream",
          "text": [
            "Accuracy :80.36%\n"
          ],
          "name": "stdout"
        }
      ]
    },
    {
      "cell_type": "code",
      "metadata": {
        "colab": {
          "base_uri": "https://localhost:8080/",
          "height": 313
        },
        "id": "pFHu726YN2MV",
        "outputId": "a92121d7-8077-4a9a-ed9c-80fb1110478f"
      },
      "source": [
        "# Visualization\r\n",
        "\r\n",
        "plt.scatter(prediction2['Oil Concentration'], prediction2['Algae Concentration'], c = prediction2['prediction'])\r\n",
        "plt.title('Oil Concentration and Algae Concentration in Polluted')\r\n",
        "plt.xlabel('Oil Concentration')\r\n",
        "plt.ylabel('Algae')\r\n",
        "plt.show"
      ],
      "execution_count": null,
      "outputs": [
        {
          "output_type": "execute_result",
          "data": {
            "text/plain": [
              "<function matplotlib.pyplot.show>"
            ]
          },
          "metadata": {
            "tags": []
          },
          "execution_count": 520
        },
        {
          "output_type": "display_data",
          "data": {
            "image/png": "[encoded data removed]",
            "text/plain": [
              "<Figure size 432x288 with 1 Axes>"
            ]
          },
          "metadata": {
            "tags": [],
            "needs_background": "light"
          }
        }
      ]
    },
    {
      "cell_type": "markdown",
      "metadata": {
        "id": "Jq39_1eJhATD"
      },
      "source": [
        "# Visualization"
      ]
    },
    {
      "cell_type": "code",
      "metadata": {
        "colab": {
          "base_uri": "https://localhost:8080/"
        },
        "id": "VBMTnNu8hDmd",
        "outputId": "4a28bd9a-3a53-4bbc-d822-56440aefd006"
      },
      "source": [
        "data = spark.createDataFrame([\r\n",
        "    {'Category': 'Dairy', 'Products_count': 420},\r\n",
        "    {'Category': 'Frozen Foods', 'Products_count': 250},\r\n",
        "    {'Category': 'Meat', 'Products_count': 650},\r\n",
        "    {'Category': 'Beverages', 'Products_count': 500},\r\n",
        "    {'Category': 'Others', 'Products_count': 100}\r\n",
        "])\r\n",
        "\r\n",
        "data = data.toPandas()\r\n",
        "\r\n",
        "data['Category']"
      ],
      "execution_count": null,
      "outputs": [
        {
          "output_type": "stream",
          "text": [
            "/usr/lib/spark-2.4.7-bin-hadoop2.7/python/pyspark/sql/session.py:346: UserWarning: inferring schema from dict is deprecated,please use pyspark.sql.Row instead\n",
            "  warnings.warn(\"inferring schema from dict is deprecated,\"\n"
          ],
          "name": "stderr"
        },
        {
          "output_type": "execute_result",
          "data": {
            "text/plain": [
              "0           Dairy\n",
              "1    Frozen Foods\n",
              "2            Meat\n",
              "3       Beverages\n",
              "4          Others\n",
              "Name: Category, dtype: object"
            ]
          },
          "metadata": {
            "tags": []
          },
          "execution_count": 8
        }
      ]
    },
    {
      "cell_type": "code",
      "metadata": {
        "colab": {
          "base_uri": "https://localhost:8080/",
          "height": 321
        },
        "id": "R4ralO_SnG4V",
        "outputId": "cb0235bc-d7c3-4462-cd96-1579811db283"
      },
      "source": [
        "plot = plt.pie(data['Products_count'], labels=data['Category'], autopct='%.f%%')\r\n",
        "plt.legend(plot[0], labels=data['Category'], bbox_to_anchor=(1.1,0.5), bbox_transform=plt.gcf().transFigure, loc='center right')\r\n",
        "plt.title('Distribution Pie', color='gray')\r\n",
        "plt.show()"
      ],
      "execution_count": null,
      "outputs": [
        {
          "output_type": "stream",
          "text": [
            "/usr/local/lib/python3.6/dist-packages/ipykernel_launcher.py:2: UserWarning: You have mixed positional and keyword arguments, some input may be discarded.\n",
            "  \n"
          ],
          "name": "stderr"
        },
        {
          "output_type": "display_data",
          "data": {
            "image/png": "[encoded data removed]",
            "text/plain": [
              "<Figure size 432x288 with 1 Axes>"
            ]
          },
          "metadata": {
            "tags": []
          }
        }
      ]
    },
    {
      "cell_type": "code",
      "metadata": {
        "colab": {
          "base_uri": "https://localhost:8080/",
          "height": 279
        },
        "id": "ctYRbwlnpV41",
        "outputId": "388ad0a6-ca6c-4ed8-ac0f-06daf57651a5"
      },
      "source": [
        "plt.bar(data['Category'], data['Products_count'])\r\n",
        "plt.xlabel('Categories')\r\n",
        "plt.ylabel('Quantity')\r\n",
        "plt.show()"
      ],
      "execution_count": null,
      "outputs": [
        {
          "output_type": "display_data",
          "data": {
            "image/png": "[encoded data removed]",
            "text/plain": [
              "<Figure size 432x288 with 1 Axes>"
            ]
          },
          "metadata": {
            "tags": [],
            "needs_background": "light"
          }
        }
      ]
    },
    {
      "cell_type": "code",
      "metadata": {
        "colab": {
          "base_uri": "https://localhost:8080/"
        },
        "id": "2RK3wJi8qE6i",
        "outputId": "dda42095-91d8-463a-e431-6fb91045f8f3"
      },
      "source": [
        "data2 = spark.createDataFrame([\r\n",
        "    {'hours': 8,  'grade': 90},\r\n",
        "    {'hours': 5,  'grade': 80},\r\n",
        "    {'hours': 4,  'grade': 60},\r\n",
        "    {'hours': 4,  'grade': 50},\r\n",
        "    {'hours': 3,  'grade': 40},\r\n",
        "    {'hours': 6,  'grade': 87},\r\n",
        "    {'hours': 7,  'grade': 92},\r\n",
        "    {'hours': 2,  'grade': 35}\r\n",
        "])\r\n",
        "\r\n",
        "data2 = data2.toPandas()"
      ],
      "execution_count": null,
      "outputs": [
        {
          "output_type": "stream",
          "text": [
            "/usr/lib/spark-2.4.7-bin-hadoop2.7/python/pyspark/sql/session.py:346: UserWarning: inferring schema from dict is deprecated,please use pyspark.sql.Row instead\n",
            "  warnings.warn(\"inferring schema from dict is deprecated,\"\n"
          ],
          "name": "stderr"
        }
      ]
    },
    {
      "cell_type": "code",
      "metadata": {
        "colab": {
          "base_uri": "https://localhost:8080/",
          "height": 295
        },
        "id": "nATHy8rwqrMe",
        "outputId": "e78e0916-4bd4-4e5c-8f51-b0f96e184580"
      },
      "source": [
        "plt.scatter(data2['hours'], data2['grade'])\r\n",
        "plt.title('Grades based on time spent studying')\r\n",
        "\r\n",
        "plt.xticks(range(1, len(data2['hours'])+1))\r\n",
        "plt.xlabel('Hours')\r\n",
        "plt.ylabel('Grade')\r\n",
        "plt.grid()\r\n",
        "plt.show()"
      ],
      "execution_count": null,
      "outputs": [
        {
          "output_type": "display_data",
          "data": {
            "image/png": "[encoded data removed]",
            "text/plain": [
              "<Figure size 432x288 with 1 Axes>"
            ]
          },
          "metadata": {
            "tags": [],
            "needs_background": "light"
          }
        }
      ]
    },
    {
      "cell_type": "code",
      "metadata": {
        "colab": {
          "base_uri": "https://localhost:8080/"
        },
        "id": "rb7sGRKNsn6M",
        "outputId": "e4dc1e75-8149-46a3-dcd2-36b462be5f38"
      },
      "source": [
        "data3 = spark.createDataFrame([\r\n",
        "    {'month': 1,  'profit': 4500000},\r\n",
        "    {'month': 2,  'profit': 3500000},\r\n",
        "    {'month': 3,  'profit': 4000000},\r\n",
        "    {'month': 4,  'profit': 4200000},\r\n",
        "    {'month': 5,  'profit': 4700000},\r\n",
        "    {'month': 6,  'profit': 5500000},\r\n",
        "    {'month': 7,  'profit': 4800000},\r\n",
        "    {'month': 8,  'profit': 5200000},\r\n",
        "    {'month': 9,  'profit': 6080000},\r\n",
        "    {'month': 10,  'profit': 5500000},\r\n",
        "    {'month': 11,  'profit': 5800000},\r\n",
        "    {'month': 12,  'profit': 5900000},\r\n",
        "])\r\n",
        "\r\n",
        "data3 = data3.toPandas()"
      ],
      "execution_count": null,
      "outputs": [
        {
          "output_type": "stream",
          "text": [
            "/usr/lib/spark-2.4.7-bin-hadoop2.7/python/pyspark/sql/session.py:346: UserWarning: inferring schema from dict is deprecated,please use pyspark.sql.Row instead\n",
            "  warnings.warn(\"inferring schema from dict is deprecated,\"\n"
          ],
          "name": "stderr"
        }
      ]
    },
    {
      "cell_type": "code",
      "metadata": {
        "colab": {
          "base_uri": "https://localhost:8080/",
          "height": 290
        },
        "id": "XCZ_K8ZAtT5H",
        "outputId": "9f58bd4f-4aec-47d4-c103-cd9855860854"
      },
      "source": [
        "plt.plot(data3['profit'])\r\n",
        "plt.xticks(range(len(data3['month'])), data3['month']) \r\n",
        "plt.xlabel('Month')\r\n",
        "plt.ylabel('Profit')\r\n",
        "plt.grid()\r\n",
        "plt.show()"
      ],
      "execution_count": null,
      "outputs": [
        {
          "output_type": "display_data",
          "data": {
            "image/png": "[encoded data removed]",
            "text/plain": [
              "<Figure size 432x288 with 1 Axes>"
            ]
          },
          "metadata": {
            "tags": [],
            "needs_background": "light"
          }
        }
      ]
    }
  ]
}